{
  "nbformat": 4,
  "nbformat_minor": 0,
  "metadata": {
    "colab": {
      "name": "ft_companies_data_scrape.ipynb",
      "provenance": [],
      "collapsed_sections": []
    },
    "kernelspec": {
      "name": "python3",
      "display_name": "Python 3"
    }
  },
  "cells": [
    {
      "cell_type": "markdown",
      "metadata": {
        "id": "d5toVoHhVd07"
      },
      "source": [
        "# **Financial Times hírgyűjtés (Companies)**"
      ]
    },
    {
      "cell_type": "markdown",
      "metadata": {
        "id": "BVC8UYLMVeJ4"
      },
      "source": [
        "A drive csatlakoztatása mentéshez"
      ]
    },
    {
      "cell_type": "code",
      "metadata": {
        "colab": {
          "base_uri": "https://localhost:8080/"
        },
        "id": "s6BnCkvctIXK",
        "outputId": "aed3932d-8899-4d08-ffc0-ad8af9e6760e"
      },
      "source": [
        "from google.colab import drive\n",
        "drive.mount('/content/drive')"
      ],
      "execution_count": null,
      "outputs": [
        {
          "output_type": "stream",
          "text": [
            "Mounted at /content/drive\n"
          ],
          "name": "stdout"
        }
      ]
    },
    {
      "cell_type": "markdown",
      "metadata": {
        "id": "DoxXCgYMVegG"
      },
      "source": [
        "A szükséges csomagok import-álása"
      ]
    },
    {
      "cell_type": "code",
      "metadata": {
        "id": "TJH2bgxSMx8p"
      },
      "source": [
        "from bs4 import BeautifulSoup as bs\r\n",
        "import requests\r\n",
        "import pandas as pd\r\n",
        "import time"
      ],
      "execution_count": null,
      "outputs": []
    },
    {
      "cell_type": "markdown",
      "metadata": {
        "id": "JpPeWMIYVfFR"
      },
      "source": [
        "URL generálásra használt függvény definiálása"
      ]
    },
    {
      "cell_type": "code",
      "metadata": {
        "id": "CGZC9mexMwPo"
      },
      "source": [
        "def create_archive_url(page_number):\r\n",
        "  return 'https://www.ft.com/companies?page=' + str(page_number)"
      ],
      "execution_count": null,
      "outputs": []
    },
    {
      "cell_type": "markdown",
      "metadata": {
        "id": "uNN_UEUPVfax"
      },
      "source": [
        "A Financial Times oldalán 200 oldalt lehet gyűjteni a Companies témában, ezért a for ciklus 0-tól 200-ig megy. Csak a hírek címének és a dátumát mentem el. A try-catch arra szolgál, hogyha valamiért az oldal nem töltődne be, és hibát dobna, akkor ezt jelzem és utána azt külön letöltöm majd.\r\n",
        "Itt ellenőríztem a lementett adatok méretét is."
      ]
    },
    {
      "cell_type": "code",
      "metadata": {
        "id": "C34RsXwPM8To",
        "colab": {
          "base_uri": "https://localhost:8080/"
        },
        "outputId": "802cc582-3f45-4880-aa6f-99683ae1f724"
      },
      "source": [
        "title, date, error = [], [], []\r\n",
        "df = pd.DataFrame()\r\n",
        "\r\n",
        "for page_number in range(201):\r\n",
        "    try:\r\n",
        "        url = create_archive_url(page_number)\r\n",
        "\r\n",
        "        html = requests.get(url).text\r\n",
        "        page = bs(html, \"html.parser\")\r\n",
        "\r\n",
        "        for i in page.find('ul', class_='o-teaser-collection__list js-stream-list').find_all('a', class_='js-teaser-heading-link'):\r\n",
        "            title.append(i.text)\r\n",
        "\r\n",
        "        for i in page.find('ul', class_='o-teaser-collection__list js-stream-list').find_all('time', class_='o-date o-teaser__timestamp'):\r\n",
        "            date.append(i['datetime'][:10])\r\n",
        "\r\n",
        "        time.sleep(3)\r\n",
        "\r\n",
        "        print(page_number)\r\n",
        "\r\n",
        "    except:\r\n",
        "        error.append(page_number)\r\n",
        "\r\n",
        "        print(str(page_number) + str(\" error\"))\r\n",
        "\r\n",
        "\r\n",
        "\r\n",
        "#print(title)\r\n",
        "print(len(title))\r\n",
        "#print(date)\r\n",
        "print(len(date))"
      ],
      "execution_count": null,
      "outputs": [
        {
          "output_type": "stream",
          "text": [
            "0\n",
            "1\n",
            "2\n",
            "3\n",
            "4\n",
            "5\n",
            "6\n",
            "7\n",
            "8\n",
            "9\n",
            "10\n",
            "11\n",
            "12\n",
            "13\n",
            "14\n",
            "15\n",
            "16\n",
            "17\n",
            "18\n",
            "19\n",
            "20\n",
            "21\n",
            "22\n",
            "23\n",
            "24\n",
            "25\n",
            "26\n",
            "27\n",
            "28\n",
            "29\n",
            "30\n",
            "31\n",
            "32\n",
            "33\n",
            "34\n",
            "35\n",
            "36\n",
            "37\n",
            "38\n",
            "39\n",
            "40\n",
            "41\n",
            "42\n",
            "43\n",
            "44\n",
            "45\n",
            "46\n",
            "47\n",
            "48\n",
            "49\n",
            "50\n",
            "51\n",
            "52\n",
            "53\n",
            "54\n",
            "55\n",
            "56\n",
            "57\n",
            "58\n",
            "59\n",
            "60\n",
            "61\n",
            "62\n",
            "63\n",
            "64\n",
            "65\n",
            "66\n",
            "67\n",
            "68\n",
            "69\n",
            "70\n",
            "71\n",
            "72\n",
            "73\n",
            "74\n",
            "75\n",
            "76\n",
            "77\n",
            "78\n",
            "79\n",
            "80\n",
            "81\n",
            "82\n",
            "83\n",
            "84\n",
            "85\n",
            "86\n",
            "87\n",
            "88\n",
            "89\n",
            "90\n",
            "91\n",
            "92\n",
            "93\n",
            "94\n",
            "95\n",
            "96\n",
            "97\n",
            "98\n",
            "99\n",
            "100\n",
            "101\n",
            "102\n",
            "103\n",
            "104\n",
            "105\n",
            "106\n",
            "107\n",
            "108\n",
            "109\n",
            "110\n",
            "111\n",
            "112\n",
            "113\n",
            "114\n",
            "115\n",
            "116\n",
            "117\n",
            "118\n",
            "119\n",
            "120\n",
            "121\n",
            "122\n",
            "123\n",
            "124\n",
            "125\n",
            "126\n",
            "127\n",
            "128\n",
            "129\n",
            "130\n",
            "131\n",
            "132\n",
            "133\n",
            "134\n",
            "135\n",
            "136\n",
            "137\n",
            "138\n",
            "139\n",
            "140\n",
            "141\n",
            "142\n",
            "143\n",
            "144\n",
            "145\n",
            "146\n",
            "147\n",
            "148\n",
            "149\n",
            "150\n",
            "151\n",
            "152\n",
            "153\n",
            "154\n",
            "155\n",
            "156\n",
            "157\n",
            "158\n",
            "159\n",
            "160\n",
            "161\n",
            "162\n",
            "163\n",
            "164\n",
            "165\n",
            "166\n",
            "167\n",
            "168\n",
            "169\n",
            "170\n",
            "171\n",
            "172\n",
            "173\n",
            "174\n",
            "175\n",
            "176\n",
            "177\n",
            "178\n",
            "179\n",
            "180\n",
            "181\n",
            "182\n",
            "183\n",
            "184\n",
            "185\n",
            "186\n",
            "187\n",
            "188\n",
            "189\n",
            "190\n",
            "191\n",
            "192\n",
            "193\n",
            "194\n",
            "195\n",
            "196\n",
            "197\n",
            "198\n",
            "199\n",
            "200\n",
            "5025\n",
            "5025\n"
          ],
          "name": "stdout"
        }
      ]
    },
    {
      "cell_type": "markdown",
      "metadata": {
        "id": "oz1J9bKPZh5r"
      },
      "source": [
        "Az elsőre nem sikerült hírek lekérése"
      ]
    },
    {
      "cell_type": "code",
      "metadata": {
        "id": "88CgK09aZmcP",
        "colab": {
          "base_uri": "https://localhost:8080/"
        },
        "outputId": "42a338fc-688d-4799-fe9f-49699af133cf"
      },
      "source": [
        "print(len(error))"
      ],
      "execution_count": null,
      "outputs": [
        {
          "output_type": "stream",
          "text": [
            "0\n"
          ],
          "name": "stdout"
        }
      ]
    },
    {
      "cell_type": "markdown",
      "metadata": {
        "id": "Q_yhNC7qVgfs"
      },
      "source": [
        "Az összegyűjtött adatok eltárolása DataFrame-ben."
      ]
    },
    {
      "cell_type": "code",
      "metadata": {
        "id": "Z5rxUS6OWO1C",
        "colab": {
          "base_uri": "https://localhost:8080/",
          "height": 419
        },
        "outputId": "80c0e572-7f0d-49d8-cadc-a3cc459d7bc0"
      },
      "source": [
        "df['title'] = title\r\n",
        "df['date'] = date\r\n",
        "\r\n",
        "df"
      ],
      "execution_count": null,
      "outputs": [
        {
          "output_type": "execute_result",
          "data": {
            "text/html": [
              "<div>\n",
              "<style scoped>\n",
              "    .dataframe tbody tr th:only-of-type {\n",
              "        vertical-align: middle;\n",
              "    }\n",
              "\n",
              "    .dataframe tbody tr th {\n",
              "        vertical-align: top;\n",
              "    }\n",
              "\n",
              "    .dataframe thead th {\n",
              "        text-align: right;\n",
              "    }\n",
              "</style>\n",
              "<table border=\"1\" class=\"dataframe\">\n",
              "  <thead>\n",
              "    <tr style=\"text-align: right;\">\n",
              "      <th></th>\n",
              "      <th>title</th>\n",
              "      <th>date</th>\n",
              "    </tr>\n",
              "  </thead>\n",
              "  <tbody>\n",
              "    <tr>\n",
              "      <th>0</th>\n",
              "      <td>Robinhood in talks with Wall Street regulator ...</td>\n",
              "      <td>2021-02-26</td>\n",
              "    </tr>\n",
              "    <tr>\n",
              "      <th>1</th>\n",
              "      <td>Cruise operators see brighter horizon as vacci...</td>\n",
              "      <td>2021-02-26</td>\n",
              "    </tr>\n",
              "    <tr>\n",
              "      <th>2</th>\n",
              "      <td>UK seeks fintech ‘big bang’</td>\n",
              "      <td>2021-02-26</td>\n",
              "    </tr>\n",
              "    <tr>\n",
              "      <th>3</th>\n",
              "      <td>Extra stamp duty holiday would raise house pri...</td>\n",
              "      <td>2021-02-26</td>\n",
              "    </tr>\n",
              "    <tr>\n",
              "      <th>4</th>\n",
              "      <td>Rise in Covid infections reported in 1 in 5 En...</td>\n",
              "      <td>2021-02-26</td>\n",
              "    </tr>\n",
              "    <tr>\n",
              "      <th>...</th>\n",
              "      <td>...</td>\n",
              "      <td>...</td>\n",
              "    </tr>\n",
              "    <tr>\n",
              "      <th>5020</th>\n",
              "      <td>A California setback for gig economy workers</td>\n",
              "      <td>2020-11-05</td>\n",
              "    </tr>\n",
              "    <tr>\n",
              "      <th>5021</th>\n",
              "      <td>More than £1.1bn in fraud stopped in UK bounce...</td>\n",
              "      <td>2020-11-05</td>\n",
              "    </tr>\n",
              "    <tr>\n",
              "      <th>5022</th>\n",
              "      <td>Commerzbank readies for hit from lockdown inso...</td>\n",
              "      <td>2020-11-05</td>\n",
              "    </tr>\n",
              "    <tr>\n",
              "      <th>5023</th>\n",
              "      <td>Barrick chief expects gold to hit new peaks</td>\n",
              "      <td>2020-11-05</td>\n",
              "    </tr>\n",
              "    <tr>\n",
              "      <th>5024</th>\n",
              "      <td>Wizz Air sticks to bold expansion plans despit...</td>\n",
              "      <td>2020-11-05</td>\n",
              "    </tr>\n",
              "  </tbody>\n",
              "</table>\n",
              "<p>5025 rows × 2 columns</p>\n",
              "</div>"
            ],
            "text/plain": [
              "                                                  title        date\n",
              "0     Robinhood in talks with Wall Street regulator ...  2021-02-26\n",
              "1     Cruise operators see brighter horizon as vacci...  2021-02-26\n",
              "2                           UK seeks fintech ‘big bang’  2021-02-26\n",
              "3     Extra stamp duty holiday would raise house pri...  2021-02-26\n",
              "4     Rise in Covid infections reported in 1 in 5 En...  2021-02-26\n",
              "...                                                 ...         ...\n",
              "5020       A California setback for gig economy workers  2020-11-05\n",
              "5021  More than £1.1bn in fraud stopped in UK bounce...  2020-11-05\n",
              "5022  Commerzbank readies for hit from lockdown inso...  2020-11-05\n",
              "5023        Barrick chief expects gold to hit new peaks  2020-11-05\n",
              "5024  Wizz Air sticks to bold expansion plans despit...  2020-11-05\n",
              "\n",
              "[5025 rows x 2 columns]"
            ]
          },
          "metadata": {
            "tags": []
          },
          "execution_count": 6
        }
      ]
    },
    {
      "cell_type": "markdown",
      "metadata": {
        "id": "KGwVKPoGVhNZ"
      },
      "source": [
        "A DataFrame elmentése csv fájlban."
      ]
    },
    {
      "cell_type": "code",
      "metadata": {
        "id": "PEZmiS05WzMA"
      },
      "source": [
        "df.to_csv(r'drive/MyDrive/financial_companies_export_dataframe.csv', index = False, header=True)"
      ],
      "execution_count": null,
      "outputs": []
    }
  ]
}