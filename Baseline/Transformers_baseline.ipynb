{
  "nbformat": 4,
  "nbformat_minor": 0,
  "metadata": {
    "colab": {
      "name": "Transformers_baseline.ipynb",
      "provenance": [],
      "collapsed_sections": [
        "mqcydDkP2YgF"
      ]
    },
    "kernelspec": {
      "name": "python3",
      "display_name": "Python 3"
    },
    "language_info": {
      "name": "python"
    },
    "accelerator": "GPU",
    "widgets": {
      "application/vnd.jupyter.widget-state+json": {
        "84c85718e4e64975a86adee81d127fa7": {
          "model_module": "@jupyter-widgets/controls",
          "model_name": "HBoxModel",
          "state": {
            "_view_name": "HBoxView",
            "_dom_classes": [],
            "_model_name": "HBoxModel",
            "_view_module": "@jupyter-widgets/controls",
            "_model_module_version": "1.5.0",
            "_view_count": null,
            "_view_module_version": "1.5.0",
            "box_style": "",
            "layout": "IPY_MODEL_e32755ea2f6d47a6830e4aa903ef3f50",
            "_model_module": "@jupyter-widgets/controls",
            "children": [
              "IPY_MODEL_ef8760333f89437ab6e7820c39bdbd70",
              "IPY_MODEL_865de33946554d2c950cd3e5f7df4eb7"
            ]
          }
        },
        "e32755ea2f6d47a6830e4aa903ef3f50": {
          "model_module": "@jupyter-widgets/base",
          "model_name": "LayoutModel",
          "state": {
            "_view_name": "LayoutView",
            "grid_template_rows": null,
            "right": null,
            "justify_content": null,
            "_view_module": "@jupyter-widgets/base",
            "overflow": null,
            "_model_module_version": "1.2.0",
            "_view_count": null,
            "flex_flow": null,
            "width": null,
            "min_width": null,
            "border": null,
            "align_items": null,
            "bottom": null,
            "_model_module": "@jupyter-widgets/base",
            "top": null,
            "grid_column": null,
            "overflow_y": null,
            "overflow_x": null,
            "grid_auto_flow": null,
            "grid_area": null,
            "grid_template_columns": null,
            "flex": null,
            "_model_name": "LayoutModel",
            "justify_items": null,
            "grid_row": null,
            "max_height": null,
            "align_content": null,
            "visibility": null,
            "align_self": null,
            "height": null,
            "min_height": null,
            "padding": null,
            "grid_auto_rows": null,
            "grid_gap": null,
            "max_width": null,
            "order": null,
            "_view_module_version": "1.2.0",
            "grid_template_areas": null,
            "object_position": null,
            "object_fit": null,
            "grid_auto_columns": null,
            "margin": null,
            "display": null,
            "left": null
          }
        },
        "ef8760333f89437ab6e7820c39bdbd70": {
          "model_module": "@jupyter-widgets/controls",
          "model_name": "FloatProgressModel",
          "state": {
            "_view_name": "ProgressView",
            "style": "IPY_MODEL_981097b70ca44c42ab5701a0794b301b",
            "_dom_classes": [],
            "description": "Downloading: 100%",
            "_model_name": "FloatProgressModel",
            "bar_style": "success",
            "max": 231508,
            "_view_module": "@jupyter-widgets/controls",
            "_model_module_version": "1.5.0",
            "value": 231508,
            "_view_count": null,
            "_view_module_version": "1.5.0",
            "orientation": "horizontal",
            "min": 0,
            "description_tooltip": null,
            "_model_module": "@jupyter-widgets/controls",
            "layout": "IPY_MODEL_5640791c4db74edca4e57b85ece1eb19"
          }
        },
        "865de33946554d2c950cd3e5f7df4eb7": {
          "model_module": "@jupyter-widgets/controls",
          "model_name": "HTMLModel",
          "state": {
            "_view_name": "HTMLView",
            "style": "IPY_MODEL_d774c3e20c874a76b5dbdf2083d0332f",
            "_dom_classes": [],
            "description": "",
            "_model_name": "HTMLModel",
            "placeholder": "​",
            "_view_module": "@jupyter-widgets/controls",
            "_model_module_version": "1.5.0",
            "value": " 232k/232k [00:02&lt;00:00, 77.7kB/s]",
            "_view_count": null,
            "_view_module_version": "1.5.0",
            "description_tooltip": null,
            "_model_module": "@jupyter-widgets/controls",
            "layout": "IPY_MODEL_241414141a09455faa2ddc5ec636b770"
          }
        },
        "981097b70ca44c42ab5701a0794b301b": {
          "model_module": "@jupyter-widgets/controls",
          "model_name": "ProgressStyleModel",
          "state": {
            "_view_name": "StyleView",
            "_model_name": "ProgressStyleModel",
            "description_width": "initial",
            "_view_module": "@jupyter-widgets/base",
            "_model_module_version": "1.5.0",
            "_view_count": null,
            "_view_module_version": "1.2.0",
            "bar_color": null,
            "_model_module": "@jupyter-widgets/controls"
          }
        },
        "5640791c4db74edca4e57b85ece1eb19": {
          "model_module": "@jupyter-widgets/base",
          "model_name": "LayoutModel",
          "state": {
            "_view_name": "LayoutView",
            "grid_template_rows": null,
            "right": null,
            "justify_content": null,
            "_view_module": "@jupyter-widgets/base",
            "overflow": null,
            "_model_module_version": "1.2.0",
            "_view_count": null,
            "flex_flow": null,
            "width": null,
            "min_width": null,
            "border": null,
            "align_items": null,
            "bottom": null,
            "_model_module": "@jupyter-widgets/base",
            "top": null,
            "grid_column": null,
            "overflow_y": null,
            "overflow_x": null,
            "grid_auto_flow": null,
            "grid_area": null,
            "grid_template_columns": null,
            "flex": null,
            "_model_name": "LayoutModel",
            "justify_items": null,
            "grid_row": null,
            "max_height": null,
            "align_content": null,
            "visibility": null,
            "align_self": null,
            "height": null,
            "min_height": null,
            "padding": null,
            "grid_auto_rows": null,
            "grid_gap": null,
            "max_width": null,
            "order": null,
            "_view_module_version": "1.2.0",
            "grid_template_areas": null,
            "object_position": null,
            "object_fit": null,
            "grid_auto_columns": null,
            "margin": null,
            "display": null,
            "left": null
          }
        },
        "d774c3e20c874a76b5dbdf2083d0332f": {
          "model_module": "@jupyter-widgets/controls",
          "model_name": "DescriptionStyleModel",
          "state": {
            "_view_name": "StyleView",
            "_model_name": "DescriptionStyleModel",
            "description_width": "",
            "_view_module": "@jupyter-widgets/base",
            "_model_module_version": "1.5.0",
            "_view_count": null,
            "_view_module_version": "1.2.0",
            "_model_module": "@jupyter-widgets/controls"
          }
        },
        "241414141a09455faa2ddc5ec636b770": {
          "model_module": "@jupyter-widgets/base",
          "model_name": "LayoutModel",
          "state": {
            "_view_name": "LayoutView",
            "grid_template_rows": null,
            "right": null,
            "justify_content": null,
            "_view_module": "@jupyter-widgets/base",
            "overflow": null,
            "_model_module_version": "1.2.0",
            "_view_count": null,
            "flex_flow": null,
            "width": null,
            "min_width": null,
            "border": null,
            "align_items": null,
            "bottom": null,
            "_model_module": "@jupyter-widgets/base",
            "top": null,
            "grid_column": null,
            "overflow_y": null,
            "overflow_x": null,
            "grid_auto_flow": null,
            "grid_area": null,
            "grid_template_columns": null,
            "flex": null,
            "_model_name": "LayoutModel",
            "justify_items": null,
            "grid_row": null,
            "max_height": null,
            "align_content": null,
            "visibility": null,
            "align_self": null,
            "height": null,
            "min_height": null,
            "padding": null,
            "grid_auto_rows": null,
            "grid_gap": null,
            "max_width": null,
            "order": null,
            "_view_module_version": "1.2.0",
            "grid_template_areas": null,
            "object_position": null,
            "object_fit": null,
            "grid_auto_columns": null,
            "margin": null,
            "display": null,
            "left": null
          }
        },
        "18d8faa5b5ea45e2a76e5712a2af6c28": {
          "model_module": "@jupyter-widgets/controls",
          "model_name": "HBoxModel",
          "state": {
            "_view_name": "HBoxView",
            "_dom_classes": [],
            "_model_name": "HBoxModel",
            "_view_module": "@jupyter-widgets/controls",
            "_model_module_version": "1.5.0",
            "_view_count": null,
            "_view_module_version": "1.5.0",
            "box_style": "",
            "layout": "IPY_MODEL_5dcf191453fa4a178f66613e22694929",
            "_model_module": "@jupyter-widgets/controls",
            "children": [
              "IPY_MODEL_6b11d562bff241ada1405795ce6af084",
              "IPY_MODEL_5cec1e5394c248608e89bff5718df51a"
            ]
          }
        },
        "5dcf191453fa4a178f66613e22694929": {
          "model_module": "@jupyter-widgets/base",
          "model_name": "LayoutModel",
          "state": {
            "_view_name": "LayoutView",
            "grid_template_rows": null,
            "right": null,
            "justify_content": null,
            "_view_module": "@jupyter-widgets/base",
            "overflow": null,
            "_model_module_version": "1.2.0",
            "_view_count": null,
            "flex_flow": null,
            "width": null,
            "min_width": null,
            "border": null,
            "align_items": null,
            "bottom": null,
            "_model_module": "@jupyter-widgets/base",
            "top": null,
            "grid_column": null,
            "overflow_y": null,
            "overflow_x": null,
            "grid_auto_flow": null,
            "grid_area": null,
            "grid_template_columns": null,
            "flex": null,
            "_model_name": "LayoutModel",
            "justify_items": null,
            "grid_row": null,
            "max_height": null,
            "align_content": null,
            "visibility": null,
            "align_self": null,
            "height": null,
            "min_height": null,
            "padding": null,
            "grid_auto_rows": null,
            "grid_gap": null,
            "max_width": null,
            "order": null,
            "_view_module_version": "1.2.0",
            "grid_template_areas": null,
            "object_position": null,
            "object_fit": null,
            "grid_auto_columns": null,
            "margin": null,
            "display": null,
            "left": null
          }
        },
        "6b11d562bff241ada1405795ce6af084": {
          "model_module": "@jupyter-widgets/controls",
          "model_name": "FloatProgressModel",
          "state": {
            "_view_name": "ProgressView",
            "style": "IPY_MODEL_1799f61cc1d449f1bfa90ab1381af19b",
            "_dom_classes": [],
            "description": "Downloading: 100%",
            "_model_name": "FloatProgressModel",
            "bar_style": "success",
            "max": 28,
            "_view_module": "@jupyter-widgets/controls",
            "_model_module_version": "1.5.0",
            "value": 28,
            "_view_count": null,
            "_view_module_version": "1.5.0",
            "orientation": "horizontal",
            "min": 0,
            "description_tooltip": null,
            "_model_module": "@jupyter-widgets/controls",
            "layout": "IPY_MODEL_a86e459409af4eb39465bcfa02a0a92f"
          }
        },
        "5cec1e5394c248608e89bff5718df51a": {
          "model_module": "@jupyter-widgets/controls",
          "model_name": "HTMLModel",
          "state": {
            "_view_name": "HTMLView",
            "style": "IPY_MODEL_d13a3afd5f7146c2a479d71f6c1f2b01",
            "_dom_classes": [],
            "description": "",
            "_model_name": "HTMLModel",
            "placeholder": "​",
            "_view_module": "@jupyter-widgets/controls",
            "_model_module_version": "1.5.0",
            "value": " 28.0/28.0 [00:02&lt;00:00, 13.2B/s]",
            "_view_count": null,
            "_view_module_version": "1.5.0",
            "description_tooltip": null,
            "_model_module": "@jupyter-widgets/controls",
            "layout": "IPY_MODEL_c74b4d40d74d4b2f97e02b8ce9ad9251"
          }
        },
        "1799f61cc1d449f1bfa90ab1381af19b": {
          "model_module": "@jupyter-widgets/controls",
          "model_name": "ProgressStyleModel",
          "state": {
            "_view_name": "StyleView",
            "_model_name": "ProgressStyleModel",
            "description_width": "initial",
            "_view_module": "@jupyter-widgets/base",
            "_model_module_version": "1.5.0",
            "_view_count": null,
            "_view_module_version": "1.2.0",
            "bar_color": null,
            "_model_module": "@jupyter-widgets/controls"
          }
        },
        "a86e459409af4eb39465bcfa02a0a92f": {
          "model_module": "@jupyter-widgets/base",
          "model_name": "LayoutModel",
          "state": {
            "_view_name": "LayoutView",
            "grid_template_rows": null,
            "right": null,
            "justify_content": null,
            "_view_module": "@jupyter-widgets/base",
            "overflow": null,
            "_model_module_version": "1.2.0",
            "_view_count": null,
            "flex_flow": null,
            "width": null,
            "min_width": null,
            "border": null,
            "align_items": null,
            "bottom": null,
            "_model_module": "@jupyter-widgets/base",
            "top": null,
            "grid_column": null,
            "overflow_y": null,
            "overflow_x": null,
            "grid_auto_flow": null,
            "grid_area": null,
            "grid_template_columns": null,
            "flex": null,
            "_model_name": "LayoutModel",
            "justify_items": null,
            "grid_row": null,
            "max_height": null,
            "align_content": null,
            "visibility": null,
            "align_self": null,
            "height": null,
            "min_height": null,
            "padding": null,
            "grid_auto_rows": null,
            "grid_gap": null,
            "max_width": null,
            "order": null,
            "_view_module_version": "1.2.0",
            "grid_template_areas": null,
            "object_position": null,
            "object_fit": null,
            "grid_auto_columns": null,
            "margin": null,
            "display": null,
            "left": null
          }
        },
        "d13a3afd5f7146c2a479d71f6c1f2b01": {
          "model_module": "@jupyter-widgets/controls",
          "model_name": "DescriptionStyleModel",
          "state": {
            "_view_name": "StyleView",
            "_model_name": "DescriptionStyleModel",
            "description_width": "",
            "_view_module": "@jupyter-widgets/base",
            "_model_module_version": "1.5.0",
            "_view_count": null,
            "_view_module_version": "1.2.0",
            "_model_module": "@jupyter-widgets/controls"
          }
        },
        "c74b4d40d74d4b2f97e02b8ce9ad9251": {
          "model_module": "@jupyter-widgets/base",
          "model_name": "LayoutModel",
          "state": {
            "_view_name": "LayoutView",
            "grid_template_rows": null,
            "right": null,
            "justify_content": null,
            "_view_module": "@jupyter-widgets/base",
            "overflow": null,
            "_model_module_version": "1.2.0",
            "_view_count": null,
            "flex_flow": null,
            "width": null,
            "min_width": null,
            "border": null,
            "align_items": null,
            "bottom": null,
            "_model_module": "@jupyter-widgets/base",
            "top": null,
            "grid_column": null,
            "overflow_y": null,
            "overflow_x": null,
            "grid_auto_flow": null,
            "grid_area": null,
            "grid_template_columns": null,
            "flex": null,
            "_model_name": "LayoutModel",
            "justify_items": null,
            "grid_row": null,
            "max_height": null,
            "align_content": null,
            "visibility": null,
            "align_self": null,
            "height": null,
            "min_height": null,
            "padding": null,
            "grid_auto_rows": null,
            "grid_gap": null,
            "max_width": null,
            "order": null,
            "_view_module_version": "1.2.0",
            "grid_template_areas": null,
            "object_position": null,
            "object_fit": null,
            "grid_auto_columns": null,
            "margin": null,
            "display": null,
            "left": null
          }
        },
        "2445404db797459abda6de6cfdc246fb": {
          "model_module": "@jupyter-widgets/controls",
          "model_name": "HBoxModel",
          "state": {
            "_view_name": "HBoxView",
            "_dom_classes": [],
            "_model_name": "HBoxModel",
            "_view_module": "@jupyter-widgets/controls",
            "_model_module_version": "1.5.0",
            "_view_count": null,
            "_view_module_version": "1.5.0",
            "box_style": "",
            "layout": "IPY_MODEL_a15b8b07d0694b878867cb198aa368f8",
            "_model_module": "@jupyter-widgets/controls",
            "children": [
              "IPY_MODEL_85b44a879424497eada5f602aae94333",
              "IPY_MODEL_a5181353750847c5b43e91cd9fed9e24"
            ]
          }
        },
        "a15b8b07d0694b878867cb198aa368f8": {
          "model_module": "@jupyter-widgets/base",
          "model_name": "LayoutModel",
          "state": {
            "_view_name": "LayoutView",
            "grid_template_rows": null,
            "right": null,
            "justify_content": null,
            "_view_module": "@jupyter-widgets/base",
            "overflow": null,
            "_model_module_version": "1.2.0",
            "_view_count": null,
            "flex_flow": null,
            "width": null,
            "min_width": null,
            "border": null,
            "align_items": null,
            "bottom": null,
            "_model_module": "@jupyter-widgets/base",
            "top": null,
            "grid_column": null,
            "overflow_y": null,
            "overflow_x": null,
            "grid_auto_flow": null,
            "grid_area": null,
            "grid_template_columns": null,
            "flex": null,
            "_model_name": "LayoutModel",
            "justify_items": null,
            "grid_row": null,
            "max_height": null,
            "align_content": null,
            "visibility": null,
            "align_self": null,
            "height": null,
            "min_height": null,
            "padding": null,
            "grid_auto_rows": null,
            "grid_gap": null,
            "max_width": null,
            "order": null,
            "_view_module_version": "1.2.0",
            "grid_template_areas": null,
            "object_position": null,
            "object_fit": null,
            "grid_auto_columns": null,
            "margin": null,
            "display": null,
            "left": null
          }
        },
        "85b44a879424497eada5f602aae94333": {
          "model_module": "@jupyter-widgets/controls",
          "model_name": "FloatProgressModel",
          "state": {
            "_view_name": "ProgressView",
            "style": "IPY_MODEL_2819b19f675e4e5d8a61d3687b7c188d",
            "_dom_classes": [],
            "description": "Downloading: 100%",
            "_model_name": "FloatProgressModel",
            "bar_style": "success",
            "max": 466062,
            "_view_module": "@jupyter-widgets/controls",
            "_model_module_version": "1.5.0",
            "value": 466062,
            "_view_count": null,
            "_view_module_version": "1.5.0",
            "orientation": "horizontal",
            "min": 0,
            "description_tooltip": null,
            "_model_module": "@jupyter-widgets/controls",
            "layout": "IPY_MODEL_b402a7df9c9f45358b4d593da215a7ac"
          }
        },
        "a5181353750847c5b43e91cd9fed9e24": {
          "model_module": "@jupyter-widgets/controls",
          "model_name": "HTMLModel",
          "state": {
            "_view_name": "HTMLView",
            "style": "IPY_MODEL_84f7acc9b6984aaaa404060da465da2f",
            "_dom_classes": [],
            "description": "",
            "_model_name": "HTMLModel",
            "placeholder": "​",
            "_view_module": "@jupyter-widgets/controls",
            "_model_module_version": "1.5.0",
            "value": " 466k/466k [00:00&lt;00:00, 496kB/s]",
            "_view_count": null,
            "_view_module_version": "1.5.0",
            "description_tooltip": null,
            "_model_module": "@jupyter-widgets/controls",
            "layout": "IPY_MODEL_5d96df29a7c34fb991a05a8a55fc3093"
          }
        },
        "2819b19f675e4e5d8a61d3687b7c188d": {
          "model_module": "@jupyter-widgets/controls",
          "model_name": "ProgressStyleModel",
          "state": {
            "_view_name": "StyleView",
            "_model_name": "ProgressStyleModel",
            "description_width": "initial",
            "_view_module": "@jupyter-widgets/base",
            "_model_module_version": "1.5.0",
            "_view_count": null,
            "_view_module_version": "1.2.0",
            "bar_color": null,
            "_model_module": "@jupyter-widgets/controls"
          }
        },
        "b402a7df9c9f45358b4d593da215a7ac": {
          "model_module": "@jupyter-widgets/base",
          "model_name": "LayoutModel",
          "state": {
            "_view_name": "LayoutView",
            "grid_template_rows": null,
            "right": null,
            "justify_content": null,
            "_view_module": "@jupyter-widgets/base",
            "overflow": null,
            "_model_module_version": "1.2.0",
            "_view_count": null,
            "flex_flow": null,
            "width": null,
            "min_width": null,
            "border": null,
            "align_items": null,
            "bottom": null,
            "_model_module": "@jupyter-widgets/base",
            "top": null,
            "grid_column": null,
            "overflow_y": null,
            "overflow_x": null,
            "grid_auto_flow": null,
            "grid_area": null,
            "grid_template_columns": null,
            "flex": null,
            "_model_name": "LayoutModel",
            "justify_items": null,
            "grid_row": null,
            "max_height": null,
            "align_content": null,
            "visibility": null,
            "align_self": null,
            "height": null,
            "min_height": null,
            "padding": null,
            "grid_auto_rows": null,
            "grid_gap": null,
            "max_width": null,
            "order": null,
            "_view_module_version": "1.2.0",
            "grid_template_areas": null,
            "object_position": null,
            "object_fit": null,
            "grid_auto_columns": null,
            "margin": null,
            "display": null,
            "left": null
          }
        },
        "84f7acc9b6984aaaa404060da465da2f": {
          "model_module": "@jupyter-widgets/controls",
          "model_name": "DescriptionStyleModel",
          "state": {
            "_view_name": "StyleView",
            "_model_name": "DescriptionStyleModel",
            "description_width": "",
            "_view_module": "@jupyter-widgets/base",
            "_model_module_version": "1.5.0",
            "_view_count": null,
            "_view_module_version": "1.2.0",
            "_model_module": "@jupyter-widgets/controls"
          }
        },
        "5d96df29a7c34fb991a05a8a55fc3093": {
          "model_module": "@jupyter-widgets/base",
          "model_name": "LayoutModel",
          "state": {
            "_view_name": "LayoutView",
            "grid_template_rows": null,
            "right": null,
            "justify_content": null,
            "_view_module": "@jupyter-widgets/base",
            "overflow": null,
            "_model_module_version": "1.2.0",
            "_view_count": null,
            "flex_flow": null,
            "width": null,
            "min_width": null,
            "border": null,
            "align_items": null,
            "bottom": null,
            "_model_module": "@jupyter-widgets/base",
            "top": null,
            "grid_column": null,
            "overflow_y": null,
            "overflow_x": null,
            "grid_auto_flow": null,
            "grid_area": null,
            "grid_template_columns": null,
            "flex": null,
            "_model_name": "LayoutModel",
            "justify_items": null,
            "grid_row": null,
            "max_height": null,
            "align_content": null,
            "visibility": null,
            "align_self": null,
            "height": null,
            "min_height": null,
            "padding": null,
            "grid_auto_rows": null,
            "grid_gap": null,
            "max_width": null,
            "order": null,
            "_view_module_version": "1.2.0",
            "grid_template_areas": null,
            "object_position": null,
            "object_fit": null,
            "grid_auto_columns": null,
            "margin": null,
            "display": null,
            "left": null
          }
        },
        "46d22ce4354147a2b42947b57ea87ca4": {
          "model_module": "@jupyter-widgets/controls",
          "model_name": "HBoxModel",
          "state": {
            "_view_name": "HBoxView",
            "_dom_classes": [],
            "_model_name": "HBoxModel",
            "_view_module": "@jupyter-widgets/controls",
            "_model_module_version": "1.5.0",
            "_view_count": null,
            "_view_module_version": "1.5.0",
            "box_style": "",
            "layout": "IPY_MODEL_c6ef9054b84140ad8a999eb7d01899f0",
            "_model_module": "@jupyter-widgets/controls",
            "children": [
              "IPY_MODEL_f032d648cabf4a8b997014867f9dc1c5",
              "IPY_MODEL_aba321a3e722465d9f63d890ee5ce084"
            ]
          }
        },
        "c6ef9054b84140ad8a999eb7d01899f0": {
          "model_module": "@jupyter-widgets/base",
          "model_name": "LayoutModel",
          "state": {
            "_view_name": "LayoutView",
            "grid_template_rows": null,
            "right": null,
            "justify_content": null,
            "_view_module": "@jupyter-widgets/base",
            "overflow": null,
            "_model_module_version": "1.2.0",
            "_view_count": null,
            "flex_flow": null,
            "width": null,
            "min_width": null,
            "border": null,
            "align_items": null,
            "bottom": null,
            "_model_module": "@jupyter-widgets/base",
            "top": null,
            "grid_column": null,
            "overflow_y": null,
            "overflow_x": null,
            "grid_auto_flow": null,
            "grid_area": null,
            "grid_template_columns": null,
            "flex": null,
            "_model_name": "LayoutModel",
            "justify_items": null,
            "grid_row": null,
            "max_height": null,
            "align_content": null,
            "visibility": null,
            "align_self": null,
            "height": null,
            "min_height": null,
            "padding": null,
            "grid_auto_rows": null,
            "grid_gap": null,
            "max_width": null,
            "order": null,
            "_view_module_version": "1.2.0",
            "grid_template_areas": null,
            "object_position": null,
            "object_fit": null,
            "grid_auto_columns": null,
            "margin": null,
            "display": null,
            "left": null
          }
        },
        "f032d648cabf4a8b997014867f9dc1c5": {
          "model_module": "@jupyter-widgets/controls",
          "model_name": "FloatProgressModel",
          "state": {
            "_view_name": "ProgressView",
            "style": "IPY_MODEL_a5941251b9bd4db4a1ba9e9ca8de75f9",
            "_dom_classes": [],
            "description": "Downloading: 100%",
            "_model_name": "FloatProgressModel",
            "bar_style": "success",
            "max": 433,
            "_view_module": "@jupyter-widgets/controls",
            "_model_module_version": "1.5.0",
            "value": 433,
            "_view_count": null,
            "_view_module_version": "1.5.0",
            "orientation": "horizontal",
            "min": 0,
            "description_tooltip": null,
            "_model_module": "@jupyter-widgets/controls",
            "layout": "IPY_MODEL_ab78a0f44e784b209d73f3aec19878f1"
          }
        },
        "aba321a3e722465d9f63d890ee5ce084": {
          "model_module": "@jupyter-widgets/controls",
          "model_name": "HTMLModel",
          "state": {
            "_view_name": "HTMLView",
            "style": "IPY_MODEL_424ed501a9a148799c5c0ab8557825cf",
            "_dom_classes": [],
            "description": "",
            "_model_name": "HTMLModel",
            "placeholder": "​",
            "_view_module": "@jupyter-widgets/controls",
            "_model_module_version": "1.5.0",
            "value": " 433/433 [01:26&lt;00:00, 5.02B/s]",
            "_view_count": null,
            "_view_module_version": "1.5.0",
            "description_tooltip": null,
            "_model_module": "@jupyter-widgets/controls",
            "layout": "IPY_MODEL_b065a433e07448978172335f25f94d1d"
          }
        },
        "a5941251b9bd4db4a1ba9e9ca8de75f9": {
          "model_module": "@jupyter-widgets/controls",
          "model_name": "ProgressStyleModel",
          "state": {
            "_view_name": "StyleView",
            "_model_name": "ProgressStyleModel",
            "description_width": "initial",
            "_view_module": "@jupyter-widgets/base",
            "_model_module_version": "1.5.0",
            "_view_count": null,
            "_view_module_version": "1.2.0",
            "bar_color": null,
            "_model_module": "@jupyter-widgets/controls"
          }
        },
        "ab78a0f44e784b209d73f3aec19878f1": {
          "model_module": "@jupyter-widgets/base",
          "model_name": "LayoutModel",
          "state": {
            "_view_name": "LayoutView",
            "grid_template_rows": null,
            "right": null,
            "justify_content": null,
            "_view_module": "@jupyter-widgets/base",
            "overflow": null,
            "_model_module_version": "1.2.0",
            "_view_count": null,
            "flex_flow": null,
            "width": null,
            "min_width": null,
            "border": null,
            "align_items": null,
            "bottom": null,
            "_model_module": "@jupyter-widgets/base",
            "top": null,
            "grid_column": null,
            "overflow_y": null,
            "overflow_x": null,
            "grid_auto_flow": null,
            "grid_area": null,
            "grid_template_columns": null,
            "flex": null,
            "_model_name": "LayoutModel",
            "justify_items": null,
            "grid_row": null,
            "max_height": null,
            "align_content": null,
            "visibility": null,
            "align_self": null,
            "height": null,
            "min_height": null,
            "padding": null,
            "grid_auto_rows": null,
            "grid_gap": null,
            "max_width": null,
            "order": null,
            "_view_module_version": "1.2.0",
            "grid_template_areas": null,
            "object_position": null,
            "object_fit": null,
            "grid_auto_columns": null,
            "margin": null,
            "display": null,
            "left": null
          }
        },
        "424ed501a9a148799c5c0ab8557825cf": {
          "model_module": "@jupyter-widgets/controls",
          "model_name": "DescriptionStyleModel",
          "state": {
            "_view_name": "StyleView",
            "_model_name": "DescriptionStyleModel",
            "description_width": "",
            "_view_module": "@jupyter-widgets/base",
            "_model_module_version": "1.5.0",
            "_view_count": null,
            "_view_module_version": "1.2.0",
            "_model_module": "@jupyter-widgets/controls"
          }
        },
        "b065a433e07448978172335f25f94d1d": {
          "model_module": "@jupyter-widgets/base",
          "model_name": "LayoutModel",
          "state": {
            "_view_name": "LayoutView",
            "grid_template_rows": null,
            "right": null,
            "justify_content": null,
            "_view_module": "@jupyter-widgets/base",
            "overflow": null,
            "_model_module_version": "1.2.0",
            "_view_count": null,
            "flex_flow": null,
            "width": null,
            "min_width": null,
            "border": null,
            "align_items": null,
            "bottom": null,
            "_model_module": "@jupyter-widgets/base",
            "top": null,
            "grid_column": null,
            "overflow_y": null,
            "overflow_x": null,
            "grid_auto_flow": null,
            "grid_area": null,
            "grid_template_columns": null,
            "flex": null,
            "_model_name": "LayoutModel",
            "justify_items": null,
            "grid_row": null,
            "max_height": null,
            "align_content": null,
            "visibility": null,
            "align_self": null,
            "height": null,
            "min_height": null,
            "padding": null,
            "grid_auto_rows": null,
            "grid_gap": null,
            "max_width": null,
            "order": null,
            "_view_module_version": "1.2.0",
            "grid_template_areas": null,
            "object_position": null,
            "object_fit": null,
            "grid_auto_columns": null,
            "margin": null,
            "display": null,
            "left": null
          }
        },
        "1e9c31d0cba84e149cab61611322169f": {
          "model_module": "@jupyter-widgets/controls",
          "model_name": "HBoxModel",
          "state": {
            "_view_name": "HBoxView",
            "_dom_classes": [],
            "_model_name": "HBoxModel",
            "_view_module": "@jupyter-widgets/controls",
            "_model_module_version": "1.5.0",
            "_view_count": null,
            "_view_module_version": "1.5.0",
            "box_style": "",
            "layout": "IPY_MODEL_93c6a74c9c0f45a2a7d0ad3117cc3645",
            "_model_module": "@jupyter-widgets/controls",
            "children": [
              "IPY_MODEL_d64b8c046b564f0dbe70d2f140b3bd2f",
              "IPY_MODEL_bceb47e1a899453cb7410673cac1d7ff"
            ]
          }
        },
        "93c6a74c9c0f45a2a7d0ad3117cc3645": {
          "model_module": "@jupyter-widgets/base",
          "model_name": "LayoutModel",
          "state": {
            "_view_name": "LayoutView",
            "grid_template_rows": null,
            "right": null,
            "justify_content": null,
            "_view_module": "@jupyter-widgets/base",
            "overflow": null,
            "_model_module_version": "1.2.0",
            "_view_count": null,
            "flex_flow": null,
            "width": null,
            "min_width": null,
            "border": null,
            "align_items": null,
            "bottom": null,
            "_model_module": "@jupyter-widgets/base",
            "top": null,
            "grid_column": null,
            "overflow_y": null,
            "overflow_x": null,
            "grid_auto_flow": null,
            "grid_area": null,
            "grid_template_columns": null,
            "flex": null,
            "_model_name": "LayoutModel",
            "justify_items": null,
            "grid_row": null,
            "max_height": null,
            "align_content": null,
            "visibility": null,
            "align_self": null,
            "height": null,
            "min_height": null,
            "padding": null,
            "grid_auto_rows": null,
            "grid_gap": null,
            "max_width": null,
            "order": null,
            "_view_module_version": "1.2.0",
            "grid_template_areas": null,
            "object_position": null,
            "object_fit": null,
            "grid_auto_columns": null,
            "margin": null,
            "display": null,
            "left": null
          }
        },
        "d64b8c046b564f0dbe70d2f140b3bd2f": {
          "model_module": "@jupyter-widgets/controls",
          "model_name": "FloatProgressModel",
          "state": {
            "_view_name": "ProgressView",
            "style": "IPY_MODEL_290a33d2d20b41c68517b02f0cd9bc00",
            "_dom_classes": [],
            "description": "Downloading: 100%",
            "_model_name": "FloatProgressModel",
            "bar_style": "success",
            "max": 440473133,
            "_view_module": "@jupyter-widgets/controls",
            "_model_module_version": "1.5.0",
            "value": 440473133,
            "_view_count": null,
            "_view_module_version": "1.5.0",
            "orientation": "horizontal",
            "min": 0,
            "description_tooltip": null,
            "_model_module": "@jupyter-widgets/controls",
            "layout": "IPY_MODEL_273b8d87ff4e477da537cd3839515017"
          }
        },
        "bceb47e1a899453cb7410673cac1d7ff": {
          "model_module": "@jupyter-widgets/controls",
          "model_name": "HTMLModel",
          "state": {
            "_view_name": "HTMLView",
            "style": "IPY_MODEL_388a7e38b9f2410a89f4e675188fd15f",
            "_dom_classes": [],
            "description": "",
            "_model_name": "HTMLModel",
            "placeholder": "​",
            "_view_module": "@jupyter-widgets/controls",
            "_model_module_version": "1.5.0",
            "value": " 440M/440M [01:25&lt;00:00, 5.18MB/s]",
            "_view_count": null,
            "_view_module_version": "1.5.0",
            "description_tooltip": null,
            "_model_module": "@jupyter-widgets/controls",
            "layout": "IPY_MODEL_6125a8c118b847b9a3dc617372b4a19b"
          }
        },
        "290a33d2d20b41c68517b02f0cd9bc00": {
          "model_module": "@jupyter-widgets/controls",
          "model_name": "ProgressStyleModel",
          "state": {
            "_view_name": "StyleView",
            "_model_name": "ProgressStyleModel",
            "description_width": "initial",
            "_view_module": "@jupyter-widgets/base",
            "_model_module_version": "1.5.0",
            "_view_count": null,
            "_view_module_version": "1.2.0",
            "bar_color": null,
            "_model_module": "@jupyter-widgets/controls"
          }
        },
        "273b8d87ff4e477da537cd3839515017": {
          "model_module": "@jupyter-widgets/base",
          "model_name": "LayoutModel",
          "state": {
            "_view_name": "LayoutView",
            "grid_template_rows": null,
            "right": null,
            "justify_content": null,
            "_view_module": "@jupyter-widgets/base",
            "overflow": null,
            "_model_module_version": "1.2.0",
            "_view_count": null,
            "flex_flow": null,
            "width": null,
            "min_width": null,
            "border": null,
            "align_items": null,
            "bottom": null,
            "_model_module": "@jupyter-widgets/base",
            "top": null,
            "grid_column": null,
            "overflow_y": null,
            "overflow_x": null,
            "grid_auto_flow": null,
            "grid_area": null,
            "grid_template_columns": null,
            "flex": null,
            "_model_name": "LayoutModel",
            "justify_items": null,
            "grid_row": null,
            "max_height": null,
            "align_content": null,
            "visibility": null,
            "align_self": null,
            "height": null,
            "min_height": null,
            "padding": null,
            "grid_auto_rows": null,
            "grid_gap": null,
            "max_width": null,
            "order": null,
            "_view_module_version": "1.2.0",
            "grid_template_areas": null,
            "object_position": null,
            "object_fit": null,
            "grid_auto_columns": null,
            "margin": null,
            "display": null,
            "left": null
          }
        },
        "388a7e38b9f2410a89f4e675188fd15f": {
          "model_module": "@jupyter-widgets/controls",
          "model_name": "DescriptionStyleModel",
          "state": {
            "_view_name": "StyleView",
            "_model_name": "DescriptionStyleModel",
            "description_width": "",
            "_view_module": "@jupyter-widgets/base",
            "_model_module_version": "1.5.0",
            "_view_count": null,
            "_view_module_version": "1.2.0",
            "_model_module": "@jupyter-widgets/controls"
          }
        },
        "6125a8c118b847b9a3dc617372b4a19b": {
          "model_module": "@jupyter-widgets/base",
          "model_name": "LayoutModel",
          "state": {
            "_view_name": "LayoutView",
            "grid_template_rows": null,
            "right": null,
            "justify_content": null,
            "_view_module": "@jupyter-widgets/base",
            "overflow": null,
            "_model_module_version": "1.2.0",
            "_view_count": null,
            "flex_flow": null,
            "width": null,
            "min_width": null,
            "border": null,
            "align_items": null,
            "bottom": null,
            "_model_module": "@jupyter-widgets/base",
            "top": null,
            "grid_column": null,
            "overflow_y": null,
            "overflow_x": null,
            "grid_auto_flow": null,
            "grid_area": null,
            "grid_template_columns": null,
            "flex": null,
            "_model_name": "LayoutModel",
            "justify_items": null,
            "grid_row": null,
            "max_height": null,
            "align_content": null,
            "visibility": null,
            "align_self": null,
            "height": null,
            "min_height": null,
            "padding": null,
            "grid_auto_rows": null,
            "grid_gap": null,
            "max_width": null,
            "order": null,
            "_view_module_version": "1.2.0",
            "grid_template_areas": null,
            "object_position": null,
            "object_fit": null,
            "grid_auto_columns": null,
            "margin": null,
            "display": null,
            "left": null
          }
        }
      }
    }
  },
  "cells": [
    {
      "cell_type": "markdown",
      "metadata": {
        "id": "h2DvYi9nlR8K"
      },
      "source": [
        "# **Stock market news feed semantic analysis** *(Baseline Transformers)*"
      ]
    },
    {
      "cell_type": "markdown",
      "metadata": {
        "id": "2X44-bETwIEX"
      },
      "source": [
        "* https://colab.research.google.com/github/bentrevett/pytorch-sentiment-analysis/blob/master/6%20-%20Transformers%20for%20Sentiment%20Analysis.ipynb#scrollTo=IUvWqEq1oV7k\n",
        "* https://arxiv.org/abs/1706.03762\n",
        "* https://arxiv.org/abs/1810.04805"
      ]
    },
    {
      "cell_type": "markdown",
      "metadata": {
        "id": "gcEws0Fnlk2Q"
      },
      "source": [
        "## **A projekt előkészítése**"
      ]
    },
    {
      "cell_type": "code",
      "metadata": {
        "colab": {
          "base_uri": "https://localhost:8080/"
        },
        "id": "DV6Q5qolmwuK",
        "outputId": "5300b7b0-0064-430e-adad-72eb6f7bda42"
      },
      "source": [
        "# attach drive\n",
        "from google.colab import drive\n",
        "drive.mount('/content/drive')"
      ],
      "execution_count": 2,
      "outputs": [
        {
          "output_type": "stream",
          "text": [
            "Drive already mounted at /content/drive; to attempt to forcibly remount, call drive.mount(\"/content/drive\", force_remount=True).\n"
          ],
          "name": "stdout"
        }
      ]
    },
    {
      "cell_type": "markdown",
      "metadata": {
        "id": "VE1iYb7HqpWj"
      },
      "source": [
        "https://www.kaggle.com/aaron7sun/stocknews"
      ]
    },
    {
      "cell_type": "code",
      "metadata": {
        "id": "DMrafiHCqqlX"
      },
      "source": [
        "# Copy the dataset to the local environment\n",
        "!cp \"/content/drive/MyDrive/Combined_News_DJIA.csv\" \"Combined_News_DJIA.csv\""
      ],
      "execution_count": 3,
      "outputs": []
    },
    {
      "cell_type": "code",
      "metadata": {
        "id": "gBEvM_cvqzAt"
      },
      "source": [
        "# set imports\n",
        "import random\n",
        "import numpy as np\n",
        "import pandas as pd\n",
        "import pandas_datareader as web\n",
        "from sklearn.utils import shuffle\n",
        "import matplotlib.pyplot as plt\n",
        "import torch"
      ],
      "execution_count": 4,
      "outputs": []
    },
    {
      "cell_type": "code",
      "metadata": {
        "id": "cfzWnWTorBK6"
      },
      "source": [
        "# Number of merged news into one string\n",
        "ROWS = 1 # because of the max length for bert, if removing stop words and punctations will increase\n",
        "\n",
        "# Shuffle cycle number for the dataframe\n",
        "SHUFFLE_CYCLE = 500\n",
        "\n",
        "# Numpy random seed\n",
        "NP_SEED = 1234\n",
        "\n",
        "# Torch seed\n",
        "TORCH_SEED = 1234\n",
        "\n",
        "# Train percentage (train + valid)\n",
        "TRAIN_SPLIT = 0.8\n",
        "\n",
        "# Only validation split\n",
        "VALIDATION_SPLIT = 0.1"
      ],
      "execution_count": 5,
      "outputs": []
    },
    {
      "cell_type": "code",
      "metadata": {
        "id": "GoDwYNWNq2ya"
      },
      "source": [
        "# set seeds for reproduce\n",
        "random.seed(NP_SEED)\n",
        "torch.manual_seed(TORCH_SEED)\n",
        "np.random.seed(NP_SEED)\n",
        "torch.backends.cudnn.deterministic = True\n",
        "\n",
        "if torch.cuda.is_available():\n",
        "  torch.cuda.manual_seed_all(TORCH_SEED)"
      ],
      "execution_count": 6,
      "outputs": []
    },
    {
      "cell_type": "markdown",
      "metadata": {
        "id": "Qw7WNXFTreMM"
      },
      "source": [
        "A Transformers telepítése és importálása."
      ]
    },
    {
      "cell_type": "code",
      "metadata": {
        "colab": {
          "base_uri": "https://localhost:8080/"
        },
        "id": "z5fdCNzGrLhk",
        "outputId": "4b13aaab-9ad3-4a77-8387-59c0a7d88c89"
      },
      "source": [
        "pip install transformers"
      ],
      "execution_count": 7,
      "outputs": [
        {
          "output_type": "stream",
          "text": [
            "Collecting transformers\n",
            "\u001b[?25l  Downloading https://files.pythonhosted.org/packages/ed/d5/f4157a376b8a79489a76ce6cfe147f4f3be1e029b7144fa7b8432e8acb26/transformers-4.4.2-py3-none-any.whl (2.0MB)\n",
            "\u001b[K     |████████████████████████████████| 2.0MB 3.9MB/s \n",
            "\u001b[?25hRequirement already satisfied: tqdm>=4.27 in /usr/local/lib/python3.7/dist-packages (from transformers) (4.41.1)\n",
            "Requirement already satisfied: importlib-metadata; python_version < \"3.8\" in /usr/local/lib/python3.7/dist-packages (from transformers) (3.8.1)\n",
            "Requirement already satisfied: numpy>=1.17 in /usr/local/lib/python3.7/dist-packages (from transformers) (1.19.5)\n",
            "Requirement already satisfied: regex!=2019.12.17 in /usr/local/lib/python3.7/dist-packages (from transformers) (2019.12.20)\n",
            "Requirement already satisfied: requests in /usr/local/lib/python3.7/dist-packages (from transformers) (2.23.0)\n",
            "Requirement already satisfied: packaging in /usr/local/lib/python3.7/dist-packages (from transformers) (20.9)\n",
            "Collecting tokenizers<0.11,>=0.10.1\n",
            "\u001b[?25l  Downloading https://files.pythonhosted.org/packages/71/23/2ddc317b2121117bf34dd00f5b0de194158f2a44ee2bf5e47c7166878a97/tokenizers-0.10.1-cp37-cp37m-manylinux2010_x86_64.whl (3.2MB)\n",
            "\u001b[K     |████████████████████████████████| 3.2MB 47.8MB/s \n",
            "\u001b[?25hCollecting sacremoses\n",
            "\u001b[?25l  Downloading https://files.pythonhosted.org/packages/7d/34/09d19aff26edcc8eb2a01bed8e98f13a1537005d31e95233fd48216eed10/sacremoses-0.0.43.tar.gz (883kB)\n",
            "\u001b[K     |████████████████████████████████| 890kB 31.0MB/s \n",
            "\u001b[?25hRequirement already satisfied: filelock in /usr/local/lib/python3.7/dist-packages (from transformers) (3.0.12)\n",
            "Requirement already satisfied: typing-extensions>=3.6.4; python_version < \"3.8\" in /usr/local/lib/python3.7/dist-packages (from importlib-metadata; python_version < \"3.8\"->transformers) (3.7.4.3)\n",
            "Requirement already satisfied: zipp>=0.5 in /usr/local/lib/python3.7/dist-packages (from importlib-metadata; python_version < \"3.8\"->transformers) (3.4.1)\n",
            "Requirement already satisfied: chardet<4,>=3.0.2 in /usr/local/lib/python3.7/dist-packages (from requests->transformers) (3.0.4)\n",
            "Requirement already satisfied: urllib3!=1.25.0,!=1.25.1,<1.26,>=1.21.1 in /usr/local/lib/python3.7/dist-packages (from requests->transformers) (1.24.3)\n",
            "Requirement already satisfied: certifi>=2017.4.17 in /usr/local/lib/python3.7/dist-packages (from requests->transformers) (2020.12.5)\n",
            "Requirement already satisfied: idna<3,>=2.5 in /usr/local/lib/python3.7/dist-packages (from requests->transformers) (2.10)\n",
            "Requirement already satisfied: pyparsing>=2.0.2 in /usr/local/lib/python3.7/dist-packages (from packaging->transformers) (2.4.7)\n",
            "Requirement already satisfied: six in /usr/local/lib/python3.7/dist-packages (from sacremoses->transformers) (1.15.0)\n",
            "Requirement already satisfied: click in /usr/local/lib/python3.7/dist-packages (from sacremoses->transformers) (7.1.2)\n",
            "Requirement already satisfied: joblib in /usr/local/lib/python3.7/dist-packages (from sacremoses->transformers) (1.0.1)\n",
            "Building wheels for collected packages: sacremoses\n",
            "  Building wheel for sacremoses (setup.py) ... \u001b[?25l\u001b[?25hdone\n",
            "  Created wheel for sacremoses: filename=sacremoses-0.0.43-cp37-none-any.whl size=893262 sha256=72ffca694bdcba457a3725fd64c707cede58657e3ad7e6974217bb0ba887e85b\n",
            "  Stored in directory: /root/.cache/pip/wheels/29/3c/fd/7ce5c3f0666dab31a50123635e6fb5e19ceb42ce38d4e58f45\n",
            "Successfully built sacremoses\n",
            "Installing collected packages: tokenizers, sacremoses, transformers\n",
            "Successfully installed sacremoses-0.0.43 tokenizers-0.10.1 transformers-4.4.2\n"
          ],
          "name": "stdout"
        }
      ]
    },
    {
      "cell_type": "code",
      "metadata": {
        "id": "154-jSH9rhtW",
        "colab": {
          "base_uri": "https://localhost:8080/",
          "height": 164,
          "referenced_widgets": [
            "84c85718e4e64975a86adee81d127fa7",
            "e32755ea2f6d47a6830e4aa903ef3f50",
            "ef8760333f89437ab6e7820c39bdbd70",
            "865de33946554d2c950cd3e5f7df4eb7",
            "981097b70ca44c42ab5701a0794b301b",
            "5640791c4db74edca4e57b85ece1eb19",
            "d774c3e20c874a76b5dbdf2083d0332f",
            "241414141a09455faa2ddc5ec636b770",
            "18d8faa5b5ea45e2a76e5712a2af6c28",
            "5dcf191453fa4a178f66613e22694929",
            "6b11d562bff241ada1405795ce6af084",
            "5cec1e5394c248608e89bff5718df51a",
            "1799f61cc1d449f1bfa90ab1381af19b",
            "a86e459409af4eb39465bcfa02a0a92f",
            "d13a3afd5f7146c2a479d71f6c1f2b01",
            "c74b4d40d74d4b2f97e02b8ce9ad9251",
            "2445404db797459abda6de6cfdc246fb",
            "a15b8b07d0694b878867cb198aa368f8",
            "85b44a879424497eada5f602aae94333",
            "a5181353750847c5b43e91cd9fed9e24",
            "2819b19f675e4e5d8a61d3687b7c188d",
            "b402a7df9c9f45358b4d593da215a7ac",
            "84f7acc9b6984aaaa404060da465da2f",
            "5d96df29a7c34fb991a05a8a55fc3093"
          ]
        },
        "outputId": "20d23bb8-07be-44e4-cc7b-9cc8f1fd822d"
      },
      "source": [
        "from transformers import BertTokenizer\n",
        "\n",
        "tokenizer = BertTokenizer.from_pretrained('bert-base-uncased')"
      ],
      "execution_count": 8,
      "outputs": [
        {
          "output_type": "display_data",
          "data": {
            "application/vnd.jupyter.widget-view+json": {
              "model_id": "84c85718e4e64975a86adee81d127fa7",
              "version_minor": 0,
              "version_major": 2
            },
            "text/plain": [
              "HBox(children=(FloatProgress(value=0.0, description='Downloading', max=231508.0, style=ProgressStyle(descripti…"
            ]
          },
          "metadata": {
            "tags": []
          }
        },
        {
          "output_type": "stream",
          "text": [
            "\n"
          ],
          "name": "stdout"
        },
        {
          "output_type": "display_data",
          "data": {
            "application/vnd.jupyter.widget-view+json": {
              "model_id": "18d8faa5b5ea45e2a76e5712a2af6c28",
              "version_minor": 0,
              "version_major": 2
            },
            "text/plain": [
              "HBox(children=(FloatProgress(value=0.0, description='Downloading', max=28.0, style=ProgressStyle(description_w…"
            ]
          },
          "metadata": {
            "tags": []
          }
        },
        {
          "output_type": "stream",
          "text": [
            "\n"
          ],
          "name": "stdout"
        },
        {
          "output_type": "display_data",
          "data": {
            "application/vnd.jupyter.widget-view+json": {
              "model_id": "2445404db797459abda6de6cfdc246fb",
              "version_minor": 0,
              "version_major": 2
            },
            "text/plain": [
              "HBox(children=(FloatProgress(value=0.0, description='Downloading', max=466062.0, style=ProgressStyle(descripti…"
            ]
          },
          "metadata": {
            "tags": []
          }
        },
        {
          "output_type": "stream",
          "text": [
            "\n"
          ],
          "name": "stdout"
        }
      ]
    },
    {
      "cell_type": "markdown",
      "metadata": {
        "id": "dPgJAl5Z3yhQ"
      },
      "source": [
        "Torchtext frissítése és importálása."
      ]
    },
    {
      "cell_type": "code",
      "metadata": {
        "colab": {
          "base_uri": "https://localhost:8080/"
        },
        "id": "JBsvIiBc30k1",
        "outputId": "4f33b80c-2229-49fe-c5bc-5eb98f9f408c"
      },
      "source": [
        "pip install torchtext==0.4.0"
      ],
      "execution_count": 9,
      "outputs": [
        {
          "output_type": "stream",
          "text": [
            "Collecting torchtext==0.4.0\n",
            "\u001b[?25l  Downloading https://files.pythonhosted.org/packages/43/94/929d6bd236a4fb5c435982a7eb9730b78dcd8659acf328fd2ef9de85f483/torchtext-0.4.0-py3-none-any.whl (53kB)\n",
            "\r\u001b[K     |██████▏                         | 10kB 13.5MB/s eta 0:00:01\r\u001b[K     |████████████▍                   | 20kB 13.5MB/s eta 0:00:01\r\u001b[K     |██████████████████▌             | 30kB 8.5MB/s eta 0:00:01\r\u001b[K     |████████████████████████▊       | 40kB 7.6MB/s eta 0:00:01\r\u001b[K     |██████████████████████████████▉ | 51kB 4.3MB/s eta 0:00:01\r\u001b[K     |████████████████████████████████| 61kB 3.1MB/s \n",
            "\u001b[?25hRequirement already satisfied: numpy in /usr/local/lib/python3.7/dist-packages (from torchtext==0.4.0) (1.19.5)\n",
            "Requirement already satisfied: torch in /usr/local/lib/python3.7/dist-packages (from torchtext==0.4.0) (1.8.1+cu101)\n",
            "Requirement already satisfied: tqdm in /usr/local/lib/python3.7/dist-packages (from torchtext==0.4.0) (4.41.1)\n",
            "Requirement already satisfied: six in /usr/local/lib/python3.7/dist-packages (from torchtext==0.4.0) (1.15.0)\n",
            "Requirement already satisfied: requests in /usr/local/lib/python3.7/dist-packages (from torchtext==0.4.0) (2.23.0)\n",
            "Requirement already satisfied: typing-extensions in /usr/local/lib/python3.7/dist-packages (from torch->torchtext==0.4.0) (3.7.4.3)\n",
            "Requirement already satisfied: certifi>=2017.4.17 in /usr/local/lib/python3.7/dist-packages (from requests->torchtext==0.4.0) (2020.12.5)\n",
            "Requirement already satisfied: idna<3,>=2.5 in /usr/local/lib/python3.7/dist-packages (from requests->torchtext==0.4.0) (2.10)\n",
            "Requirement already satisfied: urllib3!=1.25.0,!=1.25.1,<1.26,>=1.21.1 in /usr/local/lib/python3.7/dist-packages (from requests->torchtext==0.4.0) (1.24.3)\n",
            "Requirement already satisfied: chardet<4,>=3.0.2 in /usr/local/lib/python3.7/dist-packages (from requests->torchtext==0.4.0) (3.0.4)\n",
            "Installing collected packages: torchtext\n",
            "  Found existing installation: torchtext 0.9.1\n",
            "    Uninstalling torchtext-0.9.1:\n",
            "      Successfully uninstalled torchtext-0.9.1\n",
            "Successfully installed torchtext-0.4.0\n"
          ],
          "name": "stdout"
        }
      ]
    },
    {
      "cell_type": "code",
      "metadata": {
        "id": "48lwXlmW346d"
      },
      "source": [
        "from torchtext import data"
      ],
      "execution_count": 10,
      "outputs": []
    },
    {
      "cell_type": "markdown",
      "metadata": {
        "id": "c7oxCaAQrph-"
      },
      "source": [
        "## **Az adathalmaz előkészítése**"
      ]
    },
    {
      "cell_type": "code",
      "metadata": {
        "colab": {
          "base_uri": "https://localhost:8080/",
          "height": 714
        },
        "id": "wPOtZf4dsrJG",
        "outputId": "c4ed29ba-66ca-484d-afe3-421c2b246b49"
      },
      "source": [
        "# Load the dataset \n",
        "df_combined = pd.read_csv('Combined_News_DJIA.csv', index_col = \"Date\")\n",
        "\n",
        "# Show the dataframe\n",
        "df_combined.head()"
      ],
      "execution_count": 11,
      "outputs": [
        {
          "output_type": "execute_result",
          "data": {
            "text/html": [
              "<div>\n",
              "<style scoped>\n",
              "    .dataframe tbody tr th:only-of-type {\n",
              "        vertical-align: middle;\n",
              "    }\n",
              "\n",
              "    .dataframe tbody tr th {\n",
              "        vertical-align: top;\n",
              "    }\n",
              "\n",
              "    .dataframe thead th {\n",
              "        text-align: right;\n",
              "    }\n",
              "</style>\n",
              "<table border=\"1\" class=\"dataframe\">\n",
              "  <thead>\n",
              "    <tr style=\"text-align: right;\">\n",
              "      <th></th>\n",
              "      <th>Label</th>\n",
              "      <th>Top1</th>\n",
              "      <th>Top2</th>\n",
              "      <th>Top3</th>\n",
              "      <th>Top4</th>\n",
              "      <th>Top5</th>\n",
              "      <th>Top6</th>\n",
              "      <th>Top7</th>\n",
              "      <th>Top8</th>\n",
              "      <th>Top9</th>\n",
              "      <th>Top10</th>\n",
              "      <th>Top11</th>\n",
              "      <th>Top12</th>\n",
              "      <th>Top13</th>\n",
              "      <th>Top14</th>\n",
              "      <th>Top15</th>\n",
              "      <th>Top16</th>\n",
              "      <th>Top17</th>\n",
              "      <th>Top18</th>\n",
              "      <th>Top19</th>\n",
              "      <th>Top20</th>\n",
              "      <th>Top21</th>\n",
              "      <th>Top22</th>\n",
              "      <th>Top23</th>\n",
              "      <th>Top24</th>\n",
              "      <th>Top25</th>\n",
              "    </tr>\n",
              "    <tr>\n",
              "      <th>Date</th>\n",
              "      <th></th>\n",
              "      <th></th>\n",
              "      <th></th>\n",
              "      <th></th>\n",
              "      <th></th>\n",
              "      <th></th>\n",
              "      <th></th>\n",
              "      <th></th>\n",
              "      <th></th>\n",
              "      <th></th>\n",
              "      <th></th>\n",
              "      <th></th>\n",
              "      <th></th>\n",
              "      <th></th>\n",
              "      <th></th>\n",
              "      <th></th>\n",
              "      <th></th>\n",
              "      <th></th>\n",
              "      <th></th>\n",
              "      <th></th>\n",
              "      <th></th>\n",
              "      <th></th>\n",
              "      <th></th>\n",
              "      <th></th>\n",
              "      <th></th>\n",
              "      <th></th>\n",
              "    </tr>\n",
              "  </thead>\n",
              "  <tbody>\n",
              "    <tr>\n",
              "      <th>2008-08-08</th>\n",
              "      <td>0</td>\n",
              "      <td>b\"Georgia 'downs two Russian warplanes' as cou...</td>\n",
              "      <td>b'BREAKING: Musharraf to be impeached.'</td>\n",
              "      <td>b'Russia Today: Columns of troops roll into So...</td>\n",
              "      <td>b'Russian tanks are moving towards the capital...</td>\n",
              "      <td>b\"Afghan children raped with 'impunity,' U.N. ...</td>\n",
              "      <td>b'150 Russian tanks have entered South Ossetia...</td>\n",
              "      <td>b\"Breaking: Georgia invades South Ossetia, Rus...</td>\n",
              "      <td>b\"The 'enemy combatent' trials are nothing but...</td>\n",
              "      <td>b'Georgian troops retreat from S. Osettain cap...</td>\n",
              "      <td>b'Did the U.S. Prep Georgia for War with Russia?'</td>\n",
              "      <td>b'Rice Gives Green Light for Israel to Attack ...</td>\n",
              "      <td>b'Announcing:Class Action Lawsuit on Behalf of...</td>\n",
              "      <td>b\"So---Russia and Georgia are at war and the N...</td>\n",
              "      <td>b\"China tells Bush to stay out of other countr...</td>\n",
              "      <td>b'Did World War III start today?'</td>\n",
              "      <td>b'Georgia Invades South Ossetia - if Russia ge...</td>\n",
              "      <td>b'Al-Qaeda Faces Islamist Backlash'</td>\n",
              "      <td>b'Condoleezza Rice: \"The US would not act to p...</td>\n",
              "      <td>b'This is a busy day:  The European Union has ...</td>\n",
              "      <td>b\"Georgia will withdraw 1,000 soldiers from Ir...</td>\n",
              "      <td>b'Why the Pentagon Thinks Attacking Iran is a ...</td>\n",
              "      <td>b'Caucasus in crisis: Georgia invades South Os...</td>\n",
              "      <td>b'Indian shoe manufactory  - And again in a se...</td>\n",
              "      <td>b'Visitors Suffering from Mental Illnesses Ban...</td>\n",
              "      <td>b\"No Help for Mexico's Kidnapping Surge\"</td>\n",
              "    </tr>\n",
              "    <tr>\n",
              "      <th>2008-08-11</th>\n",
              "      <td>1</td>\n",
              "      <td>b'Why wont America and Nato help us? If they w...</td>\n",
              "      <td>b'Bush puts foot down on Georgian conflict'</td>\n",
              "      <td>b\"Jewish Georgian minister: Thanks to Israeli ...</td>\n",
              "      <td>b'Georgian army flees in disarray as Russians ...</td>\n",
              "      <td>b\"Olympic opening ceremony fireworks 'faked'\"</td>\n",
              "      <td>b'What were the Mossad with fraudulent New Zea...</td>\n",
              "      <td>b'Russia angered by Israeli military sale to G...</td>\n",
              "      <td>b'An American citizen living in S.Ossetia blam...</td>\n",
              "      <td>b'Welcome To World War IV! Now In High Definit...</td>\n",
              "      <td>b\"Georgia's move, a mistake of monumental prop...</td>\n",
              "      <td>b'Russia presses deeper into Georgia; U.S. say...</td>\n",
              "      <td>b'Abhinav Bindra wins first ever Individual Ol...</td>\n",
              "      <td>b' U.S. ship heads for Arctic to define territ...</td>\n",
              "      <td>b'Drivers in a Jerusalem taxi station threaten...</td>\n",
              "      <td>b'The French Team is Stunned by Phelps and the...</td>\n",
              "      <td>b'Israel and the US behind the Georgian aggres...</td>\n",
              "      <td>b'\"Do not believe TV, neither Russian nor Geor...</td>\n",
              "      <td>b'Riots are still going on in Montreal (Canada...</td>\n",
              "      <td>b'China to overtake US as largest manufacturer'</td>\n",
              "      <td>b'War in South Ossetia [PICS]'</td>\n",
              "      <td>b'Israeli Physicians Group Condemns State Tort...</td>\n",
              "      <td>b' Russia has just beaten the United States ov...</td>\n",
              "      <td>b'Perhaps *the* question about the Georgia - R...</td>\n",
              "      <td>b'Russia is so much better at war'</td>\n",
              "      <td>b\"So this is what it's come to: trading sex fo...</td>\n",
              "    </tr>\n",
              "    <tr>\n",
              "      <th>2008-08-12</th>\n",
              "      <td>0</td>\n",
              "      <td>b'Remember that adorable 9-year-old who sang a...</td>\n",
              "      <td>b\"Russia 'ends Georgia operation'\"</td>\n",
              "      <td>b'\"If we had no sexual harassment we would hav...</td>\n",
              "      <td>b\"Al-Qa'eda is losing support in Iraq because ...</td>\n",
              "      <td>b'Ceasefire in Georgia: Putin Outmaneuvers the...</td>\n",
              "      <td>b'Why Microsoft and Intel tried to kill the XO...</td>\n",
              "      <td>b'Stratfor: The Russo-Georgian War and the Bal...</td>\n",
              "      <td>b\"I'm Trying to Get a Sense of This Whole Geor...</td>\n",
              "      <td>b\"The US military was surprised by the timing ...</td>\n",
              "      <td>b'U.S. Beats War Drum as Iran Dumps the Dollar'</td>\n",
              "      <td>b'Gorbachev: \"Georgian military attacked the S...</td>\n",
              "      <td>b'CNN use footage of Tskhinvali ruins to cover...</td>\n",
              "      <td>b'Beginning a war as the Olympics were opening...</td>\n",
              "      <td>b'55 pyramids as large as the Luxor stacked in...</td>\n",
              "      <td>b'The 11 Top Party Cities in the World'</td>\n",
              "      <td>b'U.S. troops still in Georgia (did you know t...</td>\n",
              "      <td>b'Why Russias response to Georgia was right'</td>\n",
              "      <td>b'Gorbachev accuses U.S. of making a \"serious ...</td>\n",
              "      <td>b'Russia, Georgia, and NATO: Cold War Two'</td>\n",
              "      <td>b'Remember that adorable 62-year-old who led y...</td>\n",
              "      <td>b'War in Georgia: The Israeli connection'</td>\n",
              "      <td>b'All signs point to the US encouraging Georgi...</td>\n",
              "      <td>b'Christopher King argues that the US and NATO...</td>\n",
              "      <td>b'America: The New Mexico?'</td>\n",
              "      <td>b\"BBC NEWS | Asia-Pacific | Extinction 'by man...</td>\n",
              "    </tr>\n",
              "    <tr>\n",
              "      <th>2008-08-13</th>\n",
              "      <td>0</td>\n",
              "      <td>b' U.S. refuses Israel weapons to attack Iran:...</td>\n",
              "      <td>b\"When the president ordered to attack Tskhinv...</td>\n",
              "      <td>b' Israel clears troops who killed Reuters cam...</td>\n",
              "      <td>b'Britain\\'s policy of being tough on drugs is...</td>\n",
              "      <td>b'Body of 14 year old found in trunk; Latest (...</td>\n",
              "      <td>b'China has moved 10 *million* quake survivors...</td>\n",
              "      <td>b\"Bush announces Operation Get All Up In Russi...</td>\n",
              "      <td>b'Russian forces sink Georgian ships '</td>\n",
              "      <td>b\"The commander of a Navy air reconnaissance s...</td>\n",
              "      <td>b\"92% of CNN readers: Russia's actions in Geor...</td>\n",
              "      <td>b'USA to send fleet into Black Sea to help Geo...</td>\n",
              "      <td>b\"US warns against Israeli plan to strike agai...</td>\n",
              "      <td>b\"In an intriguing cyberalliance, two Estonian...</td>\n",
              "      <td>b'The CNN Effect: Georgia Schools Russia in In...</td>\n",
              "      <td>b'Why Russias response to Georgia was right'</td>\n",
              "      <td>b'Elephants extinct by 2020?'</td>\n",
              "      <td>b'US humanitarian missions soon in Georgia - i...</td>\n",
              "      <td>b\"Georgia's DDOS came from US sources\"</td>\n",
              "      <td>b'Russian convoy heads into Georgia, violating...</td>\n",
              "      <td>b'Israeli defence minister: US against strike ...</td>\n",
              "      <td>b'Gorbachev: We Had No Choice'</td>\n",
              "      <td>b'Witness: Russian forces head towards Tbilisi...</td>\n",
              "      <td>b' Quarter of Russians blame U.S. for conflict...</td>\n",
              "      <td>b'Georgian president  says US military will ta...</td>\n",
              "      <td>b'2006: Nobel laureate Aleksander Solzhenitsyn...</td>\n",
              "    </tr>\n",
              "    <tr>\n",
              "      <th>2008-08-14</th>\n",
              "      <td>1</td>\n",
              "      <td>b'All the experts admit that we should legalis...</td>\n",
              "      <td>b'War in South Osetia - 89 pictures made by a ...</td>\n",
              "      <td>b'Swedish wrestler Ara Abrahamian throws away ...</td>\n",
              "      <td>b'Russia exaggerated the death toll in South O...</td>\n",
              "      <td>b'Missile That Killed 9 Inside Pakistan May Ha...</td>\n",
              "      <td>b\"Rushdie Condemns Random House's Refusal to P...</td>\n",
              "      <td>b'Poland and US agree to missle defense deal. ...</td>\n",
              "      <td>b'Will the Russians conquer Tblisi? Bet on it,...</td>\n",
              "      <td>b'Russia exaggerating South Ossetian death tol...</td>\n",
              "      <td>b' Musharraf expected to resign rather than fa...</td>\n",
              "      <td>b'Moscow Made Plans Months Ago to Invade Georgia'</td>\n",
              "      <td>b'Why Russias response to Georgia was right'</td>\n",
              "      <td>b'Nigeria has handed over the potentially oil-...</td>\n",
              "      <td>b'The US and Poland have agreed a preliminary ...</td>\n",
              "      <td>b'Russia apparently is sabotaging infrastructu...</td>\n",
              "      <td>b'Bank analyst forecast Georgian crisis 2 days...</td>\n",
              "      <td>b\"Georgia confict could set back Russia's US r...</td>\n",
              "      <td>b'War in the Caucasus is as much the product o...</td>\n",
              "      <td>b'\"Non-media\" photos of South Ossetia/Georgia ...</td>\n",
              "      <td>b'Georgian TV reporter shot by Russian sniper ...</td>\n",
              "      <td>b'Saudi Arabia: Mother moves to block child ma...</td>\n",
              "      <td>b'Taliban wages war on humanitarian aid workers'</td>\n",
              "      <td>b'Russia: World  \"can forget about\" Georgia\\'s...</td>\n",
              "      <td>b'Darfur rebels accuse Sudan of mounting major...</td>\n",
              "      <td>b'Philippines : Peace Advocate say Muslims nee...</td>\n",
              "    </tr>\n",
              "  </tbody>\n",
              "</table>\n",
              "</div>"
            ],
            "text/plain": [
              "            Label  ...                                              Top25\n",
              "Date               ...                                                   \n",
              "2008-08-08      0  ...           b\"No Help for Mexico's Kidnapping Surge\"\n",
              "2008-08-11      1  ...  b\"So this is what it's come to: trading sex fo...\n",
              "2008-08-12      0  ...  b\"BBC NEWS | Asia-Pacific | Extinction 'by man...\n",
              "2008-08-13      0  ...  b'2006: Nobel laureate Aleksander Solzhenitsyn...\n",
              "2008-08-14      1  ...  b'Philippines : Peace Advocate say Muslims nee...\n",
              "\n",
              "[5 rows x 26 columns]"
            ]
          },
          "metadata": {
            "tags": []
          },
          "execution_count": 11
        }
      ]
    },
    {
      "cell_type": "code",
      "metadata": {
        "id": "wotqIbyyxsrz"
      },
      "source": [
        "# Find the cells with NaN and after the rows for them\n",
        "is_NaN = df_combined.isnull()\n",
        "row_has_NaN = is_NaN.any(axis = 1)\n",
        "rows_with_NaN = df_combined[row_has_NaN]\n",
        "\n",
        "# Replace them\n",
        "df_combined = df_combined.replace(np.nan, \" \")\n",
        "\n",
        "# Check the process\n",
        "is_NaN = df_combined.isnull()\n",
        "row_has_NaN = is_NaN.any(axis = 1)\n",
        "rows_with_NaN = df_combined[row_has_NaN]\n",
        "\n",
        "assert len(rows_with_NaN) is 0"
      ],
      "execution_count": 12,
      "outputs": []
    },
    {
      "cell_type": "code",
      "metadata": {
        "colab": {
          "base_uri": "https://localhost:8080/"
        },
        "id": "E0laCgraz7cw",
        "outputId": "2a35b3ef-d91d-4c71-ad41-29a8395d2eac"
      },
      "source": [
        "# correct the wrong labels in the dataset\n",
        "\n",
        "# Load the stock data\n",
        "df_stock = web.DataReader(\"DJIA\", data_source=\"yahoo\", start=\"2008-08-08\", \n",
        "                          end=\"2016-07-01\")\n",
        "\n",
        "temp_day = []\n",
        "\n",
        "for day in range(len(df_stock)):\n",
        "    temp_day.append(df_stock.index[day].date())\n",
        "\n",
        "df_stock.index = temp_day\n",
        "\n",
        "difference = []\n",
        "\n",
        "if len(df_combined) == len(df_stock):\n",
        "    print(\"The lengths are the same!\")\n",
        "\n",
        "for day in range(max(len(df_combined), len(df_stock))):\n",
        "    if str(df_combined.index[day]) != str(df_stock.index[day]):\n",
        "        print(\"There is difference at: \" + str(day) + \" index\")\n",
        "        print(\"News: \" + str(df_combined.index[day]) + \"\\tStock: \" + str(df_stock.index[day]))\n",
        "        difference.append(day)\n",
        "\n",
        "if len(difference) is 0:\n",
        "    print(\"The dates matched!\")\n",
        "\n",
        "    difference = []\n",
        "\n",
        "for day in range(len(df_stock)):\n",
        "    # label should be 1 -> rise\n",
        "    if int(df_stock[\"Adj Close\"][day]) >= int(df_stock[\"Adj Close\"][day - 1]):\n",
        "        if df_combined[\"Label\"][day] != 1:\n",
        "            difference.append(str(df_stock.index[day]))\n",
        "            print(\"Problem at day \" + str(df_stock.index[day]))\n",
        "            print(\"Today: \" + str(df_stock[\"Adj Close\"][day]) +\"\\t\\tYesterday: \" + str(df_stock[\"Adj Close\"][day - 1]) + \"\\t\\tLabel: \" + str(df_combined[\"Label\"][day]) + \"\\n\")\n",
        "\n",
        "    # label should be 0 -> fall\n",
        "    if int(df_stock[\"Adj Close\"][day]) < int(df_stock[\"Adj Close\"][day - 1]):\n",
        "        if df_combined[\"Label\"][day] != 0:\n",
        "            difference.append(str(df_stock.index[day]))\n",
        "            print(\"Problem at day \" + str(df_stock.index[day]))\n",
        "            print(\"Today: \" + str(df_stock[\"Adj Close\"][day]) +\"\\t\\tYesterday: \" + str(df_stock[\"Adj Close\"][day - 1]) + \"\\t\\tLabel: \" + str(df_combined[\"Label\"][day]) + \"\\n\")\n",
        "\n",
        "print(\"All differences: \" + str(len(difference))) \n",
        "\n",
        "# correct the wrong labels\n",
        "for row in difference:\n",
        "    if df_combined.loc[row, \"Label\"] == 0:\n",
        "        df_combined.loc[row, \"Label\"] = 1\n",
        "    else:\n",
        "        df_combined.loc[row, \"Label\"] = 0\n",
        "\n",
        "# check them\n",
        "for row in difference:\n",
        "    print(str(row) + \"\\t\\t\" + str(df_combined.loc[row, \"Label\"]))"
      ],
      "execution_count": 13,
      "outputs": [
        {
          "output_type": "stream",
          "text": [
            "The lengths are the same!\n",
            "The dates matched!\n",
            "Problem at day 2010-10-14\n",
            "Today: 11096.919921875\t\tYesterday: 11096.080078125\t\tLabel: 0\n",
            "\n",
            "Problem at day 2012-11-12\n",
            "Today: 12815.080078125\t\tYesterday: 12815.3896484375\t\tLabel: 0\n",
            "\n",
            "Problem at day 2012-11-15\n",
            "Today: 12570.9501953125\t\tYesterday: 12570.9501953125\t\tLabel: 0\n",
            "\n",
            "Problem at day 2013-04-12\n",
            "Today: 14865.0595703125\t\tYesterday: 14865.1396484375\t\tLabel: 0\n",
            "\n",
            "Problem at day 2014-04-24\n",
            "Today: 16501.650390625\t\tYesterday: 16501.650390625\t\tLabel: 0\n",
            "\n",
            "Problem at day 2015-08-12\n",
            "Today: 17402.509765625\t\tYesterday: 17402.83984375\t\tLabel: 0\n",
            "\n",
            "Problem at day 2015-11-27\n",
            "Today: 17813.390625\t\tYesterday: 17813.390625\t\tLabel: 0\n",
            "\n",
            "All differences: 7\n",
            "2010-10-14\t\t1\n",
            "2012-11-12\t\t1\n",
            "2012-11-15\t\t1\n",
            "2013-04-12\t\t1\n",
            "2014-04-24\t\t1\n",
            "2015-08-12\t\t1\n",
            "2015-11-27\t\t1\n"
          ],
          "name": "stdout"
        }
      ]
    },
    {
      "cell_type": "code",
      "metadata": {
        "id": "S1jRL2PasVkT"
      },
      "source": [
        "# the last 10 day save out for testing and comparing the models\n",
        "df_for_test = df_combined.tail(10)\n",
        "df_combined.drop(df_combined.tail(10).index,inplace=True) # drop last n rows"
      ],
      "execution_count": 14,
      "outputs": []
    },
    {
      "cell_type": "code",
      "metadata": {
        "colab": {
          "base_uri": "https://localhost:8080/",
          "height": 1000
        },
        "id": "iFSvFU3RsUgM",
        "outputId": "03f3bc38-73bd-4ea1-cf3f-896949c6024c"
      },
      "source": [
        "df_for_test"
      ],
      "execution_count": 15,
      "outputs": [
        {
          "output_type": "execute_result",
          "data": {
            "text/html": [
              "<div>\n",
              "<style scoped>\n",
              "    .dataframe tbody tr th:only-of-type {\n",
              "        vertical-align: middle;\n",
              "    }\n",
              "\n",
              "    .dataframe tbody tr th {\n",
              "        vertical-align: top;\n",
              "    }\n",
              "\n",
              "    .dataframe thead th {\n",
              "        text-align: right;\n",
              "    }\n",
              "</style>\n",
              "<table border=\"1\" class=\"dataframe\">\n",
              "  <thead>\n",
              "    <tr style=\"text-align: right;\">\n",
              "      <th></th>\n",
              "      <th>Label</th>\n",
              "      <th>Top1</th>\n",
              "      <th>Top2</th>\n",
              "      <th>Top3</th>\n",
              "      <th>Top4</th>\n",
              "      <th>Top5</th>\n",
              "      <th>Top6</th>\n",
              "      <th>Top7</th>\n",
              "      <th>Top8</th>\n",
              "      <th>Top9</th>\n",
              "      <th>Top10</th>\n",
              "      <th>Top11</th>\n",
              "      <th>Top12</th>\n",
              "      <th>Top13</th>\n",
              "      <th>Top14</th>\n",
              "      <th>Top15</th>\n",
              "      <th>Top16</th>\n",
              "      <th>Top17</th>\n",
              "      <th>Top18</th>\n",
              "      <th>Top19</th>\n",
              "      <th>Top20</th>\n",
              "      <th>Top21</th>\n",
              "      <th>Top22</th>\n",
              "      <th>Top23</th>\n",
              "      <th>Top24</th>\n",
              "      <th>Top25</th>\n",
              "    </tr>\n",
              "    <tr>\n",
              "      <th>Date</th>\n",
              "      <th></th>\n",
              "      <th></th>\n",
              "      <th></th>\n",
              "      <th></th>\n",
              "      <th></th>\n",
              "      <th></th>\n",
              "      <th></th>\n",
              "      <th></th>\n",
              "      <th></th>\n",
              "      <th></th>\n",
              "      <th></th>\n",
              "      <th></th>\n",
              "      <th></th>\n",
              "      <th></th>\n",
              "      <th></th>\n",
              "      <th></th>\n",
              "      <th></th>\n",
              "      <th></th>\n",
              "      <th></th>\n",
              "      <th></th>\n",
              "      <th></th>\n",
              "      <th></th>\n",
              "      <th></th>\n",
              "      <th></th>\n",
              "      <th></th>\n",
              "      <th></th>\n",
              "    </tr>\n",
              "  </thead>\n",
              "  <tbody>\n",
              "    <tr>\n",
              "      <th>2016-06-20</th>\n",
              "      <td>1</td>\n",
              "      <td>A staggering 87 percent of Venezuelans say the...</td>\n",
              "      <td>Two corporate whistleblowers may enter into pl...</td>\n",
              "      <td>Poland, together with Russia, Iran, and severa...</td>\n",
              "      <td>Three environmental activists were killed per ...</td>\n",
              "      <td>Ontario funeral business dissolves the dead, p...</td>\n",
              "      <td>New Declassified Documents Reveal How CIA Abus...</td>\n",
              "      <td>Tens of thousands of people gathered in swelte...</td>\n",
              "      <td>Japan's dementia crisis hits record levels as ...</td>\n",
              "      <td>Icelands Hekla volcano, a very popular tourist...</td>\n",
              "      <td>Corbyn pledges to kill TTIP if elected</td>\n",
              "      <td>Venezuelans Ransack Stores as Hunger Grips the...</td>\n",
              "      <td>Rome elects first female mayor</td>\n",
              "      <td>Saudi Arabia and Kuwait angry about Hillary Cl...</td>\n",
              "      <td>Professor Dismissed for Insulting Turkey's Pre...</td>\n",
              "      <td>Russian soldier dies in Syria after preventing...</td>\n",
              "      <td>Three dead, 45 injured as labor union clashes ...</td>\n",
              "      <td>Indonesia vows to stand firm after skirmishes ...</td>\n",
              "      <td>A study of ocean plankton has shown that an in...</td>\n",
              "      <td>Australia taxes foreign home buyers as afforda...</td>\n",
              "      <td>Paris isn't happy about Amazon's one-hour deli...</td>\n",
              "      <td>Australian man pleads guilty to making sexual ...</td>\n",
              "      <td>Trudeau condemns killing of 14 Canadian Embass...</td>\n",
              "      <td>Vladimir Putin is considering selling part of ...</td>\n",
              "      <td>An elephant has survived being shot in the hea...</td>\n",
              "      <td>Wikileaks founder Julian Assange marks 5 years...</td>\n",
              "    </tr>\n",
              "    <tr>\n",
              "      <th>2016-06-21</th>\n",
              "      <td>1</td>\n",
              "      <td>An Australian athlete who has competed in six ...</td>\n",
              "      <td>Russian state television accidentally broadcas...</td>\n",
              "      <td>In 2015, 50 environmentalists were killed in B...</td>\n",
              "      <td>China's plan to cut meat consumption by 50% ch...</td>\n",
              "      <td>Coral bleaching event now biggest in history  ...</td>\n",
              "      <td>Super-rich quaff champagne in Venezuela countr...</td>\n",
              "      <td>Hong Kong bookseller refuses to be silenced af...</td>\n",
              "      <td>Chinese prosecutors have successfully sued a c...</td>\n",
              "      <td>A London-based advocacy group says it has docu...</td>\n",
              "      <td>Erdogan loses appeal against German media boss</td>\n",
              "      <td>Chinese supercomputer is the world's fastest  ...</td>\n",
              "      <td>7-Eleven operator handed record penalty of mor...</td>\n",
              "      <td>A Honduran military unit trained by US was ord...</td>\n",
              "      <td>African Union plans to introduce single passpo...</td>\n",
              "      <td>More refugees became citizens of Canada than a...</td>\n",
              "      <td>Turkey charges Reporters Without Borders press...</td>\n",
              "      <td>Brussels: Bomb alert at shopping centre sparks...</td>\n",
              "      <td>Australian Paralympian Liesl Tesch robbed at g...</td>\n",
              "      <td>China issues orders to demolish Buddhist 'town...</td>\n",
              "      <td>Gazans squeezed by triple taxes as Hamas repla...</td>\n",
              "      <td>US and Russian fighters in dramatic showdown o...</td>\n",
              "      <td>Rising Tide of 'Politically Acceptable' Killin...</td>\n",
              "      <td>Mexico teachers protest: Six people are dead a...</td>\n",
              "      <td>Canada is set to launch a paid whistleblower p...</td>\n",
              "      <td>Russian football fan leader Alexander Shprygin...</td>\n",
              "    </tr>\n",
              "    <tr>\n",
              "      <th>2016-06-22</th>\n",
              "      <td>0</td>\n",
              "      <td>German government agrees to ban fracking indef...</td>\n",
              "      <td>Teenage recruits were raped by staff and force...</td>\n",
              "      <td>Pakistan is selling nuclear materials to N Kor...</td>\n",
              "      <td>Amazon jaguar shot dead at Olympic torch ceremony</td>\n",
              "      <td>Mexican flags raised around Donald Trump's gol...</td>\n",
              "      <td>EU smashes 2020 emissions target six years ear...</td>\n",
              "      <td>Police kill eight striking Mexican teachers as...</td>\n",
              "      <td>Pro-choice activists have delivered abortion p...</td>\n",
              "      <td>A French football fan shoved an 18cm-long flar...</td>\n",
              "      <td>Indian space agency ISRO launches 20 satellite...</td>\n",
              "      <td>Japanese power company TEPCO admits it lied ab...</td>\n",
              "      <td>Murdoch's News Corp buys 72 regional newspaper...</td>\n",
              "      <td>\"Europe's growing army of robot workers could ...</td>\n",
              "      <td>Intel Fights Record $1.2 Billion Antitrust Fin...</td>\n",
              "      <td>Russian security service conducts raids on Chu...</td>\n",
              "      <td>Turkish students and graduates from 370 school...</td>\n",
              "      <td>Japan Election Campaign Kicks off, Voting Age ...</td>\n",
              "      <td>Moscow has signed an agreement with Los Angele...</td>\n",
              "      <td>TEPCO admits meltdown cover-up - The president...</td>\n",
              "      <td>Indian State Grants Jews Minority Status - Ind...</td>\n",
              "      <td>Canadian Rescue Plane successfully reaches Sou...</td>\n",
              "      <td>The Swedish parliament on Tuesday voted in fav...</td>\n",
              "      <td>French police teargas migrants trying to board...</td>\n",
              "      <td>Qawwali musician Amjad Sabri was shot dead in ...</td>\n",
              "      <td>N. Korea launches what appears to be Musudan m...</td>\n",
              "    </tr>\n",
              "    <tr>\n",
              "      <th>2016-06-23</th>\n",
              "      <td>1</td>\n",
              "      <td>Today The United Kingdom decides whether to re...</td>\n",
              "      <td>E-cigarettes should not be banned in public, m...</td>\n",
              "      <td>Report: China is still harvesting organs from ...</td>\n",
              "      <td>Man opens fire at cinema complex in Germany, s...</td>\n",
              "      <td>Erdoan: Europe, you dont want us because were ...</td>\n",
              "      <td>Asian millionaires now control more wealth tha...</td>\n",
              "      <td>A Japanese porn industry association has apolo...</td>\n",
              "      <td>University students are being warned when clas...</td>\n",
              "      <td>Afghan interpreters 'betrayed' by UK and US</td>\n",
              "      <td>Contagious cancer cells are spreading between ...</td>\n",
              "      <td>51 Killed in China by Powerful Tornado</td>\n",
              "      <td>Teacher Killings Ignite Calls for Revolution i...</td>\n",
              "      <td>Solar plane lands in Spain after three-day Atl...</td>\n",
              "      <td>Brexit supporters urged to take own pens to po...</td>\n",
              "      <td>Cities forge world's largest alliance to curb ...</td>\n",
              "      <td>Colombia, FARC announce full ceasefire, 'last ...</td>\n",
              "      <td>Gunmen kill Sufi devotional singer Amjad Sabri...</td>\n",
              "      <td>India launches 20 satellites in single mission</td>\n",
              "      <td>F-16s to be manufactured soon in an assembly l...</td>\n",
              "      <td>Australia's gun laws stopped mass shootings an...</td>\n",
              "      <td>French cement company in Syria buys oil from I...</td>\n",
              "      <td>Pope to visit Armenia after irking Turkey with...</td>\n",
              "      <td>Merkel says NATO must be strengthened</td>\n",
              "      <td>China cracks down on online comments, click-ba...</td>\n",
              "      <td>The prime minister of India is set to get a br...</td>\n",
              "    </tr>\n",
              "    <tr>\n",
              "      <th>2016-06-24</th>\n",
              "      <td>0</td>\n",
              "      <td>David Cameron to Resign as PM After EU Referendum</td>\n",
              "      <td>BBC forecasts UK votes to Leave the European U...</td>\n",
              "      <td>Nicola Sturgeon says a second independence ref...</td>\n",
              "      <td>It's official. Britain votes to leave the Euro...</td>\n",
              "      <td>World's Largest Tibetan Buddhist Institute Ord...</td>\n",
              "      <td>Not a single place in Scotland voted to leave ...</td>\n",
              "      <td>Rich Getting Richer at the Expense of the Poor...</td>\n",
              "      <td>Spanish minister calls for Gibraltar to be ret...</td>\n",
              "      <td>British Pound drops nearly 5% in minutes follo...</td>\n",
              "      <td>J.K. Rowling leads the charge for Scottish ind...</td>\n",
              "      <td>Buenos Aires zoo to close after 140 years: 'Ca...</td>\n",
              "      <td>Northern Ireland's Deputy First Minister calls...</td>\n",
              "      <td>Polls close | Brexit polling day as it happened</td>\n",
              "      <td>Brexit: Petition for second EU referendum so p...</td>\n",
              "      <td>North Korea printing massive amounts of fake C...</td>\n",
              "      <td>Sinn Fein calls for a referendum on Irish reun...</td>\n",
              "      <td>$70 billion wiped off the Australian sharemark...</td>\n",
              "      <td>Nigel Farage disowns Vote Leave '350m for the ...</td>\n",
              "      <td>Top EU leader: we want Britain out as soon as ...</td>\n",
              "      <td>Nigel Farage: 350 million pledge to fund the N...</td>\n",
              "      <td>Thousands of London banking job cuts to start ...</td>\n",
              "      <td>Google says there was a large spike in searche...</td>\n",
              "      <td>EU referendum; Gibraltar backs Remain with 94%...</td>\n",
              "      <td>After Brexit, U.K. Residents Google 'What Is T...</td>\n",
              "      <td>A Turkish man has been found guilty of insulti...</td>\n",
              "    </tr>\n",
              "    <tr>\n",
              "      <th>2016-06-27</th>\n",
              "      <td>0</td>\n",
              "      <td>Barclays and RBS shares suspended from trading...</td>\n",
              "      <td>Pope says Church should ask forgiveness from g...</td>\n",
              "      <td>Poland 'shocked' by xenophobic abuse of Poles ...</td>\n",
              "      <td>There will be no second referendum, cabinet ag...</td>\n",
              "      <td>Scotland welcome to join EU, Merkel ally says</td>\n",
              "      <td>Sterling dips below Friday's 31-year low amid ...</td>\n",
              "      <td>No negative news about South African President...</td>\n",
              "      <td>Surge in Hate Crimes in the U.K. Following U.K...</td>\n",
              "      <td>Weapons shipped into Jordan by the CIA and Sau...</td>\n",
              "      <td>Angela Merkel said the U.K. must file exit pap...</td>\n",
              "      <td>In a birth offering hope to a threatened speci...</td>\n",
              "      <td>Sky News Journalist Left Speechless As Leave M...</td>\n",
              "      <td>Giant panda in Macau gives birth to twins</td>\n",
              "      <td>Get out now: EU leader tells Britain it must i...</td>\n",
              "      <td>Sea turtle 'beaten and left for dead' on beach...</td>\n",
              "      <td>German lawyers to probe Erdogan over alleged w...</td>\n",
              "      <td>Boris Johnson says the UK will continue to \"in...</td>\n",
              "      <td>Richard Branson is calling on the UK governmen...</td>\n",
              "      <td>Turkey 'sorry for downing Russian jet'</td>\n",
              "      <td>Edward Snowden lawyer vows new push for pardon...</td>\n",
              "      <td>Brexit opinion poll reveals majority don't wan...</td>\n",
              "      <td>Conservative MP Leave Campaigner: \"The leave c...</td>\n",
              "      <td>Economists predict UK recession, further weake...</td>\n",
              "      <td>New EU 'superstate plan by France, Germany: Cr...</td>\n",
              "      <td>Pakistani clerics declare transgender marriage...</td>\n",
              "    </tr>\n",
              "    <tr>\n",
              "      <th>2016-06-28</th>\n",
              "      <td>1</td>\n",
              "      <td>2,500 Scientists To Australia: If You Want To ...</td>\n",
              "      <td>The personal details of 112,000 French police ...</td>\n",
              "      <td>S&amp;amp;P cuts United Kingdom sovereign credit r...</td>\n",
              "      <td>Huge helium deposit found in Africa</td>\n",
              "      <td>CEO of the South African state broadcaster qui...</td>\n",
              "      <td>Brexit cost investors $2 trillion, the worst o...</td>\n",
              "      <td>Hong Kong democracy activists call for return ...</td>\n",
              "      <td>Brexit: Iceland president says UK can join 'tr...</td>\n",
              "      <td>UK's Osborne: 'Absolutely' going to have to cu...</td>\n",
              "      <td>'Do not let Scotland down now' : Scottish MEP ...</td>\n",
              "      <td>British pound could hit history-making dollar ...</td>\n",
              "      <td>Merkel vows to strengthen EU, tells UK no 'che...</td>\n",
              "      <td>\"Ryanair will not deploy new aircraft on route...</td>\n",
              "      <td>People, ever more greedy and stupid, destroy t...</td>\n",
              "      <td>Siemens freezes new UK wind power investment f...</td>\n",
              "      <td>US, Canada and Mexico pledge 50% of power from...</td>\n",
              "      <td>There is increasing evidence that Australia is...</td>\n",
              "      <td>Richard Branson, the founder of Virgin Group, ...</td>\n",
              "      <td>37,000-yr-old skull from Borneo reveals surpri...</td>\n",
              "      <td>Palestinians stone Western Wall worshipers; po...</td>\n",
              "      <td>Jean-Claude Juncker asks Farage: Why are you h...</td>\n",
              "      <td>\"Romanians for Remainians\" offering a new home...</td>\n",
              "      <td>Brexit: Gibraltar in talks with Scotland to st...</td>\n",
              "      <td>8 Suicide Bombers Strike Lebanon</td>\n",
              "      <td>Mexico's security forces routinely use 'sexual...</td>\n",
              "    </tr>\n",
              "    <tr>\n",
              "      <th>2016-06-29</th>\n",
              "      <td>1</td>\n",
              "      <td>Explosion At Airport In Istanbul</td>\n",
              "      <td>Yemeni former president: Terrorism is the offs...</td>\n",
              "      <td>UK must accept freedom of movement to access E...</td>\n",
              "      <td>Devastated: scientists too late to captive bre...</td>\n",
              "      <td>British Labor Party leader Jeremy Corbyn loses...</td>\n",
              "      <td>A Muslim Shop in the UK Was Just Firebombed Wh...</td>\n",
              "      <td>Mexican Authorities Sexually Torture Women in ...</td>\n",
              "      <td>UK shares and pound continue to recover</td>\n",
              "      <td>Iceland historian Johannesson wins presidentia...</td>\n",
              "      <td>99-Million-Yr-Old Bird Wings Found Encased in ...</td>\n",
              "      <td>A chatbot programmed by a British teenager has...</td>\n",
              "      <td>The Philippine president-elect said Monday he ...</td>\n",
              "      <td>Former Belgian Prime Minister ridicules Nigel ...</td>\n",
              "      <td>Brexiteer Nigel Farage To EU: 'You're Not Laug...</td>\n",
              "      <td>Islamic State bombings in southern Yemen kill ...</td>\n",
              "      <td>Escape Tunnel, Dug by Hand, Is Found at Holoca...</td>\n",
              "      <td>The land under Beijing is sinking by as much a...</td>\n",
              "      <td>Car bomb and Anti-Islamic attack on Mosque in ...</td>\n",
              "      <td>Emaciated lions in Taiz Zoo are trapped in blo...</td>\n",
              "      <td>Rupert Murdoch describes Brexit as 'wonderful'...</td>\n",
              "      <td>More than 40 killed in Yemen suicide attacks</td>\n",
              "      <td>Google Found Disastrous Symantec and Norton Vu...</td>\n",
              "      <td>Extremist violence on the rise in Germany: Dom...</td>\n",
              "      <td>BBC News: Labour MPs pass Corbyn no-confidence...</td>\n",
              "      <td>Tiny New Zealand town with 'too many jobs' lau...</td>\n",
              "    </tr>\n",
              "    <tr>\n",
              "      <th>2016-06-30</th>\n",
              "      <td>1</td>\n",
              "      <td>Jamaica proposes marijuana dispensers for tour...</td>\n",
              "      <td>Stephen Hawking says pollution and 'stupidity'...</td>\n",
              "      <td>Boris Johnson says he will not run for Tory pa...</td>\n",
              "      <td>Six gay men in Ivory Coast were abused and for...</td>\n",
              "      <td>Switzerland denies citizenship to Muslim immig...</td>\n",
              "      <td>Palestinian terrorist stabs israeli teen girl ...</td>\n",
              "      <td>Puerto Rico will default on $1 billion of debt...</td>\n",
              "      <td>Republic of Ireland fans to be awarded medal f...</td>\n",
              "      <td>Afghan suicide bomber 'kills up to 40' - BBC News</td>\n",
              "      <td>US airstrikes kill at least 250 ISIS fighters ...</td>\n",
              "      <td>Turkish Cop Who Took Down Istanbul Gunman Hail...</td>\n",
              "      <td>Cannabis compounds could treat Alzheimer's by ...</td>\n",
              "      <td>Japan's top court has approved blanket surveil...</td>\n",
              "      <td>CIA Gave Romania Millions to Host Secret Prisons</td>\n",
              "      <td>Groups urge U.N. to suspend Saudi Arabia from ...</td>\n",
              "      <td>Googles free wifi at Indian railway stations i...</td>\n",
              "      <td>Mounting evidence suggests 'hobbits' were wipe...</td>\n",
              "      <td>The men who carried out Tuesday's terror attac...</td>\n",
              "      <td>Calls to suspend Saudi Arabia from UN Human Ri...</td>\n",
              "      <td>More Than 100 Nobel Laureates Call Out Greenpe...</td>\n",
              "      <td>British pedophile sentenced to 85 years in US ...</td>\n",
              "      <td>US permitted 1,200 offshore fracks in Gulf of ...</td>\n",
              "      <td>We will be swimming in ridicule - French beach...</td>\n",
              "      <td>UEFA says no minutes of silence for Istanbul v...</td>\n",
              "      <td>Law Enforcement Sources: Gun Used in Paris Ter...</td>\n",
              "    </tr>\n",
              "    <tr>\n",
              "      <th>2016-07-01</th>\n",
              "      <td>1</td>\n",
              "      <td>A 117-year-old woman in Mexico City finally re...</td>\n",
              "      <td>IMF chief backs Athens as permanent Olympic host</td>\n",
              "      <td>The president of France says if Brexit won, so...</td>\n",
              "      <td>British Man Who Must Give Police 24 Hours' Not...</td>\n",
              "      <td>100+ Nobel laureates urge Greenpeace to stop o...</td>\n",
              "      <td>Brazil: Huge spike in number of police killing...</td>\n",
              "      <td>Austria's highest court annuls presidential el...</td>\n",
              "      <td>Facebook wins privacy case, can track any Belg...</td>\n",
              "      <td>Switzerland denies Muslim girls citizenship af...</td>\n",
              "      <td>China kills millions of innocent meditators fo...</td>\n",
              "      <td>France Cracks Down on Factory Farms - A viral ...</td>\n",
              "      <td>Abbas PLO Faction Calls Killer of 13-Year-Old ...</td>\n",
              "      <td>Taiwanese warship accidentally fires missile t...</td>\n",
              "      <td>Iran celebrates American Human Rights Week, mo...</td>\n",
              "      <td>U.N. panel moves to curb bias against L.G.B.T....</td>\n",
              "      <td>The United States has placed Myanmar, Uzbekist...</td>\n",
              "      <td>S&amp;amp;P revises European Union credit rating t...</td>\n",
              "      <td>India gets $1 billion loan from World Bank for...</td>\n",
              "      <td>U.S. sailors detained by Iran spoke too much u...</td>\n",
              "      <td>Mass fish kill in Vietnam solved as Taiwan ste...</td>\n",
              "      <td>Philippines president Rodrigo Duterte urges pe...</td>\n",
              "      <td>Spain arrests three Pakistanis accused of prom...</td>\n",
              "      <td>Venezuela, where anger over food shortages is ...</td>\n",
              "      <td>A Hindu temple worker has been killed by three...</td>\n",
              "      <td>Ozone layer hole seems to be healing - US &amp;amp...</td>\n",
              "    </tr>\n",
              "  </tbody>\n",
              "</table>\n",
              "</div>"
            ],
            "text/plain": [
              "            Label  ...                                              Top25\n",
              "Date               ...                                                   \n",
              "2016-06-20      1  ...  Wikileaks founder Julian Assange marks 5 years...\n",
              "2016-06-21      1  ...  Russian football fan leader Alexander Shprygin...\n",
              "2016-06-22      0  ...  N. Korea launches what appears to be Musudan m...\n",
              "2016-06-23      1  ...  The prime minister of India is set to get a br...\n",
              "2016-06-24      0  ...  A Turkish man has been found guilty of insulti...\n",
              "2016-06-27      0  ...  Pakistani clerics declare transgender marriage...\n",
              "2016-06-28      1  ...  Mexico's security forces routinely use 'sexual...\n",
              "2016-06-29      1  ...  Tiny New Zealand town with 'too many jobs' lau...\n",
              "2016-06-30      1  ...  Law Enforcement Sources: Gun Used in Paris Ter...\n",
              "2016-07-01      1  ...  Ozone layer hole seems to be healing - US &amp...\n",
              "\n",
              "[10 rows x 26 columns]"
            ]
          },
          "metadata": {
            "tags": []
          },
          "execution_count": 15
        }
      ]
    },
    {
      "cell_type": "code",
      "metadata": {
        "colab": {
          "base_uri": "https://localhost:8080/",
          "height": 697
        },
        "id": "ECRy_XVEyEkg",
        "outputId": "861d2ca9-d24d-4f10-a738-5b3f67f61e16"
      },
      "source": [
        "# combine the news and remove the 'b' char at the beginning\n",
        "# no other preprocess, the tokenizer will take care of it\n",
        "\n",
        "# Get column names\n",
        "combined_column_names = []\n",
        "for column in df_combined.columns:\n",
        "  combined_column_names.append(column)\n",
        "\n",
        "# 2D array creation for the news based on macros\n",
        "COLUMNS = len(df_combined)\n",
        "news_sum = [[0 for i in range(COLUMNS)] for j in range(int((len(combined_column_names) - 1) / ROWS))]  \n",
        "\n",
        "# Merge the news\n",
        "for row in range(len(df_combined)):\n",
        "  for column in range(int((len(combined_column_names) - 1) / ROWS)):\n",
        "    temp = \"\"\n",
        "    news = \"\"\n",
        "    for word in range(ROWS):\n",
        "      news = df_combined[combined_column_names[(column * ROWS) + (word + 1)]][row]\n",
        "      # Remove the b character at the begining of the string\n",
        "      if news[0] is \"b\":\n",
        "        news = \" \" + news[1:]\n",
        "      temp = temp + news\n",
        "    news_sum[column][row] = temp\n",
        "\n",
        "# Drop the old columns\n",
        "for column in range(len(combined_column_names) - 1):\n",
        "  df_combined.drop(combined_column_names[column + 1], axis = 1, inplace = True)\n",
        "\n",
        "# Create the new columns with the merged news\n",
        "for column in range(int((len(combined_column_names) - 1) / ROWS)):\n",
        "  colum_name = \"News_\" + str(column + 1)\n",
        "  df_combined[colum_name] = news_sum[column]\n",
        "\n",
        "# Show the DataFrame\n",
        "df_combined.head()"
      ],
      "execution_count": 16,
      "outputs": [
        {
          "output_type": "execute_result",
          "data": {
            "text/html": [
              "<div>\n",
              "<style scoped>\n",
              "    .dataframe tbody tr th:only-of-type {\n",
              "        vertical-align: middle;\n",
              "    }\n",
              "\n",
              "    .dataframe tbody tr th {\n",
              "        vertical-align: top;\n",
              "    }\n",
              "\n",
              "    .dataframe thead th {\n",
              "        text-align: right;\n",
              "    }\n",
              "</style>\n",
              "<table border=\"1\" class=\"dataframe\">\n",
              "  <thead>\n",
              "    <tr style=\"text-align: right;\">\n",
              "      <th></th>\n",
              "      <th>Label</th>\n",
              "      <th>News_1</th>\n",
              "      <th>News_2</th>\n",
              "      <th>News_3</th>\n",
              "      <th>News_4</th>\n",
              "      <th>News_5</th>\n",
              "      <th>News_6</th>\n",
              "      <th>News_7</th>\n",
              "      <th>News_8</th>\n",
              "      <th>News_9</th>\n",
              "      <th>News_10</th>\n",
              "      <th>News_11</th>\n",
              "      <th>News_12</th>\n",
              "      <th>News_13</th>\n",
              "      <th>News_14</th>\n",
              "      <th>News_15</th>\n",
              "      <th>News_16</th>\n",
              "      <th>News_17</th>\n",
              "      <th>News_18</th>\n",
              "      <th>News_19</th>\n",
              "      <th>News_20</th>\n",
              "      <th>News_21</th>\n",
              "      <th>News_22</th>\n",
              "      <th>News_23</th>\n",
              "      <th>News_24</th>\n",
              "      <th>News_25</th>\n",
              "    </tr>\n",
              "    <tr>\n",
              "      <th>Date</th>\n",
              "      <th></th>\n",
              "      <th></th>\n",
              "      <th></th>\n",
              "      <th></th>\n",
              "      <th></th>\n",
              "      <th></th>\n",
              "      <th></th>\n",
              "      <th></th>\n",
              "      <th></th>\n",
              "      <th></th>\n",
              "      <th></th>\n",
              "      <th></th>\n",
              "      <th></th>\n",
              "      <th></th>\n",
              "      <th></th>\n",
              "      <th></th>\n",
              "      <th></th>\n",
              "      <th></th>\n",
              "      <th></th>\n",
              "      <th></th>\n",
              "      <th></th>\n",
              "      <th></th>\n",
              "      <th></th>\n",
              "      <th></th>\n",
              "      <th></th>\n",
              "      <th></th>\n",
              "    </tr>\n",
              "  </thead>\n",
              "  <tbody>\n",
              "    <tr>\n",
              "      <th>2008-08-08</th>\n",
              "      <td>0</td>\n",
              "      <td>\"Georgia 'downs two Russian warplanes' as cou...</td>\n",
              "      <td>'BREAKING: Musharraf to be impeached.'</td>\n",
              "      <td>'Russia Today: Columns of troops roll into So...</td>\n",
              "      <td>'Russian tanks are moving towards the capital...</td>\n",
              "      <td>\"Afghan children raped with 'impunity,' U.N. ...</td>\n",
              "      <td>'150 Russian tanks have entered South Ossetia...</td>\n",
              "      <td>\"Breaking: Georgia invades South Ossetia, Rus...</td>\n",
              "      <td>\"The 'enemy combatent' trials are nothing but...</td>\n",
              "      <td>'Georgian troops retreat from S. Osettain cap...</td>\n",
              "      <td>'Did the U.S. Prep Georgia for War with Russia?'</td>\n",
              "      <td>'Rice Gives Green Light for Israel to Attack ...</td>\n",
              "      <td>'Announcing:Class Action Lawsuit on Behalf of...</td>\n",
              "      <td>\"So---Russia and Georgia are at war and the N...</td>\n",
              "      <td>\"China tells Bush to stay out of other countr...</td>\n",
              "      <td>'Did World War III start today?'</td>\n",
              "      <td>'Georgia Invades South Ossetia - if Russia ge...</td>\n",
              "      <td>'Al-Qaeda Faces Islamist Backlash'</td>\n",
              "      <td>'Condoleezza Rice: \"The US would not act to p...</td>\n",
              "      <td>'This is a busy day:  The European Union has ...</td>\n",
              "      <td>\"Georgia will withdraw 1,000 soldiers from Ir...</td>\n",
              "      <td>'Why the Pentagon Thinks Attacking Iran is a ...</td>\n",
              "      <td>'Caucasus in crisis: Georgia invades South Os...</td>\n",
              "      <td>'Indian shoe manufactory  - And again in a se...</td>\n",
              "      <td>'Visitors Suffering from Mental Illnesses Ban...</td>\n",
              "      <td>\"No Help for Mexico's Kidnapping Surge\"</td>\n",
              "    </tr>\n",
              "    <tr>\n",
              "      <th>2008-08-11</th>\n",
              "      <td>1</td>\n",
              "      <td>'Why wont America and Nato help us? If they w...</td>\n",
              "      <td>'Bush puts foot down on Georgian conflict'</td>\n",
              "      <td>\"Jewish Georgian minister: Thanks to Israeli ...</td>\n",
              "      <td>'Georgian army flees in disarray as Russians ...</td>\n",
              "      <td>\"Olympic opening ceremony fireworks 'faked'\"</td>\n",
              "      <td>'What were the Mossad with fraudulent New Zea...</td>\n",
              "      <td>'Russia angered by Israeli military sale to G...</td>\n",
              "      <td>'An American citizen living in S.Ossetia blam...</td>\n",
              "      <td>'Welcome To World War IV! Now In High Definit...</td>\n",
              "      <td>\"Georgia's move, a mistake of monumental prop...</td>\n",
              "      <td>'Russia presses deeper into Georgia; U.S. say...</td>\n",
              "      <td>'Abhinav Bindra wins first ever Individual Ol...</td>\n",
              "      <td>' U.S. ship heads for Arctic to define territ...</td>\n",
              "      <td>'Drivers in a Jerusalem taxi station threaten...</td>\n",
              "      <td>'The French Team is Stunned by Phelps and the...</td>\n",
              "      <td>'Israel and the US behind the Georgian aggres...</td>\n",
              "      <td>'\"Do not believe TV, neither Russian nor Geor...</td>\n",
              "      <td>'Riots are still going on in Montreal (Canada...</td>\n",
              "      <td>'China to overtake US as largest manufacturer'</td>\n",
              "      <td>'War in South Ossetia [PICS]'</td>\n",
              "      <td>'Israeli Physicians Group Condemns State Tort...</td>\n",
              "      <td>' Russia has just beaten the United States ov...</td>\n",
              "      <td>'Perhaps *the* question about the Georgia - R...</td>\n",
              "      <td>'Russia is so much better at war'</td>\n",
              "      <td>\"So this is what it's come to: trading sex fo...</td>\n",
              "    </tr>\n",
              "    <tr>\n",
              "      <th>2008-08-12</th>\n",
              "      <td>0</td>\n",
              "      <td>'Remember that adorable 9-year-old who sang a...</td>\n",
              "      <td>\"Russia 'ends Georgia operation'\"</td>\n",
              "      <td>'\"If we had no sexual harassment we would hav...</td>\n",
              "      <td>\"Al-Qa'eda is losing support in Iraq because ...</td>\n",
              "      <td>'Ceasefire in Georgia: Putin Outmaneuvers the...</td>\n",
              "      <td>'Why Microsoft and Intel tried to kill the XO...</td>\n",
              "      <td>'Stratfor: The Russo-Georgian War and the Bal...</td>\n",
              "      <td>\"I'm Trying to Get a Sense of This Whole Geor...</td>\n",
              "      <td>\"The US military was surprised by the timing ...</td>\n",
              "      <td>'U.S. Beats War Drum as Iran Dumps the Dollar'</td>\n",
              "      <td>'Gorbachev: \"Georgian military attacked the S...</td>\n",
              "      <td>'CNN use footage of Tskhinvali ruins to cover...</td>\n",
              "      <td>'Beginning a war as the Olympics were opening...</td>\n",
              "      <td>'55 pyramids as large as the Luxor stacked in...</td>\n",
              "      <td>'The 11 Top Party Cities in the World'</td>\n",
              "      <td>'U.S. troops still in Georgia (did you know t...</td>\n",
              "      <td>'Why Russias response to Georgia was right'</td>\n",
              "      <td>'Gorbachev accuses U.S. of making a \"serious ...</td>\n",
              "      <td>'Russia, Georgia, and NATO: Cold War Two'</td>\n",
              "      <td>'Remember that adorable 62-year-old who led y...</td>\n",
              "      <td>'War in Georgia: The Israeli connection'</td>\n",
              "      <td>'All signs point to the US encouraging Georgi...</td>\n",
              "      <td>'Christopher King argues that the US and NATO...</td>\n",
              "      <td>'America: The New Mexico?'</td>\n",
              "      <td>\"BBC NEWS | Asia-Pacific | Extinction 'by man...</td>\n",
              "    </tr>\n",
              "    <tr>\n",
              "      <th>2008-08-13</th>\n",
              "      <td>0</td>\n",
              "      <td>' U.S. refuses Israel weapons to attack Iran:...</td>\n",
              "      <td>\"When the president ordered to attack Tskhinv...</td>\n",
              "      <td>' Israel clears troops who killed Reuters cam...</td>\n",
              "      <td>'Britain\\'s policy of being tough on drugs is...</td>\n",
              "      <td>'Body of 14 year old found in trunk; Latest (...</td>\n",
              "      <td>'China has moved 10 *million* quake survivors...</td>\n",
              "      <td>\"Bush announces Operation Get All Up In Russi...</td>\n",
              "      <td>'Russian forces sink Georgian ships '</td>\n",
              "      <td>\"The commander of a Navy air reconnaissance s...</td>\n",
              "      <td>\"92% of CNN readers: Russia's actions in Geor...</td>\n",
              "      <td>'USA to send fleet into Black Sea to help Geo...</td>\n",
              "      <td>\"US warns against Israeli plan to strike agai...</td>\n",
              "      <td>\"In an intriguing cyberalliance, two Estonian...</td>\n",
              "      <td>'The CNN Effect: Georgia Schools Russia in In...</td>\n",
              "      <td>'Why Russias response to Georgia was right'</td>\n",
              "      <td>'Elephants extinct by 2020?'</td>\n",
              "      <td>'US humanitarian missions soon in Georgia - i...</td>\n",
              "      <td>\"Georgia's DDOS came from US sources\"</td>\n",
              "      <td>'Russian convoy heads into Georgia, violating...</td>\n",
              "      <td>'Israeli defence minister: US against strike ...</td>\n",
              "      <td>'Gorbachev: We Had No Choice'</td>\n",
              "      <td>'Witness: Russian forces head towards Tbilisi...</td>\n",
              "      <td>' Quarter of Russians blame U.S. for conflict...</td>\n",
              "      <td>'Georgian president  says US military will ta...</td>\n",
              "      <td>'2006: Nobel laureate Aleksander Solzhenitsyn...</td>\n",
              "    </tr>\n",
              "    <tr>\n",
              "      <th>2008-08-14</th>\n",
              "      <td>1</td>\n",
              "      <td>'All the experts admit that we should legalis...</td>\n",
              "      <td>'War in South Osetia - 89 pictures made by a ...</td>\n",
              "      <td>'Swedish wrestler Ara Abrahamian throws away ...</td>\n",
              "      <td>'Russia exaggerated the death toll in South O...</td>\n",
              "      <td>'Missile That Killed 9 Inside Pakistan May Ha...</td>\n",
              "      <td>\"Rushdie Condemns Random House's Refusal to P...</td>\n",
              "      <td>'Poland and US agree to missle defense deal. ...</td>\n",
              "      <td>'Will the Russians conquer Tblisi? Bet on it,...</td>\n",
              "      <td>'Russia exaggerating South Ossetian death tol...</td>\n",
              "      <td>' Musharraf expected to resign rather than fa...</td>\n",
              "      <td>'Moscow Made Plans Months Ago to Invade Georgia'</td>\n",
              "      <td>'Why Russias response to Georgia was right'</td>\n",
              "      <td>'Nigeria has handed over the potentially oil-...</td>\n",
              "      <td>'The US and Poland have agreed a preliminary ...</td>\n",
              "      <td>'Russia apparently is sabotaging infrastructu...</td>\n",
              "      <td>'Bank analyst forecast Georgian crisis 2 days...</td>\n",
              "      <td>\"Georgia confict could set back Russia's US r...</td>\n",
              "      <td>'War in the Caucasus is as much the product o...</td>\n",
              "      <td>'\"Non-media\" photos of South Ossetia/Georgia ...</td>\n",
              "      <td>'Georgian TV reporter shot by Russian sniper ...</td>\n",
              "      <td>'Saudi Arabia: Mother moves to block child ma...</td>\n",
              "      <td>'Taliban wages war on humanitarian aid workers'</td>\n",
              "      <td>'Russia: World  \"can forget about\" Georgia\\'s...</td>\n",
              "      <td>'Darfur rebels accuse Sudan of mounting major...</td>\n",
              "      <td>'Philippines : Peace Advocate say Muslims nee...</td>\n",
              "    </tr>\n",
              "  </tbody>\n",
              "</table>\n",
              "</div>"
            ],
            "text/plain": [
              "            Label  ...                                            News_25\n",
              "Date               ...                                                   \n",
              "2008-08-08      0  ...            \"No Help for Mexico's Kidnapping Surge\"\n",
              "2008-08-11      1  ...   \"So this is what it's come to: trading sex fo...\n",
              "2008-08-12      0  ...   \"BBC NEWS | Asia-Pacific | Extinction 'by man...\n",
              "2008-08-13      0  ...   '2006: Nobel laureate Aleksander Solzhenitsyn...\n",
              "2008-08-14      1  ...   'Philippines : Peace Advocate say Muslims nee...\n",
              "\n",
              "[5 rows x 26 columns]"
            ]
          },
          "metadata": {
            "tags": []
          },
          "execution_count": 16
        }
      ]
    },
    {
      "cell_type": "code",
      "metadata": {
        "colab": {
          "base_uri": "https://localhost:8080/",
          "height": 204
        },
        "id": "ZX8yMe4_0gfC",
        "outputId": "b5ef6ba3-6811-4762-f9f4-8246432e782f"
      },
      "source": [
        "# create new dataset without the dates\n",
        "news_sum = []\n",
        "label_sum = []\n",
        "\n",
        "# Get the column names\n",
        "combined_column_names = []\n",
        "for column in df_combined.columns:\n",
        "  combined_column_names.append(column)\n",
        "\n",
        "# Connect the merged news with the labels\n",
        "for column in range(len(df_combined)):\n",
        "  for row in range(len(combined_column_names) - 1):\n",
        "    news_sum.append(df_combined[combined_column_names[row + 1]][column])\n",
        "    label_sum.append(df_combined[combined_column_names[0]][column])\n",
        "\n",
        "# Create the new DataFrame\n",
        "df_sum_news_labels = pd.DataFrame(data = label_sum, index = None, columns = [\"Label\"])\n",
        "df_sum_news_labels[\"News\"] = news_sum\n",
        "\n",
        "# Show it\n",
        "df_sum_news_labels.head()"
      ],
      "execution_count": 17,
      "outputs": [
        {
          "output_type": "execute_result",
          "data": {
            "text/html": [
              "<div>\n",
              "<style scoped>\n",
              "    .dataframe tbody tr th:only-of-type {\n",
              "        vertical-align: middle;\n",
              "    }\n",
              "\n",
              "    .dataframe tbody tr th {\n",
              "        vertical-align: top;\n",
              "    }\n",
              "\n",
              "    .dataframe thead th {\n",
              "        text-align: right;\n",
              "    }\n",
              "</style>\n",
              "<table border=\"1\" class=\"dataframe\">\n",
              "  <thead>\n",
              "    <tr style=\"text-align: right;\">\n",
              "      <th></th>\n",
              "      <th>Label</th>\n",
              "      <th>News</th>\n",
              "    </tr>\n",
              "  </thead>\n",
              "  <tbody>\n",
              "    <tr>\n",
              "      <th>0</th>\n",
              "      <td>0</td>\n",
              "      <td>\"Georgia 'downs two Russian warplanes' as cou...</td>\n",
              "    </tr>\n",
              "    <tr>\n",
              "      <th>1</th>\n",
              "      <td>0</td>\n",
              "      <td>'BREAKING: Musharraf to be impeached.'</td>\n",
              "    </tr>\n",
              "    <tr>\n",
              "      <th>2</th>\n",
              "      <td>0</td>\n",
              "      <td>'Russia Today: Columns of troops roll into So...</td>\n",
              "    </tr>\n",
              "    <tr>\n",
              "      <th>3</th>\n",
              "      <td>0</td>\n",
              "      <td>'Russian tanks are moving towards the capital...</td>\n",
              "    </tr>\n",
              "    <tr>\n",
              "      <th>4</th>\n",
              "      <td>0</td>\n",
              "      <td>\"Afghan children raped with 'impunity,' U.N. ...</td>\n",
              "    </tr>\n",
              "  </tbody>\n",
              "</table>\n",
              "</div>"
            ],
            "text/plain": [
              "   Label                                               News\n",
              "0      0   \"Georgia 'downs two Russian warplanes' as cou...\n",
              "1      0             'BREAKING: Musharraf to be impeached.'\n",
              "2      0   'Russia Today: Columns of troops roll into So...\n",
              "3      0   'Russian tanks are moving towards the capital...\n",
              "4      0   \"Afghan children raped with 'impunity,' U.N. ..."
            ]
          },
          "metadata": {
            "tags": []
          },
          "execution_count": 17
        }
      ]
    },
    {
      "cell_type": "code",
      "metadata": {
        "colab": {
          "base_uri": "https://localhost:8080/"
        },
        "id": "187XLRNF03nv",
        "outputId": "b0335ef2-8925-4c10-a9cc-42d5977f2818"
      },
      "source": [
        "# check and delete the null length cells\n",
        "news_sum = df_sum_news_labels[\"News\"]\n",
        "null_indexes = []\n",
        "index = 0\n",
        "\n",
        "for line in news_sum:\n",
        "  if line is \"\":\n",
        "    null_indexes.append(index)\n",
        "  index = index + 1\n",
        "\n",
        "print(null_indexes)\n",
        "\n",
        "for row in null_indexes:\n",
        "  df_sum_news_labels = df_sum_news_labels.drop(row)\n",
        "\n",
        "news_sum = df_sum_news_labels[\"News\"]\n",
        "null_indexes = []\n",
        "index = 0\n",
        "\n",
        "for line in news_sum:\n",
        "  if line is \"\":\n",
        "    null_indexes.append(index)\n",
        "  index = index + 1\n",
        "  \n",
        "assert len(null_indexes) is 0"
      ],
      "execution_count": 18,
      "outputs": [
        {
          "output_type": "stream",
          "text": [
            "[]\n"
          ],
          "name": "stdout"
        }
      ]
    },
    {
      "cell_type": "code",
      "metadata": {
        "id": "cYpGXMN6173B"
      },
      "source": [
        "# shuffle the dataset\n",
        "# Do the shuffle\n",
        "for i in range(SHUFFLE_CYCLE):\n",
        "  df_sum_news_labels = shuffle(df_sum_news_labels, random_state = NP_SEED)\n",
        "\n",
        "# Reset the index\n",
        "df_sum_news_labels.reset_index(inplace=True, drop=True)"
      ],
      "execution_count": 19,
      "outputs": []
    },
    {
      "cell_type": "code",
      "metadata": {
        "colab": {
          "base_uri": "https://localhost:8080/"
        },
        "id": "XVadHIQm6dvH",
        "outputId": "2554d94d-2bf1-4198-e101-e8787a40a06e"
      },
      "source": [
        "# check max length for bert tokenizer\n",
        "# Get the column names\n",
        "combined_column_names = []\n",
        "for column in df_sum_news_labels.columns:\n",
        "  combined_column_names.append(column)\n",
        "\n",
        "max_length = 0\n",
        "# Connect the merged news with the labels\n",
        "for column in range(len(df_sum_news_labels)):\n",
        "  for row in range(len(combined_column_names) - 1):\n",
        "    if len(df_sum_news_labels[combined_column_names[row + 1]][column]) > max_length:\n",
        "        max_length = len(df_sum_news_labels[combined_column_names[row + 1]][column])\n",
        "\n",
        "max_length"
      ],
      "execution_count": 20,
      "outputs": [
        {
          "output_type": "execute_result",
          "data": {
            "text/plain": [
              "312"
            ]
          },
          "metadata": {
            "tags": []
          },
          "execution_count": 20
        }
      ]
    },
    {
      "cell_type": "code",
      "metadata": {
        "id": "oUjhHDbW1Vf1"
      },
      "source": [
        "# split the dataset for train and validation and test \n",
        "INPUT_SIZE = len(df_sum_news_labels)\n",
        "# 75% train -> 60% train, 15% valid, 25% test\n",
        "TRAIN_SIZE = int(TRAIN_SPLIT * INPUT_SIZE) \n",
        "VALID_SIZE = int(VALIDATION_SPLIT * TRAIN_SIZE)\n",
        "\n",
        "# Create the train data set\n",
        "train_dataset = df_sum_news_labels[:TRAIN_SIZE - VALID_SIZE] \n",
        "\n",
        "# Create the validation data set\n",
        "valid_dataset = df_sum_news_labels[TRAIN_SIZE - VALID_SIZE:TRAIN_SIZE] \n",
        "\n",
        "# Create the test data set\n",
        "test_dataset = df_sum_news_labels[TRAIN_SIZE:]\n",
        "\n",
        "# Save them without the indexes\n",
        "train_dataset.to_csv('drive/MyDrive/train.tsv', sep = '\\t', index=False)\n",
        "valid_dataset.to_csv('drive/MyDrive/valid.tsv', sep = '\\t', index=False)\n",
        "test_dataset.to_csv('drive/MyDrive/test.tsv', sep = '\\t', index=False)"
      ],
      "execution_count": 21,
      "outputs": []
    },
    {
      "cell_type": "code",
      "metadata": {
        "colab": {
          "base_uri": "https://localhost:8080/"
        },
        "id": "ltMaYxlDe1x1",
        "outputId": "26aa523b-0a6f-44cf-8049-3b9a028321aa"
      },
      "source": [
        "# check label percentage\n",
        "# TRAIN\n",
        "# Groupby by label\n",
        "labels = train_dataset.groupby(\"Label\")\n",
        "\n",
        "# Summary statistic of all countries\n",
        "labels.describe().head()\n",
        "# Get the counts for labels\n",
        "label_0_count = len(labels.get_group(0))\n",
        "label_1_count = len(labels.get_group(1))\n",
        "\n",
        "# Get the summary\n",
        "label_sum = label_0_count + label_1_count\n",
        "\n",
        "# The percentages\n",
        "percentage_0 = label_0_count / label_sum\n",
        "percentage_1 = label_1_count / label_sum\n",
        "\n",
        "# Show\n",
        "print(\"TRAIN\\n\")\n",
        "print(f\"0 Labels percentage: {percentage_0*100:.2f}%\\n\")\n",
        "print(f\"1 Labels percentage: {percentage_1*100:.2f}%\")\n",
        "\n",
        "# VALID\n",
        "# Groupby by label\n",
        "labels = valid_dataset.groupby(\"Label\")\n",
        "\n",
        "# Summary statistic of all countries\n",
        "labels.describe().head()\n",
        "# Get the counts for labels\n",
        "label_0_count = len(labels.get_group(0))\n",
        "label_1_count = len(labels.get_group(1))\n",
        "\n",
        "# Get the summary\n",
        "label_sum = label_0_count + label_1_count\n",
        "\n",
        "# The percentages\n",
        "percentage_0 = label_0_count / label_sum\n",
        "percentage_1 = label_1_count / label_sum\n",
        "\n",
        "# Show\n",
        "print(\"\\n\\nVALID\\n\")\n",
        "print(f\"0 Labels percentage: {percentage_0*100:.2f}%\\n\")\n",
        "print(f\"1 Labels percentage: {percentage_1*100:.2f}%\")\n",
        "\n",
        "# TEST\n",
        "# Groupby by label\n",
        "labels = test_dataset.groupby(\"Label\")\n",
        "\n",
        "# Summary statistic of all countries\n",
        "labels.describe().head()\n",
        "# Get the counts for labels\n",
        "label_0_count = len(labels.get_group(0))\n",
        "label_1_count = len(labels.get_group(1))\n",
        "\n",
        "# Get the summary\n",
        "label_sum = label_0_count + label_1_count\n",
        "\n",
        "# The percentages\n",
        "percentage_0 = label_0_count / label_sum\n",
        "percentage_1 = label_1_count / label_sum\n",
        "\n",
        "# Show\n",
        "print(\"\\n\\nTEST\\n\")\n",
        "print(f\"0 Labels percentage: {percentage_0*100:.2f}%\\n\")\n",
        "print(f\"1 Labels percentage: {percentage_1*100:.2f}%\")"
      ],
      "execution_count": 22,
      "outputs": [
        {
          "output_type": "stream",
          "text": [
            "TRAIN\n",
            "\n",
            "0 Labels percentage: 46.12%\n",
            "\n",
            "1 Labels percentage: 53.88%\n",
            "\n",
            "\n",
            "VALID\n",
            "\n",
            "0 Labels percentage: 45.63%\n",
            "\n",
            "1 Labels percentage: 54.37%\n",
            "\n",
            "\n",
            "TEST\n",
            "\n",
            "0 Labels percentage: 46.63%\n",
            "\n",
            "1 Labels percentage: 53.37%\n"
          ],
          "name": "stdout"
        }
      ]
    },
    {
      "cell_type": "code",
      "metadata": {
        "colab": {
          "base_uri": "https://localhost:8080/",
          "height": 35
        },
        "id": "RJP-ds168ohJ",
        "outputId": "dc798ee2-78ab-4c48-8b95-82b5b1196ef5"
      },
      "source": [
        "train_dataset[\"News\"][0]"
      ],
      "execution_count": 23,
      "outputs": [
        {
          "output_type": "execute_result",
          "data": {
            "application/vnd.google.colaboratory.intrinsic+json": {
              "type": "string"
            },
            "text/plain": [
              "'Obama to travel to Cuba President Barack Obama is planning to travel to Cuba within the next month, becoming the first U.S. president to do so since Calvin Coolidge.'"
            ]
          },
          "metadata": {
            "tags": []
          },
          "execution_count": 23
        }
      ]
    },
    {
      "cell_type": "markdown",
      "metadata": {
        "id": "mqcydDkP2YgF"
      },
      "source": [
        "## **Szótárak létrehozása a szöveg kódolásához**"
      ]
    },
    {
      "cell_type": "code",
      "metadata": {
        "id": "Gu81X6qR5WZo"
      },
      "source": [
        "# define max input length for bert\n",
        "max_input_length = tokenizer.max_model_input_sizes['bert-base-uncased']"
      ],
      "execution_count": 24,
      "outputs": []
    },
    {
      "cell_type": "code",
      "metadata": {
        "id": "ZjTpVh_A2e1q"
      },
      "source": [
        "# preprocess function with tokenizer\n",
        "def tokenize_and_cut(sentence):\n",
        "    tokens = tokenizer.tokenize(sentence) \n",
        "    tokens = tokens[:max_input_length-2]\n",
        "    return tokens"
      ],
      "execution_count": 25,
      "outputs": []
    },
    {
      "cell_type": "code",
      "metadata": {
        "id": "lM36Q80e4L4P"
      },
      "source": [
        "# special tokens\n",
        "init_token_idx = tokenizer.cls_token_id\n",
        "eos_token_idx = tokenizer.sep_token_id\n",
        "pad_token_idx = tokenizer.pad_token_id\n",
        "unk_token_idx = tokenizer.unk_token_id"
      ],
      "execution_count": 26,
      "outputs": []
    },
    {
      "cell_type": "code",
      "metadata": {
        "id": "FPB3sPLC2uxZ"
      },
      "source": [
        "# fields define\n",
        "TEXT = data.Field(batch_first = True,\n",
        "                  use_vocab = False,\n",
        "                  tokenize = tokenize_and_cut,\n",
        "                  preprocessing = tokenizer.convert_tokens_to_ids,\n",
        "                  init_token = init_token_idx,\n",
        "                  eos_token = eos_token_idx,\n",
        "                  pad_token = pad_token_idx,\n",
        "                  unk_token = unk_token_idx)\n",
        "\n",
        "LABEL = data.LabelField(dtype = torch.float)"
      ],
      "execution_count": 27,
      "outputs": []
    },
    {
      "cell_type": "code",
      "metadata": {
        "id": "RB9u7uAW5EqN"
      },
      "source": [
        "fields = [('labels', LABEL), ('news', TEXT)]"
      ],
      "execution_count": 28,
      "outputs": []
    },
    {
      "cell_type": "code",
      "metadata": {
        "id": "Vc-F1gFt47dg"
      },
      "source": [
        "# load datasets\n",
        "train_data, valid_data, test_data = data.TabularDataset.splits(\n",
        "                                        path = \"drive/MyDrive\",\n",
        "                                        train = \"train.tsv\",\n",
        "                                        validation = \"valid.tsv\",\n",
        "                                        test = \"test.tsv\",\n",
        "                                        format = \"tsv\",\n",
        "                                        fields = fields,\n",
        "                                        skip_header = True\n",
        ")"
      ],
      "execution_count": 29,
      "outputs": []
    },
    {
      "cell_type": "code",
      "metadata": {
        "colab": {
          "base_uri": "https://localhost:8080/"
        },
        "id": "Q8WvP2-Y7p6H",
        "outputId": "847b5d7a-138f-4568-ddba-31f0d5c322e4"
      },
      "source": [
        "print(f\"Number of training examples: {len(train_data)}\")\n",
        "print(f\"Number of validation examples: {len(valid_data)}\")\n",
        "print(f\"Number of testing examples: {len(test_data)}\")"
      ],
      "execution_count": 30,
      "outputs": [
        {
          "output_type": "stream",
          "text": [
            "Number of training examples: 35622\n",
            "Number of validation examples: 3958\n",
            "Number of testing examples: 9895\n"
          ],
          "name": "stdout"
        }
      ]
    },
    {
      "cell_type": "markdown",
      "metadata": {
        "id": "-yIW2Sv08L2f"
      },
      "source": [
        "Az első elem ellenőrzése."
      ]
    },
    {
      "cell_type": "code",
      "metadata": {
        "colab": {
          "base_uri": "https://localhost:8080/"
        },
        "id": "XtJadJX48NpS",
        "outputId": "950bcbda-b3cc-4885-d40d-147120d43e21"
      },
      "source": [
        "print(vars(train_data[0]))"
      ],
      "execution_count": 31,
      "outputs": [
        {
          "output_type": "stream",
          "text": [
            "{'labels': '1', 'news': [8112, 2000, 3604, 2000, 7394, 2343, 13857, 8112, 2003, 4041, 2000, 3604, 2000, 7394, 2306, 1996, 2279, 3204, 1010, 3352, 1996, 2034, 1057, 1012, 1055, 1012, 2343, 2000, 2079, 2061, 2144, 11130, 4658, 13623, 1012]}\n"
          ],
          "name": "stdout"
        }
      ]
    },
    {
      "cell_type": "code",
      "metadata": {
        "colab": {
          "base_uri": "https://localhost:8080/"
        },
        "id": "MQmyaQdd8QLf",
        "outputId": "5f207dfe-3817-456d-fe37-be4fa0826a77"
      },
      "source": [
        "tokens = tokenizer.convert_ids_to_tokens(vars(train_data[0])['news'])\n",
        "\n",
        "print(tokens)"
      ],
      "execution_count": 32,
      "outputs": [
        {
          "output_type": "stream",
          "text": [
            "['obama', 'to', 'travel', 'to', 'cuba', 'president', 'barack', 'obama', 'is', 'planning', 'to', 'travel', 'to', 'cuba', 'within', 'the', 'next', 'month', ',', 'becoming', 'the', 'first', 'u', '.', 's', '.', 'president', 'to', 'do', 'so', 'since', 'calvin', 'cool', '##idge', '.']\n"
          ],
          "name": "stdout"
        }
      ]
    },
    {
      "cell_type": "code",
      "metadata": {
        "colab": {
          "base_uri": "https://localhost:8080/"
        },
        "id": "XHE1SqNYEosV",
        "outputId": "461302b4-30af-400c-83eb-69e5ef93c4c6"
      },
      "source": [
        "# build vocab\n",
        "LABEL.build_vocab(train_data)\n",
        "print(LABEL.vocab.stoi)"
      ],
      "execution_count": 33,
      "outputs": [
        {
          "output_type": "stream",
          "text": [
            "defaultdict(None, {'1': 0, '0': 1})\n"
          ],
          "name": "stdout"
        }
      ]
    },
    {
      "cell_type": "code",
      "metadata": {
        "id": "V3HOTzpoEtKz"
      },
      "source": [
        "# define batch and iterator\n",
        "BATCH_SIZE = 64\n",
        "\n",
        "device = torch.device('cuda' if torch.cuda.is_available() else 'cpu')\n",
        "\n",
        "train_iterator, valid_iterator, test_iterator = data.BucketIterator.splits(\n",
        "    (train_data, valid_data, test_data), \n",
        "    sort_key = lambda x: x.news, #sort by n attribute (quote)\n",
        "    batch_size = BATCH_SIZE, \n",
        "    sort_within_batch = True,\n",
        "    device = device)"
      ],
      "execution_count": 34,
      "outputs": []
    },
    {
      "cell_type": "markdown",
      "metadata": {
        "id": "qqJLL3ZOEzTl"
      },
      "source": [
        "## **Modell létrehozása**"
      ]
    },
    {
      "cell_type": "code",
      "metadata": {
        "id": "EPFpGXiHE3gL",
        "colab": {
          "base_uri": "https://localhost:8080/",
          "height": 115,
          "referenced_widgets": [
            "46d22ce4354147a2b42947b57ea87ca4",
            "c6ef9054b84140ad8a999eb7d01899f0",
            "f032d648cabf4a8b997014867f9dc1c5",
            "aba321a3e722465d9f63d890ee5ce084",
            "a5941251b9bd4db4a1ba9e9ca8de75f9",
            "ab78a0f44e784b209d73f3aec19878f1",
            "424ed501a9a148799c5c0ab8557825cf",
            "b065a433e07448978172335f25f94d1d",
            "1e9c31d0cba84e149cab61611322169f",
            "93c6a74c9c0f45a2a7d0ad3117cc3645",
            "d64b8c046b564f0dbe70d2f140b3bd2f",
            "bceb47e1a899453cb7410673cac1d7ff",
            "290a33d2d20b41c68517b02f0cd9bc00",
            "273b8d87ff4e477da537cd3839515017",
            "388a7e38b9f2410a89f4e675188fd15f",
            "6125a8c118b847b9a3dc617372b4a19b"
          ]
        },
        "outputId": "fc5198d2-ce7f-4977-f7a2-d3f9b855104b"
      },
      "source": [
        "# load pretrained bert\n",
        "from transformers import BertTokenizer, BertModel\n",
        "\n",
        "bert = BertModel.from_pretrained('bert-base-uncased')"
      ],
      "execution_count": 35,
      "outputs": [
        {
          "output_type": "display_data",
          "data": {
            "application/vnd.jupyter.widget-view+json": {
              "model_id": "46d22ce4354147a2b42947b57ea87ca4",
              "version_minor": 0,
              "version_major": 2
            },
            "text/plain": [
              "HBox(children=(FloatProgress(value=0.0, description='Downloading', max=433.0, style=ProgressStyle(description_…"
            ]
          },
          "metadata": {
            "tags": []
          }
        },
        {
          "output_type": "stream",
          "text": [
            "\n"
          ],
          "name": "stdout"
        },
        {
          "output_type": "display_data",
          "data": {
            "application/vnd.jupyter.widget-view+json": {
              "model_id": "1e9c31d0cba84e149cab61611322169f",
              "version_minor": 0,
              "version_major": 2
            },
            "text/plain": [
              "HBox(children=(FloatProgress(value=0.0, description='Downloading', max=440473133.0, style=ProgressStyle(descri…"
            ]
          },
          "metadata": {
            "tags": []
          }
        },
        {
          "output_type": "stream",
          "text": [
            "\n"
          ],
          "name": "stdout"
        }
      ]
    },
    {
      "cell_type": "code",
      "metadata": {
        "id": "Iw56YAtuFE9v"
      },
      "source": [
        "# define model\n",
        "import torch.nn as nn\n",
        "\n",
        "class BERTGRUSentiment(nn.Module):\n",
        "    def __init__(self,\n",
        "                 bert,\n",
        "                 hidden_dim,\n",
        "                 output_dim,\n",
        "                 n_layers,\n",
        "                 bidirectional,\n",
        "                 dropout):\n",
        "        \n",
        "        super().__init__()\n",
        "        \n",
        "        self.bert = bert # bert layer\n",
        "        \n",
        "        embedding_dim = bert.config.to_dict()['hidden_size']\n",
        "        \n",
        "        self.rnn = nn.GRU(embedding_dim,\n",
        "                          hidden_dim,\n",
        "                          num_layers = n_layers,\n",
        "                          bidirectional = bidirectional,\n",
        "                          batch_first = True,\n",
        "                          dropout = 0 if n_layers < 2 else dropout) # gru layer\n",
        "        \n",
        "        self.out = nn.Linear(hidden_dim * 2 if bidirectional else hidden_dim, output_dim) # linear out\n",
        "        \n",
        "        self.dropout = nn.Dropout(dropout)\n",
        "        \n",
        "    def forward(self, text):\n",
        "        \n",
        "        #text = [batch size, sent len]\n",
        "                \n",
        "        with torch.no_grad():\n",
        "            embedded = self.bert(text)[0] # do not teach the bert layer parameters\n",
        "                \n",
        "        #embedded = [batch size, sent len, emb dim]\n",
        "        \n",
        "        _, hidden = self.rnn(embedded)\n",
        "        \n",
        "        #hidden = [n layers * n directions, batch size, emb dim]\n",
        "        \n",
        "        if self.rnn.bidirectional:\n",
        "            hidden = self.dropout(torch.cat((hidden[-2,:,:], hidden[-1,:,:]), dim = 1))\n",
        "        else:\n",
        "            hidden = self.dropout(hidden[-1,:,:])\n",
        "                \n",
        "        #hidden = [batch size, hid dim]\n",
        "        \n",
        "        output = self.out(hidden)\n",
        "        \n",
        "        #output = [batch size, out dim]\n",
        "        \n",
        "        return output"
      ],
      "execution_count": 36,
      "outputs": []
    },
    {
      "cell_type": "code",
      "metadata": {
        "id": "WyWd1hiaFZEb"
      },
      "source": [
        "# create the model with parameters\n",
        "HIDDEN_DIM = 128\n",
        "OUTPUT_DIM = 1\n",
        "N_LAYERS = 3\n",
        "BIDIRECTIONAL = True\n",
        "DROPOUT = 0.25\n",
        "\n",
        "model = BERTGRUSentiment(bert,\n",
        "                         HIDDEN_DIM,\n",
        "                         OUTPUT_DIM,\n",
        "                         N_LAYERS,\n",
        "                         BIDIRECTIONAL,\n",
        "                         DROPOUT)"
      ],
      "execution_count": 37,
      "outputs": []
    },
    {
      "cell_type": "code",
      "metadata": {
        "colab": {
          "base_uri": "https://localhost:8080/"
        },
        "id": "GtdwhrAeFekS",
        "outputId": "c5f82d73-abed-434a-abb9-7acbc6efc88e"
      },
      "source": [
        "# check all and teachable parameters\n",
        "def count_parameters(model):\n",
        "    return sum(p.numel() for p in model.parameters() if p.requires_grad)\n",
        "\n",
        "print(f'The model has {count_parameters(model):,} parameters')\n",
        "\n",
        "#for name, param in model.named_parameters():                \n",
        "#    if name.startswith('bert'):\n",
        "#        param.requires_grad = False\n",
        "\n",
        "def count_parameters(model):\n",
        "    return sum(p.numel() for p in model.parameters() if p.requires_grad)\n",
        "\n",
        "print(f'The model has {count_parameters(model):,} trainable parameters')"
      ],
      "execution_count": 38,
      "outputs": [
        {
          "output_type": "stream",
          "text": [
            "The model has 110,765,057 parameters\n",
            "The model has 110,765,057 trainable parameters\n"
          ],
          "name": "stdout"
        }
      ]
    },
    {
      "cell_type": "markdown",
      "metadata": {
        "id": "GOuAj85VFswd"
      },
      "source": [
        "## **A modell tanítása**"
      ]
    },
    {
      "cell_type": "code",
      "metadata": {
        "id": "WeQCs8lkFsVK"
      },
      "source": [
        "# optimizier and cost function\n",
        "import torch.optim as optim\n",
        "LR = 0.0001\n",
        "\n",
        "criterion = nn.BCEWithLogitsLoss()\n",
        "\n",
        "optimizer = torch.optim.Adam(model.parameters(), lr=LR)\n",
        "\n",
        "#scheduler = torch.optim.lr_scheduler.ReduceLROnPlateau(optimizer, 'min', cooldown=5, \n",
        "#                                                       patience=5, verbose=True)\n",
        "\n",
        "# place them to gpu\n",
        "model = model.to(device)\n",
        "criterion = criterion.to(device)"
      ],
      "execution_count": 39,
      "outputs": []
    },
    {
      "cell_type": "code",
      "metadata": {
        "id": "KVzLVhWKF5gk"
      },
      "source": [
        "def binary_accuracy(preds, y):\n",
        "    \"\"\"\n",
        "    Returns accuracy per batch, i.e. if you get 8/10 right, this returns 0.8, NOT 8\n",
        "    \"\"\"\n",
        "\n",
        "    #round predictions to the closest integer\n",
        "    rounded_preds = torch.round(torch.sigmoid(preds))\n",
        "    correct = (rounded_preds == y).float() #convert into float for division \n",
        "    acc = correct.sum() / len(correct)\n",
        "    return acc"
      ],
      "execution_count": 40,
      "outputs": []
    },
    {
      "cell_type": "code",
      "metadata": {
        "id": "5i9Twg21F7sH"
      },
      "source": [
        "def train(model, iterator, optimizer, criterion):\n",
        "    \n",
        "    epoch_loss = 0\n",
        "    epoch_acc = 0\n",
        "    index = 0\n",
        "    log_interval = 100\n",
        "    \n",
        "    model.train()\n",
        "    \n",
        "    for batch in iterator:\n",
        "        if index == 0:\n",
        "            all = str(len(iterator))\n",
        "            print(f'Epoch: {epoch+1:02} started | {all} batches will be done')\n",
        "\n",
        "        if index % log_interval == 0 and index > 0:\n",
        "            all = str(len(iterator))\n",
        "            temp_end_time = time.time()\n",
        "            epoch_mins, epoch_secs = epoch_time(start_time, temp_end_time)\n",
        "            print(f'Epoch: {epoch+1:02} | {index} / {all} batches done | Epoch Time: {epoch_mins}m {epoch_secs}s')\n",
        "            \n",
        "        optimizer.zero_grad()\n",
        "        \n",
        "        predictions = model(batch.news).squeeze(1)\n",
        "        \n",
        "        loss = criterion(predictions, batch.labels)\n",
        "        \n",
        "        acc = binary_accuracy(predictions, batch.labels)\n",
        "        \n",
        "        loss.backward()\n",
        "        \n",
        "        optimizer.step()\n",
        "        \n",
        "        epoch_loss += loss.item()\n",
        "        epoch_acc += acc.item()\n",
        "\n",
        "        index += 1\n",
        "        \n",
        "    return epoch_loss / len(iterator), epoch_acc / len(iterator)"
      ],
      "execution_count": 41,
      "outputs": []
    },
    {
      "cell_type": "code",
      "metadata": {
        "id": "guze1HVWF9UP"
      },
      "source": [
        "def evaluate(model, iterator, criterion):\n",
        "    \n",
        "    epoch_loss = 0\n",
        "    epoch_acc = 0\n",
        "    \n",
        "    model.eval()\n",
        "    \n",
        "    with torch.no_grad():\n",
        "    \n",
        "        for batch in iterator:\n",
        "\n",
        "            predictions = model(batch.news).squeeze(1)\n",
        "            \n",
        "            loss = criterion(predictions, batch.labels)\n",
        "            \n",
        "            acc = binary_accuracy(predictions, batch.labels)\n",
        "\n",
        "            epoch_loss += loss.item()\n",
        "            epoch_acc += acc.item()\n",
        "        \n",
        "    return epoch_loss / len(iterator), epoch_acc / len(iterator)"
      ],
      "execution_count": 42,
      "outputs": []
    },
    {
      "cell_type": "code",
      "metadata": {
        "id": "0Ra0zIu0F-jC"
      },
      "source": [
        "import time\n",
        "\n",
        "def epoch_time(start_time, end_time):\n",
        "    elapsed_time = end_time - start_time\n",
        "    elapsed_mins = int(elapsed_time / 60)\n",
        "    elapsed_secs = int(elapsed_time - (elapsed_mins * 60))\n",
        "    return elapsed_mins, elapsed_secs"
      ],
      "execution_count": 43,
      "outputs": []
    },
    {
      "cell_type": "code",
      "metadata": {
        "colab": {
          "base_uri": "https://localhost:8080/",
          "height": 350
        },
        "id": "ipnFGhOIGArt",
        "outputId": "f2aea0c2-9012-4a52-cc63-c205e5eaed66"
      },
      "source": [
        "# train the model\n",
        "# save the results for plotting\n",
        "N_EPOCHS = 100\n",
        "\n",
        "train_loss_array = []\n",
        "train_acc_array = []\n",
        "valid_loss_array = []\n",
        "valid_acc_array = []\n",
        "\n",
        "best_valid_loss = float('inf')\n",
        "\n",
        "for epoch in range(N_EPOCHS):\n",
        "    \n",
        "    start_time = time.time()\n",
        "    \n",
        "    train_loss, train_acc = train(model, train_iterator, optimizer, criterion)\n",
        "    valid_loss, valid_acc = evaluate(model, valid_iterator, criterion)\n",
        "#    scheduler.step(valid_loss)\n",
        "\n",
        "    train_loss_array.append(train_loss)\n",
        "    train_acc_array.append(train_acc)\n",
        "    valid_loss_array.append(valid_loss)\n",
        "    valid_acc_array.append(valid_acc)\n",
        "        \n",
        "    end_time = time.time()\n",
        "        \n",
        "    epoch_mins, epoch_secs = epoch_time(start_time, end_time)\n",
        "        \n",
        "    if valid_loss < best_valid_loss:\n",
        "        best_valid_loss = valid_loss\n",
        "        torch.save(model.state_dict(), 'drive/MyDrive/bert_best_model.pt')\n",
        "    \n",
        "    print(f'Epoch: {epoch+1:02} | Epoch Time: {epoch_mins}m {epoch_secs}s')\n",
        "    print(f'\\tTrain Loss: {train_loss:.3f} | Train Acc: {train_acc*100:.2f}%')\n",
        "    print(f'\\t Val. Loss: {valid_loss:.3f} |  Val. Acc: {valid_acc*100:.2f}%\\n')"
      ],
      "execution_count": 46,
      "outputs": [
        {
          "output_type": "error",
          "ename": "KeyboardInterrupt",
          "evalue": "ignored",
          "traceback": [
            "\u001b[0;31m---------------------------------------------------------------------------\u001b[0m",
            "\u001b[0;31mKeyboardInterrupt\u001b[0m                         Traceback (most recent call last)",
            "\u001b[0;32m<ipython-input-46-04676ab59d0f>\u001b[0m in \u001b[0;36m<module>\u001b[0;34m()\u001b[0m\n\u001b[1;32m     14\u001b[0m     \u001b[0mstart_time\u001b[0m \u001b[0;34m=\u001b[0m \u001b[0mtime\u001b[0m\u001b[0;34m.\u001b[0m\u001b[0mtime\u001b[0m\u001b[0;34m(\u001b[0m\u001b[0;34m)\u001b[0m\u001b[0;34m\u001b[0m\u001b[0;34m\u001b[0m\u001b[0m\n\u001b[1;32m     15\u001b[0m \u001b[0;34m\u001b[0m\u001b[0m\n\u001b[0;32m---> 16\u001b[0;31m     \u001b[0mtrain_loss\u001b[0m\u001b[0;34m,\u001b[0m \u001b[0mtrain_acc\u001b[0m \u001b[0;34m=\u001b[0m \u001b[0mtrain\u001b[0m\u001b[0;34m(\u001b[0m\u001b[0mmodel\u001b[0m\u001b[0;34m,\u001b[0m \u001b[0mtrain_iterator\u001b[0m\u001b[0;34m,\u001b[0m \u001b[0moptimizer\u001b[0m\u001b[0;34m,\u001b[0m \u001b[0mcriterion\u001b[0m\u001b[0;34m)\u001b[0m\u001b[0;34m\u001b[0m\u001b[0;34m\u001b[0m\u001b[0m\n\u001b[0m\u001b[1;32m     17\u001b[0m     \u001b[0mvalid_loss\u001b[0m\u001b[0;34m,\u001b[0m \u001b[0mvalid_acc\u001b[0m \u001b[0;34m=\u001b[0m \u001b[0mevaluate\u001b[0m\u001b[0;34m(\u001b[0m\u001b[0mmodel\u001b[0m\u001b[0;34m,\u001b[0m \u001b[0mvalid_iterator\u001b[0m\u001b[0;34m,\u001b[0m \u001b[0mcriterion\u001b[0m\u001b[0;34m)\u001b[0m\u001b[0;34m\u001b[0m\u001b[0;34m\u001b[0m\u001b[0m\n\u001b[1;32m     18\u001b[0m \u001b[0;31m#    scheduler.step(valid_loss)\u001b[0m\u001b[0;34m\u001b[0m\u001b[0;34m\u001b[0m\u001b[0;34m\u001b[0m\u001b[0m\n",
            "\u001b[0;32m<ipython-input-41-3ffd104dc1f9>\u001b[0m in \u001b[0;36mtrain\u001b[0;34m(model, iterator, optimizer, criterion)\u001b[0m\n\u001b[1;32m     31\u001b[0m         \u001b[0moptimizer\u001b[0m\u001b[0;34m.\u001b[0m\u001b[0mstep\u001b[0m\u001b[0;34m(\u001b[0m\u001b[0;34m)\u001b[0m\u001b[0;34m\u001b[0m\u001b[0;34m\u001b[0m\u001b[0m\n\u001b[1;32m     32\u001b[0m \u001b[0;34m\u001b[0m\u001b[0m\n\u001b[0;32m---> 33\u001b[0;31m         \u001b[0mepoch_loss\u001b[0m \u001b[0;34m+=\u001b[0m \u001b[0mloss\u001b[0m\u001b[0;34m.\u001b[0m\u001b[0mitem\u001b[0m\u001b[0;34m(\u001b[0m\u001b[0;34m)\u001b[0m\u001b[0;34m\u001b[0m\u001b[0;34m\u001b[0m\u001b[0m\n\u001b[0m\u001b[1;32m     34\u001b[0m         \u001b[0mepoch_acc\u001b[0m \u001b[0;34m+=\u001b[0m \u001b[0macc\u001b[0m\u001b[0;34m.\u001b[0m\u001b[0mitem\u001b[0m\u001b[0;34m(\u001b[0m\u001b[0;34m)\u001b[0m\u001b[0;34m\u001b[0m\u001b[0;34m\u001b[0m\u001b[0m\n\u001b[1;32m     35\u001b[0m \u001b[0;34m\u001b[0m\u001b[0m\n",
            "\u001b[0;31mKeyboardInterrupt\u001b[0m: "
          ]
        }
      ]
    },
    {
      "cell_type": "code",
      "metadata": {
        "id": "cNHiFfSaGZZq",
        "colab": {
          "base_uri": "https://localhost:8080/",
          "height": 521
        },
        "outputId": "00cf51dd-9023-4694-dfa0-cf7ea9289733"
      },
      "source": [
        "# Visualize the training\n",
        "plt.figure(figsize=(16,8))\n",
        "plt.title('Train and validation loss')\n",
        "plt.plot(train_loss_array, color = \"green\", label = \"Train loss\")\n",
        "plt.plot(valid_loss_array, color = \"blue\", label = \"Valid loss\")\n",
        "plt.xlabel('Epoch',fontsize=18)\n",
        "plt.ylabel('Loss',fontsize=18)\n",
        "plt.legend(fontsize=18)\n",
        "plt.show()"
      ],
      "execution_count": 47,
      "outputs": [
        {
          "output_type": "display_data",
          "data": {
            "image/png": "[encoded data removed]",
            "text/plain": [
              "<Figure size 1152x576 with 1 Axes>"
            ]
          },
          "metadata": {
            "tags": [],
            "needs_background": "light"
          }
        }
      ]
    },
    {
      "cell_type": "code",
      "metadata": {
        "id": "BzCuSDl_GamX",
        "colab": {
          "base_uri": "https://localhost:8080/",
          "height": 521
        },
        "outputId": "a39a9be4-93b0-447f-c2d0-2af8f9126a8f"
      },
      "source": [
        "# Visualize the training\n",
        "plt.figure(figsize=(16,8))\n",
        "plt.title('Train and validation accuraccy')\n",
        "plt.plot(train_acc_array, color = \"green\", label = \"Train accuracy\")\n",
        "plt.plot(valid_acc_array, color = \"blue\", label = \"Valid accuracy\")\n",
        "plt.xlabel('Epoch',fontsize=18)\n",
        "plt.ylabel('Accuracy (%)',fontsize=18)\n",
        "plt.legend(fontsize=18)\n",
        "plt.show()"
      ],
      "execution_count": 48,
      "outputs": [
        {
          "output_type": "display_data",
          "data": {
            "image/png": "[encoded data removed]",
            "text/plain": [
              "<Figure size 1152x576 with 1 Axes>"
            ]
          },
          "metadata": {
            "tags": [],
            "needs_background": "light"
          }
        }
      ]
    },
    {
      "cell_type": "markdown",
      "metadata": {
        "id": "ps-4oNBWGc0y"
      },
      "source": [
        "## **A modell tesztelése**"
      ]
    },
    {
      "cell_type": "code",
      "metadata": {
        "id": "jNDIoqEBGf_3",
        "colab": {
          "base_uri": "https://localhost:8080/"
        },
        "outputId": "d82d9ccd-13ad-46c4-8f04-14a790379494"
      },
      "source": [
        "model.load_state_dict(torch.load('drive/MyDrive/bert_best_model.pt', map_location=torch.device('cpu')))\n",
        "\n",
        "test_loss, test_acc = evaluate(model, test_iterator, criterion)\n",
        "\n",
        "print(f'Test Loss: {test_loss:.3f} | Test Acc: {test_acc*100:.2f}%')"
      ],
      "execution_count": 49,
      "outputs": [
        {
          "output_type": "stream",
          "text": [
            "Test Loss: 0.692 | Test Acc: 53.36%\n"
          ],
          "name": "stdout"
        }
      ]
    },
    {
      "cell_type": "markdown",
      "metadata": {
        "id": "OAhYPG_9-b5s"
      },
      "source": [
        "A többi modellel való összehasonlításhoz szükséges táblázat megalkotása."
      ]
    },
    {
      "cell_type": "code",
      "metadata": {
        "colab": {
          "base_uri": "https://localhost:8080/",
          "height": 952
        },
        "id": "MF9MMF7o-Ems",
        "outputId": "e7ac219b-245b-4b80-e267-e4261b4f53b1"
      },
      "source": [
        "# compare with other models\n",
        "# combine the news and remove the 'b' char at the beginning\n",
        "# no other preprocess, the tokenizer will take care of it\n",
        "\n",
        "# Get column names\n",
        "combined_column_names = []\n",
        "for column in df_for_test.columns:\n",
        "  combined_column_names.append(column)\n",
        "\n",
        "# 2D array creation for the news based on macros\n",
        "COLUMNS = len(df_for_test)\n",
        "news_sum = [[0 for i in range(COLUMNS)] for j in range(int((len(combined_column_names) - 1) / ROWS))]  \n",
        "\n",
        "# Merge the news\n",
        "for row in range(len(df_for_test)):\n",
        "  for column in range(int((len(combined_column_names) - 1) / ROWS)):\n",
        "    temp = \"\"\n",
        "    news = \"\"\n",
        "    for word in range(ROWS):\n",
        "      news = df_for_test[combined_column_names[(column * ROWS) + (word + 1)]][row]\n",
        "      # Remove the b character at the begining of the string\n",
        "      if news[0] is \"b\":\n",
        "        news = \" \" + news[1:]\n",
        "      temp = temp + news\n",
        "    news_sum[column][row] = temp\n",
        "\n",
        "# Drop the old columns\n",
        "for column in range(len(combined_column_names) - 1):\n",
        "  df_for_test.drop(combined_column_names[column + 1], axis = 1, inplace = True)\n",
        "\n",
        "# Create the new columns with the merged news\n",
        "for column in range(int((len(combined_column_names) - 1) / ROWS)):\n",
        "  colum_name = \"News_\" + str(column + 1)\n",
        "  df_for_test[colum_name] = news_sum[column]\n",
        "\n",
        "# Show the DataFrame\n",
        "df_for_test.head()"
      ],
      "execution_count": 44,
      "outputs": [
        {
          "output_type": "stream",
          "text": [
            "/usr/local/lib/python3.7/dist-packages/pandas/core/frame.py:4174: SettingWithCopyWarning: \n",
            "A value is trying to be set on a copy of a slice from a DataFrame\n",
            "\n",
            "See the caveats in the documentation: https://pandas.pydata.org/pandas-docs/stable/user_guide/indexing.html#returning-a-view-versus-a-copy\n",
            "  errors=errors,\n",
            "/usr/local/lib/python3.7/dist-packages/ipykernel_launcher.py:34: SettingWithCopyWarning: \n",
            "A value is trying to be set on a copy of a slice from a DataFrame.\n",
            "Try using .loc[row_indexer,col_indexer] = value instead\n",
            "\n",
            "See the caveats in the documentation: https://pandas.pydata.org/pandas-docs/stable/user_guide/indexing.html#returning-a-view-versus-a-copy\n"
          ],
          "name": "stderr"
        },
        {
          "output_type": "execute_result",
          "data": {
            "text/html": [
              "<div>\n",
              "<style scoped>\n",
              "    .dataframe tbody tr th:only-of-type {\n",
              "        vertical-align: middle;\n",
              "    }\n",
              "\n",
              "    .dataframe tbody tr th {\n",
              "        vertical-align: top;\n",
              "    }\n",
              "\n",
              "    .dataframe thead th {\n",
              "        text-align: right;\n",
              "    }\n",
              "</style>\n",
              "<table border=\"1\" class=\"dataframe\">\n",
              "  <thead>\n",
              "    <tr style=\"text-align: right;\">\n",
              "      <th></th>\n",
              "      <th>Label</th>\n",
              "      <th>News_1</th>\n",
              "      <th>News_2</th>\n",
              "      <th>News_3</th>\n",
              "      <th>News_4</th>\n",
              "      <th>News_5</th>\n",
              "      <th>News_6</th>\n",
              "      <th>News_7</th>\n",
              "      <th>News_8</th>\n",
              "      <th>News_9</th>\n",
              "      <th>News_10</th>\n",
              "      <th>News_11</th>\n",
              "      <th>News_12</th>\n",
              "      <th>News_13</th>\n",
              "      <th>News_14</th>\n",
              "      <th>News_15</th>\n",
              "      <th>News_16</th>\n",
              "      <th>News_17</th>\n",
              "      <th>News_18</th>\n",
              "      <th>News_19</th>\n",
              "      <th>News_20</th>\n",
              "      <th>News_21</th>\n",
              "      <th>News_22</th>\n",
              "      <th>News_23</th>\n",
              "      <th>News_24</th>\n",
              "      <th>News_25</th>\n",
              "    </tr>\n",
              "    <tr>\n",
              "      <th>Date</th>\n",
              "      <th></th>\n",
              "      <th></th>\n",
              "      <th></th>\n",
              "      <th></th>\n",
              "      <th></th>\n",
              "      <th></th>\n",
              "      <th></th>\n",
              "      <th></th>\n",
              "      <th></th>\n",
              "      <th></th>\n",
              "      <th></th>\n",
              "      <th></th>\n",
              "      <th></th>\n",
              "      <th></th>\n",
              "      <th></th>\n",
              "      <th></th>\n",
              "      <th></th>\n",
              "      <th></th>\n",
              "      <th></th>\n",
              "      <th></th>\n",
              "      <th></th>\n",
              "      <th></th>\n",
              "      <th></th>\n",
              "      <th></th>\n",
              "      <th></th>\n",
              "      <th></th>\n",
              "    </tr>\n",
              "  </thead>\n",
              "  <tbody>\n",
              "    <tr>\n",
              "      <th>2016-06-20</th>\n",
              "      <td>1</td>\n",
              "      <td>A staggering 87 percent of Venezuelans say the...</td>\n",
              "      <td>Two corporate whistleblowers may enter into pl...</td>\n",
              "      <td>Poland, together with Russia, Iran, and severa...</td>\n",
              "      <td>Three environmental activists were killed per ...</td>\n",
              "      <td>Ontario funeral business dissolves the dead, p...</td>\n",
              "      <td>New Declassified Documents Reveal How CIA Abus...</td>\n",
              "      <td>Tens of thousands of people gathered in swelte...</td>\n",
              "      <td>Japan's dementia crisis hits record levels as ...</td>\n",
              "      <td>Icelands Hekla volcano, a very popular tourist...</td>\n",
              "      <td>Corbyn pledges to kill TTIP if elected</td>\n",
              "      <td>Venezuelans Ransack Stores as Hunger Grips the...</td>\n",
              "      <td>Rome elects first female mayor</td>\n",
              "      <td>Saudi Arabia and Kuwait angry about Hillary Cl...</td>\n",
              "      <td>Professor Dismissed for Insulting Turkey's Pre...</td>\n",
              "      <td>Russian soldier dies in Syria after preventing...</td>\n",
              "      <td>Three dead, 45 injured as labor union clashes ...</td>\n",
              "      <td>Indonesia vows to stand firm after skirmishes ...</td>\n",
              "      <td>A study of ocean plankton has shown that an in...</td>\n",
              "      <td>Australia taxes foreign home buyers as afforda...</td>\n",
              "      <td>Paris isn't happy about Amazon's one-hour deli...</td>\n",
              "      <td>Australian man pleads guilty to making sexual ...</td>\n",
              "      <td>Trudeau condemns killing of 14 Canadian Embass...</td>\n",
              "      <td>Vladimir Putin is considering selling part of ...</td>\n",
              "      <td>An elephant has survived being shot in the hea...</td>\n",
              "      <td>Wikileaks founder Julian Assange marks 5 years...</td>\n",
              "    </tr>\n",
              "    <tr>\n",
              "      <th>2016-06-21</th>\n",
              "      <td>1</td>\n",
              "      <td>An Australian athlete who has competed in six ...</td>\n",
              "      <td>Russian state television accidentally broadcas...</td>\n",
              "      <td>In 2015, 50 environmentalists were killed in B...</td>\n",
              "      <td>China's plan to cut meat consumption by 50% ch...</td>\n",
              "      <td>Coral bleaching event now biggest in history  ...</td>\n",
              "      <td>Super-rich quaff champagne in Venezuela countr...</td>\n",
              "      <td>Hong Kong bookseller refuses to be silenced af...</td>\n",
              "      <td>Chinese prosecutors have successfully sued a c...</td>\n",
              "      <td>A London-based advocacy group says it has docu...</td>\n",
              "      <td>Erdogan loses appeal against German media boss</td>\n",
              "      <td>Chinese supercomputer is the world's fastest  ...</td>\n",
              "      <td>7-Eleven operator handed record penalty of mor...</td>\n",
              "      <td>A Honduran military unit trained by US was ord...</td>\n",
              "      <td>African Union plans to introduce single passpo...</td>\n",
              "      <td>More refugees became citizens of Canada than a...</td>\n",
              "      <td>Turkey charges Reporters Without Borders press...</td>\n",
              "      <td>Brussels: Bomb alert at shopping centre sparks...</td>\n",
              "      <td>Australian Paralympian Liesl Tesch robbed at g...</td>\n",
              "      <td>China issues orders to demolish Buddhist 'town...</td>\n",
              "      <td>Gazans squeezed by triple taxes as Hamas repla...</td>\n",
              "      <td>US and Russian fighters in dramatic showdown o...</td>\n",
              "      <td>Rising Tide of 'Politically Acceptable' Killin...</td>\n",
              "      <td>Mexico teachers protest: Six people are dead a...</td>\n",
              "      <td>Canada is set to launch a paid whistleblower p...</td>\n",
              "      <td>Russian football fan leader Alexander Shprygin...</td>\n",
              "    </tr>\n",
              "    <tr>\n",
              "      <th>2016-06-22</th>\n",
              "      <td>0</td>\n",
              "      <td>German government agrees to ban fracking indef...</td>\n",
              "      <td>Teenage recruits were raped by staff and force...</td>\n",
              "      <td>Pakistan is selling nuclear materials to N Kor...</td>\n",
              "      <td>Amazon jaguar shot dead at Olympic torch ceremony</td>\n",
              "      <td>Mexican flags raised around Donald Trump's gol...</td>\n",
              "      <td>EU smashes 2020 emissions target six years ear...</td>\n",
              "      <td>Police kill eight striking Mexican teachers as...</td>\n",
              "      <td>Pro-choice activists have delivered abortion p...</td>\n",
              "      <td>A French football fan shoved an 18cm-long flar...</td>\n",
              "      <td>Indian space agency ISRO launches 20 satellite...</td>\n",
              "      <td>Japanese power company TEPCO admits it lied ab...</td>\n",
              "      <td>Murdoch's News Corp buys 72 regional newspaper...</td>\n",
              "      <td>\"Europe's growing army of robot workers could ...</td>\n",
              "      <td>Intel Fights Record $1.2 Billion Antitrust Fin...</td>\n",
              "      <td>Russian security service conducts raids on Chu...</td>\n",
              "      <td>Turkish students and graduates from 370 school...</td>\n",
              "      <td>Japan Election Campaign Kicks off, Voting Age ...</td>\n",
              "      <td>Moscow has signed an agreement with Los Angele...</td>\n",
              "      <td>TEPCO admits meltdown cover-up - The president...</td>\n",
              "      <td>Indian State Grants Jews Minority Status - Ind...</td>\n",
              "      <td>Canadian Rescue Plane successfully reaches Sou...</td>\n",
              "      <td>The Swedish parliament on Tuesday voted in fav...</td>\n",
              "      <td>French police teargas migrants trying to board...</td>\n",
              "      <td>Qawwali musician Amjad Sabri was shot dead in ...</td>\n",
              "      <td>N. Korea launches what appears to be Musudan m...</td>\n",
              "    </tr>\n",
              "    <tr>\n",
              "      <th>2016-06-23</th>\n",
              "      <td>1</td>\n",
              "      <td>Today The United Kingdom decides whether to re...</td>\n",
              "      <td>E-cigarettes should not be banned in public, m...</td>\n",
              "      <td>Report: China is still harvesting organs from ...</td>\n",
              "      <td>Man opens fire at cinema complex in Germany, s...</td>\n",
              "      <td>Erdoan: Europe, you dont want us because were ...</td>\n",
              "      <td>Asian millionaires now control more wealth tha...</td>\n",
              "      <td>A Japanese porn industry association has apolo...</td>\n",
              "      <td>University students are being warned when clas...</td>\n",
              "      <td>Afghan interpreters 'betrayed' by UK and US</td>\n",
              "      <td>Contagious cancer cells are spreading between ...</td>\n",
              "      <td>51 Killed in China by Powerful Tornado</td>\n",
              "      <td>Teacher Killings Ignite Calls for Revolution i...</td>\n",
              "      <td>Solar plane lands in Spain after three-day Atl...</td>\n",
              "      <td>Brexit supporters urged to take own pens to po...</td>\n",
              "      <td>Cities forge world's largest alliance to curb ...</td>\n",
              "      <td>Colombia, FARC announce full ceasefire, 'last ...</td>\n",
              "      <td>Gunmen kill Sufi devotional singer Amjad Sabri...</td>\n",
              "      <td>India launches 20 satellites in single mission</td>\n",
              "      <td>F-16s to be manufactured soon in an assembly l...</td>\n",
              "      <td>Australia's gun laws stopped mass shootings an...</td>\n",
              "      <td>French cement company in Syria buys oil from I...</td>\n",
              "      <td>Pope to visit Armenia after irking Turkey with...</td>\n",
              "      <td>Merkel says NATO must be strengthened</td>\n",
              "      <td>China cracks down on online comments, click-ba...</td>\n",
              "      <td>The prime minister of India is set to get a br...</td>\n",
              "    </tr>\n",
              "    <tr>\n",
              "      <th>2016-06-24</th>\n",
              "      <td>0</td>\n",
              "      <td>David Cameron to Resign as PM After EU Referendum</td>\n",
              "      <td>BBC forecasts UK votes to Leave the European U...</td>\n",
              "      <td>Nicola Sturgeon says a second independence ref...</td>\n",
              "      <td>It's official. Britain votes to leave the Euro...</td>\n",
              "      <td>World's Largest Tibetan Buddhist Institute Ord...</td>\n",
              "      <td>Not a single place in Scotland voted to leave ...</td>\n",
              "      <td>Rich Getting Richer at the Expense of the Poor...</td>\n",
              "      <td>Spanish minister calls for Gibraltar to be ret...</td>\n",
              "      <td>British Pound drops nearly 5% in minutes follo...</td>\n",
              "      <td>J.K. Rowling leads the charge for Scottish ind...</td>\n",
              "      <td>Buenos Aires zoo to close after 140 years: 'Ca...</td>\n",
              "      <td>Northern Ireland's Deputy First Minister calls...</td>\n",
              "      <td>Polls close | Brexit polling day as it happened</td>\n",
              "      <td>Brexit: Petition for second EU referendum so p...</td>\n",
              "      <td>North Korea printing massive amounts of fake C...</td>\n",
              "      <td>Sinn Fein calls for a referendum on Irish reun...</td>\n",
              "      <td>$70 billion wiped off the Australian sharemark...</td>\n",
              "      <td>Nigel Farage disowns Vote Leave '350m for the ...</td>\n",
              "      <td>Top EU leader: we want Britain out as soon as ...</td>\n",
              "      <td>Nigel Farage: 350 million pledge to fund the N...</td>\n",
              "      <td>Thousands of London banking job cuts to start ...</td>\n",
              "      <td>Google says there was a large spike in searche...</td>\n",
              "      <td>EU referendum; Gibraltar backs Remain with 94%...</td>\n",
              "      <td>After Brexit, U.K. Residents Google 'What Is T...</td>\n",
              "      <td>A Turkish man has been found guilty of insulti...</td>\n",
              "    </tr>\n",
              "  </tbody>\n",
              "</table>\n",
              "</div>"
            ],
            "text/plain": [
              "            Label  ...                                            News_25\n",
              "Date               ...                                                   \n",
              "2016-06-20      1  ...  Wikileaks founder Julian Assange marks 5 years...\n",
              "2016-06-21      1  ...  Russian football fan leader Alexander Shprygin...\n",
              "2016-06-22      0  ...  N. Korea launches what appears to be Musudan m...\n",
              "2016-06-23      1  ...  The prime minister of India is set to get a br...\n",
              "2016-06-24      0  ...  A Turkish man has been found guilty of insulti...\n",
              "\n",
              "[5 rows x 26 columns]"
            ]
          },
          "metadata": {
            "tags": []
          },
          "execution_count": 44
        }
      ]
    },
    {
      "cell_type": "code",
      "metadata": {
        "colab": {
          "base_uri": "https://localhost:8080/",
          "height": 204
        },
        "id": "DI83WRXt-foT",
        "outputId": "18f964d0-bf2a-466c-a8af-de4371bf0974"
      },
      "source": [
        "# create new dataset without the dates\n",
        "news_sum = []\n",
        "label_sum = []\n",
        "\n",
        "# Get the column names\n",
        "combined_column_names = []\n",
        "for column in df_for_test.columns:\n",
        "  combined_column_names.append(column)\n",
        "\n",
        "# Connect the merged news with the labels\n",
        "for column in range(len(df_for_test)):\n",
        "  for row in range(len(combined_column_names) - 1):\n",
        "    news_sum.append(df_for_test[combined_column_names[row + 1]][column])\n",
        "    label_sum.append(df_for_test[combined_column_names[0]][column])\n",
        "\n",
        "# Create the new DataFrame\n",
        "df_sum_news_labels = pd.DataFrame(data = label_sum, index = None, columns = [\"Label\"])\n",
        "df_sum_news_labels[\"News\"] = news_sum\n",
        "\n",
        "# Show it\n",
        "df_sum_news_labels.head()"
      ],
      "execution_count": 45,
      "outputs": [
        {
          "output_type": "execute_result",
          "data": {
            "text/html": [
              "<div>\n",
              "<style scoped>\n",
              "    .dataframe tbody tr th:only-of-type {\n",
              "        vertical-align: middle;\n",
              "    }\n",
              "\n",
              "    .dataframe tbody tr th {\n",
              "        vertical-align: top;\n",
              "    }\n",
              "\n",
              "    .dataframe thead th {\n",
              "        text-align: right;\n",
              "    }\n",
              "</style>\n",
              "<table border=\"1\" class=\"dataframe\">\n",
              "  <thead>\n",
              "    <tr style=\"text-align: right;\">\n",
              "      <th></th>\n",
              "      <th>Label</th>\n",
              "      <th>News</th>\n",
              "    </tr>\n",
              "  </thead>\n",
              "  <tbody>\n",
              "    <tr>\n",
              "      <th>0</th>\n",
              "      <td>1</td>\n",
              "      <td>A staggering 87 percent of Venezuelans say the...</td>\n",
              "    </tr>\n",
              "    <tr>\n",
              "      <th>1</th>\n",
              "      <td>1</td>\n",
              "      <td>Two corporate whistleblowers may enter into pl...</td>\n",
              "    </tr>\n",
              "    <tr>\n",
              "      <th>2</th>\n",
              "      <td>1</td>\n",
              "      <td>Poland, together with Russia, Iran, and severa...</td>\n",
              "    </tr>\n",
              "    <tr>\n",
              "      <th>3</th>\n",
              "      <td>1</td>\n",
              "      <td>Three environmental activists were killed per ...</td>\n",
              "    </tr>\n",
              "    <tr>\n",
              "      <th>4</th>\n",
              "      <td>1</td>\n",
              "      <td>Ontario funeral business dissolves the dead, p...</td>\n",
              "    </tr>\n",
              "  </tbody>\n",
              "</table>\n",
              "</div>"
            ],
            "text/plain": [
              "   Label                                               News\n",
              "0      1  A staggering 87 percent of Venezuelans say the...\n",
              "1      1  Two corporate whistleblowers may enter into pl...\n",
              "2      1  Poland, together with Russia, Iran, and severa...\n",
              "3      1  Three environmental activists were killed per ...\n",
              "4      1  Ontario funeral business dissolves the dead, p..."
            ]
          },
          "metadata": {
            "tags": []
          },
          "execution_count": 45
        }
      ]
    },
    {
      "cell_type": "code",
      "metadata": {
        "colab": {
          "base_uri": "https://localhost:8080/"
        },
        "id": "0QM_Z1Vd-hue",
        "outputId": "251c5c57-030c-4700-aae0-ee0ae5547013"
      },
      "source": [
        "# check and delete the null length cells\n",
        "news_sum = df_sum_news_labels[\"News\"]\n",
        "null_indexes = []\n",
        "index = 0\n",
        "\n",
        "for line in news_sum:\n",
        "  if line is \"\":\n",
        "    null_indexes.append(index)\n",
        "  index = index + 1\n",
        "\n",
        "print(null_indexes)\n",
        "\n",
        "for row in null_indexes:\n",
        "  df_sum_news_labels = df_sum_news_labels.drop(row)\n",
        "\n",
        "news_sum = df_sum_news_labels[\"News\"]\n",
        "null_indexes = []\n",
        "index = 0\n",
        "\n",
        "for line in news_sum:\n",
        "  if line is \"\":\n",
        "    null_indexes.append(index)\n",
        "  index = index + 1\n",
        "  \n",
        "assert len(null_indexes) is 0"
      ],
      "execution_count": 46,
      "outputs": [
        {
          "output_type": "stream",
          "text": [
            "[]\n"
          ],
          "name": "stdout"
        }
      ]
    },
    {
      "cell_type": "code",
      "metadata": {
        "colab": {
          "base_uri": "https://localhost:8080/",
          "height": 419
        },
        "id": "Prj2I7w7-jFL",
        "outputId": "1547a453-b03c-4fce-c6fa-ea7bd9b9e346"
      },
      "source": [
        "df_sum_news_labels"
      ],
      "execution_count": 47,
      "outputs": [
        {
          "output_type": "execute_result",
          "data": {
            "text/html": [
              "<div>\n",
              "<style scoped>\n",
              "    .dataframe tbody tr th:only-of-type {\n",
              "        vertical-align: middle;\n",
              "    }\n",
              "\n",
              "    .dataframe tbody tr th {\n",
              "        vertical-align: top;\n",
              "    }\n",
              "\n",
              "    .dataframe thead th {\n",
              "        text-align: right;\n",
              "    }\n",
              "</style>\n",
              "<table border=\"1\" class=\"dataframe\">\n",
              "  <thead>\n",
              "    <tr style=\"text-align: right;\">\n",
              "      <th></th>\n",
              "      <th>Label</th>\n",
              "      <th>News</th>\n",
              "    </tr>\n",
              "  </thead>\n",
              "  <tbody>\n",
              "    <tr>\n",
              "      <th>0</th>\n",
              "      <td>1</td>\n",
              "      <td>A staggering 87 percent of Venezuelans say the...</td>\n",
              "    </tr>\n",
              "    <tr>\n",
              "      <th>1</th>\n",
              "      <td>1</td>\n",
              "      <td>Two corporate whistleblowers may enter into pl...</td>\n",
              "    </tr>\n",
              "    <tr>\n",
              "      <th>2</th>\n",
              "      <td>1</td>\n",
              "      <td>Poland, together with Russia, Iran, and severa...</td>\n",
              "    </tr>\n",
              "    <tr>\n",
              "      <th>3</th>\n",
              "      <td>1</td>\n",
              "      <td>Three environmental activists were killed per ...</td>\n",
              "    </tr>\n",
              "    <tr>\n",
              "      <th>4</th>\n",
              "      <td>1</td>\n",
              "      <td>Ontario funeral business dissolves the dead, p...</td>\n",
              "    </tr>\n",
              "    <tr>\n",
              "      <th>...</th>\n",
              "      <td>...</td>\n",
              "      <td>...</td>\n",
              "    </tr>\n",
              "    <tr>\n",
              "      <th>245</th>\n",
              "      <td>1</td>\n",
              "      <td>Philippines president Rodrigo Duterte urges pe...</td>\n",
              "    </tr>\n",
              "    <tr>\n",
              "      <th>246</th>\n",
              "      <td>1</td>\n",
              "      <td>Spain arrests three Pakistanis accused of prom...</td>\n",
              "    </tr>\n",
              "    <tr>\n",
              "      <th>247</th>\n",
              "      <td>1</td>\n",
              "      <td>Venezuela, where anger over food shortages is ...</td>\n",
              "    </tr>\n",
              "    <tr>\n",
              "      <th>248</th>\n",
              "      <td>1</td>\n",
              "      <td>A Hindu temple worker has been killed by three...</td>\n",
              "    </tr>\n",
              "    <tr>\n",
              "      <th>249</th>\n",
              "      <td>1</td>\n",
              "      <td>Ozone layer hole seems to be healing - US &amp;amp...</td>\n",
              "    </tr>\n",
              "  </tbody>\n",
              "</table>\n",
              "<p>250 rows × 2 columns</p>\n",
              "</div>"
            ],
            "text/plain": [
              "     Label                                               News\n",
              "0        1  A staggering 87 percent of Venezuelans say the...\n",
              "1        1  Two corporate whistleblowers may enter into pl...\n",
              "2        1  Poland, together with Russia, Iran, and severa...\n",
              "3        1  Three environmental activists were killed per ...\n",
              "4        1  Ontario funeral business dissolves the dead, p...\n",
              "..     ...                                                ...\n",
              "245      1  Philippines president Rodrigo Duterte urges pe...\n",
              "246      1  Spain arrests three Pakistanis accused of prom...\n",
              "247      1  Venezuela, where anger over food shortages is ...\n",
              "248      1  A Hindu temple worker has been killed by three...\n",
              "249      1  Ozone layer hole seems to be healing - US &amp...\n",
              "\n",
              "[250 rows x 2 columns]"
            ]
          },
          "metadata": {
            "tags": []
          },
          "execution_count": 47
        }
      ]
    },
    {
      "cell_type": "code",
      "metadata": {
        "id": "7C7nNVwf-kz_"
      },
      "source": [
        "def predict_sentiment(model, tokenizer, sentence):\n",
        "    model.eval()\n",
        "    tokens = tokenizer.tokenize(sentence)\n",
        "    indexed = [init_token_idx] + tokenizer.convert_tokens_to_ids(tokens) + [eos_token_idx]\n",
        "    tensor = torch.LongTensor(indexed).to(device)\n",
        "    tensor = tensor.unsqueeze(0)\n",
        "    prediction = torch.sigmoid(model(tensor))\n",
        "    return prediction.item()"
      ],
      "execution_count": 49,
      "outputs": []
    },
    {
      "cell_type": "code",
      "metadata": {
        "colab": {
          "base_uri": "https://localhost:8080/"
        },
        "id": "UbejW-sj-p-e",
        "outputId": "ab3e858c-249a-429a-e9b9-a61c5be17c16"
      },
      "source": [
        "predict_raw = []\n",
        "predict_label = []\n",
        "\n",
        "for row in range(int(len(df_sum_news_labels) / 25)):\n",
        "    for i in range(25):\n",
        "        sent_temp += predict_sentiment(model, tokenizer, df_sum_news_labels[\"News\"][row * 25 + i])\n",
        "    \n",
        "    sent_temp = sent_temp / 25\n",
        "    predict_raw.append(sent_temp)\n",
        "    predict_label.append(round(sent_temp))\n",
        "\n",
        "print(predict_raw)\n",
        "print(\"\\n\\n\")\n",
        "print(predict_label)"
      ],
      "execution_count": 60,
      "outputs": [
        {
          "output_type": "stream",
          "text": [
            "[0.5551511381590113, 0.5336835767210474, 0.5376930442864932, 0.5351568122999479, 0.5428021250577634, 0.5459572434362248, 0.5493350794312813, 0.5376393718337912, 0.5294230195793148, 0.533707970034729]\n",
            "\n",
            "\n",
            "\n",
            "[1, 1, 1, 1, 1, 1, 1, 1, 1, 1]\n"
          ],
          "name": "stdout"
        }
      ]
    },
    {
      "cell_type": "code",
      "metadata": {
        "colab": {
          "base_uri": "https://localhost:8080/",
          "height": 390
        },
        "id": "rXhbHkSr-rhZ",
        "outputId": "4c1567d7-587f-47a2-f14a-39254540fd4a"
      },
      "source": [
        "# create the table\n",
        "df_result = df_for_test.drop(df_for_test.columns[1:26],  axis=1)\n",
        "\n",
        "df_result[\"Raw\"] = predict_raw\n",
        "df_result[\"Sentiment\"] = predict_label\n",
        "\n",
        "match = []\n",
        "for row in range(len(df_result)):\n",
        "    if df_result[\"Label\"][row] == df_result[\"Sentiment\"][row]:\n",
        "        match.append(1)\n",
        "    else:\n",
        "        match.append(0)\n",
        "\n",
        "df_result[\"Match\"] = match\n",
        "\n",
        "df_result"
      ],
      "execution_count": 64,
      "outputs": [
        {
          "output_type": "execute_result",
          "data": {
            "text/html": [
              "<div>\n",
              "<style scoped>\n",
              "    .dataframe tbody tr th:only-of-type {\n",
              "        vertical-align: middle;\n",
              "    }\n",
              "\n",
              "    .dataframe tbody tr th {\n",
              "        vertical-align: top;\n",
              "    }\n",
              "\n",
              "    .dataframe thead th {\n",
              "        text-align: right;\n",
              "    }\n",
              "</style>\n",
              "<table border=\"1\" class=\"dataframe\">\n",
              "  <thead>\n",
              "    <tr style=\"text-align: right;\">\n",
              "      <th></th>\n",
              "      <th>Label</th>\n",
              "      <th>Raw</th>\n",
              "      <th>Sentiment</th>\n",
              "      <th>Match</th>\n",
              "    </tr>\n",
              "    <tr>\n",
              "      <th>Date</th>\n",
              "      <th></th>\n",
              "      <th></th>\n",
              "      <th></th>\n",
              "      <th></th>\n",
              "    </tr>\n",
              "  </thead>\n",
              "  <tbody>\n",
              "    <tr>\n",
              "      <th>2016-06-20</th>\n",
              "      <td>1</td>\n",
              "      <td>0.555151</td>\n",
              "      <td>1</td>\n",
              "      <td>1</td>\n",
              "    </tr>\n",
              "    <tr>\n",
              "      <th>2016-06-21</th>\n",
              "      <td>1</td>\n",
              "      <td>0.533684</td>\n",
              "      <td>1</td>\n",
              "      <td>1</td>\n",
              "    </tr>\n",
              "    <tr>\n",
              "      <th>2016-06-22</th>\n",
              "      <td>0</td>\n",
              "      <td>0.537693</td>\n",
              "      <td>1</td>\n",
              "      <td>0</td>\n",
              "    </tr>\n",
              "    <tr>\n",
              "      <th>2016-06-23</th>\n",
              "      <td>1</td>\n",
              "      <td>0.535157</td>\n",
              "      <td>1</td>\n",
              "      <td>1</td>\n",
              "    </tr>\n",
              "    <tr>\n",
              "      <th>2016-06-24</th>\n",
              "      <td>0</td>\n",
              "      <td>0.542802</td>\n",
              "      <td>1</td>\n",
              "      <td>0</td>\n",
              "    </tr>\n",
              "    <tr>\n",
              "      <th>2016-06-27</th>\n",
              "      <td>0</td>\n",
              "      <td>0.545957</td>\n",
              "      <td>1</td>\n",
              "      <td>0</td>\n",
              "    </tr>\n",
              "    <tr>\n",
              "      <th>2016-06-28</th>\n",
              "      <td>1</td>\n",
              "      <td>0.549335</td>\n",
              "      <td>1</td>\n",
              "      <td>1</td>\n",
              "    </tr>\n",
              "    <tr>\n",
              "      <th>2016-06-29</th>\n",
              "      <td>1</td>\n",
              "      <td>0.537639</td>\n",
              "      <td>1</td>\n",
              "      <td>1</td>\n",
              "    </tr>\n",
              "    <tr>\n",
              "      <th>2016-06-30</th>\n",
              "      <td>1</td>\n",
              "      <td>0.529423</td>\n",
              "      <td>1</td>\n",
              "      <td>1</td>\n",
              "    </tr>\n",
              "    <tr>\n",
              "      <th>2016-07-01</th>\n",
              "      <td>1</td>\n",
              "      <td>0.533708</td>\n",
              "      <td>1</td>\n",
              "      <td>1</td>\n",
              "    </tr>\n",
              "  </tbody>\n",
              "</table>\n",
              "</div>"
            ],
            "text/plain": [
              "            Label       Raw  Sentiment  Match\n",
              "Date                                         \n",
              "2016-06-20      1  0.555151          1      1\n",
              "2016-06-21      1  0.533684          1      1\n",
              "2016-06-22      0  0.537693          1      0\n",
              "2016-06-23      1  0.535157          1      1\n",
              "2016-06-24      0  0.542802          1      0\n",
              "2016-06-27      0  0.545957          1      0\n",
              "2016-06-28      1  0.549335          1      1\n",
              "2016-06-29      1  0.537639          1      1\n",
              "2016-06-30      1  0.529423          1      1\n",
              "2016-07-01      1  0.533708          1      1"
            ]
          },
          "metadata": {
            "tags": []
          },
          "execution_count": 64
        }
      ]
    }
  ]
}