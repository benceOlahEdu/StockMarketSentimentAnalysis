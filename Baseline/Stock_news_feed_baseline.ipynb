{
  "nbformat": 4,
  "nbformat_minor": 0,
  "metadata": {
    "colab": {
      "name": "Stock_news_feed_baseline.ipynb",
      "provenance": [],
      "collapsed_sections": [],
      "toc_visible": true
    },
    "kernelspec": {
      "name": "python3",
      "display_name": "Python 3"
    },
    "accelerator": "GPU"
  },
  "cells": [
    {
      "cell_type": "markdown",
      "metadata": {
        "id": "NbcQruJGnwFi"
      },
      "source": [
        "# **[Baseline] Stock market news feed semantic analysis**"
      ]
    },
    {
      "cell_type": "markdown",
      "metadata": {
        "id": "C6EoGVRApZJb"
      },
      "source": [
        "A Drive csatlakoztatása"
      ]
    },
    {
      "cell_type": "code",
      "metadata": {
        "colab": {
          "base_uri": "https://localhost:8080/"
        },
        "id": "0rIzLC3vpbgx",
        "outputId": "32fb741f-b308-4a96-e4cb-40dbe2304c2c"
      },
      "source": [
        "from google.colab import drive\r\n",
        "drive.mount('/content/drive')"
      ],
      "execution_count": 1,
      "outputs": [
        {
          "output_type": "stream",
          "text": [
            "Mounted at /content/drive\n"
          ],
          "name": "stdout"
        }
      ]
    },
    {
      "cell_type": "markdown",
      "metadata": {
        "id": "vGgyqUhRpn6B"
      },
      "source": [
        "A dataset beolvasása."
      ]
    },
    {
      "cell_type": "code",
      "metadata": {
        "id": "iinYsd9Apq3y"
      },
      "source": [
        "!cp \"/content/drive/MyDrive/Combined_News_DJIA.csv\" \"Combined_News_DJIA.csv\""
      ],
      "execution_count": 2,
      "outputs": []
    },
    {
      "cell_type": "code",
      "metadata": {
        "id": "zhhG9UvlsDiM"
      },
      "source": [
        "# Check the copy is succesfull\r\n",
        "read = !ls\r\n",
        "\r\n",
        "assert read[0].find(\"Combined_News_DJIA.csv\") != -1"
      ],
      "execution_count": 3,
      "outputs": []
    },
    {
      "cell_type": "markdown",
      "metadata": {
        "id": "s6nkvMlCnrZI"
      },
      "source": [
        "A szükséges csomagok betöltése."
      ]
    },
    {
      "cell_type": "code",
      "metadata": {
        "id": "dxWJkBzknq6j"
      },
      "source": [
        "# Import the libraries \r\n",
        "import pandas as pd\r\n",
        "import numpy as np\r\n",
        "import pandas_datareader as web\r\n",
        "import matplotlib.pyplot as plt\r\n",
        "import string"
      ],
      "execution_count": 4,
      "outputs": []
    },
    {
      "cell_type": "markdown",
      "metadata": {
        "id": "_1xI0_ainbwF"
      },
      "source": [
        "A DJIA részvényhez tartozó árfolyam adatok letöltése 2008-06-08 és 2016-07-01 között, majd ezek megjelenítése."
      ]
    },
    {
      "cell_type": "code",
      "metadata": {
        "colab": {
          "base_uri": "https://localhost:8080/",
          "height": 431
        },
        "id": "CCVo-nGgk847",
        "outputId": "4c68508e-d18c-444c-c280-2ae6e91d942e"
      },
      "source": [
        "# Load the stock data\r\n",
        "df_stock = web.DataReader('DJIA', data_source='yahoo', start='2008-08-08', \r\n",
        "                          end='2016-07-01')\r\n",
        " \r\n",
        "# Show the stock data\r\n",
        "df_stock"
      ],
      "execution_count": 5,
      "outputs": [
        {
          "output_type": "execute_result",
          "data": {
            "text/html": [
              "<div>\n",
              "<style scoped>\n",
              "    .dataframe tbody tr th:only-of-type {\n",
              "        vertical-align: middle;\n",
              "    }\n",
              "\n",
              "    .dataframe tbody tr th {\n",
              "        vertical-align: top;\n",
              "    }\n",
              "\n",
              "    .dataframe thead th {\n",
              "        text-align: right;\n",
              "    }\n",
              "</style>\n",
              "<table border=\"1\" class=\"dataframe\">\n",
              "  <thead>\n",
              "    <tr style=\"text-align: right;\">\n",
              "      <th></th>\n",
              "      <th>High</th>\n",
              "      <th>Low</th>\n",
              "      <th>Open</th>\n",
              "      <th>Close</th>\n",
              "      <th>Volume</th>\n",
              "      <th>Adj Close</th>\n",
              "    </tr>\n",
              "    <tr>\n",
              "      <th>Date</th>\n",
              "      <th></th>\n",
              "      <th></th>\n",
              "      <th></th>\n",
              "      <th></th>\n",
              "      <th></th>\n",
              "      <th></th>\n",
              "    </tr>\n",
              "  </thead>\n",
              "  <tbody>\n",
              "    <tr>\n",
              "      <th>2008-08-08</th>\n",
              "      <td>11808.490234</td>\n",
              "      <td>11344.230469</td>\n",
              "      <td>11432.089844</td>\n",
              "      <td>11734.320312</td>\n",
              "      <td>4966810000</td>\n",
              "      <td>11734.320312</td>\n",
              "    </tr>\n",
              "    <tr>\n",
              "      <th>2008-08-11</th>\n",
              "      <td>11933.549805</td>\n",
              "      <td>11580.190430</td>\n",
              "      <td>11729.669922</td>\n",
              "      <td>11782.349609</td>\n",
              "      <td>5067310000</td>\n",
              "      <td>11782.349609</td>\n",
              "    </tr>\n",
              "    <tr>\n",
              "      <th>2008-08-12</th>\n",
              "      <td>11830.389648</td>\n",
              "      <td>11541.429688</td>\n",
              "      <td>11781.700195</td>\n",
              "      <td>11642.469727</td>\n",
              "      <td>4711290000</td>\n",
              "      <td>11642.469727</td>\n",
              "    </tr>\n",
              "    <tr>\n",
              "      <th>2008-08-13</th>\n",
              "      <td>11689.049805</td>\n",
              "      <td>11377.370117</td>\n",
              "      <td>11632.809570</td>\n",
              "      <td>11532.959961</td>\n",
              "      <td>4787600000</td>\n",
              "      <td>11532.959961</td>\n",
              "    </tr>\n",
              "    <tr>\n",
              "      <th>2008-08-14</th>\n",
              "      <td>11744.330078</td>\n",
              "      <td>11399.839844</td>\n",
              "      <td>11532.070312</td>\n",
              "      <td>11615.929688</td>\n",
              "      <td>4064000000</td>\n",
              "      <td>11615.929688</td>\n",
              "    </tr>\n",
              "    <tr>\n",
              "      <th>...</th>\n",
              "      <td>...</td>\n",
              "      <td>...</td>\n",
              "      <td>...</td>\n",
              "      <td>...</td>\n",
              "      <td>...</td>\n",
              "      <td>...</td>\n",
              "    </tr>\n",
              "    <tr>\n",
              "      <th>2016-06-27</th>\n",
              "      <td>17355.210938</td>\n",
              "      <td>17005.439453</td>\n",
              "      <td>17355.210938</td>\n",
              "      <td>17140.240234</td>\n",
              "      <td>5431220000</td>\n",
              "      <td>17140.240234</td>\n",
              "    </tr>\n",
              "    <tr>\n",
              "      <th>2016-06-28</th>\n",
              "      <td>17453.929688</td>\n",
              "      <td>17174.960938</td>\n",
              "      <td>17190.509766</td>\n",
              "      <td>17409.720703</td>\n",
              "      <td>4385810000</td>\n",
              "      <td>17409.720703</td>\n",
              "    </tr>\n",
              "    <tr>\n",
              "      <th>2016-06-29</th>\n",
              "      <td>17737.380859</td>\n",
              "      <td>17456.019531</td>\n",
              "      <td>17456.019531</td>\n",
              "      <td>17694.679688</td>\n",
              "      <td>4241740000</td>\n",
              "      <td>17694.679688</td>\n",
              "    </tr>\n",
              "    <tr>\n",
              "      <th>2016-06-30</th>\n",
              "      <td>17970.259766</td>\n",
              "      <td>17647.189453</td>\n",
              "      <td>17719.539062</td>\n",
              "      <td>17929.990234</td>\n",
              "      <td>4622820000</td>\n",
              "      <td>17929.990234</td>\n",
              "    </tr>\n",
              "    <tr>\n",
              "      <th>2016-07-01</th>\n",
              "      <td>18064.220703</td>\n",
              "      <td>17856.029297</td>\n",
              "      <td>17924.240234</td>\n",
              "      <td>17949.369141</td>\n",
              "      <td>3458890000</td>\n",
              "      <td>17949.369141</td>\n",
              "    </tr>\n",
              "  </tbody>\n",
              "</table>\n",
              "<p>1989 rows × 6 columns</p>\n",
              "</div>"
            ],
            "text/plain": [
              "                    High           Low  ...      Volume     Adj Close\n",
              "Date                                    ...                          \n",
              "2008-08-08  11808.490234  11344.230469  ...  4966810000  11734.320312\n",
              "2008-08-11  11933.549805  11580.190430  ...  5067310000  11782.349609\n",
              "2008-08-12  11830.389648  11541.429688  ...  4711290000  11642.469727\n",
              "2008-08-13  11689.049805  11377.370117  ...  4787600000  11532.959961\n",
              "2008-08-14  11744.330078  11399.839844  ...  4064000000  11615.929688\n",
              "...                  ...           ...  ...         ...           ...\n",
              "2016-06-27  17355.210938  17005.439453  ...  5431220000  17140.240234\n",
              "2016-06-28  17453.929688  17174.960938  ...  4385810000  17409.720703\n",
              "2016-06-29  17737.380859  17456.019531  ...  4241740000  17694.679688\n",
              "2016-06-30  17970.259766  17647.189453  ...  4622820000  17929.990234\n",
              "2016-07-01  18064.220703  17856.029297  ...  3458890000  17949.369141\n",
              "\n",
              "[1989 rows x 6 columns]"
            ]
          },
          "metadata": {
            "tags": []
          },
          "execution_count": 5
        }
      ]
    },
    {
      "cell_type": "code",
      "metadata": {
        "colab": {
          "base_uri": "https://localhost:8080/",
          "height": 521
        },
        "id": "MgteWmVaoPmW",
        "outputId": "877a5945-7f51-44b3-8ba0-4ded6f21940b"
      },
      "source": [
        "# Visualize the closing price history\r\n",
        "plt.figure(figsize=(16,8))\r\n",
        "plt.title('Close Price History')\r\n",
        "plt.plot(df_stock['Close'])\r\n",
        "plt.xlabel('Date',fontsize=18)\r\n",
        "plt.ylabel('Close Price USD ($)',fontsize=18)\r\n",
        "plt.show()"
      ],
      "execution_count": 6,
      "outputs": [
        {
          "output_type": "display_data",
          "data": {
            "image/png": "[encoded data removed]",
            "text/plain": [
              "<Figure size 1152x576 with 1 Axes>"
            ]
          },
          "metadata": {
            "tags": [],
            "needs_background": "light"
          }
        }
      ]
    },
    {
      "cell_type": "markdown",
      "metadata": {
        "id": "d0rOb8wLsQBK"
      },
      "source": [
        "A Dataset betöltése. A hírek 2008-08-08-tól 2016-07-01-ig tartanak."
      ]
    },
    {
      "cell_type": "code",
      "metadata": {
        "colab": {
          "base_uri": "https://localhost:8080/",
          "height": 1000
        },
        "id": "hPJK0MvSsSt0",
        "outputId": "13104bc9-c2c9-48a3-9c5e-5f718b5c6449"
      },
      "source": [
        "df_combined = pd.read_csv('Combined_News_DJIA.csv', index_col = \"Date\")\r\n",
        "\r\n",
        "df_combined"
      ],
      "execution_count": 7,
      "outputs": [
        {
          "output_type": "execute_result",
          "data": {
            "text/html": [
              "<div>\n",
              "<style scoped>\n",
              "    .dataframe tbody tr th:only-of-type {\n",
              "        vertical-align: middle;\n",
              "    }\n",
              "\n",
              "    .dataframe tbody tr th {\n",
              "        vertical-align: top;\n",
              "    }\n",
              "\n",
              "    .dataframe thead th {\n",
              "        text-align: right;\n",
              "    }\n",
              "</style>\n",
              "<table border=\"1\" class=\"dataframe\">\n",
              "  <thead>\n",
              "    <tr style=\"text-align: right;\">\n",
              "      <th></th>\n",
              "      <th>Label</th>\n",
              "      <th>Top1</th>\n",
              "      <th>Top2</th>\n",
              "      <th>Top3</th>\n",
              "      <th>Top4</th>\n",
              "      <th>Top5</th>\n",
              "      <th>Top6</th>\n",
              "      <th>Top7</th>\n",
              "      <th>Top8</th>\n",
              "      <th>Top9</th>\n",
              "      <th>Top10</th>\n",
              "      <th>Top11</th>\n",
              "      <th>Top12</th>\n",
              "      <th>Top13</th>\n",
              "      <th>Top14</th>\n",
              "      <th>Top15</th>\n",
              "      <th>Top16</th>\n",
              "      <th>Top17</th>\n",
              "      <th>Top18</th>\n",
              "      <th>Top19</th>\n",
              "      <th>Top20</th>\n",
              "      <th>Top21</th>\n",
              "      <th>Top22</th>\n",
              "      <th>Top23</th>\n",
              "      <th>Top24</th>\n",
              "      <th>Top25</th>\n",
              "    </tr>\n",
              "    <tr>\n",
              "      <th>Date</th>\n",
              "      <th></th>\n",
              "      <th></th>\n",
              "      <th></th>\n",
              "      <th></th>\n",
              "      <th></th>\n",
              "      <th></th>\n",
              "      <th></th>\n",
              "      <th></th>\n",
              "      <th></th>\n",
              "      <th></th>\n",
              "      <th></th>\n",
              "      <th></th>\n",
              "      <th></th>\n",
              "      <th></th>\n",
              "      <th></th>\n",
              "      <th></th>\n",
              "      <th></th>\n",
              "      <th></th>\n",
              "      <th></th>\n",
              "      <th></th>\n",
              "      <th></th>\n",
              "      <th></th>\n",
              "      <th></th>\n",
              "      <th></th>\n",
              "      <th></th>\n",
              "      <th></th>\n",
              "    </tr>\n",
              "  </thead>\n",
              "  <tbody>\n",
              "    <tr>\n",
              "      <th>2008-08-08</th>\n",
              "      <td>0</td>\n",
              "      <td>b\"Georgia 'downs two Russian warplanes' as cou...</td>\n",
              "      <td>b'BREAKING: Musharraf to be impeached.'</td>\n",
              "      <td>b'Russia Today: Columns of troops roll into So...</td>\n",
              "      <td>b'Russian tanks are moving towards the capital...</td>\n",
              "      <td>b\"Afghan children raped with 'impunity,' U.N. ...</td>\n",
              "      <td>b'150 Russian tanks have entered South Ossetia...</td>\n",
              "      <td>b\"Breaking: Georgia invades South Ossetia, Rus...</td>\n",
              "      <td>b\"The 'enemy combatent' trials are nothing but...</td>\n",
              "      <td>b'Georgian troops retreat from S. Osettain cap...</td>\n",
              "      <td>b'Did the U.S. Prep Georgia for War with Russia?'</td>\n",
              "      <td>b'Rice Gives Green Light for Israel to Attack ...</td>\n",
              "      <td>b'Announcing:Class Action Lawsuit on Behalf of...</td>\n",
              "      <td>b\"So---Russia and Georgia are at war and the N...</td>\n",
              "      <td>b\"China tells Bush to stay out of other countr...</td>\n",
              "      <td>b'Did World War III start today?'</td>\n",
              "      <td>b'Georgia Invades South Ossetia - if Russia ge...</td>\n",
              "      <td>b'Al-Qaeda Faces Islamist Backlash'</td>\n",
              "      <td>b'Condoleezza Rice: \"The US would not act to p...</td>\n",
              "      <td>b'This is a busy day:  The European Union has ...</td>\n",
              "      <td>b\"Georgia will withdraw 1,000 soldiers from Ir...</td>\n",
              "      <td>b'Why the Pentagon Thinks Attacking Iran is a ...</td>\n",
              "      <td>b'Caucasus in crisis: Georgia invades South Os...</td>\n",
              "      <td>b'Indian shoe manufactory  - And again in a se...</td>\n",
              "      <td>b'Visitors Suffering from Mental Illnesses Ban...</td>\n",
              "      <td>b\"No Help for Mexico's Kidnapping Surge\"</td>\n",
              "    </tr>\n",
              "    <tr>\n",
              "      <th>2008-08-11</th>\n",
              "      <td>1</td>\n",
              "      <td>b'Why wont America and Nato help us? If they w...</td>\n",
              "      <td>b'Bush puts foot down on Georgian conflict'</td>\n",
              "      <td>b\"Jewish Georgian minister: Thanks to Israeli ...</td>\n",
              "      <td>b'Georgian army flees in disarray as Russians ...</td>\n",
              "      <td>b\"Olympic opening ceremony fireworks 'faked'\"</td>\n",
              "      <td>b'What were the Mossad with fraudulent New Zea...</td>\n",
              "      <td>b'Russia angered by Israeli military sale to G...</td>\n",
              "      <td>b'An American citizen living in S.Ossetia blam...</td>\n",
              "      <td>b'Welcome To World War IV! Now In High Definit...</td>\n",
              "      <td>b\"Georgia's move, a mistake of monumental prop...</td>\n",
              "      <td>b'Russia presses deeper into Georgia; U.S. say...</td>\n",
              "      <td>b'Abhinav Bindra wins first ever Individual Ol...</td>\n",
              "      <td>b' U.S. ship heads for Arctic to define territ...</td>\n",
              "      <td>b'Drivers in a Jerusalem taxi station threaten...</td>\n",
              "      <td>b'The French Team is Stunned by Phelps and the...</td>\n",
              "      <td>b'Israel and the US behind the Georgian aggres...</td>\n",
              "      <td>b'\"Do not believe TV, neither Russian nor Geor...</td>\n",
              "      <td>b'Riots are still going on in Montreal (Canada...</td>\n",
              "      <td>b'China to overtake US as largest manufacturer'</td>\n",
              "      <td>b'War in South Ossetia [PICS]'</td>\n",
              "      <td>b'Israeli Physicians Group Condemns State Tort...</td>\n",
              "      <td>b' Russia has just beaten the United States ov...</td>\n",
              "      <td>b'Perhaps *the* question about the Georgia - R...</td>\n",
              "      <td>b'Russia is so much better at war'</td>\n",
              "      <td>b\"So this is what it's come to: trading sex fo...</td>\n",
              "    </tr>\n",
              "    <tr>\n",
              "      <th>2008-08-12</th>\n",
              "      <td>0</td>\n",
              "      <td>b'Remember that adorable 9-year-old who sang a...</td>\n",
              "      <td>b\"Russia 'ends Georgia operation'\"</td>\n",
              "      <td>b'\"If we had no sexual harassment we would hav...</td>\n",
              "      <td>b\"Al-Qa'eda is losing support in Iraq because ...</td>\n",
              "      <td>b'Ceasefire in Georgia: Putin Outmaneuvers the...</td>\n",
              "      <td>b'Why Microsoft and Intel tried to kill the XO...</td>\n",
              "      <td>b'Stratfor: The Russo-Georgian War and the Bal...</td>\n",
              "      <td>b\"I'm Trying to Get a Sense of This Whole Geor...</td>\n",
              "      <td>b\"The US military was surprised by the timing ...</td>\n",
              "      <td>b'U.S. Beats War Drum as Iran Dumps the Dollar'</td>\n",
              "      <td>b'Gorbachev: \"Georgian military attacked the S...</td>\n",
              "      <td>b'CNN use footage of Tskhinvali ruins to cover...</td>\n",
              "      <td>b'Beginning a war as the Olympics were opening...</td>\n",
              "      <td>b'55 pyramids as large as the Luxor stacked in...</td>\n",
              "      <td>b'The 11 Top Party Cities in the World'</td>\n",
              "      <td>b'U.S. troops still in Georgia (did you know t...</td>\n",
              "      <td>b'Why Russias response to Georgia was right'</td>\n",
              "      <td>b'Gorbachev accuses U.S. of making a \"serious ...</td>\n",
              "      <td>b'Russia, Georgia, and NATO: Cold War Two'</td>\n",
              "      <td>b'Remember that adorable 62-year-old who led y...</td>\n",
              "      <td>b'War in Georgia: The Israeli connection'</td>\n",
              "      <td>b'All signs point to the US encouraging Georgi...</td>\n",
              "      <td>b'Christopher King argues that the US and NATO...</td>\n",
              "      <td>b'America: The New Mexico?'</td>\n",
              "      <td>b\"BBC NEWS | Asia-Pacific | Extinction 'by man...</td>\n",
              "    </tr>\n",
              "    <tr>\n",
              "      <th>2008-08-13</th>\n",
              "      <td>0</td>\n",
              "      <td>b' U.S. refuses Israel weapons to attack Iran:...</td>\n",
              "      <td>b\"When the president ordered to attack Tskhinv...</td>\n",
              "      <td>b' Israel clears troops who killed Reuters cam...</td>\n",
              "      <td>b'Britain\\'s policy of being tough on drugs is...</td>\n",
              "      <td>b'Body of 14 year old found in trunk; Latest (...</td>\n",
              "      <td>b'China has moved 10 *million* quake survivors...</td>\n",
              "      <td>b\"Bush announces Operation Get All Up In Russi...</td>\n",
              "      <td>b'Russian forces sink Georgian ships '</td>\n",
              "      <td>b\"The commander of a Navy air reconnaissance s...</td>\n",
              "      <td>b\"92% of CNN readers: Russia's actions in Geor...</td>\n",
              "      <td>b'USA to send fleet into Black Sea to help Geo...</td>\n",
              "      <td>b\"US warns against Israeli plan to strike agai...</td>\n",
              "      <td>b\"In an intriguing cyberalliance, two Estonian...</td>\n",
              "      <td>b'The CNN Effect: Georgia Schools Russia in In...</td>\n",
              "      <td>b'Why Russias response to Georgia was right'</td>\n",
              "      <td>b'Elephants extinct by 2020?'</td>\n",
              "      <td>b'US humanitarian missions soon in Georgia - i...</td>\n",
              "      <td>b\"Georgia's DDOS came from US sources\"</td>\n",
              "      <td>b'Russian convoy heads into Georgia, violating...</td>\n",
              "      <td>b'Israeli defence minister: US against strike ...</td>\n",
              "      <td>b'Gorbachev: We Had No Choice'</td>\n",
              "      <td>b'Witness: Russian forces head towards Tbilisi...</td>\n",
              "      <td>b' Quarter of Russians blame U.S. for conflict...</td>\n",
              "      <td>b'Georgian president  says US military will ta...</td>\n",
              "      <td>b'2006: Nobel laureate Aleksander Solzhenitsyn...</td>\n",
              "    </tr>\n",
              "    <tr>\n",
              "      <th>2008-08-14</th>\n",
              "      <td>1</td>\n",
              "      <td>b'All the experts admit that we should legalis...</td>\n",
              "      <td>b'War in South Osetia - 89 pictures made by a ...</td>\n",
              "      <td>b'Swedish wrestler Ara Abrahamian throws away ...</td>\n",
              "      <td>b'Russia exaggerated the death toll in South O...</td>\n",
              "      <td>b'Missile That Killed 9 Inside Pakistan May Ha...</td>\n",
              "      <td>b\"Rushdie Condemns Random House's Refusal to P...</td>\n",
              "      <td>b'Poland and US agree to missle defense deal. ...</td>\n",
              "      <td>b'Will the Russians conquer Tblisi? Bet on it,...</td>\n",
              "      <td>b'Russia exaggerating South Ossetian death tol...</td>\n",
              "      <td>b' Musharraf expected to resign rather than fa...</td>\n",
              "      <td>b'Moscow Made Plans Months Ago to Invade Georgia'</td>\n",
              "      <td>b'Why Russias response to Georgia was right'</td>\n",
              "      <td>b'Nigeria has handed over the potentially oil-...</td>\n",
              "      <td>b'The US and Poland have agreed a preliminary ...</td>\n",
              "      <td>b'Russia apparently is sabotaging infrastructu...</td>\n",
              "      <td>b'Bank analyst forecast Georgian crisis 2 days...</td>\n",
              "      <td>b\"Georgia confict could set back Russia's US r...</td>\n",
              "      <td>b'War in the Caucasus is as much the product o...</td>\n",
              "      <td>b'\"Non-media\" photos of South Ossetia/Georgia ...</td>\n",
              "      <td>b'Georgian TV reporter shot by Russian sniper ...</td>\n",
              "      <td>b'Saudi Arabia: Mother moves to block child ma...</td>\n",
              "      <td>b'Taliban wages war on humanitarian aid workers'</td>\n",
              "      <td>b'Russia: World  \"can forget about\" Georgia\\'s...</td>\n",
              "      <td>b'Darfur rebels accuse Sudan of mounting major...</td>\n",
              "      <td>b'Philippines : Peace Advocate say Muslims nee...</td>\n",
              "    </tr>\n",
              "    <tr>\n",
              "      <th>...</th>\n",
              "      <td>...</td>\n",
              "      <td>...</td>\n",
              "      <td>...</td>\n",
              "      <td>...</td>\n",
              "      <td>...</td>\n",
              "      <td>...</td>\n",
              "      <td>...</td>\n",
              "      <td>...</td>\n",
              "      <td>...</td>\n",
              "      <td>...</td>\n",
              "      <td>...</td>\n",
              "      <td>...</td>\n",
              "      <td>...</td>\n",
              "      <td>...</td>\n",
              "      <td>...</td>\n",
              "      <td>...</td>\n",
              "      <td>...</td>\n",
              "      <td>...</td>\n",
              "      <td>...</td>\n",
              "      <td>...</td>\n",
              "      <td>...</td>\n",
              "      <td>...</td>\n",
              "      <td>...</td>\n",
              "      <td>...</td>\n",
              "      <td>...</td>\n",
              "      <td>...</td>\n",
              "    </tr>\n",
              "    <tr>\n",
              "      <th>2016-06-27</th>\n",
              "      <td>0</td>\n",
              "      <td>Barclays and RBS shares suspended from trading...</td>\n",
              "      <td>Pope says Church should ask forgiveness from g...</td>\n",
              "      <td>Poland 'shocked' by xenophobic abuse of Poles ...</td>\n",
              "      <td>There will be no second referendum, cabinet ag...</td>\n",
              "      <td>Scotland welcome to join EU, Merkel ally says</td>\n",
              "      <td>Sterling dips below Friday's 31-year low amid ...</td>\n",
              "      <td>No negative news about South African President...</td>\n",
              "      <td>Surge in Hate Crimes in the U.K. Following U.K...</td>\n",
              "      <td>Weapons shipped into Jordan by the CIA and Sau...</td>\n",
              "      <td>Angela Merkel said the U.K. must file exit pap...</td>\n",
              "      <td>In a birth offering hope to a threatened speci...</td>\n",
              "      <td>Sky News Journalist Left Speechless As Leave M...</td>\n",
              "      <td>Giant panda in Macau gives birth to twins</td>\n",
              "      <td>Get out now: EU leader tells Britain it must i...</td>\n",
              "      <td>Sea turtle 'beaten and left for dead' on beach...</td>\n",
              "      <td>German lawyers to probe Erdogan over alleged w...</td>\n",
              "      <td>Boris Johnson says the UK will continue to \"in...</td>\n",
              "      <td>Richard Branson is calling on the UK governmen...</td>\n",
              "      <td>Turkey 'sorry for downing Russian jet'</td>\n",
              "      <td>Edward Snowden lawyer vows new push for pardon...</td>\n",
              "      <td>Brexit opinion poll reveals majority don't wan...</td>\n",
              "      <td>Conservative MP Leave Campaigner: \"The leave c...</td>\n",
              "      <td>Economists predict UK recession, further weake...</td>\n",
              "      <td>New EU 'superstate plan by France, Germany: Cr...</td>\n",
              "      <td>Pakistani clerics declare transgender marriage...</td>\n",
              "    </tr>\n",
              "    <tr>\n",
              "      <th>2016-06-28</th>\n",
              "      <td>1</td>\n",
              "      <td>2,500 Scientists To Australia: If You Want To ...</td>\n",
              "      <td>The personal details of 112,000 French police ...</td>\n",
              "      <td>S&amp;amp;P cuts United Kingdom sovereign credit r...</td>\n",
              "      <td>Huge helium deposit found in Africa</td>\n",
              "      <td>CEO of the South African state broadcaster qui...</td>\n",
              "      <td>Brexit cost investors $2 trillion, the worst o...</td>\n",
              "      <td>Hong Kong democracy activists call for return ...</td>\n",
              "      <td>Brexit: Iceland president says UK can join 'tr...</td>\n",
              "      <td>UK's Osborne: 'Absolutely' going to have to cu...</td>\n",
              "      <td>'Do not let Scotland down now' : Scottish MEP ...</td>\n",
              "      <td>British pound could hit history-making dollar ...</td>\n",
              "      <td>Merkel vows to strengthen EU, tells UK no 'che...</td>\n",
              "      <td>\"Ryanair will not deploy new aircraft on route...</td>\n",
              "      <td>People, ever more greedy and stupid, destroy t...</td>\n",
              "      <td>Siemens freezes new UK wind power investment f...</td>\n",
              "      <td>US, Canada and Mexico pledge 50% of power from...</td>\n",
              "      <td>There is increasing evidence that Australia is...</td>\n",
              "      <td>Richard Branson, the founder of Virgin Group, ...</td>\n",
              "      <td>37,000-yr-old skull from Borneo reveals surpri...</td>\n",
              "      <td>Palestinians stone Western Wall worshipers; po...</td>\n",
              "      <td>Jean-Claude Juncker asks Farage: Why are you h...</td>\n",
              "      <td>\"Romanians for Remainians\" offering a new home...</td>\n",
              "      <td>Brexit: Gibraltar in talks with Scotland to st...</td>\n",
              "      <td>8 Suicide Bombers Strike Lebanon</td>\n",
              "      <td>Mexico's security forces routinely use 'sexual...</td>\n",
              "    </tr>\n",
              "    <tr>\n",
              "      <th>2016-06-29</th>\n",
              "      <td>1</td>\n",
              "      <td>Explosion At Airport In Istanbul</td>\n",
              "      <td>Yemeni former president: Terrorism is the offs...</td>\n",
              "      <td>UK must accept freedom of movement to access E...</td>\n",
              "      <td>Devastated: scientists too late to captive bre...</td>\n",
              "      <td>British Labor Party leader Jeremy Corbyn loses...</td>\n",
              "      <td>A Muslim Shop in the UK Was Just Firebombed Wh...</td>\n",
              "      <td>Mexican Authorities Sexually Torture Women in ...</td>\n",
              "      <td>UK shares and pound continue to recover</td>\n",
              "      <td>Iceland historian Johannesson wins presidentia...</td>\n",
              "      <td>99-Million-Yr-Old Bird Wings Found Encased in ...</td>\n",
              "      <td>A chatbot programmed by a British teenager has...</td>\n",
              "      <td>The Philippine president-elect said Monday he ...</td>\n",
              "      <td>Former Belgian Prime Minister ridicules Nigel ...</td>\n",
              "      <td>Brexiteer Nigel Farage To EU: 'You're Not Laug...</td>\n",
              "      <td>Islamic State bombings in southern Yemen kill ...</td>\n",
              "      <td>Escape Tunnel, Dug by Hand, Is Found at Holoca...</td>\n",
              "      <td>The land under Beijing is sinking by as much a...</td>\n",
              "      <td>Car bomb and Anti-Islamic attack on Mosque in ...</td>\n",
              "      <td>Emaciated lions in Taiz Zoo are trapped in blo...</td>\n",
              "      <td>Rupert Murdoch describes Brexit as 'wonderful'...</td>\n",
              "      <td>More than 40 killed in Yemen suicide attacks</td>\n",
              "      <td>Google Found Disastrous Symantec and Norton Vu...</td>\n",
              "      <td>Extremist violence on the rise in Germany: Dom...</td>\n",
              "      <td>BBC News: Labour MPs pass Corbyn no-confidence...</td>\n",
              "      <td>Tiny New Zealand town with 'too many jobs' lau...</td>\n",
              "    </tr>\n",
              "    <tr>\n",
              "      <th>2016-06-30</th>\n",
              "      <td>1</td>\n",
              "      <td>Jamaica proposes marijuana dispensers for tour...</td>\n",
              "      <td>Stephen Hawking says pollution and 'stupidity'...</td>\n",
              "      <td>Boris Johnson says he will not run for Tory pa...</td>\n",
              "      <td>Six gay men in Ivory Coast were abused and for...</td>\n",
              "      <td>Switzerland denies citizenship to Muslim immig...</td>\n",
              "      <td>Palestinian terrorist stabs israeli teen girl ...</td>\n",
              "      <td>Puerto Rico will default on $1 billion of debt...</td>\n",
              "      <td>Republic of Ireland fans to be awarded medal f...</td>\n",
              "      <td>Afghan suicide bomber 'kills up to 40' - BBC News</td>\n",
              "      <td>US airstrikes kill at least 250 ISIS fighters ...</td>\n",
              "      <td>Turkish Cop Who Took Down Istanbul Gunman Hail...</td>\n",
              "      <td>Cannabis compounds could treat Alzheimer's by ...</td>\n",
              "      <td>Japan's top court has approved blanket surveil...</td>\n",
              "      <td>CIA Gave Romania Millions to Host Secret Prisons</td>\n",
              "      <td>Groups urge U.N. to suspend Saudi Arabia from ...</td>\n",
              "      <td>Googles free wifi at Indian railway stations i...</td>\n",
              "      <td>Mounting evidence suggests 'hobbits' were wipe...</td>\n",
              "      <td>The men who carried out Tuesday's terror attac...</td>\n",
              "      <td>Calls to suspend Saudi Arabia from UN Human Ri...</td>\n",
              "      <td>More Than 100 Nobel Laureates Call Out Greenpe...</td>\n",
              "      <td>British pedophile sentenced to 85 years in US ...</td>\n",
              "      <td>US permitted 1,200 offshore fracks in Gulf of ...</td>\n",
              "      <td>We will be swimming in ridicule - French beach...</td>\n",
              "      <td>UEFA says no minutes of silence for Istanbul v...</td>\n",
              "      <td>Law Enforcement Sources: Gun Used in Paris Ter...</td>\n",
              "    </tr>\n",
              "    <tr>\n",
              "      <th>2016-07-01</th>\n",
              "      <td>1</td>\n",
              "      <td>A 117-year-old woman in Mexico City finally re...</td>\n",
              "      <td>IMF chief backs Athens as permanent Olympic host</td>\n",
              "      <td>The president of France says if Brexit won, so...</td>\n",
              "      <td>British Man Who Must Give Police 24 Hours' Not...</td>\n",
              "      <td>100+ Nobel laureates urge Greenpeace to stop o...</td>\n",
              "      <td>Brazil: Huge spike in number of police killing...</td>\n",
              "      <td>Austria's highest court annuls presidential el...</td>\n",
              "      <td>Facebook wins privacy case, can track any Belg...</td>\n",
              "      <td>Switzerland denies Muslim girls citizenship af...</td>\n",
              "      <td>China kills millions of innocent meditators fo...</td>\n",
              "      <td>France Cracks Down on Factory Farms - A viral ...</td>\n",
              "      <td>Abbas PLO Faction Calls Killer of 13-Year-Old ...</td>\n",
              "      <td>Taiwanese warship accidentally fires missile t...</td>\n",
              "      <td>Iran celebrates American Human Rights Week, mo...</td>\n",
              "      <td>U.N. panel moves to curb bias against L.G.B.T....</td>\n",
              "      <td>The United States has placed Myanmar, Uzbekist...</td>\n",
              "      <td>S&amp;amp;P revises European Union credit rating t...</td>\n",
              "      <td>India gets $1 billion loan from World Bank for...</td>\n",
              "      <td>U.S. sailors detained by Iran spoke too much u...</td>\n",
              "      <td>Mass fish kill in Vietnam solved as Taiwan ste...</td>\n",
              "      <td>Philippines president Rodrigo Duterte urges pe...</td>\n",
              "      <td>Spain arrests three Pakistanis accused of prom...</td>\n",
              "      <td>Venezuela, where anger over food shortages is ...</td>\n",
              "      <td>A Hindu temple worker has been killed by three...</td>\n",
              "      <td>Ozone layer hole seems to be healing - US &amp;amp...</td>\n",
              "    </tr>\n",
              "  </tbody>\n",
              "</table>\n",
              "<p>1989 rows × 26 columns</p>\n",
              "</div>"
            ],
            "text/plain": [
              "            Label  ...                                              Top25\n",
              "Date               ...                                                   \n",
              "2008-08-08      0  ...           b\"No Help for Mexico's Kidnapping Surge\"\n",
              "2008-08-11      1  ...  b\"So this is what it's come to: trading sex fo...\n",
              "2008-08-12      0  ...  b\"BBC NEWS | Asia-Pacific | Extinction 'by man...\n",
              "2008-08-13      0  ...  b'2006: Nobel laureate Aleksander Solzhenitsyn...\n",
              "2008-08-14      1  ...  b'Philippines : Peace Advocate say Muslims nee...\n",
              "...           ...  ...                                                ...\n",
              "2016-06-27      0  ...  Pakistani clerics declare transgender marriage...\n",
              "2016-06-28      1  ...  Mexico's security forces routinely use 'sexual...\n",
              "2016-06-29      1  ...  Tiny New Zealand town with 'too many jobs' lau...\n",
              "2016-06-30      1  ...  Law Enforcement Sources: Gun Used in Paris Ter...\n",
              "2016-07-01      1  ...  Ozone layer hole seems to be healing - US &amp...\n",
              "\n",
              "[1989 rows x 26 columns]"
            ]
          },
          "metadata": {
            "tags": []
          },
          "execution_count": 7
        }
      ]
    },
    {
      "cell_type": "markdown",
      "metadata": {
        "id": "Ca2ua5I5bbuj"
      },
      "source": [
        "Hír nélküli napok megkeresése."
      ]
    },
    {
      "cell_type": "code",
      "metadata": {
        "colab": {
          "base_uri": "https://localhost:8080/",
          "height": 488
        },
        "id": "tHR6tOIZbcBB",
        "outputId": "9f67e867-a169-406c-a3be-9683c6304e14"
      },
      "source": [
        "is_NaN = df_combined.isnull()\r\n",
        "row_has_NaN = is_NaN.any(axis=1)\r\n",
        "rows_with_NaN = df_combined[row_has_NaN]\r\n",
        "\r\n",
        "rows_with_NaN"
      ],
      "execution_count": 8,
      "outputs": [
        {
          "output_type": "execute_result",
          "data": {
            "text/html": [
              "<div>\n",
              "<style scoped>\n",
              "    .dataframe tbody tr th:only-of-type {\n",
              "        vertical-align: middle;\n",
              "    }\n",
              "\n",
              "    .dataframe tbody tr th {\n",
              "        vertical-align: top;\n",
              "    }\n",
              "\n",
              "    .dataframe thead th {\n",
              "        text-align: right;\n",
              "    }\n",
              "</style>\n",
              "<table border=\"1\" class=\"dataframe\">\n",
              "  <thead>\n",
              "    <tr style=\"text-align: right;\">\n",
              "      <th></th>\n",
              "      <th>Label</th>\n",
              "      <th>Top1</th>\n",
              "      <th>Top2</th>\n",
              "      <th>Top3</th>\n",
              "      <th>Top4</th>\n",
              "      <th>Top5</th>\n",
              "      <th>Top6</th>\n",
              "      <th>Top7</th>\n",
              "      <th>Top8</th>\n",
              "      <th>Top9</th>\n",
              "      <th>Top10</th>\n",
              "      <th>Top11</th>\n",
              "      <th>Top12</th>\n",
              "      <th>Top13</th>\n",
              "      <th>Top14</th>\n",
              "      <th>Top15</th>\n",
              "      <th>Top16</th>\n",
              "      <th>Top17</th>\n",
              "      <th>Top18</th>\n",
              "      <th>Top19</th>\n",
              "      <th>Top20</th>\n",
              "      <th>Top21</th>\n",
              "      <th>Top22</th>\n",
              "      <th>Top23</th>\n",
              "      <th>Top24</th>\n",
              "      <th>Top25</th>\n",
              "    </tr>\n",
              "    <tr>\n",
              "      <th>Date</th>\n",
              "      <th></th>\n",
              "      <th></th>\n",
              "      <th></th>\n",
              "      <th></th>\n",
              "      <th></th>\n",
              "      <th></th>\n",
              "      <th></th>\n",
              "      <th></th>\n",
              "      <th></th>\n",
              "      <th></th>\n",
              "      <th></th>\n",
              "      <th></th>\n",
              "      <th></th>\n",
              "      <th></th>\n",
              "      <th></th>\n",
              "      <th></th>\n",
              "      <th></th>\n",
              "      <th></th>\n",
              "      <th></th>\n",
              "      <th></th>\n",
              "      <th></th>\n",
              "      <th></th>\n",
              "      <th></th>\n",
              "      <th></th>\n",
              "      <th></th>\n",
              "      <th></th>\n",
              "    </tr>\n",
              "  </thead>\n",
              "  <tbody>\n",
              "    <tr>\n",
              "      <th>2009-09-15</th>\n",
              "      <td>1</td>\n",
              "      <td>b'The Church of Scientology won\\'t be dissolve...</td>\n",
              "      <td>b'New virus from rats can kill 80 per cent of ...</td>\n",
              "      <td>b'The gruesome spectacle of dolphins being sla...</td>\n",
              "      <td>b'The End of Innocence in Afghanistan: \\'The G...</td>\n",
              "      <td>b'France approves Internet piracy bill'</td>\n",
              "      <td>b'The Rural Doctors Association says right now...</td>\n",
              "      <td>b'Al Jazeera English - Africa - Shabab to aven...</td>\n",
              "      <td>b\"How Sri Lanka governs through detentions - S...</td>\n",
              "      <td>b'Two months after the Pakistani Army wrested ...</td>\n",
              "      <td>b'N. Korean cargo ship repels pirates off Soma...</td>\n",
              "      <td>b'Canada: Stephen Harper attempts to prop up r...</td>\n",
              "      <td>b'New geological data provides hope for claims...</td>\n",
              "      <td>b'Ukraine set to block Elton John adoption bec...</td>\n",
              "      <td>b'German plane makes emergency landing'</td>\n",
              "      <td>b'Street artist catches chief of the Israeli a...</td>\n",
              "      <td>b'In an equine echo of the controversy surroun...</td>\n",
              "      <td>b'UPDATE: 5-New York homes raided in terrorism...</td>\n",
              "      <td>b'Population Growth Impeding Progress on the M...</td>\n",
              "      <td>b'Global Population to Reach 7 Billion by 2011'</td>\n",
              "      <td>b'Government Funded Feminist Porn '</td>\n",
              "      <td>b'Can someone enlighten me re:Holy Land disput...</td>\n",
              "      <td>b'Human Rights Watch official suspended for co...</td>\n",
              "      <td>NaN</td>\n",
              "      <td>NaN</td>\n",
              "      <td>NaN</td>\n",
              "    </tr>\n",
              "    <tr>\n",
              "      <th>2009-12-24</th>\n",
              "      <td>1</td>\n",
              "      <td>b'Woman knocks down Pope Benedict at Christmas...</td>\n",
              "      <td>b'Ugandan President Museveni says he will bloc...</td>\n",
              "      <td>b\"Venezuela's Chavez threatens to kick out car...</td>\n",
              "      <td>b'Woman who knocked down pope had pasta in her...</td>\n",
              "      <td>b'450 people from 21 countries, including 30 f...</td>\n",
              "      <td>b'Chvez declares Angel Falls is no more: World...</td>\n",
              "      <td>b'Drug tests catch out 10 police (UK)'</td>\n",
              "      <td>b'Once the worlds fourth-largest lake, the Ara...</td>\n",
              "      <td>b\"Cool Saudi Feminist calls for woman's right ...</td>\n",
              "      <td>b'According to satellite surveys, as much as 8...</td>\n",
              "      <td>b'Italian Prime Minister Silvio Berlusconi has...</td>\n",
              "      <td>b\"Don't blame the system for winter travel cha...</td>\n",
              "      <td>b'Christmas Eve around the world included the ...</td>\n",
              "      <td>b'Pope knocked down before Xmas mass'</td>\n",
              "      <td>b'The solar salesman who put his cow on the ma...</td>\n",
              "      <td>b'Pig farts spark Australia gas scare - I shit...</td>\n",
              "      <td>b'Bin Laden daughter flees to Saudi embassy in...</td>\n",
              "      <td>b'Traumatic Brain Injuries:  Growing evidence ...</td>\n",
              "      <td>b'The Pakistan Supreme Court has ordered the P...</td>\n",
              "      <td>b\"Here's a video the Taliban released this mor...</td>\n",
              "      <td>b'Fireworks set off aboard airliner'</td>\n",
              "      <td>b'Five VA men may face terrorism charges, Paki...</td>\n",
              "      <td>b\"Ayatollah Montazeri's Legacy:  In death he m...</td>\n",
              "      <td>NaN</td>\n",
              "      <td>NaN</td>\n",
              "    </tr>\n",
              "    <tr>\n",
              "      <th>2011-04-21</th>\n",
              "      <td>1</td>\n",
              "      <td>Director of \"Restrepo\" and Photographer Chris ...</td>\n",
              "      <td>Everyone within 20km of Fukushima will be forc...</td>\n",
              "      <td>Bahrain: Activist Zaynab Al-Khawaja's letter t...</td>\n",
              "      <td>More than 80,000 people are claiming incapacit...</td>\n",
              "      <td>Libya: 'mission creep' claims as UK sends in m...</td>\n",
              "      <td>Japan considers banning access to evacuation zone</td>\n",
              "      <td>Chinese oil giant Sinopec has stopped exportin...</td>\n",
              "      <td>6.0-magnitude earthquake strikes off east coas...</td>\n",
              "      <td>Next war in line: At least 20 South Sudanese a...</td>\n",
              "      <td>Bahraini protester ends hunger strike after be...</td>\n",
              "      <td>China tries to scare motorists into safer driving</td>\n",
              "      <td>Leaked Report Shows England Hit With Three Nuc...</td>\n",
              "      <td>Japans cyclone season approaches.</td>\n",
              "      <td>Have Oman and Qatar escaped the Arab revolts?</td>\n",
              "      <td>Rioters torch Australia asylum seeker detentio...</td>\n",
              "      <td>Russian migration official fired in racism row...</td>\n",
              "      <td>Small amounts of radioactive iodine found in b...</td>\n",
              "      <td>War photographer, Oscar-nominated film directo...</td>\n",
              "      <td>Effeminate boys are being sent to a special ca...</td>\n",
              "      <td>Japan Government Declares 12-Mile Area Around ...</td>\n",
              "      <td>TEPCO admitted Wednesday that nuclear fuel in ...</td>\n",
              "      <td>Fukushima evacuees face arrest if they return ...</td>\n",
              "      <td>Prince Charles wins some kind of a record</td>\n",
              "      <td>NaN</td>\n",
              "      <td>NaN</td>\n",
              "    </tr>\n",
              "  </tbody>\n",
              "</table>\n",
              "</div>"
            ],
            "text/plain": [
              "            Label  ... Top25\n",
              "Date               ...      \n",
              "2009-09-15      1  ...   NaN\n",
              "2009-12-24      1  ...   NaN\n",
              "2011-04-21      1  ...   NaN\n",
              "\n",
              "[3 rows x 26 columns]"
            ]
          },
          "metadata": {
            "tags": []
          },
          "execution_count": 8
        }
      ]
    },
    {
      "cell_type": "markdown",
      "metadata": {
        "id": "_impRuK6diUi"
      },
      "source": [
        "Ezek kicserélése üres sztringekre."
      ]
    },
    {
      "cell_type": "code",
      "metadata": {
        "id": "zLXKdcmUdmdc"
      },
      "source": [
        "df_combined = df_combined.replace(np.nan, \" \")\r\n",
        "\r\n",
        "is_NaN = df_combined.isnull()\r\n",
        "row_has_NaN = is_NaN.any(axis=1)\r\n",
        "rows_with_NaN = df_combined[row_has_NaN]\r\n",
        "\r\n",
        "assert len(rows_with_NaN) is 0"
      ],
      "execution_count": 9,
      "outputs": []
    },
    {
      "cell_type": "markdown",
      "metadata": {
        "id": "DIoqLXTqs0um"
      },
      "source": [
        "A napi hírek összefűzése egy string-be."
      ]
    },
    {
      "cell_type": "code",
      "metadata": {
        "colab": {
          "base_uri": "https://localhost:8080/"
        },
        "id": "YCAhyVFrs0C2",
        "outputId": "0e0efb17-4b4d-4ca7-ed1b-dedceccf5dfd"
      },
      "source": [
        "news_sum = []\r\n",
        "\r\n",
        "# Get column names\r\n",
        "combined_column_names = []\r\n",
        "for col in df_combined.columns:\r\n",
        "  combined_column_names.append(col)\r\n",
        " \r\n",
        "print(combined_column_names)\r\n",
        "\r\n",
        "for i in range(len(df_combined)):\r\n",
        "  temp = \"\"\r\n",
        "  news = \"\"\r\n",
        "\r\n",
        "  for j in range(25):\r\n",
        "    news = df_combined[combined_column_names[j + 1]][i]\r\n",
        "    if news[0] is \"b\":\r\n",
        "      news = \" \" + news[1:]\r\n",
        "    temp = temp + news\r\n",
        "\r\n",
        "  news_sum.append(temp)\r\n",
        "\r\n",
        "print(news_sum[0])"
      ],
      "execution_count": 10,
      "outputs": [
        {
          "output_type": "stream",
          "text": [
            "['Label', 'Top1', 'Top2', 'Top3', 'Top4', 'Top5', 'Top6', 'Top7', 'Top8', 'Top9', 'Top10', 'Top11', 'Top12', 'Top13', 'Top14', 'Top15', 'Top16', 'Top17', 'Top18', 'Top19', 'Top20', 'Top21', 'Top22', 'Top23', 'Top24', 'Top25']\n",
            " \"Georgia 'downs two Russian warplanes' as countries move to brink of war\" 'BREAKING: Musharraf to be impeached.' 'Russia Today: Columns of troops roll into South Ossetia; footage from fighting (YouTube)' 'Russian tanks are moving towards the capital of South Ossetia, which has reportedly been completely destroyed by Georgian artillery fire' \"Afghan children raped with 'impunity,' U.N. official says - this is sick, a three year old was raped and they do nothing\" '150 Russian tanks have entered South Ossetia whilst Georgia shoots down two Russian jets.' \"Breaking: Georgia invades South Ossetia, Russia warned it would intervene on SO's side\" \"The 'enemy combatent' trials are nothing but a sham: Salim Haman has been sentenced to 5 1/2 years, but will be kept longer anyway just because they feel like it.\" 'Georgian troops retreat from S. Osettain capital, presumably leaving several hundred people killed. [VIDEO]' 'Did the U.S. Prep Georgia for War with Russia?' 'Rice Gives Green Light for Israel to Attack Iran: Says U.S. has no veto over Israeli military ops' 'Announcing:Class Action Lawsuit on Behalf of American Public Against the FBI' \"So---Russia and Georgia are at war and the NYT's top story is opening ceremonies of the Olympics?  What a fucking disgrace and yet further proof of the decline of journalism.\" \"China tells Bush to stay out of other countries' affairs\" 'Did World War III start today?' 'Georgia Invades South Ossetia - if Russia gets involved, will NATO absorb Georgia and unleash a full scale war?' 'Al-Qaeda Faces Islamist Backlash' 'Condoleezza Rice: \"The US would not act to prevent an Israeli strike on Iran.\" Israeli Defense Minister Ehud Barak: \"Israel is prepared for uncompromising victory in the case of military hostilities.\"' 'This is a busy day:  The European Union has approved new sanctions against Iran in protest at its nuclear programme.' \"Georgia will withdraw 1,000 soldiers from Iraq to help fight off Russian forces in Georgia's breakaway region of South Ossetia\" 'Why the Pentagon Thinks Attacking Iran is a Bad Idea - US News &amp; World Report' 'Caucasus in crisis: Georgia invades South Ossetia' 'Indian shoe manufactory  - And again in a series of \"you do not like your work?\"' 'Visitors Suffering from Mental Illnesses Banned from Olympics' \"No Help for Mexico's Kidnapping Surge\"\n"
          ],
          "name": "stdout"
        }
      ]
    },
    {
      "cell_type": "code",
      "metadata": {
        "colab": {
          "base_uri": "https://localhost:8080/",
          "height": 431
        },
        "id": "dgPq4Ot43sp2",
        "outputId": "9eb4798d-6aa4-4525-9c9d-30e425b61266"
      },
      "source": [
        "for j in range(25):\r\n",
        "  df_combined.drop(combined_column_names[j + 1], axis=1, inplace=True)\r\n",
        "\r\n",
        "df_combined[\"News\"] = news_sum\r\n",
        "\r\n",
        "df_combined"
      ],
      "execution_count": 11,
      "outputs": [
        {
          "output_type": "execute_result",
          "data": {
            "text/html": [
              "<div>\n",
              "<style scoped>\n",
              "    .dataframe tbody tr th:only-of-type {\n",
              "        vertical-align: middle;\n",
              "    }\n",
              "\n",
              "    .dataframe tbody tr th {\n",
              "        vertical-align: top;\n",
              "    }\n",
              "\n",
              "    .dataframe thead th {\n",
              "        text-align: right;\n",
              "    }\n",
              "</style>\n",
              "<table border=\"1\" class=\"dataframe\">\n",
              "  <thead>\n",
              "    <tr style=\"text-align: right;\">\n",
              "      <th></th>\n",
              "      <th>Label</th>\n",
              "      <th>News</th>\n",
              "    </tr>\n",
              "    <tr>\n",
              "      <th>Date</th>\n",
              "      <th></th>\n",
              "      <th></th>\n",
              "    </tr>\n",
              "  </thead>\n",
              "  <tbody>\n",
              "    <tr>\n",
              "      <th>2008-08-08</th>\n",
              "      <td>0</td>\n",
              "      <td>\"Georgia 'downs two Russian warplanes' as cou...</td>\n",
              "    </tr>\n",
              "    <tr>\n",
              "      <th>2008-08-11</th>\n",
              "      <td>1</td>\n",
              "      <td>'Why wont America and Nato help us? If they w...</td>\n",
              "    </tr>\n",
              "    <tr>\n",
              "      <th>2008-08-12</th>\n",
              "      <td>0</td>\n",
              "      <td>'Remember that adorable 9-year-old who sang a...</td>\n",
              "    </tr>\n",
              "    <tr>\n",
              "      <th>2008-08-13</th>\n",
              "      <td>0</td>\n",
              "      <td>' U.S. refuses Israel weapons to attack Iran:...</td>\n",
              "    </tr>\n",
              "    <tr>\n",
              "      <th>2008-08-14</th>\n",
              "      <td>1</td>\n",
              "      <td>'All the experts admit that we should legalis...</td>\n",
              "    </tr>\n",
              "    <tr>\n",
              "      <th>...</th>\n",
              "      <td>...</td>\n",
              "      <td>...</td>\n",
              "    </tr>\n",
              "    <tr>\n",
              "      <th>2016-06-27</th>\n",
              "      <td>0</td>\n",
              "      <td>Barclays and RBS shares suspended from trading...</td>\n",
              "    </tr>\n",
              "    <tr>\n",
              "      <th>2016-06-28</th>\n",
              "      <td>1</td>\n",
              "      <td>2,500 Scientists To Australia: If You Want To ...</td>\n",
              "    </tr>\n",
              "    <tr>\n",
              "      <th>2016-06-29</th>\n",
              "      <td>1</td>\n",
              "      <td>Explosion At Airport In IstanbulYemeni former ...</td>\n",
              "    </tr>\n",
              "    <tr>\n",
              "      <th>2016-06-30</th>\n",
              "      <td>1</td>\n",
              "      <td>Jamaica proposes marijuana dispensers for tour...</td>\n",
              "    </tr>\n",
              "    <tr>\n",
              "      <th>2016-07-01</th>\n",
              "      <td>1</td>\n",
              "      <td>A 117-year-old woman in Mexico City finally re...</td>\n",
              "    </tr>\n",
              "  </tbody>\n",
              "</table>\n",
              "<p>1989 rows × 2 columns</p>\n",
              "</div>"
            ],
            "text/plain": [
              "            Label                                               News\n",
              "Date                                                                \n",
              "2008-08-08      0   \"Georgia 'downs two Russian warplanes' as cou...\n",
              "2008-08-11      1   'Why wont America and Nato help us? If they w...\n",
              "2008-08-12      0   'Remember that adorable 9-year-old who sang a...\n",
              "2008-08-13      0   ' U.S. refuses Israel weapons to attack Iran:...\n",
              "2008-08-14      1   'All the experts admit that we should legalis...\n",
              "...           ...                                                ...\n",
              "2016-06-27      0  Barclays and RBS shares suspended from trading...\n",
              "2016-06-28      1  2,500 Scientists To Australia: If You Want To ...\n",
              "2016-06-29      1  Explosion At Airport In IstanbulYemeni former ...\n",
              "2016-06-30      1  Jamaica proposes marijuana dispensers for tour...\n",
              "2016-07-01      1  A 117-year-old woman in Mexico City finally re...\n",
              "\n",
              "[1989 rows x 2 columns]"
            ]
          },
          "metadata": {
            "tags": []
          },
          "execution_count": 11
        }
      ]
    },
    {
      "cell_type": "markdown",
      "metadata": {
        "id": "onubQLXA7cjo"
      },
      "source": [
        "Az első napi összefűzött hírek kiíratása."
      ]
    },
    {
      "cell_type": "code",
      "metadata": {
        "colab": {
          "base_uri": "https://localhost:8080/",
          "height": 137
        },
        "id": "4r4_4MX55iIS",
        "outputId": "5b9b459c-ebda-48a7-a11e-1a884aa3913a"
      },
      "source": [
        "df_combined[\"News\"][0]"
      ],
      "execution_count": 12,
      "outputs": [
        {
          "output_type": "execute_result",
          "data": {
            "application/vnd.google.colaboratory.intrinsic+json": {
              "type": "string"
            },
            "text/plain": [
              "' \"Georgia \\'downs two Russian warplanes\\' as countries move to brink of war\" \\'BREAKING: Musharraf to be impeached.\\' \\'Russia Today: Columns of troops roll into South Ossetia; footage from fighting (YouTube)\\' \\'Russian tanks are moving towards the capital of South Ossetia, which has reportedly been completely destroyed by Georgian artillery fire\\' \"Afghan children raped with \\'impunity,\\' U.N. official says - this is sick, a three year old was raped and they do nothing\" \\'150 Russian tanks have entered South Ossetia whilst Georgia shoots down two Russian jets.\\' \"Breaking: Georgia invades South Ossetia, Russia warned it would intervene on SO\\'s side\" \"The \\'enemy combatent\\' trials are nothing but a sham: Salim Haman has been sentenced to 5 1/2 years, but will be kept longer anyway just because they feel like it.\" \\'Georgian troops retreat from S. Osettain capital, presumably leaving several hundred people killed. [VIDEO]\\' \\'Did the U.S. Prep Georgia for War with Russia?\\' \\'Rice Gives Green Light for Israel to Attack Iran: Says U.S. has no veto over Israeli military ops\\' \\'Announcing:Class Action Lawsuit on Behalf of American Public Against the FBI\\' \"So---Russia and Georgia are at war and the NYT\\'s top story is opening ceremonies of the Olympics?  What a fucking disgrace and yet further proof of the decline of journalism.\" \"China tells Bush to stay out of other countries\\' affairs\" \\'Did World War III start today?\\' \\'Georgia Invades South Ossetia - if Russia gets involved, will NATO absorb Georgia and unleash a full scale war?\\' \\'Al-Qaeda Faces Islamist Backlash\\' \\'Condoleezza Rice: \"The US would not act to prevent an Israeli strike on Iran.\" Israeli Defense Minister Ehud Barak: \"Israel is prepared for uncompromising victory in the case of military hostilities.\"\\' \\'This is a busy day:  The European Union has approved new sanctions against Iran in protest at its nuclear programme.\\' \"Georgia will withdraw 1,000 soldiers from Iraq to help fight off Russian forces in Georgia\\'s breakaway region of South Ossetia\" \\'Why the Pentagon Thinks Attacking Iran is a Bad Idea - US News &amp; World Report\\' \\'Caucasus in crisis: Georgia invades South Ossetia\\' \\'Indian shoe manufactory  - And again in a series of \"you do not like your work?\"\\' \\'Visitors Suffering from Mental Illnesses Banned from Olympics\\' \"No Help for Mexico\\'s Kidnapping Surge\"'"
            ]
          },
          "metadata": {
            "tags": []
          },
          "execution_count": 12
        }
      ]
    },
    {
      "cell_type": "markdown",
      "metadata": {
        "id": "uhZ9iygA-YA6"
      },
      "source": [
        "A következőkben a hírek szövegeinek kódolása történik numerikus értékekre. Először a szövegek előfeldolgozásával kezdem: írásjelek eltávolítása, számok eltávolítása, felesleges szóközök eltávolítása, aztán minden szót kis kezdőbetűjü szóvá konvertálom."
      ]
    },
    {
      "cell_type": "code",
      "metadata": {
        "id": "-6iNg55i-YWL",
        "colab": {
          "base_uri": "https://localhost:8080/",
          "height": 431
        },
        "outputId": "767230f2-33ed-434c-f5ec-de6b218c4299"
      },
      "source": [
        "# Removing punctuations\r\n",
        "temp_news = []\r\n",
        "for par in news_sum:\r\n",
        "  temp_attach = \"\"\r\n",
        "  for x in par:\r\n",
        "    temp = \" \"\r\n",
        "    if x not in string.punctuation:\r\n",
        "      temp = x\r\n",
        "    temp_attach = temp_attach + \"\".join(temp)\r\n",
        "  temp_news.append(temp_attach)\r\n",
        "\r\n",
        "news_sum = temp_news\r\n",
        "temp_news = []\r\n",
        "\r\n",
        "# Remove numbers\r\n",
        "for par in news_sum:\r\n",
        "  temp_attach = \"\"\r\n",
        "  for x in par:\r\n",
        "    temp = \" \"\r\n",
        "    if not x.isdigit():\r\n",
        "      temp = x\r\n",
        "    temp_attach = temp_attach + \"\".join(temp)\r\n",
        "  temp_news.append(temp_attach)\r\n",
        "\r\n",
        "# Remove space\r\n",
        "for i in range(len(temp_news)):    \r\n",
        "  temp_news[i] = \" \".join(temp_news[i].split())\r\n",
        "\r\n",
        "# Converting headlines to lower case\r\n",
        "for i in range(len(temp_news)): \r\n",
        "    temp_news[i] = temp_news[i].lower()\r\n",
        "\r\n",
        "df_combined[\"News\"] = temp_news\r\n",
        "\r\n",
        "df_combined"
      ],
      "execution_count": 13,
      "outputs": [
        {
          "output_type": "execute_result",
          "data": {
            "text/html": [
              "<div>\n",
              "<style scoped>\n",
              "    .dataframe tbody tr th:only-of-type {\n",
              "        vertical-align: middle;\n",
              "    }\n",
              "\n",
              "    .dataframe tbody tr th {\n",
              "        vertical-align: top;\n",
              "    }\n",
              "\n",
              "    .dataframe thead th {\n",
              "        text-align: right;\n",
              "    }\n",
              "</style>\n",
              "<table border=\"1\" class=\"dataframe\">\n",
              "  <thead>\n",
              "    <tr style=\"text-align: right;\">\n",
              "      <th></th>\n",
              "      <th>Label</th>\n",
              "      <th>News</th>\n",
              "    </tr>\n",
              "    <tr>\n",
              "      <th>Date</th>\n",
              "      <th></th>\n",
              "      <th></th>\n",
              "    </tr>\n",
              "  </thead>\n",
              "  <tbody>\n",
              "    <tr>\n",
              "      <th>2008-08-08</th>\n",
              "      <td>0</td>\n",
              "      <td>georgia downs two russian warplanes as countri...</td>\n",
              "    </tr>\n",
              "    <tr>\n",
              "      <th>2008-08-11</th>\n",
              "      <td>1</td>\n",
              "      <td>why wont america and nato help us if they wont...</td>\n",
              "    </tr>\n",
              "    <tr>\n",
              "      <th>2008-08-12</th>\n",
              "      <td>0</td>\n",
              "      <td>remember that adorable year old who sang at th...</td>\n",
              "    </tr>\n",
              "    <tr>\n",
              "      <th>2008-08-13</th>\n",
              "      <td>0</td>\n",
              "      <td>u s refuses israel weapons to attack iran repo...</td>\n",
              "    </tr>\n",
              "    <tr>\n",
              "      <th>2008-08-14</th>\n",
              "      <td>1</td>\n",
              "      <td>all the experts admit that we should legalise ...</td>\n",
              "    </tr>\n",
              "    <tr>\n",
              "      <th>...</th>\n",
              "      <td>...</td>\n",
              "      <td>...</td>\n",
              "    </tr>\n",
              "    <tr>\n",
              "      <th>2016-06-27</th>\n",
              "      <td>0</td>\n",
              "      <td>barclays and rbs shares suspended from trading...</td>\n",
              "    </tr>\n",
              "    <tr>\n",
              "      <th>2016-06-28</th>\n",
              "      <td>1</td>\n",
              "      <td>scientists to australia if you want to save th...</td>\n",
              "    </tr>\n",
              "    <tr>\n",
              "      <th>2016-06-29</th>\n",
              "      <td>1</td>\n",
              "      <td>explosion at airport in istanbulyemeni former ...</td>\n",
              "    </tr>\n",
              "    <tr>\n",
              "      <th>2016-06-30</th>\n",
              "      <td>1</td>\n",
              "      <td>jamaica proposes marijuana dispensers for tour...</td>\n",
              "    </tr>\n",
              "    <tr>\n",
              "      <th>2016-07-01</th>\n",
              "      <td>1</td>\n",
              "      <td>a year old woman in mexico city finally receiv...</td>\n",
              "    </tr>\n",
              "  </tbody>\n",
              "</table>\n",
              "<p>1989 rows × 2 columns</p>\n",
              "</div>"
            ],
            "text/plain": [
              "            Label                                               News\n",
              "Date                                                                \n",
              "2008-08-08      0  georgia downs two russian warplanes as countri...\n",
              "2008-08-11      1  why wont america and nato help us if they wont...\n",
              "2008-08-12      0  remember that adorable year old who sang at th...\n",
              "2008-08-13      0  u s refuses israel weapons to attack iran repo...\n",
              "2008-08-14      1  all the experts admit that we should legalise ...\n",
              "...           ...                                                ...\n",
              "2016-06-27      0  barclays and rbs shares suspended from trading...\n",
              "2016-06-28      1  scientists to australia if you want to save th...\n",
              "2016-06-29      1  explosion at airport in istanbulyemeni former ...\n",
              "2016-06-30      1  jamaica proposes marijuana dispensers for tour...\n",
              "2016-07-01      1  a year old woman in mexico city finally receiv...\n",
              "\n",
              "[1989 rows x 2 columns]"
            ]
          },
          "metadata": {
            "tags": []
          },
          "execution_count": 13
        }
      ]
    },
    {
      "cell_type": "markdown",
      "metadata": {
        "id": "8y95SzNdpQRK"
      },
      "source": [
        "Az első napi, előfeldolgozott, összefűzött hírek."
      ]
    },
    {
      "cell_type": "code",
      "metadata": {
        "colab": {
          "base_uri": "https://localhost:8080/",
          "height": 137
        },
        "id": "nsRyeTOipT81",
        "outputId": "6214e24f-0be8-4048-cd39-941b4a79bd4b"
      },
      "source": [
        "df_combined[\"News\"][0]"
      ],
      "execution_count": 14,
      "outputs": [
        {
          "output_type": "execute_result",
          "data": {
            "application/vnd.google.colaboratory.intrinsic+json": {
              "type": "string"
            },
            "text/plain": [
              "'georgia downs two russian warplanes as countries move to brink of war breaking musharraf to be impeached russia today columns of troops roll into south ossetia footage from fighting youtube russian tanks are moving towards the capital of south ossetia which has reportedly been completely destroyed by georgian artillery fire afghan children raped with impunity u n official says this is sick a three year old was raped and they do nothing russian tanks have entered south ossetia whilst georgia shoots down two russian jets breaking georgia invades south ossetia russia warned it would intervene on so s side the enemy combatent trials are nothing but a sham salim haman has been sentenced to years but will be kept longer anyway just because they feel like it georgian troops retreat from s osettain capital presumably leaving several hundred people killed video did the u s prep georgia for war with russia rice gives green light for israel to attack iran says u s has no veto over israeli military ops announcing class action lawsuit on behalf of american public against the fbi so russia and georgia are at war and the nyt s top story is opening ceremonies of the olympics what a fucking disgrace and yet further proof of the decline of journalism china tells bush to stay out of other countries affairs did world war iii start today georgia invades south ossetia if russia gets involved will nato absorb georgia and unleash a full scale war al qaeda faces islamist backlash condoleezza rice the us would not act to prevent an israeli strike on iran israeli defense minister ehud barak israel is prepared for uncompromising victory in the case of military hostilities this is a busy day the european union has approved new sanctions against iran in protest at its nuclear programme georgia will withdraw soldiers from iraq to help fight off russian forces in georgia s breakaway region of south ossetia why the pentagon thinks attacking iran is a bad idea us news amp world report caucasus in crisis georgia invades south ossetia indian shoe manufactory and again in a series of you do not like your work visitors suffering from mental illnesses banned from olympics no help for mexico s kidnapping surge'"
            ]
          },
          "metadata": {
            "tags": []
          },
          "execution_count": 14
        }
      ]
    },
    {
      "cell_type": "markdown",
      "metadata": {
        "id": "RJ_kDNFEojAO"
      },
      "source": [
        "Az adathalmazom felbontása tanító, validáló és teszt adathalmazra."
      ]
    },
    {
      "cell_type": "code",
      "metadata": {
        "colab": {
          "base_uri": "https://localhost:8080/"
        },
        "id": "i8uxAEYHojWs",
        "outputId": "14b644a2-ebd0-449a-d161-456707f1bf15"
      },
      "source": [
        "# Create datasets\r\n",
        "news_string = (df_combined['News'].values).astype('U')\r\n",
        " \r\n",
        "INPUT_SIZE = len(df_combined)\r\n",
        "# 80% train -> 8% valid, 72% train; 20% test\r\n",
        "TRAIN_SIZE = int(0.8 * INPUT_SIZE) \r\n",
        "VALID_SIZE = int(0.1 * TRAIN_SIZE)\r\n",
        "print(INPUT_SIZE, TRAIN_SIZE, VALID_SIZE)"
      ],
      "execution_count": 15,
      "outputs": [
        {
          "output_type": "stream",
          "text": [
            "1989 1591 159\n"
          ],
          "name": "stdout"
        }
      ]
    },
    {
      "cell_type": "code",
      "metadata": {
        "colab": {
          "base_uri": "https://localhost:8080/",
          "height": 431
        },
        "id": "1GftwsZDqhIX",
        "outputId": "a926a3c9-46ac-4dbc-9325-4ab7b1b5da60"
      },
      "source": [
        "train_dataset = df_combined[:TRAIN_SIZE - VALID_SIZE] \r\n",
        "\r\n",
        "train_dataset"
      ],
      "execution_count": 16,
      "outputs": [
        {
          "output_type": "execute_result",
          "data": {
            "text/html": [
              "<div>\n",
              "<style scoped>\n",
              "    .dataframe tbody tr th:only-of-type {\n",
              "        vertical-align: middle;\n",
              "    }\n",
              "\n",
              "    .dataframe tbody tr th {\n",
              "        vertical-align: top;\n",
              "    }\n",
              "\n",
              "    .dataframe thead th {\n",
              "        text-align: right;\n",
              "    }\n",
              "</style>\n",
              "<table border=\"1\" class=\"dataframe\">\n",
              "  <thead>\n",
              "    <tr style=\"text-align: right;\">\n",
              "      <th></th>\n",
              "      <th>Label</th>\n",
              "      <th>News</th>\n",
              "    </tr>\n",
              "    <tr>\n",
              "      <th>Date</th>\n",
              "      <th></th>\n",
              "      <th></th>\n",
              "    </tr>\n",
              "  </thead>\n",
              "  <tbody>\n",
              "    <tr>\n",
              "      <th>2008-08-08</th>\n",
              "      <td>0</td>\n",
              "      <td>georgia downs two russian warplanes as countri...</td>\n",
              "    </tr>\n",
              "    <tr>\n",
              "      <th>2008-08-11</th>\n",
              "      <td>1</td>\n",
              "      <td>why wont america and nato help us if they wont...</td>\n",
              "    </tr>\n",
              "    <tr>\n",
              "      <th>2008-08-12</th>\n",
              "      <td>0</td>\n",
              "      <td>remember that adorable year old who sang at th...</td>\n",
              "    </tr>\n",
              "    <tr>\n",
              "      <th>2008-08-13</th>\n",
              "      <td>0</td>\n",
              "      <td>u s refuses israel weapons to attack iran repo...</td>\n",
              "    </tr>\n",
              "    <tr>\n",
              "      <th>2008-08-14</th>\n",
              "      <td>1</td>\n",
              "      <td>all the experts admit that we should legalise ...</td>\n",
              "    </tr>\n",
              "    <tr>\n",
              "      <th>...</th>\n",
              "      <td>...</td>\n",
              "      <td>...</td>\n",
              "    </tr>\n",
              "    <tr>\n",
              "      <th>2014-04-10</th>\n",
              "      <td>0</td>\n",
              "      <td>australia rules homeopathic remedies uselessbu...</td>\n",
              "    </tr>\n",
              "    <tr>\n",
              "      <th>2014-04-11</th>\n",
              "      <td>0</td>\n",
              "      <td>china finds nearly firms in breach of anti pol...</td>\n",
              "    </tr>\n",
              "    <tr>\n",
              "      <th>2014-04-14</th>\n",
              "      <td>1</td>\n",
              "      <td>looks like rome is even more ancient than thou...</td>\n",
              "    </tr>\n",
              "    <tr>\n",
              "      <th>2014-04-15</th>\n",
              "      <td>1</td>\n",
              "      <td>billionaire takes up fight against african poa...</td>\n",
              "    </tr>\n",
              "    <tr>\n",
              "      <th>2014-04-16</th>\n",
              "      <td>1</td>\n",
              "      <td>south korea ferry carrying sinking several arm...</td>\n",
              "    </tr>\n",
              "  </tbody>\n",
              "</table>\n",
              "<p>1432 rows × 2 columns</p>\n",
              "</div>"
            ],
            "text/plain": [
              "            Label                                               News\n",
              "Date                                                                \n",
              "2008-08-08      0  georgia downs two russian warplanes as countri...\n",
              "2008-08-11      1  why wont america and nato help us if they wont...\n",
              "2008-08-12      0  remember that adorable year old who sang at th...\n",
              "2008-08-13      0  u s refuses israel weapons to attack iran repo...\n",
              "2008-08-14      1  all the experts admit that we should legalise ...\n",
              "...           ...                                                ...\n",
              "2014-04-10      0  australia rules homeopathic remedies uselessbu...\n",
              "2014-04-11      0  china finds nearly firms in breach of anti pol...\n",
              "2014-04-14      1  looks like rome is even more ancient than thou...\n",
              "2014-04-15      1  billionaire takes up fight against african poa...\n",
              "2014-04-16      1  south korea ferry carrying sinking several arm...\n",
              "\n",
              "[1432 rows x 2 columns]"
            ]
          },
          "metadata": {
            "tags": []
          },
          "execution_count": 16
        }
      ]
    },
    {
      "cell_type": "code",
      "metadata": {
        "colab": {
          "base_uri": "https://localhost:8080/",
          "height": 431
        },
        "id": "J2wyVHvKEaBh",
        "outputId": "18a7dd84-043f-4260-b49b-b91b3a054869"
      },
      "source": [
        "valid_dataset = df_combined[TRAIN_SIZE - VALID_SIZE:TRAIN_SIZE] \r\n",
        "\r\n",
        "valid_dataset"
      ],
      "execution_count": 17,
      "outputs": [
        {
          "output_type": "execute_result",
          "data": {
            "text/html": [
              "<div>\n",
              "<style scoped>\n",
              "    .dataframe tbody tr th:only-of-type {\n",
              "        vertical-align: middle;\n",
              "    }\n",
              "\n",
              "    .dataframe tbody tr th {\n",
              "        vertical-align: top;\n",
              "    }\n",
              "\n",
              "    .dataframe thead th {\n",
              "        text-align: right;\n",
              "    }\n",
              "</style>\n",
              "<table border=\"1\" class=\"dataframe\">\n",
              "  <thead>\n",
              "    <tr style=\"text-align: right;\">\n",
              "      <th></th>\n",
              "      <th>Label</th>\n",
              "      <th>News</th>\n",
              "    </tr>\n",
              "    <tr>\n",
              "      <th>Date</th>\n",
              "      <th></th>\n",
              "      <th></th>\n",
              "    </tr>\n",
              "  </thead>\n",
              "  <tbody>\n",
              "    <tr>\n",
              "      <th>2014-04-17</th>\n",
              "      <td>0</td>\n",
              "      <td>putin admits russian forces were deployed to c...</td>\n",
              "    </tr>\n",
              "    <tr>\n",
              "      <th>2014-04-21</th>\n",
              "      <td>1</td>\n",
              "      <td>twitter bans two whistleblower accounts exposi...</td>\n",
              "    </tr>\n",
              "    <tr>\n",
              "      <th>2014-04-22</th>\n",
              "      <td>1</td>\n",
              "      <td>china violent government thugs beaten to death...</td>\n",
              "    </tr>\n",
              "    <tr>\n",
              "      <th>2014-04-23</th>\n",
              "      <td>0</td>\n",
              "      <td>british people by ratio say it was good for so...</td>\n",
              "    </tr>\n",
              "    <tr>\n",
              "      <th>2014-04-24</th>\n",
              "      <td>0</td>\n",
              "      <td>fcc abandons net neutralityiran s president ro...</td>\n",
              "    </tr>\n",
              "    <tr>\n",
              "      <th>...</th>\n",
              "      <td>...</td>\n",
              "      <td>...</td>\n",
              "    </tr>\n",
              "    <tr>\n",
              "      <th>2014-11-25</th>\n",
              "      <td>0</td>\n",
              "      <td>scientists urge governments to turn old tv fre...</td>\n",
              "    </tr>\n",
              "    <tr>\n",
              "      <th>2014-11-26</th>\n",
              "      <td>1</td>\n",
              "      <td>pope francis condemned priests and laity who t...</td>\n",
              "    </tr>\n",
              "    <tr>\n",
              "      <th>2014-11-28</th>\n",
              "      <td>1</td>\n",
              "      <td>state of emergency in ukraine as russia cuts o...</td>\n",
              "    </tr>\n",
              "    <tr>\n",
              "      <th>2014-12-01</th>\n",
              "      <td>0</td>\n",
              "      <td>kim dotcom walks free after three days of hear...</td>\n",
              "    </tr>\n",
              "    <tr>\n",
              "      <th>2014-12-02</th>\n",
              "      <td>1</td>\n",
              "      <td>a long list of sex acts just got banned in uk ...</td>\n",
              "    </tr>\n",
              "  </tbody>\n",
              "</table>\n",
              "<p>159 rows × 2 columns</p>\n",
              "</div>"
            ],
            "text/plain": [
              "            Label                                               News\n",
              "Date                                                                \n",
              "2014-04-17      0  putin admits russian forces were deployed to c...\n",
              "2014-04-21      1  twitter bans two whistleblower accounts exposi...\n",
              "2014-04-22      1  china violent government thugs beaten to death...\n",
              "2014-04-23      0  british people by ratio say it was good for so...\n",
              "2014-04-24      0  fcc abandons net neutralityiran s president ro...\n",
              "...           ...                                                ...\n",
              "2014-11-25      0  scientists urge governments to turn old tv fre...\n",
              "2014-11-26      1  pope francis condemned priests and laity who t...\n",
              "2014-11-28      1  state of emergency in ukraine as russia cuts o...\n",
              "2014-12-01      0  kim dotcom walks free after three days of hear...\n",
              "2014-12-02      1  a long list of sex acts just got banned in uk ...\n",
              "\n",
              "[159 rows x 2 columns]"
            ]
          },
          "metadata": {
            "tags": []
          },
          "execution_count": 17
        }
      ]
    },
    {
      "cell_type": "code",
      "metadata": {
        "colab": {
          "base_uri": "https://localhost:8080/",
          "height": 431
        },
        "id": "0GNBMEVLEaaj",
        "outputId": "1947ba4a-9e2f-4881-bdc2-7cee32e22f3a"
      },
      "source": [
        "test_dataset = df_combined[TRAIN_SIZE:]\r\n",
        "\r\n",
        "test_dataset"
      ],
      "execution_count": 18,
      "outputs": [
        {
          "output_type": "execute_result",
          "data": {
            "text/html": [
              "<div>\n",
              "<style scoped>\n",
              "    .dataframe tbody tr th:only-of-type {\n",
              "        vertical-align: middle;\n",
              "    }\n",
              "\n",
              "    .dataframe tbody tr th {\n",
              "        vertical-align: top;\n",
              "    }\n",
              "\n",
              "    .dataframe thead th {\n",
              "        text-align: right;\n",
              "    }\n",
              "</style>\n",
              "<table border=\"1\" class=\"dataframe\">\n",
              "  <thead>\n",
              "    <tr style=\"text-align: right;\">\n",
              "      <th></th>\n",
              "      <th>Label</th>\n",
              "      <th>News</th>\n",
              "    </tr>\n",
              "    <tr>\n",
              "      <th>Date</th>\n",
              "      <th></th>\n",
              "      <th></th>\n",
              "    </tr>\n",
              "  </thead>\n",
              "  <tbody>\n",
              "    <tr>\n",
              "      <th>2014-12-03</th>\n",
              "      <td>1</td>\n",
              "      <td>british man found with nailbomb weapons cache ...</td>\n",
              "    </tr>\n",
              "    <tr>\n",
              "      <th>2014-12-04</th>\n",
              "      <td>0</td>\n",
              "      <td>nasa officially announces manned mars mission ...</td>\n",
              "    </tr>\n",
              "    <tr>\n",
              "      <th>2014-12-05</th>\n",
              "      <td>1</td>\n",
              "      <td>orion deep space capsule launches dozens of ch...</td>\n",
              "    </tr>\n",
              "    <tr>\n",
              "      <th>2014-12-08</th>\n",
              "      <td>0</td>\n",
              "      <td>mass surveillance exposed by snowden not justi...</td>\n",
              "    </tr>\n",
              "    <tr>\n",
              "      <th>2014-12-09</th>\n",
              "      <td>0</td>\n",
              "      <td>hackers tell sony to halt the release of the i...</td>\n",
              "    </tr>\n",
              "    <tr>\n",
              "      <th>...</th>\n",
              "      <td>...</td>\n",
              "      <td>...</td>\n",
              "    </tr>\n",
              "    <tr>\n",
              "      <th>2016-06-27</th>\n",
              "      <td>0</td>\n",
              "      <td>barclays and rbs shares suspended from trading...</td>\n",
              "    </tr>\n",
              "    <tr>\n",
              "      <th>2016-06-28</th>\n",
              "      <td>1</td>\n",
              "      <td>scientists to australia if you want to save th...</td>\n",
              "    </tr>\n",
              "    <tr>\n",
              "      <th>2016-06-29</th>\n",
              "      <td>1</td>\n",
              "      <td>explosion at airport in istanbulyemeni former ...</td>\n",
              "    </tr>\n",
              "    <tr>\n",
              "      <th>2016-06-30</th>\n",
              "      <td>1</td>\n",
              "      <td>jamaica proposes marijuana dispensers for tour...</td>\n",
              "    </tr>\n",
              "    <tr>\n",
              "      <th>2016-07-01</th>\n",
              "      <td>1</td>\n",
              "      <td>a year old woman in mexico city finally receiv...</td>\n",
              "    </tr>\n",
              "  </tbody>\n",
              "</table>\n",
              "<p>398 rows × 2 columns</p>\n",
              "</div>"
            ],
            "text/plain": [
              "            Label                                               News\n",
              "Date                                                                \n",
              "2014-12-03      1  british man found with nailbomb weapons cache ...\n",
              "2014-12-04      0  nasa officially announces manned mars mission ...\n",
              "2014-12-05      1  orion deep space capsule launches dozens of ch...\n",
              "2014-12-08      0  mass surveillance exposed by snowden not justi...\n",
              "2014-12-09      0  hackers tell sony to halt the release of the i...\n",
              "...           ...                                                ...\n",
              "2016-06-27      0  barclays and rbs shares suspended from trading...\n",
              "2016-06-28      1  scientists to australia if you want to save th...\n",
              "2016-06-29      1  explosion at airport in istanbulyemeni former ...\n",
              "2016-06-30      1  jamaica proposes marijuana dispensers for tour...\n",
              "2016-07-01      1  a year old woman in mexico city finally receiv...\n",
              "\n",
              "[398 rows x 2 columns]"
            ]
          },
          "metadata": {
            "tags": []
          },
          "execution_count": 18
        }
      ]
    },
    {
      "cell_type": "markdown",
      "metadata": {
        "id": "S_1APrWBE80S"
      },
      "source": [
        "Ezek lementése .tsv fájlokba, hogy majd betölthessem a pyTorch modulnak."
      ]
    },
    {
      "cell_type": "code",
      "metadata": {
        "id": "tNEnTkaMFC6y"
      },
      "source": [
        "train_dataset.to_csv('train.tsv', sep = '\\t', index=False)\r\n",
        "valid_dataset.to_csv('valid.tsv', sep = '\\t', index=False)\r\n",
        "test_dataset.to_csv('test.tsv', sep = '\\t', index=False)"
      ],
      "execution_count": 19,
      "outputs": []
    },
    {
      "cell_type": "markdown",
      "metadata": {
        "id": "yG7uW4l0Gxyl"
      },
      "source": [
        "A kódolandó szövegek és a címkék formátumának a megadása."
      ]
    },
    {
      "cell_type": "code",
      "metadata": {
        "id": "0QrpT8q1GyFh"
      },
      "source": [
        "import torch\r\n",
        "from torchtext import data\r\n",
        "\r\n",
        "SEED = 1234\r\n",
        "\r\n",
        "torch.manual_seed(SEED)\r\n",
        "torch.backends.cudnn.deterministic = True\r\n",
        "\r\n",
        "NEWS = data.Field(tokenize = 'spacy', include_lengths = True)\r\n",
        "LABELS = data.LabelField(dtype = torch.float)"
      ],
      "execution_count": 20,
      "outputs": []
    },
    {
      "cell_type": "markdown",
      "metadata": {
        "id": "9Ol3mAHZFpFD"
      },
      "source": [
        "Az adathalmazok betöltése a pyTorch modulhoz."
      ]
    },
    {
      "cell_type": "code",
      "metadata": {
        "id": "-QBhp65WFvEx"
      },
      "source": [
        "fields = [('l', LABELS), ('n', NEWS)]"
      ],
      "execution_count": 21,
      "outputs": []
    },
    {
      "cell_type": "code",
      "metadata": {
        "id": "D1DZox3xPKHl"
      },
      "source": [
        "train_data, valid_data, test_data = data.TabularDataset.splits(\r\n",
        "                                        path = \"\",\r\n",
        "                                        train = \"train.tsv\",\r\n",
        "                                        validation = \"valid.tsv\",\r\n",
        "                                        test = \"test.tsv\",\r\n",
        "                                        format = \"tsv\",\r\n",
        "                                        fields = fields,\r\n",
        "                                        skip_header = True\r\n",
        ")"
      ],
      "execution_count": 22,
      "outputs": []
    },
    {
      "cell_type": "code",
      "metadata": {
        "colab": {
          "base_uri": "https://localhost:8080/"
        },
        "id": "65vpdOxeP6p9",
        "outputId": "203db800-4566-416b-da6d-9d20b4a145e7"
      },
      "source": [
        "print(vars(train_data[0]))\r\n",
        "print(vars(valid_data[0]))\r\n",
        "print(vars(test_data[0]))"
      ],
      "execution_count": 23,
      "outputs": [
        {
          "output_type": "stream",
          "text": [
            "{'l': '0', 'n': ['georgia', 'downs', 'two', 'russian', 'warplanes', 'as', 'countries', 'move', 'to', 'brink', 'of', 'war', 'breaking', 'musharraf', 'to', 'be', 'impeached', 'russia', 'today', 'columns', 'of', 'troops', 'roll', 'into', 'south', 'ossetia', 'footage', 'from', 'fighting', 'youtube', 'russian', 'tanks', 'are', 'moving', 'towards', 'the', 'capital', 'of', 'south', 'ossetia', 'which', 'has', 'reportedly', 'been', 'completely', 'destroyed', 'by', 'georgian', 'artillery', 'fire', 'afghan', 'children', 'raped', 'with', 'impunity', 'u', 'n', 'official', 'says', 'this', 'is', 'sick', 'a', 'three', 'year', 'old', 'was', 'raped', 'and', 'they', 'do', 'nothing', 'russian', 'tanks', 'have', 'entered', 'south', 'ossetia', 'whilst', 'georgia', 'shoots', 'down', 'two', 'russian', 'jets', 'breaking', 'georgia', 'invades', 'south', 'ossetia', 'russia', 'warned', 'it', 'would', 'intervene', 'on', 'so', 's', 'side', 'the', 'enemy', 'combatent', 'trials', 'are', 'nothing', 'but', 'a', 'sham', 'salim', 'haman', 'has', 'been', 'sentenced', 'to', 'years', 'but', 'will', 'be', 'kept', 'longer', 'anyway', 'just', 'because', 'they', 'feel', 'like', 'it', 'georgian', 'troops', 'retreat', 'from', 's', 'osettain', 'capital', 'presumably', 'leaving', 'several', 'hundred', 'people', 'killed', 'video', 'did', 'the', 'u', 's', 'prep', 'georgia', 'for', 'war', 'with', 'russia', 'rice', 'gives', 'green', 'light', 'for', 'israel', 'to', 'attack', 'iran', 'says', 'u', 's', 'has', 'no', 'veto', 'over', 'israeli', 'military', 'ops', 'announcing', 'class', 'action', 'lawsuit', 'on', 'behalf', 'of', 'american', 'public', 'against', 'the', 'fbi', 'so', 'russia', 'and', 'georgia', 'are', 'at', 'war', 'and', 'the', 'nyt', 's', 'top', 'story', 'is', 'opening', 'ceremonies', 'of', 'the', 'olympics', 'what', 'a', 'fucking', 'disgrace', 'and', 'yet', 'further', 'proof', 'of', 'the', 'decline', 'of', 'journalism', 'china', 'tells', 'bush', 'to', 'stay', 'out', 'of', 'other', 'countries', 'affairs', 'did', 'world', 'war', 'iii', 'start', 'today', 'georgia', 'invades', 'south', 'ossetia', 'if', 'russia', 'gets', 'involved', 'will', 'nato', 'absorb', 'georgia', 'and', 'unleash', 'a', 'full', 'scale', 'war', 'al', 'qaeda', 'faces', 'islamist', 'backlash', 'condoleezza', 'rice', 'the', 'us', 'would', 'not', 'act', 'to', 'prevent', 'an', 'israeli', 'strike', 'on', 'iran', 'israeli', 'defense', 'minister', 'ehud', 'barak', 'israel', 'is', 'prepared', 'for', 'uncompromising', 'victory', 'in', 'the', 'case', 'of', 'military', 'hostilities', 'this', 'is', 'a', 'busy', 'day', 'the', 'european', 'union', 'has', 'approved', 'new', 'sanctions', 'against', 'iran', 'in', 'protest', 'at', 'its', 'nuclear', 'programme', 'georgia', 'will', 'withdraw', 'soldiers', 'from', 'iraq', 'to', 'help', 'fight', 'off', 'russian', 'forces', 'in', 'georgia', 's', 'breakaway', 'region', 'of', 'south', 'ossetia', 'why', 'the', 'pentagon', 'thinks', 'attacking', 'iran', 'is', 'a', 'bad', 'idea', 'us', 'news', 'amp', 'world', 'report', 'caucasus', 'in', 'crisis', 'georgia', 'invades', 'south', 'ossetia', 'indian', 'shoe', 'manufactory', 'and', 'again', 'in', 'a', 'series', 'of', 'you', 'do', 'not', 'like', 'your', 'work', 'visitors', 'suffering', 'from', 'mental', 'illnesses', 'banned', 'from', 'olympics', 'no', 'help', 'for', 'mexico', 's', 'kidnapping', 'surge']}\n",
            "{'l': '0', 'n': ['putin', 'admits', 'russian', 'forces', 'were', 'deployed', 'to', 'crimea', 'jimmy', 'carter', 'and', 'nobel', 'laureates', 'urge', 'president', 'obama', 'to', 'reject', 'the', 'keystone', 'xl', 'pipeline', 'history', 'will', 'reflect', 'on', 'this', 'moment', 'ukraine', 'submits', 'proof', 'of', 'russian', 'covert', 'actionputin', 'asserts', 'right', 'to', 'use', 'force', 'in', 'eastern', 'ukraine', 'he', 'stressed', 'russias', 'historical', 'claim', 'to', 'the', 'territory', 'repeatedly', 'referring', 'to', 'it', 'as', 'new', 'russia', 'ukrainian', 'oligarch', 'offers', 'k', 'for', 'each', 'captured', 'russian', 'invaderdonetsk', 'pro', 'russians', 'order', 'jews', 'to', 'register', 'or', 'be', 'deported', 'for', 'supporting', 'kiev', 'rulekim', 'dotcom', 'can', 'have', 'seized', 'assets', 'returned', 'new', 'zealand', 'high', 'courtputin', 'russia', 'may', 'invade', 'ukraine', 'to', 'protect', 'localskiev', 'says', 'russian', 'males', 'aged', 'banned', 'from', 'entering', 'ukraine', 'people', 'attacked', 'a', 'ukrainian', 'military', 'base', 'in', 'the', 'country', 's', 'southeast', 'on', 'thursdayukrainian', 'military', 'surrounded', 'by', 'pro', 'russianssnowden', 'asks', 'putin', 'does', 'russia', 'intercept', 'millions', 'of', 'citizens', 'data', 'crimeans', 'find', 'their', 'new', 'lives', 'in', 'russia', 'harder', 'than', 'expectedrussia', 'economy', 'worsens', 'even', 'before', 'sanctions', 'hit', 'with', 'inflation', 'rising', 'growth', 'stagnating', 'the', 'ruble', 'and', 'stock', 'market', 'plunging', 'and', 'billions', 'in', 'capital', 'fleeing', 'the', 'country', 'for', 'safety', 'the', 'economy', 'is', 'teetering', 'on', 'the', 'edge', 'of', 'recession', 'as', 'the', 'countrys', 'minister', 'of', 'economic', 'development', 'acknowledgedwest', 'slams', 'russia', 'fantasy', 'narrative', 'on', 'ukraine', 'western', 'countries', 'on', 'the', 'security', 'council', 'said', 'the', 'new', 'report', 'undermines', 'russia', 's', 'claims', 'about', 'the', 'events', 'that', 'led', 'to', 'its', 'recent', 'annexation', 'of', 'crimea', 'and', 'they', 'warned', 'of', 'a', 'similar', 'situation', 'unfolding', 'nowvkontakte', 'founder', 'russia', 'wanted', 'personal', 'data', 'of', 'euromaidan', 'protesterss', 'korean', 'ferry', 'captain', 'was', 'one', 'of', 'the', 'first', 'off', 'the', 'sinking', 'ship', 'i', 'ca', 'nt', 'raise', 'my', 'face', 'before', 'the', 'passengers', 'and', 'family', 'members', 'of', 'the', 'missing', 'he', 'said', 'students', 'kidnapped', 'by', 'suspected', 'islamic', 'militants', 'in', 'nigeria', 'are', 'freed', 'for', 'separatist', 'head', 'and', 'for', 'the', 'machine', 'gun', 'the', 'reward', 'promised', 'by', 'the', 'governor', 'of', 'dnipropetrovsk', 'regioniranian', 'officials', 'and', 'bankers', 'warn', 'russia', 'not', 'to', 'dismiss', 'u', 's', 'sanctions', 'threata', 'labor', 'group', 'says', 'a', 'strike', 'at', 'the', 'world', 's', 'biggest', 'athletic', 'shoe', 'maker', 'is', 'snowballing', 'with', 'about', 'of', 'its', 'chinese', 'workers', 'protesting', 'over', 'insufficient', 'benefitsmoldovas', 'breakaway', 'region', 'asks', 'putin', 'to', 'recognize', 'sovereigntyobama', 'warns', 'of', 'consequences', 'for', 'russian', 'actions', 'destabilizing', 'ukrainecanadian', 'arrested', 'for', 'heartbleed', 'hackingukrainian', 'parliament', 'recommends', 'resumption', 'of', 'mandatory', 'conscription']}\n",
            "{'l': '1', 'n': ['british', 'man', 'found', 'with', 'nailbomb', 'weapons', 'cache', 'and', 'plans', 'to', 'mass', 'murder', 'immigrants', 'not', 'charged', 'with', 'terrorismisrael', 'must', 'give', 'up', 'nuclear', 'weapons', 'united', 'nations', 'resolutionukraine', 'pm', 'discloses', 'accident', 'at', 'nuclear', 'plant', 'reutersrussian', 'state', 'tv', 's', 'latest', 'attempt', 'to', 'persuade', 'viewers', 'of', 'the', 'moral', 'depravity', 'of', 'the', 'west', 'has', 'left', 'it', 'with', 'egg', 'on', 'its', 'face', 'what', 'it', 'presented', 'as', 'a', 'child', 'in', 'the', 'usa', 'being', 'exposed', 'to', 'lewd', 'homoerotica', 'was', 'quickly', 'shown', 'to', 'be', 'a', 'fake', 'pornographic', 'parody', 'taken', 'off', 'the', 'internet', 'dna', 'confirms', 'king', 'richard', 'iii', 's', 'remains', 'under', 'parking', 'lotan', 'indian', 'state', 'has', 'halted', 'mass', 'sterilisations', 'at', 'health', 'clinics', 'after', 'a', 'doctor', 'was', 'found', 'using', 'a', 'bicycle', 'pump', 'to', 'inflate', 'women', 's', 'abdomens', 'north', 'korea', 'bans', 'name', 'jong', 'un', 'for', 'all', 'but', 'leader', 'south', 'korean', 'government', 'officials', 'said', 'on', 'wednesday', 'that', 'north', 'korea', 'had', 'banned', 'parents', 'from', 'giving', 'their', 'newborns', 'the', 'same', 'name', 'as', 'the', 'top', 'leader', 'people', 'who', 'already', 'have', 'the', 'name', 'have', 'been', 'ordered', 'to', 'register', 'with', 'new', 'onespresident', 'bashar', 'al', 'assad', 'of', 'syria', 'says', 'us', 'led', 'strikes', 'on', 'syria', 'ineffective', 'you', 'can', 't', 'end', 'terrorism', 'with', 'aerial', 'strikes', 'troops', 'on', 'the', 'ground', 'that', 'know', 'the', 'land', 'and', 'can', 'react', 'are', 'essential', 'french', 'parliament', 'votes', 'to', 'recognize', 'palestine', 'as', 'a', 'staterise', 'of', 'turkish', 'islamic', 'schooling', 'upsets', 'secular', 'parents', 'turkey', 'has', 'seen', 'a', 'sharp', 'rise', 'in', 'religious', 'schooling', 'under', 'reforms', 'that', 'president', 'tayyip', 'erdogan', 'casts', 'as', 'a', 'defense', 'against', 'moral', 'decay', 'but', 'which', 'opponents', 'see', 'as', 'an', 'unwanted', 'drive', 'to', 'shape', 'a', 'more', 'islamic', 'nation', 'russian', 'ruble', 'in', 'worst', 'daily', 'drop', 'in', 'yearsglobal', 'livestock', 'industry', 'produces', 'more', 'greenhouse', 'gas', 'emissions', 'than', 'all', 'cars', 'planes', 'trains', 'amp', 'ships', 'combined', 'but', 'global', 'survey', 'finds', 'twice', 'as', 'many', 'people', 'think', 'transport', 'is', 'bigger', 'contributor', 'fear', 'of', 'a', 'consumer', 'backlash', 'is', 'preventing', 'action', 'on', 'getting', 'people', 'to', 'eat', 'less', 'meat', 'soap', 'sunscreen', 'and', 'steroids', 'found', 'in', 'antarctic', 'waters', 'and', 'wildlife', 'range', 'of', 'pharmaceuticals', 'found', 'in', 'fish', 'clams', 'and', 'sea', 'urchins', 'in', 'waters', 'around', 'two', 'research', 'stations', 'says', 'new', 'zealand', 'researchersiran', 'jets', 'bomb', 'islamic', 'state', 'targets', 'in', 'iraq', 'pentagonsepp', 'blatter', 'qatar', 'world', 'cup', 'workers', 'welfare', 'is', 'not', 'fifas', 'responsibility', 'companies', 'are', 'responsible', 'for', 'their', 'workers', 'hundreds', 'have', 'died', 'on', 'building', 'projectsthe', 'un', 'general', 'assembly', 'has', 'overwhelmingly', 'approved', 'an', 'arab', 'backed', 'resolution', 'criticizing', 'israel', 'for', 'refusing', 'to', 'join', 'an', 'international', 'treaty', 'against', 'nuclear', 'proliferation', 'and', 'calls', 'on', 'israel', 'to', 'join', 'nuclear', 'treatyisrael', 'vents', 'their', 'fury', 'with', 'france', 'after', 'parliament', 'votes', 'to', 'recognise', 'palestine', 'as', 'a', 'stateindian', 'forces', 'kill', 'militants', 'crossing', 'into', 'kashmir', 'to', 'disrupt', 'votemelting', 'rate', 'of', 'west', 'antarctica', 'glaciers', 'triples', 'studygreen', 'energy', 'sector', 'jobs', 'surpass', 'total', 'oil', 'sands', 'employment', 'in', 'canadajordanian', 'muslim', 'brotherhood', 'smuggling', 'weapons', 'into', 'israelquestions', 'raised', 'over', 'queens', 'ancestry', 'after', 'dna', 'test', 'on', 'richard', 'iiis', 'cousins', 'the', 'present', 'queen', 'may', 'not', 'be', 'descended', 'from', 'john', 'of', 'gaunt', 'and', 'edward', 'iii', 'the', 'lineage', 'on', 'which', 'the', 'tudor', 'claim', 'to', 'the', 'throne', 'originated', 'topless', 'femen', 'activist', 'goes', 'on', 'trial', 'in', 'cologne', 'josephine', 'witt', 'jumped', 'up', 'half', 'naked', 'onto', 'the', 'altar', 'of', 'cologne', 'cathedral', 'during', 'christmas', 'mass', 'last', 'year', 'in', 'protest', 'against', 'the', 'catholic', 'church', 'west', 'antarctic', 'melt', 'rate', 'has', 'tripled', 'the', 'total', 'amount', 'of', 'loss', 'averaged', 'gigatons', 'per', 'year', 'billion', 'u', 's', 'tons', 'by', 'comparison', 'mt', 'everest', 'weighs', 'about', 'gigatons', 'meaning', 'the', 'antarctic', 'glaciers', 'lost', 'an', 'amount', 'of', 'water', 'weight', 'equivalent', 'to', 'mt', 'everest', 'every', 'two', 'years', 'nasa', 'has', 'announced', 'that', 'a', 'test', 'launch', 'of', 'their', 'orion', 'space', 'capsule', 'will', 'take', 'place', 'on', 'thursday', 'in', 'the', 'first', 'step', 'of', 'a', 'mission', 'that', 'will', 'take', 'people', 'to', 'mars', 'by', 'mid']}\n"
          ],
          "name": "stdout"
        }
      ]
    },
    {
      "cell_type": "markdown",
      "metadata": {
        "id": "1hOiz-N6QWtT"
      },
      "source": [
        "Előtanult szókódoló használata a szótár létrehozásához, csak a tanító adathalmazt lehet felhasználni."
      ]
    },
    {
      "cell_type": "code",
      "metadata": {
        "colab": {
          "base_uri": "https://localhost:8080/"
        },
        "id": "8dcuw4xcQdeQ",
        "outputId": "d4aa6dd3-9dfa-473d-973d-46ac9cae9767"
      },
      "source": [
        "MAX_VOCAB_SIZE = 25000\r\n",
        "\r\n",
        "NEWS.build_vocab(train_data, \r\n",
        "                 max_size = MAX_VOCAB_SIZE, \r\n",
        "                 vectors = \"glove.6B.100d\", \r\n",
        "                 unk_init = torch.Tensor.normal_)\r\n",
        "\r\n",
        "LABELS.build_vocab(train_data)"
      ],
      "execution_count": 24,
      "outputs": [
        {
          "output_type": "stream",
          "text": [
            ".vector_cache/glove.6B.zip: 862MB [06:51, 2.10MB/s]                           \n",
            " 99%|█████████▉| 397725/400000 [00:16<00:00, 25322.20it/s]"
          ],
          "name": "stderr"
        }
      ]
    },
    {
      "cell_type": "markdown",
      "metadata": {
        "id": "f-7KyN_NTE_T"
      },
      "source": [
        "A létrehozott szótár ellenőrzése."
      ]
    },
    {
      "cell_type": "code",
      "metadata": {
        "colab": {
          "base_uri": "https://localhost:8080/"
        },
        "id": "wxww647pTVm7",
        "outputId": "b9f93824-3bd8-49d1-cb5a-96b4781822d9"
      },
      "source": [
        "print(f\"Unique tokens in TEXT vocabulary: {len(NEWS.vocab)}\")\r\n",
        "print(f\"Unique tokens in LABEL vocabulary: {len(LABELS.vocab)}\")"
      ],
      "execution_count": 25,
      "outputs": [
        {
          "output_type": "stream",
          "text": [
            "Unique tokens in TEXT vocabulary: 25002\n",
            "Unique tokens in LABEL vocabulary: 2\n"
          ],
          "name": "stdout"
        }
      ]
    },
    {
      "cell_type": "markdown",
      "metadata": {
        "id": "QCi6ZE3eWJtZ"
      },
      "source": [
        "A leggyakoribb szavak és a címkék ellenőrzése."
      ]
    },
    {
      "cell_type": "code",
      "metadata": {
        "colab": {
          "base_uri": "https://localhost:8080/"
        },
        "id": "rxdOCnaDWMX7",
        "outputId": "3b7875e2-c9a2-45d5-a94c-0f5383e7fdc3"
      },
      "source": [
        "print(NEWS.vocab.freqs.most_common(20))\r\n",
        "print(LABELS.vocab.stoi)"
      ],
      "execution_count": 26,
      "outputs": [
        {
          "output_type": "stream",
          "text": [
            "[('the', 23762), ('to', 18736), ('of', 16694), ('in', 16327), ('a', 11985), ('and', 9231), ('s', 7989), ('for', 6790), ('on', 5624), ('is', 5041), ('that', 3811), ('by', 3684), ('with', 3392), ('has', 3300), ('from', 3114), ('as', 3054), ('it', 2765), ('are', 2673), ('at', 2504), ('have', 2480)]\n",
            "defaultdict(<function _default_unk_index at 0x7f7b42d14158>, {'1': 0, '0': 1})\n"
          ],
          "name": "stdout"
        }
      ]
    },
    {
      "cell_type": "markdown",
      "metadata": {
        "id": "mmhkQVW7X6Xp"
      },
      "source": [
        "Bemenő csomagok, futtató eszköz és az iterátorok definiálása."
      ]
    },
    {
      "cell_type": "code",
      "metadata": {
        "colab": {
          "base_uri": "https://localhost:8080/"
        },
        "id": "0jceqv0VYA7m",
        "outputId": "01effff9-1856-4166-a359-ebdce04d7326"
      },
      "source": [
        "BATCH_SIZE = 64\r\n",
        "\r\n",
        "device = torch.device('cuda' if torch.cuda.is_available() else 'cpu')\r\n",
        "\r\n",
        "print(device)\r\n",
        "\r\n",
        "train_iterator, valid_iterator, test_iterator = data.BucketIterator.splits(\r\n",
        "    (train_data, valid_data, test_data), \r\n",
        "    sort_key = lambda x: x.n, #sort by n attribute (quote)\r\n",
        "    batch_size = BATCH_SIZE,\r\n",
        "    sort_within_batch = True,\r\n",
        "    device = device)"
      ],
      "execution_count": 27,
      "outputs": [
        {
          "output_type": "stream",
          "text": [
            "cuda\n"
          ],
          "name": "stdout"
        }
      ]
    },
    {
      "cell_type": "code",
      "metadata": {
        "colab": {
          "base_uri": "https://localhost:8080/"
        },
        "id": "vA0_8TpOYnCH",
        "outputId": "e6acf829-d592-4b43-e885-63340ffae88e"
      },
      "source": [
        "print('Train:')\r\n",
        "for batch in train_iterator:\r\n",
        "    print(batch)\r\n",
        "    \r\n",
        "print('Valid:')\r\n",
        "for batch in valid_iterator:\r\n",
        "    print(batch)\r\n",
        "    \r\n",
        "print('Test:')\r\n",
        "for batch in test_iterator:\r\n",
        "    print(batch)"
      ],
      "execution_count": 28,
      "outputs": [
        {
          "output_type": "stream",
          "text": [
            "Train:\n",
            "\n",
            "[torchtext.data.batch.Batch of size 64]\n",
            "\t[.l]:[torch.cuda.FloatTensor of size 64 (GPU 0)]\n",
            "\t[.n]:('[torch.cuda.LongTensor of size 588x64 (GPU 0)]', '[torch.cuda.LongTensor of size 64 (GPU 0)]')\n",
            "\n",
            "[torchtext.data.batch.Batch of size 64]\n",
            "\t[.l]:[torch.cuda.FloatTensor of size 64 (GPU 0)]\n",
            "\t[.n]:('[torch.cuda.LongTensor of size 612x64 (GPU 0)]', '[torch.cuda.LongTensor of size 64 (GPU 0)]')\n",
            "\n",
            "[torchtext.data.batch.Batch of size 64]\n",
            "\t[.l]:[torch.cuda.FloatTensor of size 64 (GPU 0)]\n",
            "\t[.n]:('[torch.cuda.LongTensor of size 554x64 (GPU 0)]', '[torch.cuda.LongTensor of size 64 (GPU 0)]')\n",
            "\n",
            "[torchtext.data.batch.Batch of size 64]\n",
            "\t[.l]:[torch.cuda.FloatTensor of size 64 (GPU 0)]\n",
            "\t[.n]:('[torch.cuda.LongTensor of size 601x64 (GPU 0)]', '[torch.cuda.LongTensor of size 64 (GPU 0)]')\n",
            "\n",
            "[torchtext.data.batch.Batch of size 64]\n",
            "\t[.l]:[torch.cuda.FloatTensor of size 64 (GPU 0)]\n",
            "\t[.n]:('[torch.cuda.LongTensor of size 676x64 (GPU 0)]', '[torch.cuda.LongTensor of size 64 (GPU 0)]')\n",
            "\n",
            "[torchtext.data.batch.Batch of size 24]\n",
            "\t[.l]:[torch.cuda.FloatTensor of size 24 (GPU 0)]\n",
            "\t[.n]:('[torch.cuda.LongTensor of size 565x24 (GPU 0)]', '[torch.cuda.LongTensor of size 24 (GPU 0)]')\n",
            "\n",
            "[torchtext.data.batch.Batch of size 64]\n",
            "\t[.l]:[torch.cuda.FloatTensor of size 64 (GPU 0)]\n",
            "\t[.n]:('[torch.cuda.LongTensor of size 658x64 (GPU 0)]', '[torch.cuda.LongTensor of size 64 (GPU 0)]')\n",
            "\n",
            "[torchtext.data.batch.Batch of size 64]\n",
            "\t[.l]:[torch.cuda.FloatTensor of size 64 (GPU 0)]\n",
            "\t[.n]:('[torch.cuda.LongTensor of size 726x64 (GPU 0)]', '[torch.cuda.LongTensor of size 64 (GPU 0)]')\n",
            "\n",
            "[torchtext.data.batch.Batch of size 64]\n",
            "\t[.l]:[torch.cuda.FloatTensor of size 64 (GPU 0)]\n",
            "\t[.n]:('[torch.cuda.LongTensor of size 638x64 (GPU 0)]', '[torch.cuda.LongTensor of size 64 (GPU 0)]')\n",
            "\n",
            "[torchtext.data.batch.Batch of size 64]\n",
            "\t[.l]:[torch.cuda.FloatTensor of size 64 (GPU 0)]\n",
            "\t[.n]:('[torch.cuda.LongTensor of size 585x64 (GPU 0)]', '[torch.cuda.LongTensor of size 64 (GPU 0)]')\n",
            "\n",
            "[torchtext.data.batch.Batch of size 64]\n",
            "\t[.l]:[torch.cuda.FloatTensor of size 64 (GPU 0)]\n",
            "\t[.n]:('[torch.cuda.LongTensor of size 613x64 (GPU 0)]', '[torch.cuda.LongTensor of size 64 (GPU 0)]')\n",
            "\n",
            "[torchtext.data.batch.Batch of size 64]\n",
            "\t[.l]:[torch.cuda.FloatTensor of size 64 (GPU 0)]\n",
            "\t[.n]:('[torch.cuda.LongTensor of size 579x64 (GPU 0)]', '[torch.cuda.LongTensor of size 64 (GPU 0)]')\n",
            "\n",
            "[torchtext.data.batch.Batch of size 64]\n",
            "\t[.l]:[torch.cuda.FloatTensor of size 64 (GPU 0)]\n",
            "\t[.n]:('[torch.cuda.LongTensor of size 609x64 (GPU 0)]', '[torch.cuda.LongTensor of size 64 (GPU 0)]')\n",
            "\n",
            "[torchtext.data.batch.Batch of size 64]\n",
            "\t[.l]:[torch.cuda.FloatTensor of size 64 (GPU 0)]\n",
            "\t[.n]:('[torch.cuda.LongTensor of size 660x64 (GPU 0)]', '[torch.cuda.LongTensor of size 64 (GPU 0)]')\n",
            "\n",
            "[torchtext.data.batch.Batch of size 64]\n",
            "\t[.l]:[torch.cuda.FloatTensor of size 64 (GPU 0)]\n",
            "\t[.n]:('[torch.cuda.LongTensor of size 629x64 (GPU 0)]', '[torch.cuda.LongTensor of size 64 (GPU 0)]')\n",
            "\n",
            "[torchtext.data.batch.Batch of size 64]\n",
            "\t[.l]:[torch.cuda.FloatTensor of size 64 (GPU 0)]\n",
            "\t[.n]:('[torch.cuda.LongTensor of size 613x64 (GPU 0)]', '[torch.cuda.LongTensor of size 64 (GPU 0)]')\n",
            "\n",
            "[torchtext.data.batch.Batch of size 64]\n",
            "\t[.l]:[torch.cuda.FloatTensor of size 64 (GPU 0)]\n",
            "\t[.n]:('[torch.cuda.LongTensor of size 597x64 (GPU 0)]', '[torch.cuda.LongTensor of size 64 (GPU 0)]')\n",
            "\n",
            "[torchtext.data.batch.Batch of size 64]\n",
            "\t[.l]:[torch.cuda.FloatTensor of size 64 (GPU 0)]\n",
            "\t[.n]:('[torch.cuda.LongTensor of size 618x64 (GPU 0)]', '[torch.cuda.LongTensor of size 64 (GPU 0)]')\n",
            "\n",
            "[torchtext.data.batch.Batch of size 64]\n",
            "\t[.l]:[torch.cuda.FloatTensor of size 64 (GPU 0)]\n",
            "\t[.n]:('[torch.cuda.LongTensor of size 596x64 (GPU 0)]', '[torch.cuda.LongTensor of size 64 (GPU 0)]')\n",
            "\n",
            "[torchtext.data.batch.Batch of size 64]\n",
            "\t[.l]:[torch.cuda.FloatTensor of size 64 (GPU 0)]\n",
            "\t[.n]:('[torch.cuda.LongTensor of size 585x64 (GPU 0)]', '[torch.cuda.LongTensor of size 64 (GPU 0)]')\n",
            "\n",
            "[torchtext.data.batch.Batch of size 64]\n",
            "\t[.l]:[torch.cuda.FloatTensor of size 64 (GPU 0)]\n",
            "\t[.n]:('[torch.cuda.LongTensor of size 620x64 (GPU 0)]', '[torch.cuda.LongTensor of size 64 (GPU 0)]')\n",
            "\n",
            "[torchtext.data.batch.Batch of size 64]\n",
            "\t[.l]:[torch.cuda.FloatTensor of size 64 (GPU 0)]\n",
            "\t[.n]:('[torch.cuda.LongTensor of size 657x64 (GPU 0)]', '[torch.cuda.LongTensor of size 64 (GPU 0)]')\n",
            "\n",
            "[torchtext.data.batch.Batch of size 64]\n",
            "\t[.l]:[torch.cuda.FloatTensor of size 64 (GPU 0)]\n",
            "\t[.n]:('[torch.cuda.LongTensor of size 680x64 (GPU 0)]', '[torch.cuda.LongTensor of size 64 (GPU 0)]')\n",
            "Valid:\n",
            "\n",
            "[torchtext.data.batch.Batch of size 64]\n",
            "\t[.l]:[torch.cuda.FloatTensor of size 64 (GPU 0)]\n",
            "\t[.n]:('[torch.cuda.LongTensor of size 541x64 (GPU 0)]', '[torch.cuda.LongTensor of size 64 (GPU 0)]')\n",
            "\n",
            "[torchtext.data.batch.Batch of size 64]\n",
            "\t[.l]:[torch.cuda.FloatTensor of size 64 (GPU 0)]\n",
            "\t[.n]:('[torch.cuda.LongTensor of size 581x64 (GPU 0)]', '[torch.cuda.LongTensor of size 64 (GPU 0)]')\n",
            "\n",
            "[torchtext.data.batch.Batch of size 31]\n",
            "\t[.l]:[torch.cuda.FloatTensor of size 31 (GPU 0)]\n",
            "\t[.n]:('[torch.cuda.LongTensor of size 542x31 (GPU 0)]', '[torch.cuda.LongTensor of size 31 (GPU 0)]')\n",
            "Test:\n",
            "\n",
            "[torchtext.data.batch.Batch of size 64]\n",
            "\t[.l]:[torch.cuda.FloatTensor of size 64 (GPU 0)]\n",
            "\t[.n]:('[torch.cuda.LongTensor of size 584x64 (GPU 0)]', '[torch.cuda.LongTensor of size 64 (GPU 0)]')\n",
            "\n",
            "[torchtext.data.batch.Batch of size 64]\n",
            "\t[.l]:[torch.cuda.FloatTensor of size 64 (GPU 0)]\n",
            "\t[.n]:('[torch.cuda.LongTensor of size 586x64 (GPU 0)]', '[torch.cuda.LongTensor of size 64 (GPU 0)]')\n",
            "\n",
            "[torchtext.data.batch.Batch of size 64]\n",
            "\t[.l]:[torch.cuda.FloatTensor of size 64 (GPU 0)]\n",
            "\t[.n]:('[torch.cuda.LongTensor of size 553x64 (GPU 0)]', '[torch.cuda.LongTensor of size 64 (GPU 0)]')\n",
            "\n",
            "[torchtext.data.batch.Batch of size 64]\n",
            "\t[.l]:[torch.cuda.FloatTensor of size 64 (GPU 0)]\n",
            "\t[.n]:('[torch.cuda.LongTensor of size 537x64 (GPU 0)]', '[torch.cuda.LongTensor of size 64 (GPU 0)]')\n",
            "\n",
            "[torchtext.data.batch.Batch of size 64]\n",
            "\t[.l]:[torch.cuda.FloatTensor of size 64 (GPU 0)]\n",
            "\t[.n]:('[torch.cuda.LongTensor of size 573x64 (GPU 0)]', '[torch.cuda.LongTensor of size 64 (GPU 0)]')\n",
            "\n",
            "[torchtext.data.batch.Batch of size 64]\n",
            "\t[.l]:[torch.cuda.FloatTensor of size 64 (GPU 0)]\n",
            "\t[.n]:('[torch.cuda.LongTensor of size 581x64 (GPU 0)]', '[torch.cuda.LongTensor of size 64 (GPU 0)]')\n",
            "\n",
            "[torchtext.data.batch.Batch of size 14]\n",
            "\t[.l]:[torch.cuda.FloatTensor of size 14 (GPU 0)]\n",
            "\t[.n]:('[torch.cuda.LongTensor of size 550x14 (GPU 0)]', '[torch.cuda.LongTensor of size 14 (GPU 0)]')\n"
          ],
          "name": "stdout"
        }
      ]
    },
    {
      "cell_type": "markdown",
      "metadata": {
        "id": "UGnkcD0-catF"
      },
      "source": [
        "LSTM modell felépítése."
      ]
    },
    {
      "cell_type": "code",
      "metadata": {
        "id": "S9kp9mbhcdGO"
      },
      "source": [
        "import torch.nn as nn\r\n",
        "\r\n",
        "class RNN(nn.Module):\r\n",
        "    def __init__(self, vocab_size, embedding_dim, hidden_dim, output_dim, n_layers, \r\n",
        "                 bidirectional, dropout, pad_idx):\r\n",
        "        \r\n",
        "        super().__init__()\r\n",
        "        \r\n",
        "        self.embedding = nn.Embedding(vocab_size, embedding_dim, padding_idx = pad_idx)\r\n",
        "        \r\n",
        "        self.rnn = nn.LSTM(embedding_dim, \r\n",
        "                           hidden_dim, \r\n",
        "                           num_layers=n_layers, \r\n",
        "                           bidirectional=bidirectional, \r\n",
        "                           dropout=dropout)\r\n",
        "        \r\n",
        "        self.fc = nn.Linear(hidden_dim * 2, output_dim)\r\n",
        "        \r\n",
        "        self.dropout = nn.Dropout(dropout)\r\n",
        "        \r\n",
        "    def forward(self, text, text_lengths):\r\n",
        "        \r\n",
        "        #text = [sent len, batch size]\r\n",
        "        \r\n",
        "        embedded = self.dropout(self.embedding(text))\r\n",
        "        \r\n",
        "        #embedded = [sent len, batch size, emb dim]\r\n",
        "        \r\n",
        "        #pack sequence\r\n",
        "        packed_embedded = nn.utils.rnn.pack_padded_sequence(embedded, text_lengths.cpu(), enforce_sorted=False)\r\n",
        "        \r\n",
        "        packed_output, (hidden, cell) = self.rnn(packed_embedded)\r\n",
        "        \r\n",
        "        #unpack sequence\r\n",
        "        output, output_lengths = nn.utils.rnn.pad_packed_sequence(packed_output)\r\n",
        "\r\n",
        "        #output = [sent len, batch size, hid dim * num directions]\r\n",
        "        #output over padding tokens are zero tensors\r\n",
        "        \r\n",
        "        #hidden = [num layers * num directions, batch size, hid dim]\r\n",
        "        #cell = [num layers * num directions, batch size, hid dim]\r\n",
        "        \r\n",
        "        #concat the final forward (hidden[-2,:,:]) and backward (hidden[-1,:,:]) hidden layers\r\n",
        "        #and apply dropout\r\n",
        "        \r\n",
        "        hidden = self.dropout(torch.cat((hidden[-2,:,:], hidden[-1,:,:]), dim = 1))\r\n",
        "                \r\n",
        "        #hidden = [batch size, hid dim * num directions]\r\n",
        "            \r\n",
        "        return self.fc(hidden)"
      ],
      "execution_count": 74,
      "outputs": []
    },
    {
      "cell_type": "markdown",
      "metadata": {
        "id": "nDmFJuO7djyd"
      },
      "source": [
        "LSTM modell létrehozása."
      ]
    },
    {
      "cell_type": "code",
      "metadata": {
        "id": "vGgz_t4RdliD"
      },
      "source": [
        "INPUT_DIM = len(NEWS.vocab)\r\n",
        "EMBEDDING_DIM = 100\r\n",
        "HIDDEN_DIM = 128\r\n",
        "OUTPUT_DIM = 1\r\n",
        "N_LAYERS = 2\r\n",
        "BIDIRECTIONAL = True\r\n",
        "DROPOUT = 0.8\r\n",
        "PAD_IDX = NEWS.vocab.stoi[NEWS.pad_token]\r\n",
        "\r\n",
        "model = RNN(INPUT_DIM, \r\n",
        "            EMBEDDING_DIM, \r\n",
        "            HIDDEN_DIM, \r\n",
        "            OUTPUT_DIM, \r\n",
        "            N_LAYERS, \r\n",
        "            BIDIRECTIONAL, \r\n",
        "            DROPOUT, \r\n",
        "            PAD_IDX)"
      ],
      "execution_count": 158,
      "outputs": []
    },
    {
      "cell_type": "markdown",
      "metadata": {
        "id": "X5jLoM55dtZ6"
      },
      "source": [
        "A modell tanítható paramétereinek megvizsgálása."
      ]
    },
    {
      "cell_type": "code",
      "metadata": {
        "colab": {
          "base_uri": "https://localhost:8080/"
        },
        "id": "gZipFlP3dxwd",
        "outputId": "bca6ba57-24bd-460b-f669-0dca5128c1b8"
      },
      "source": [
        "def count_parameters(model):\r\n",
        "    return sum(p.numel() for p in model.parameters() if p.requires_grad)\r\n",
        "\r\n",
        "print(f'The model has {count_parameters(model):,} trainable parameters')"
      ],
      "execution_count": 159,
      "outputs": [
        {
          "output_type": "stream",
          "text": [
            "The model has 3,131,241 trainable parameters\n"
          ],
          "name": "stdout"
        }
      ]
    },
    {
      "cell_type": "markdown",
      "metadata": {
        "id": "4lWdAIPdd_OS"
      },
      "source": [
        "A korábban létrehozott szótár használata a modell esetében."
      ]
    },
    {
      "cell_type": "code",
      "metadata": {
        "colab": {
          "base_uri": "https://localhost:8080/"
        },
        "id": "fvuKR6ZyeCoX",
        "outputId": "af992ea7-98b9-47cd-fe25-56582203eff4"
      },
      "source": [
        "pretrained_embeddings = NEWS.vocab.vectors\r\n",
        "\r\n",
        "print(pretrained_embeddings.shape)"
      ],
      "execution_count": 160,
      "outputs": [
        {
          "output_type": "stream",
          "text": [
            "torch.Size([25002, 100])\n"
          ],
          "name": "stdout"
        }
      ]
    },
    {
      "cell_type": "markdown",
      "metadata": {
        "id": "JWAz8q5IeJMy"
      },
      "source": [
        "Az előre inicializált súlyok lecserélére az előtanítottakra."
      ]
    },
    {
      "cell_type": "code",
      "metadata": {
        "colab": {
          "base_uri": "https://localhost:8080/"
        },
        "id": "yZE0xG6xeNVJ",
        "outputId": "619e43dc-785a-4a67-fd17-f205287e3345"
      },
      "source": [
        "model.embedding.weight.data.copy_(pretrained_embeddings)"
      ],
      "execution_count": 161,
      "outputs": [
        {
          "output_type": "execute_result",
          "data": {
            "text/plain": [
              "tensor([[-0.1117, -0.4966,  0.1631,  ...,  1.2647, -0.2753, -0.1325],\n",
              "        [-0.8555, -0.7208,  1.3755,  ...,  0.0825, -1.1314,  0.3997],\n",
              "        [-0.0382, -0.2449,  0.7281,  ..., -0.1459,  0.8278,  0.2706],\n",
              "        ...,\n",
              "        [ 0.1904,  0.1594, -0.0889,  ...,  0.3225,  0.6523,  0.1141],\n",
              "        [-0.8440, -0.2822,  0.6543,  ...,  0.5906,  1.7535, -0.8155],\n",
              "        [ 0.1942,  0.3454, -0.1257,  ..., -0.1652, -0.0879,  0.3515]])"
            ]
          },
          "metadata": {
            "tags": []
          },
          "execution_count": 161
        }
      ]
    },
    {
      "cell_type": "markdown",
      "metadata": {
        "id": "ajyH5rJSeUSM"
      },
      "source": [
        "A térköz és az ismeretlen kódok súlyának nullára állítása."
      ]
    },
    {
      "cell_type": "code",
      "metadata": {
        "colab": {
          "base_uri": "https://localhost:8080/"
        },
        "id": "Hg-ecD16eakD",
        "outputId": "b193939e-c139-49c0-a3d9-8cc7a3368005"
      },
      "source": [
        "UNK_IDX = NEWS.vocab.stoi[NEWS.unk_token]\r\n",
        "\r\n",
        "model.embedding.weight.data[UNK_IDX] = torch.zeros(EMBEDDING_DIM)\r\n",
        "model.embedding.weight.data[PAD_IDX] = torch.zeros(EMBEDDING_DIM)\r\n",
        "\r\n",
        "print(model.embedding.weight.data)"
      ],
      "execution_count": 162,
      "outputs": [
        {
          "output_type": "stream",
          "text": [
            "tensor([[ 0.0000,  0.0000,  0.0000,  ...,  0.0000,  0.0000,  0.0000],\n",
            "        [ 0.0000,  0.0000,  0.0000,  ...,  0.0000,  0.0000,  0.0000],\n",
            "        [-0.0382, -0.2449,  0.7281,  ..., -0.1459,  0.8278,  0.2706],\n",
            "        ...,\n",
            "        [ 0.1904,  0.1594, -0.0889,  ...,  0.3225,  0.6523,  0.1141],\n",
            "        [-0.8440, -0.2822,  0.6543,  ...,  0.5906,  1.7535, -0.8155],\n",
            "        [ 0.1942,  0.3454, -0.1257,  ..., -0.1652, -0.0879,  0.3515]])\n"
          ],
          "name": "stdout"
        }
      ]
    },
    {
      "cell_type": "markdown",
      "metadata": {
        "id": "xyM2Jxo3enp3"
      },
      "source": [
        "A modell tanítása következik, amit először az optimalizáló függvény meghatározásával kezdem."
      ]
    },
    {
      "cell_type": "code",
      "metadata": {
        "id": "D-aDC99tesFH"
      },
      "source": [
        "import torch.optim as optim\r\n",
        "\r\n",
        "optimizer = optim.Adam(model.parameters())"
      ],
      "execution_count": 163,
      "outputs": []
    },
    {
      "cell_type": "markdown",
      "metadata": {
        "id": "2a8y25FJfW4B"
      },
      "source": [
        "Ezek után a költséggfüggvény definiálása következik, majd a modellel együtt az eszközre illesztése."
      ]
    },
    {
      "cell_type": "code",
      "metadata": {
        "id": "wIe5DpFxfcg_"
      },
      "source": [
        "criterion = nn.BCEWithLogitsLoss()\r\n",
        "\r\n",
        "model = model.to(device)\r\n",
        "criterion = criterion.to(device)"
      ],
      "execution_count": 164,
      "outputs": []
    },
    {
      "cell_type": "markdown",
      "metadata": {
        "id": "aZM_sLqsfd9N"
      },
      "source": [
        "A pontosság számítására használandó függvény definiálása."
      ]
    },
    {
      "cell_type": "code",
      "metadata": {
        "id": "s1rV3_t5fm1p"
      },
      "source": [
        "def binary_accuracy(preds, y):\r\n",
        "    \"\"\"\r\n",
        "    Returns accuracy per batch, i.e. if you get 8/10 right, this returns 0.8, NOT 8\r\n",
        "    \"\"\"\r\n",
        "\r\n",
        "    #round predictions to the closest integer\r\n",
        "    rounded_preds = torch.round(torch.sigmoid(preds))\r\n",
        "    correct = (rounded_preds == y).float() #convert into float for division \r\n",
        "    acc = correct.sum() / len(correct)\r\n",
        "    return acc"
      ],
      "execution_count": 165,
      "outputs": []
    },
    {
      "cell_type": "markdown",
      "metadata": {
        "id": "RLs3xet6fvj6"
      },
      "source": [
        "A tanító függvény definiálása."
      ]
    },
    {
      "cell_type": "code",
      "metadata": {
        "id": "kL-GDrV2fyOm"
      },
      "source": [
        "def train(model, iterator, optimizer, criterion):\r\n",
        "    \r\n",
        "    epoch_loss = 0\r\n",
        "    epoch_acc = 0\r\n",
        "    \r\n",
        "    model.train() # turn on drop out\r\n",
        "    \r\n",
        "    for batch in iterator:\r\n",
        "        \r\n",
        "        optimizer.zero_grad()\r\n",
        "        \r\n",
        "        text, text_lengths = batch.n\r\n",
        "        \r\n",
        "        predictions = model(text, text_lengths).squeeze(1)\r\n",
        "        \r\n",
        "        loss = criterion(predictions, batch.l)\r\n",
        "        \r\n",
        "        acc = binary_accuracy(predictions, batch.l)\r\n",
        "        \r\n",
        "        loss.backward()\r\n",
        "        \r\n",
        "        optimizer.step()\r\n",
        "        \r\n",
        "        epoch_loss += loss.item()\r\n",
        "        epoch_acc += acc.item()\r\n",
        "        \r\n",
        "    return epoch_loss / len(iterator), epoch_acc / len(iterator)"
      ],
      "execution_count": 166,
      "outputs": []
    },
    {
      "cell_type": "markdown",
      "metadata": {
        "id": "7B9fY6AqgCI9"
      },
      "source": [
        "A modell tesztelésének definiálása."
      ]
    },
    {
      "cell_type": "code",
      "metadata": {
        "id": "3jh9GkfHgETf"
      },
      "source": [
        "def evaluate(model, iterator, criterion):\r\n",
        "    \r\n",
        "    epoch_loss = 0\r\n",
        "    epoch_acc = 0\r\n",
        "    \r\n",
        "    model.eval() # turn off drop out\r\n",
        "    \r\n",
        "    with torch.no_grad():\r\n",
        "    \r\n",
        "        for batch in iterator:\r\n",
        "\r\n",
        "            text, text_lengths = batch.n\r\n",
        "            \r\n",
        "            predictions = model(text, text_lengths).squeeze(1)\r\n",
        "            \r\n",
        "            loss = criterion(predictions, batch.l)\r\n",
        "            \r\n",
        "            acc = binary_accuracy(predictions, batch.l)\r\n",
        "\r\n",
        "            epoch_loss += loss.item()\r\n",
        "            epoch_acc += acc.item()\r\n",
        "        \r\n",
        "    return epoch_loss / len(iterator), epoch_acc / len(iterator)"
      ],
      "execution_count": 167,
      "outputs": []
    },
    {
      "cell_type": "markdown",
      "metadata": {
        "id": "Nqtr80BzgOWJ"
      },
      "source": [
        "Az epoch-ok idejének mérésére használt függvény definiálása."
      ]
    },
    {
      "cell_type": "code",
      "metadata": {
        "id": "ouDzvOWEgTTD"
      },
      "source": [
        "import time\r\n",
        "\r\n",
        "def epoch_time(start_time, end_time):\r\n",
        "    elapsed_time = end_time - start_time\r\n",
        "    elapsed_mins = int(elapsed_time / 60)\r\n",
        "    elapsed_secs = int(elapsed_time - (elapsed_mins * 60))\r\n",
        "    return elapsed_mins, elapsed_secs"
      ],
      "execution_count": 168,
      "outputs": []
    },
    {
      "cell_type": "markdown",
      "metadata": {
        "id": "tcpnadqBgWtx"
      },
      "source": [
        "A modell tanítása."
      ]
    },
    {
      "cell_type": "code",
      "metadata": {
        "colab": {
          "base_uri": "https://localhost:8080/"
        },
        "id": "KVbMeg1EgYIe",
        "outputId": "a8795ab4-ddd8-47f4-d8ad-7dac45205e57"
      },
      "source": [
        "N_EPOCHS = 25\r\n",
        "\r\n",
        "best_valid_loss = float('inf')\r\n",
        "\r\n",
        "for epoch in range(N_EPOCHS):\r\n",
        "\r\n",
        "    start_time = time.time()\r\n",
        "    \r\n",
        "    train_loss, train_acc = train(model, train_iterator, optimizer, criterion)\r\n",
        "    valid_loss, valid_acc = evaluate(model, valid_iterator, criterion)\r\n",
        "    \r\n",
        "    end_time = time.time()\r\n",
        "\r\n",
        "    epoch_mins, epoch_secs = epoch_time(start_time, end_time)\r\n",
        "    \r\n",
        "    if valid_loss < best_valid_loss:\r\n",
        "        best_valid_loss = valid_loss\r\n",
        "        torch.save(model.state_dict(), 'best-model.pt')\r\n",
        "    \r\n",
        "    print(f'Epoch: {epoch+1:02} | Epoch Time: {epoch_mins}m {epoch_secs}s')\r\n",
        "    print(f'\\tTrain Loss: {train_loss:.3f} | Train Acc: {train_acc*100:.2f}%')\r\n",
        "    print(f'\\t Val. Loss: {valid_loss:.3f} |  Val. Acc: {valid_acc*100:.2f}%')"
      ],
      "execution_count": 169,
      "outputs": [
        {
          "output_type": "stream",
          "text": [
            "Epoch: 01 | Epoch Time: 0m 3s\n",
            "\tTrain Loss: 0.693 | Train Acc: 52.47%\n",
            "\t Val. Loss: 0.674 |  Val. Acc: 60.60%\n",
            "Epoch: 02 | Epoch Time: 0m 3s\n",
            "\tTrain Loss: 0.693 | Train Acc: 52.29%\n",
            "\t Val. Loss: 0.679 |  Val. Acc: 60.60%\n",
            "Epoch: 03 | Epoch Time: 0m 3s\n",
            "\tTrain Loss: 0.692 | Train Acc: 52.88%\n",
            "\t Val. Loss: 0.678 |  Val. Acc: 60.60%\n",
            "Epoch: 04 | Epoch Time: 0m 3s\n",
            "\tTrain Loss: 0.693 | Train Acc: 52.92%\n",
            "\t Val. Loss: 0.678 |  Val. Acc: 60.60%\n",
            "Epoch: 05 | Epoch Time: 0m 3s\n",
            "\tTrain Loss: 0.694 | Train Acc: 51.43%\n",
            "\t Val. Loss: 0.678 |  Val. Acc: 60.60%\n",
            "Epoch: 06 | Epoch Time: 0m 3s\n",
            "\tTrain Loss: 0.690 | Train Acc: 53.37%\n",
            "\t Val. Loss: 0.677 |  Val. Acc: 60.60%\n",
            "Epoch: 07 | Epoch Time: 0m 3s\n",
            "\tTrain Loss: 0.694 | Train Acc: 52.56%\n",
            "\t Val. Loss: 0.678 |  Val. Acc: 60.60%\n",
            "Epoch: 08 | Epoch Time: 0m 3s\n",
            "\tTrain Loss: 0.690 | Train Acc: 53.96%\n",
            "\t Val. Loss: 0.676 |  Val. Acc: 60.60%\n",
            "Epoch: 09 | Epoch Time: 0m 3s\n",
            "\tTrain Loss: 0.689 | Train Acc: 53.62%\n",
            "\t Val. Loss: 0.680 |  Val. Acc: 60.60%\n",
            "Epoch: 10 | Epoch Time: 0m 3s\n",
            "\tTrain Loss: 0.690 | Train Acc: 54.57%\n",
            "\t Val. Loss: 0.677 |  Val. Acc: 60.60%\n",
            "Epoch: 11 | Epoch Time: 0m 3s\n",
            "\tTrain Loss: 0.684 | Train Acc: 56.25%\n",
            "\t Val. Loss: 0.678 |  Val. Acc: 61.12%\n",
            "Epoch: 12 | Epoch Time: 0m 3s\n",
            "\tTrain Loss: 0.679 | Train Acc: 57.38%\n",
            "\t Val. Loss: 0.706 |  Val. Acc: 41.62%\n",
            "Epoch: 13 | Epoch Time: 0m 3s\n",
            "\tTrain Loss: 0.686 | Train Acc: 54.91%\n",
            "\t Val. Loss: 0.694 |  Val. Acc: 53.34%\n",
            "Epoch: 14 | Epoch Time: 0m 3s\n",
            "\tTrain Loss: 0.678 | Train Acc: 57.13%\n",
            "\t Val. Loss: 0.741 |  Val. Acc: 40.41%\n",
            "Epoch: 15 | Epoch Time: 0m 3s\n",
            "\tTrain Loss: 0.660 | Train Acc: 61.14%\n",
            "\t Val. Loss: 0.721 |  Val. Acc: 45.85%\n",
            "Epoch: 16 | Epoch Time: 0m 3s\n",
            "\tTrain Loss: 0.661 | Train Acc: 60.89%\n",
            "\t Val. Loss: 0.759 |  Val. Acc: 43.11%\n",
            "Epoch: 17 | Epoch Time: 0m 3s\n",
            "\tTrain Loss: 0.640 | Train Acc: 63.25%\n",
            "\t Val. Loss: 0.719 |  Val. Acc: 58.97%\n",
            "Epoch: 18 | Epoch Time: 0m 3s\n",
            "\tTrain Loss: 0.636 | Train Acc: 63.59%\n",
            "\t Val. Loss: 0.762 |  Val. Acc: 54.32%\n",
            "Epoch: 19 | Epoch Time: 0m 3s\n",
            "\tTrain Loss: 0.616 | Train Acc: 65.65%\n",
            "\t Val. Loss: 0.802 |  Val. Acc: 51.16%\n",
            "Epoch: 20 | Epoch Time: 0m 3s\n",
            "\tTrain Loss: 0.608 | Train Acc: 67.23%\n",
            "\t Val. Loss: 0.825 |  Val. Acc: 49.56%\n",
            "Epoch: 21 | Epoch Time: 0m 3s\n",
            "\tTrain Loss: 0.592 | Train Acc: 70.18%\n",
            "\t Val. Loss: 0.774 |  Val. Acc: 53.83%\n",
            "Epoch: 22 | Epoch Time: 0m 3s\n",
            "\tTrain Loss: 0.572 | Train Acc: 71.65%\n",
            "\t Val. Loss: 0.845 |  Val. Acc: 54.32%\n",
            "Epoch: 23 | Epoch Time: 0m 3s\n",
            "\tTrain Loss: 0.567 | Train Acc: 71.49%\n",
            "\t Val. Loss: 0.785 |  Val. Acc: 53.80%\n",
            "Epoch: 24 | Epoch Time: 0m 3s\n",
            "\tTrain Loss: 0.529 | Train Acc: 74.16%\n",
            "\t Val. Loss: 0.854 |  Val. Acc: 55.88%\n",
            "Epoch: 25 | Epoch Time: 0m 3s\n",
            "\tTrain Loss: 0.525 | Train Acc: 75.09%\n",
            "\t Val. Loss: 0.974 |  Val. Acc: 54.25%\n"
          ],
          "name": "stdout"
        }
      ]
    },
    {
      "cell_type": "markdown",
      "metadata": {
        "id": "txVwtP_8-R5g"
      },
      "source": [
        "A modell tesztelése."
      ]
    },
    {
      "cell_type": "code",
      "metadata": {
        "colab": {
          "base_uri": "https://localhost:8080/"
        },
        "id": "LndWT2Kn-UMK",
        "outputId": "6ad7e4d5-cb56-4d92-dead-c8c10cea88dc"
      },
      "source": [
        "model.load_state_dict(torch.load('best-model.pt'))\r\n",
        "\r\n",
        "test_loss, test_acc = evaluate(model, test_iterator, criterion)\r\n",
        "\r\n",
        "print(f'Test Loss: {test_loss:.3f} | Test Acc: {test_acc*100:.2f}%')"
      ],
      "execution_count": 170,
      "outputs": [
        {
          "output_type": "stream",
          "text": [
            "Test Loss: 0.696 | Test Acc: 52.26%\n"
          ],
          "name": "stdout"
        }
      ]
    }
  ]
}