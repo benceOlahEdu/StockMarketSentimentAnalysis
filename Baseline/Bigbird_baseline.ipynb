{
  "nbformat": 4,
  "nbformat_minor": 0,
  "metadata": {
    "accelerator": "GPU",
    "colab": {
      "name": "Bigbird_baseline.ipynb",
      "provenance": [],
      "collapsed_sections": []
    },
    "kernelspec": {
      "display_name": "Python 3",
      "name": "python3"
    },
    "language_info": {
      "name": "python"
    },
    "widgets": {
      "application/vnd.jupyter.widget-state+json": {
        "05cf230b20204e38b005af4a36fc06ed": {
          "model_module": "@jupyter-widgets/controls",
          "model_name": "HBoxModel",
          "state": {
            "_view_name": "HBoxView",
            "_dom_classes": [],
            "_model_name": "HBoxModel",
            "_view_module": "@jupyter-widgets/controls",
            "_model_module_version": "1.5.0",
            "_view_count": null,
            "_view_module_version": "1.5.0",
            "box_style": "",
            "layout": "IPY_MODEL_026e18d877314405b07f53cda2aa7138",
            "_model_module": "@jupyter-widgets/controls",
            "children": [
              "IPY_MODEL_9df0bc1b8daf479c98e16777bd0efb8e",
              "IPY_MODEL_154bc56ef78c433290d44081390c269b"
            ]
          }
        },
        "026e18d877314405b07f53cda2aa7138": {
          "model_module": "@jupyter-widgets/base",
          "model_name": "LayoutModel",
          "state": {
            "_view_name": "LayoutView",
            "grid_template_rows": null,
            "right": null,
            "justify_content": null,
            "_view_module": "@jupyter-widgets/base",
            "overflow": null,
            "_model_module_version": "1.2.0",
            "_view_count": null,
            "flex_flow": null,
            "width": null,
            "min_width": null,
            "border": null,
            "align_items": null,
            "bottom": null,
            "_model_module": "@jupyter-widgets/base",
            "top": null,
            "grid_column": null,
            "overflow_y": null,
            "overflow_x": null,
            "grid_auto_flow": null,
            "grid_area": null,
            "grid_template_columns": null,
            "flex": null,
            "_model_name": "LayoutModel",
            "justify_items": null,
            "grid_row": null,
            "max_height": null,
            "align_content": null,
            "visibility": null,
            "align_self": null,
            "height": null,
            "min_height": null,
            "padding": null,
            "grid_auto_rows": null,
            "grid_gap": null,
            "max_width": null,
            "order": null,
            "_view_module_version": "1.2.0",
            "grid_template_areas": null,
            "object_position": null,
            "object_fit": null,
            "grid_auto_columns": null,
            "margin": null,
            "display": null,
            "left": null
          }
        },
        "9df0bc1b8daf479c98e16777bd0efb8e": {
          "model_module": "@jupyter-widgets/controls",
          "model_name": "FloatProgressModel",
          "state": {
            "_view_name": "ProgressView",
            "style": "IPY_MODEL_6837934e5571465fa1e072bd9e1c50c8",
            "_dom_classes": [],
            "description": "Downloading: 100%",
            "_model_name": "FloatProgressModel",
            "bar_style": "success",
            "max": 845731,
            "_view_module": "@jupyter-widgets/controls",
            "_model_module_version": "1.5.0",
            "value": 845731,
            "_view_count": null,
            "_view_module_version": "1.5.0",
            "orientation": "horizontal",
            "min": 0,
            "description_tooltip": null,
            "_model_module": "@jupyter-widgets/controls",
            "layout": "IPY_MODEL_1d3dba38cbdc4c1093507008e997675a"
          }
        },
        "154bc56ef78c433290d44081390c269b": {
          "model_module": "@jupyter-widgets/controls",
          "model_name": "HTMLModel",
          "state": {
            "_view_name": "HTMLView",
            "style": "IPY_MODEL_de71cad9f494485c81e6e4e5a83cc874",
            "_dom_classes": [],
            "description": "",
            "_model_name": "HTMLModel",
            "placeholder": "​",
            "_view_module": "@jupyter-widgets/controls",
            "_model_module_version": "1.5.0",
            "value": " 846k/846k [05:32&lt;00:00, 2.55kB/s]",
            "_view_count": null,
            "_view_module_version": "1.5.0",
            "description_tooltip": null,
            "_model_module": "@jupyter-widgets/controls",
            "layout": "IPY_MODEL_855dbf39b40e45b495b0306e1d2ca6c3"
          }
        },
        "6837934e5571465fa1e072bd9e1c50c8": {
          "model_module": "@jupyter-widgets/controls",
          "model_name": "ProgressStyleModel",
          "state": {
            "_view_name": "StyleView",
            "_model_name": "ProgressStyleModel",
            "description_width": "initial",
            "_view_module": "@jupyter-widgets/base",
            "_model_module_version": "1.5.0",
            "_view_count": null,
            "_view_module_version": "1.2.0",
            "bar_color": null,
            "_model_module": "@jupyter-widgets/controls"
          }
        },
        "1d3dba38cbdc4c1093507008e997675a": {
          "model_module": "@jupyter-widgets/base",
          "model_name": "LayoutModel",
          "state": {
            "_view_name": "LayoutView",
            "grid_template_rows": null,
            "right": null,
            "justify_content": null,
            "_view_module": "@jupyter-widgets/base",
            "overflow": null,
            "_model_module_version": "1.2.0",
            "_view_count": null,
            "flex_flow": null,
            "width": null,
            "min_width": null,
            "border": null,
            "align_items": null,
            "bottom": null,
            "_model_module": "@jupyter-widgets/base",
            "top": null,
            "grid_column": null,
            "overflow_y": null,
            "overflow_x": null,
            "grid_auto_flow": null,
            "grid_area": null,
            "grid_template_columns": null,
            "flex": null,
            "_model_name": "LayoutModel",
            "justify_items": null,
            "grid_row": null,
            "max_height": null,
            "align_content": null,
            "visibility": null,
            "align_self": null,
            "height": null,
            "min_height": null,
            "padding": null,
            "grid_auto_rows": null,
            "grid_gap": null,
            "max_width": null,
            "order": null,
            "_view_module_version": "1.2.0",
            "grid_template_areas": null,
            "object_position": null,
            "object_fit": null,
            "grid_auto_columns": null,
            "margin": null,
            "display": null,
            "left": null
          }
        },
        "de71cad9f494485c81e6e4e5a83cc874": {
          "model_module": "@jupyter-widgets/controls",
          "model_name": "DescriptionStyleModel",
          "state": {
            "_view_name": "StyleView",
            "_model_name": "DescriptionStyleModel",
            "description_width": "",
            "_view_module": "@jupyter-widgets/base",
            "_model_module_version": "1.5.0",
            "_view_count": null,
            "_view_module_version": "1.2.0",
            "_model_module": "@jupyter-widgets/controls"
          }
        },
        "855dbf39b40e45b495b0306e1d2ca6c3": {
          "model_module": "@jupyter-widgets/base",
          "model_name": "LayoutModel",
          "state": {
            "_view_name": "LayoutView",
            "grid_template_rows": null,
            "right": null,
            "justify_content": null,
            "_view_module": "@jupyter-widgets/base",
            "overflow": null,
            "_model_module_version": "1.2.0",
            "_view_count": null,
            "flex_flow": null,
            "width": null,
            "min_width": null,
            "border": null,
            "align_items": null,
            "bottom": null,
            "_model_module": "@jupyter-widgets/base",
            "top": null,
            "grid_column": null,
            "overflow_y": null,
            "overflow_x": null,
            "grid_auto_flow": null,
            "grid_area": null,
            "grid_template_columns": null,
            "flex": null,
            "_model_name": "LayoutModel",
            "justify_items": null,
            "grid_row": null,
            "max_height": null,
            "align_content": null,
            "visibility": null,
            "align_self": null,
            "height": null,
            "min_height": null,
            "padding": null,
            "grid_auto_rows": null,
            "grid_gap": null,
            "max_width": null,
            "order": null,
            "_view_module_version": "1.2.0",
            "grid_template_areas": null,
            "object_position": null,
            "object_fit": null,
            "grid_auto_columns": null,
            "margin": null,
            "display": null,
            "left": null
          }
        },
        "5ff80faa4e2d47fdbace4159195c4253": {
          "model_module": "@jupyter-widgets/controls",
          "model_name": "HBoxModel",
          "state": {
            "_view_name": "HBoxView",
            "_dom_classes": [],
            "_model_name": "HBoxModel",
            "_view_module": "@jupyter-widgets/controls",
            "_model_module_version": "1.5.0",
            "_view_count": null,
            "_view_module_version": "1.5.0",
            "box_style": "",
            "layout": "IPY_MODEL_38a60431dc134730bd46d1772008ae77",
            "_model_module": "@jupyter-widgets/controls",
            "children": [
              "IPY_MODEL_4fbb5962db9d41d9bd0ac80bc3b68fe9",
              "IPY_MODEL_cedbcdbc9b2b427ab5c8fc5181b17169"
            ]
          }
        },
        "38a60431dc134730bd46d1772008ae77": {
          "model_module": "@jupyter-widgets/base",
          "model_name": "LayoutModel",
          "state": {
            "_view_name": "LayoutView",
            "grid_template_rows": null,
            "right": null,
            "justify_content": null,
            "_view_module": "@jupyter-widgets/base",
            "overflow": null,
            "_model_module_version": "1.2.0",
            "_view_count": null,
            "flex_flow": null,
            "width": null,
            "min_width": null,
            "border": null,
            "align_items": null,
            "bottom": null,
            "_model_module": "@jupyter-widgets/base",
            "top": null,
            "grid_column": null,
            "overflow_y": null,
            "overflow_x": null,
            "grid_auto_flow": null,
            "grid_area": null,
            "grid_template_columns": null,
            "flex": null,
            "_model_name": "LayoutModel",
            "justify_items": null,
            "grid_row": null,
            "max_height": null,
            "align_content": null,
            "visibility": null,
            "align_self": null,
            "height": null,
            "min_height": null,
            "padding": null,
            "grid_auto_rows": null,
            "grid_gap": null,
            "max_width": null,
            "order": null,
            "_view_module_version": "1.2.0",
            "grid_template_areas": null,
            "object_position": null,
            "object_fit": null,
            "grid_auto_columns": null,
            "margin": null,
            "display": null,
            "left": null
          }
        },
        "4fbb5962db9d41d9bd0ac80bc3b68fe9": {
          "model_module": "@jupyter-widgets/controls",
          "model_name": "FloatProgressModel",
          "state": {
            "_view_name": "ProgressView",
            "style": "IPY_MODEL_7f3529aaed354b9e95f6da2a95a5edcc",
            "_dom_classes": [],
            "description": "Downloading: 100%",
            "_model_name": "FloatProgressModel",
            "bar_style": "success",
            "max": 775,
            "_view_module": "@jupyter-widgets/controls",
            "_model_module_version": "1.5.0",
            "value": 775,
            "_view_count": null,
            "_view_module_version": "1.5.0",
            "orientation": "horizontal",
            "min": 0,
            "description_tooltip": null,
            "_model_module": "@jupyter-widgets/controls",
            "layout": "IPY_MODEL_ab754204b8434336bc99a32728266d7c"
          }
        },
        "cedbcdbc9b2b427ab5c8fc5181b17169": {
          "model_module": "@jupyter-widgets/controls",
          "model_name": "HTMLModel",
          "state": {
            "_view_name": "HTMLView",
            "style": "IPY_MODEL_5470768e7c464682a4ce78374e5bdcfe",
            "_dom_classes": [],
            "description": "",
            "_model_name": "HTMLModel",
            "placeholder": "​",
            "_view_module": "@jupyter-widgets/controls",
            "_model_module_version": "1.5.0",
            "value": " 775/775 [00:01&lt;00:00, 758B/s]",
            "_view_count": null,
            "_view_module_version": "1.5.0",
            "description_tooltip": null,
            "_model_module": "@jupyter-widgets/controls",
            "layout": "IPY_MODEL_59daeb9529e94f3c89b7a6759302e947"
          }
        },
        "7f3529aaed354b9e95f6da2a95a5edcc": {
          "model_module": "@jupyter-widgets/controls",
          "model_name": "ProgressStyleModel",
          "state": {
            "_view_name": "StyleView",
            "_model_name": "ProgressStyleModel",
            "description_width": "initial",
            "_view_module": "@jupyter-widgets/base",
            "_model_module_version": "1.5.0",
            "_view_count": null,
            "_view_module_version": "1.2.0",
            "bar_color": null,
            "_model_module": "@jupyter-widgets/controls"
          }
        },
        "ab754204b8434336bc99a32728266d7c": {
          "model_module": "@jupyter-widgets/base",
          "model_name": "LayoutModel",
          "state": {
            "_view_name": "LayoutView",
            "grid_template_rows": null,
            "right": null,
            "justify_content": null,
            "_view_module": "@jupyter-widgets/base",
            "overflow": null,
            "_model_module_version": "1.2.0",
            "_view_count": null,
            "flex_flow": null,
            "width": null,
            "min_width": null,
            "border": null,
            "align_items": null,
            "bottom": null,
            "_model_module": "@jupyter-widgets/base",
            "top": null,
            "grid_column": null,
            "overflow_y": null,
            "overflow_x": null,
            "grid_auto_flow": null,
            "grid_area": null,
            "grid_template_columns": null,
            "flex": null,
            "_model_name": "LayoutModel",
            "justify_items": null,
            "grid_row": null,
            "max_height": null,
            "align_content": null,
            "visibility": null,
            "align_self": null,
            "height": null,
            "min_height": null,
            "padding": null,
            "grid_auto_rows": null,
            "grid_gap": null,
            "max_width": null,
            "order": null,
            "_view_module_version": "1.2.0",
            "grid_template_areas": null,
            "object_position": null,
            "object_fit": null,
            "grid_auto_columns": null,
            "margin": null,
            "display": null,
            "left": null
          }
        },
        "5470768e7c464682a4ce78374e5bdcfe": {
          "model_module": "@jupyter-widgets/controls",
          "model_name": "DescriptionStyleModel",
          "state": {
            "_view_name": "StyleView",
            "_model_name": "DescriptionStyleModel",
            "description_width": "",
            "_view_module": "@jupyter-widgets/base",
            "_model_module_version": "1.5.0",
            "_view_count": null,
            "_view_module_version": "1.2.0",
            "_model_module": "@jupyter-widgets/controls"
          }
        },
        "59daeb9529e94f3c89b7a6759302e947": {
          "model_module": "@jupyter-widgets/base",
          "model_name": "LayoutModel",
          "state": {
            "_view_name": "LayoutView",
            "grid_template_rows": null,
            "right": null,
            "justify_content": null,
            "_view_module": "@jupyter-widgets/base",
            "overflow": null,
            "_model_module_version": "1.2.0",
            "_view_count": null,
            "flex_flow": null,
            "width": null,
            "min_width": null,
            "border": null,
            "align_items": null,
            "bottom": null,
            "_model_module": "@jupyter-widgets/base",
            "top": null,
            "grid_column": null,
            "overflow_y": null,
            "overflow_x": null,
            "grid_auto_flow": null,
            "grid_area": null,
            "grid_template_columns": null,
            "flex": null,
            "_model_name": "LayoutModel",
            "justify_items": null,
            "grid_row": null,
            "max_height": null,
            "align_content": null,
            "visibility": null,
            "align_self": null,
            "height": null,
            "min_height": null,
            "padding": null,
            "grid_auto_rows": null,
            "grid_gap": null,
            "max_width": null,
            "order": null,
            "_view_module_version": "1.2.0",
            "grid_template_areas": null,
            "object_position": null,
            "object_fit": null,
            "grid_auto_columns": null,
            "margin": null,
            "display": null,
            "left": null
          }
        },
        "38026174a05f49039a3fa02176567a83": {
          "model_module": "@jupyter-widgets/controls",
          "model_name": "HBoxModel",
          "state": {
            "_view_name": "HBoxView",
            "_dom_classes": [],
            "_model_name": "HBoxModel",
            "_view_module": "@jupyter-widgets/controls",
            "_model_module_version": "1.5.0",
            "_view_count": null,
            "_view_module_version": "1.5.0",
            "box_style": "",
            "layout": "IPY_MODEL_c1d1a234565648e69d073cee4fe2c13b",
            "_model_module": "@jupyter-widgets/controls",
            "children": [
              "IPY_MODEL_2715814411914a819a89c6898b081c09",
              "IPY_MODEL_f0929011860a41d68477611bd44b049c"
            ]
          }
        },
        "c1d1a234565648e69d073cee4fe2c13b": {
          "model_module": "@jupyter-widgets/base",
          "model_name": "LayoutModel",
          "state": {
            "_view_name": "LayoutView",
            "grid_template_rows": null,
            "right": null,
            "justify_content": null,
            "_view_module": "@jupyter-widgets/base",
            "overflow": null,
            "_model_module_version": "1.2.0",
            "_view_count": null,
            "flex_flow": null,
            "width": null,
            "min_width": null,
            "border": null,
            "align_items": null,
            "bottom": null,
            "_model_module": "@jupyter-widgets/base",
            "top": null,
            "grid_column": null,
            "overflow_y": null,
            "overflow_x": null,
            "grid_auto_flow": null,
            "grid_area": null,
            "grid_template_columns": null,
            "flex": null,
            "_model_name": "LayoutModel",
            "justify_items": null,
            "grid_row": null,
            "max_height": null,
            "align_content": null,
            "visibility": null,
            "align_self": null,
            "height": null,
            "min_height": null,
            "padding": null,
            "grid_auto_rows": null,
            "grid_gap": null,
            "max_width": null,
            "order": null,
            "_view_module_version": "1.2.0",
            "grid_template_areas": null,
            "object_position": null,
            "object_fit": null,
            "grid_auto_columns": null,
            "margin": null,
            "display": null,
            "left": null
          }
        },
        "2715814411914a819a89c6898b081c09": {
          "model_module": "@jupyter-widgets/controls",
          "model_name": "FloatProgressModel",
          "state": {
            "_view_name": "ProgressView",
            "style": "IPY_MODEL_34045a3bdc094fc9a6067ce33f530511",
            "_dom_classes": [],
            "description": "Downloading: 100%",
            "_model_name": "FloatProgressModel",
            "bar_style": "success",
            "max": 943,
            "_view_module": "@jupyter-widgets/controls",
            "_model_module_version": "1.5.0",
            "value": 943,
            "_view_count": null,
            "_view_module_version": "1.5.0",
            "orientation": "horizontal",
            "min": 0,
            "description_tooltip": null,
            "_model_module": "@jupyter-widgets/controls",
            "layout": "IPY_MODEL_f774445a458746d0b8da0cb7e2e01ae9"
          }
        },
        "f0929011860a41d68477611bd44b049c": {
          "model_module": "@jupyter-widgets/controls",
          "model_name": "HTMLModel",
          "state": {
            "_view_name": "HTMLView",
            "style": "IPY_MODEL_ad8254b8f8a5465d9f8270623fd59518",
            "_dom_classes": [],
            "description": "",
            "_model_name": "HTMLModel",
            "placeholder": "​",
            "_view_module": "@jupyter-widgets/controls",
            "_model_module_version": "1.5.0",
            "value": " 943/943 [00:00&lt;00:00, 2.15kB/s]",
            "_view_count": null,
            "_view_module_version": "1.5.0",
            "description_tooltip": null,
            "_model_module": "@jupyter-widgets/controls",
            "layout": "IPY_MODEL_78646fce6e9446d7a49e43dada69a541"
          }
        },
        "34045a3bdc094fc9a6067ce33f530511": {
          "model_module": "@jupyter-widgets/controls",
          "model_name": "ProgressStyleModel",
          "state": {
            "_view_name": "StyleView",
            "_model_name": "ProgressStyleModel",
            "description_width": "initial",
            "_view_module": "@jupyter-widgets/base",
            "_model_module_version": "1.5.0",
            "_view_count": null,
            "_view_module_version": "1.2.0",
            "bar_color": null,
            "_model_module": "@jupyter-widgets/controls"
          }
        },
        "f774445a458746d0b8da0cb7e2e01ae9": {
          "model_module": "@jupyter-widgets/base",
          "model_name": "LayoutModel",
          "state": {
            "_view_name": "LayoutView",
            "grid_template_rows": null,
            "right": null,
            "justify_content": null,
            "_view_module": "@jupyter-widgets/base",
            "overflow": null,
            "_model_module_version": "1.2.0",
            "_view_count": null,
            "flex_flow": null,
            "width": null,
            "min_width": null,
            "border": null,
            "align_items": null,
            "bottom": null,
            "_model_module": "@jupyter-widgets/base",
            "top": null,
            "grid_column": null,
            "overflow_y": null,
            "overflow_x": null,
            "grid_auto_flow": null,
            "grid_area": null,
            "grid_template_columns": null,
            "flex": null,
            "_model_name": "LayoutModel",
            "justify_items": null,
            "grid_row": null,
            "max_height": null,
            "align_content": null,
            "visibility": null,
            "align_self": null,
            "height": null,
            "min_height": null,
            "padding": null,
            "grid_auto_rows": null,
            "grid_gap": null,
            "max_width": null,
            "order": null,
            "_view_module_version": "1.2.0",
            "grid_template_areas": null,
            "object_position": null,
            "object_fit": null,
            "grid_auto_columns": null,
            "margin": null,
            "display": null,
            "left": null
          }
        },
        "ad8254b8f8a5465d9f8270623fd59518": {
          "model_module": "@jupyter-widgets/controls",
          "model_name": "DescriptionStyleModel",
          "state": {
            "_view_name": "StyleView",
            "_model_name": "DescriptionStyleModel",
            "description_width": "",
            "_view_module": "@jupyter-widgets/base",
            "_model_module_version": "1.5.0",
            "_view_count": null,
            "_view_module_version": "1.2.0",
            "_model_module": "@jupyter-widgets/controls"
          }
        },
        "78646fce6e9446d7a49e43dada69a541": {
          "model_module": "@jupyter-widgets/base",
          "model_name": "LayoutModel",
          "state": {
            "_view_name": "LayoutView",
            "grid_template_rows": null,
            "right": null,
            "justify_content": null,
            "_view_module": "@jupyter-widgets/base",
            "overflow": null,
            "_model_module_version": "1.2.0",
            "_view_count": null,
            "flex_flow": null,
            "width": null,
            "min_width": null,
            "border": null,
            "align_items": null,
            "bottom": null,
            "_model_module": "@jupyter-widgets/base",
            "top": null,
            "grid_column": null,
            "overflow_y": null,
            "overflow_x": null,
            "grid_auto_flow": null,
            "grid_area": null,
            "grid_template_columns": null,
            "flex": null,
            "_model_name": "LayoutModel",
            "justify_items": null,
            "grid_row": null,
            "max_height": null,
            "align_content": null,
            "visibility": null,
            "align_self": null,
            "height": null,
            "min_height": null,
            "padding": null,
            "grid_auto_rows": null,
            "grid_gap": null,
            "max_width": null,
            "order": null,
            "_view_module_version": "1.2.0",
            "grid_template_areas": null,
            "object_position": null,
            "object_fit": null,
            "grid_auto_columns": null,
            "margin": null,
            "display": null,
            "left": null
          }
        },
        "8f8d86d2bfba49799f0b8644eb7d2cf1": {
          "model_module": "@jupyter-widgets/controls",
          "model_name": "HBoxModel",
          "state": {
            "_view_name": "HBoxView",
            "_dom_classes": [],
            "_model_name": "HBoxModel",
            "_view_module": "@jupyter-widgets/controls",
            "_model_module_version": "1.5.0",
            "_view_count": null,
            "_view_module_version": "1.5.0",
            "box_style": "",
            "layout": "IPY_MODEL_c48a349792f14674bd5ecccec432cece",
            "_model_module": "@jupyter-widgets/controls",
            "children": [
              "IPY_MODEL_7408beb29ac64ecdb5b850e75469a060",
              "IPY_MODEL_21f2109172a7439dabb578a6a54bed62"
            ]
          }
        },
        "c48a349792f14674bd5ecccec432cece": {
          "model_module": "@jupyter-widgets/base",
          "model_name": "LayoutModel",
          "state": {
            "_view_name": "LayoutView",
            "grid_template_rows": null,
            "right": null,
            "justify_content": null,
            "_view_module": "@jupyter-widgets/base",
            "overflow": null,
            "_model_module_version": "1.2.0",
            "_view_count": null,
            "flex_flow": null,
            "width": null,
            "min_width": null,
            "border": null,
            "align_items": null,
            "bottom": null,
            "_model_module": "@jupyter-widgets/base",
            "top": null,
            "grid_column": null,
            "overflow_y": null,
            "overflow_x": null,
            "grid_auto_flow": null,
            "grid_area": null,
            "grid_template_columns": null,
            "flex": null,
            "_model_name": "LayoutModel",
            "justify_items": null,
            "grid_row": null,
            "max_height": null,
            "align_content": null,
            "visibility": null,
            "align_self": null,
            "height": null,
            "min_height": null,
            "padding": null,
            "grid_auto_rows": null,
            "grid_gap": null,
            "max_width": null,
            "order": null,
            "_view_module_version": "1.2.0",
            "grid_template_areas": null,
            "object_position": null,
            "object_fit": null,
            "grid_auto_columns": null,
            "margin": null,
            "display": null,
            "left": null
          }
        },
        "7408beb29ac64ecdb5b850e75469a060": {
          "model_module": "@jupyter-widgets/controls",
          "model_name": "FloatProgressModel",
          "state": {
            "_view_name": "ProgressView",
            "style": "IPY_MODEL_c68a8d4f099046148d6fe2ceff6ead16",
            "_dom_classes": [],
            "description": "Downloading: 100%",
            "_model_name": "FloatProgressModel",
            "bar_style": "success",
            "max": 759,
            "_view_module": "@jupyter-widgets/controls",
            "_model_module_version": "1.5.0",
            "value": 759,
            "_view_count": null,
            "_view_module_version": "1.5.0",
            "orientation": "horizontal",
            "min": 0,
            "description_tooltip": null,
            "_model_module": "@jupyter-widgets/controls",
            "layout": "IPY_MODEL_b5f3bdfc00e94f928662df8538b3c418"
          }
        },
        "21f2109172a7439dabb578a6a54bed62": {
          "model_module": "@jupyter-widgets/controls",
          "model_name": "HTMLModel",
          "state": {
            "_view_name": "HTMLView",
            "style": "IPY_MODEL_9497dec7a1484871baca44da61c8f687",
            "_dom_classes": [],
            "description": "",
            "_model_name": "HTMLModel",
            "placeholder": "​",
            "_view_module": "@jupyter-widgets/controls",
            "_model_module_version": "1.5.0",
            "value": " 759/759 [00:01&lt;00:00, 467B/s]",
            "_view_count": null,
            "_view_module_version": "1.5.0",
            "description_tooltip": null,
            "_model_module": "@jupyter-widgets/controls",
            "layout": "IPY_MODEL_2ab74456a4b448b8be506dcff4a027cf"
          }
        },
        "c68a8d4f099046148d6fe2ceff6ead16": {
          "model_module": "@jupyter-widgets/controls",
          "model_name": "ProgressStyleModel",
          "state": {
            "_view_name": "StyleView",
            "_model_name": "ProgressStyleModel",
            "description_width": "initial",
            "_view_module": "@jupyter-widgets/base",
            "_model_module_version": "1.5.0",
            "_view_count": null,
            "_view_module_version": "1.2.0",
            "bar_color": null,
            "_model_module": "@jupyter-widgets/controls"
          }
        },
        "b5f3bdfc00e94f928662df8538b3c418": {
          "model_module": "@jupyter-widgets/base",
          "model_name": "LayoutModel",
          "state": {
            "_view_name": "LayoutView",
            "grid_template_rows": null,
            "right": null,
            "justify_content": null,
            "_view_module": "@jupyter-widgets/base",
            "overflow": null,
            "_model_module_version": "1.2.0",
            "_view_count": null,
            "flex_flow": null,
            "width": null,
            "min_width": null,
            "border": null,
            "align_items": null,
            "bottom": null,
            "_model_module": "@jupyter-widgets/base",
            "top": null,
            "grid_column": null,
            "overflow_y": null,
            "overflow_x": null,
            "grid_auto_flow": null,
            "grid_area": null,
            "grid_template_columns": null,
            "flex": null,
            "_model_name": "LayoutModel",
            "justify_items": null,
            "grid_row": null,
            "max_height": null,
            "align_content": null,
            "visibility": null,
            "align_self": null,
            "height": null,
            "min_height": null,
            "padding": null,
            "grid_auto_rows": null,
            "grid_gap": null,
            "max_width": null,
            "order": null,
            "_view_module_version": "1.2.0",
            "grid_template_areas": null,
            "object_position": null,
            "object_fit": null,
            "grid_auto_columns": null,
            "margin": null,
            "display": null,
            "left": null
          }
        },
        "9497dec7a1484871baca44da61c8f687": {
          "model_module": "@jupyter-widgets/controls",
          "model_name": "DescriptionStyleModel",
          "state": {
            "_view_name": "StyleView",
            "_model_name": "DescriptionStyleModel",
            "description_width": "",
            "_view_module": "@jupyter-widgets/base",
            "_model_module_version": "1.5.0",
            "_view_count": null,
            "_view_module_version": "1.2.0",
            "_model_module": "@jupyter-widgets/controls"
          }
        },
        "2ab74456a4b448b8be506dcff4a027cf": {
          "model_module": "@jupyter-widgets/base",
          "model_name": "LayoutModel",
          "state": {
            "_view_name": "LayoutView",
            "grid_template_rows": null,
            "right": null,
            "justify_content": null,
            "_view_module": "@jupyter-widgets/base",
            "overflow": null,
            "_model_module_version": "1.2.0",
            "_view_count": null,
            "flex_flow": null,
            "width": null,
            "min_width": null,
            "border": null,
            "align_items": null,
            "bottom": null,
            "_model_module": "@jupyter-widgets/base",
            "top": null,
            "grid_column": null,
            "overflow_y": null,
            "overflow_x": null,
            "grid_auto_flow": null,
            "grid_area": null,
            "grid_template_columns": null,
            "flex": null,
            "_model_name": "LayoutModel",
            "justify_items": null,
            "grid_row": null,
            "max_height": null,
            "align_content": null,
            "visibility": null,
            "align_self": null,
            "height": null,
            "min_height": null,
            "padding": null,
            "grid_auto_rows": null,
            "grid_gap": null,
            "max_width": null,
            "order": null,
            "_view_module_version": "1.2.0",
            "grid_template_areas": null,
            "object_position": null,
            "object_fit": null,
            "grid_auto_columns": null,
            "margin": null,
            "display": null,
            "left": null
          }
        },
        "0b77b3e9094846e58bac1fc46f2408dc": {
          "model_module": "@jupyter-widgets/controls",
          "model_name": "HBoxModel",
          "state": {
            "_view_name": "HBoxView",
            "_dom_classes": [],
            "_model_name": "HBoxModel",
            "_view_module": "@jupyter-widgets/controls",
            "_model_module_version": "1.5.0",
            "_view_count": null,
            "_view_module_version": "1.5.0",
            "box_style": "",
            "layout": "IPY_MODEL_197e8105e4be48668f4c81d6134434f1",
            "_model_module": "@jupyter-widgets/controls",
            "children": [
              "IPY_MODEL_58deac3a0d314879af91c11e7c21a0a4",
              "IPY_MODEL_61b9c5c25c814d53ae924cf5302a2ee1"
            ]
          }
        },
        "197e8105e4be48668f4c81d6134434f1": {
          "model_module": "@jupyter-widgets/base",
          "model_name": "LayoutModel",
          "state": {
            "_view_name": "LayoutView",
            "grid_template_rows": null,
            "right": null,
            "justify_content": null,
            "_view_module": "@jupyter-widgets/base",
            "overflow": null,
            "_model_module_version": "1.2.0",
            "_view_count": null,
            "flex_flow": null,
            "width": null,
            "min_width": null,
            "border": null,
            "align_items": null,
            "bottom": null,
            "_model_module": "@jupyter-widgets/base",
            "top": null,
            "grid_column": null,
            "overflow_y": null,
            "overflow_x": null,
            "grid_auto_flow": null,
            "grid_area": null,
            "grid_template_columns": null,
            "flex": null,
            "_model_name": "LayoutModel",
            "justify_items": null,
            "grid_row": null,
            "max_height": null,
            "align_content": null,
            "visibility": null,
            "align_self": null,
            "height": null,
            "min_height": null,
            "padding": null,
            "grid_auto_rows": null,
            "grid_gap": null,
            "max_width": null,
            "order": null,
            "_view_module_version": "1.2.0",
            "grid_template_areas": null,
            "object_position": null,
            "object_fit": null,
            "grid_auto_columns": null,
            "margin": null,
            "display": null,
            "left": null
          }
        },
        "58deac3a0d314879af91c11e7c21a0a4": {
          "model_module": "@jupyter-widgets/controls",
          "model_name": "FloatProgressModel",
          "state": {
            "_view_name": "ProgressView",
            "style": "IPY_MODEL_ba1be72cdfbf4b3aa4d6d823213892a4",
            "_dom_classes": [],
            "description": "Downloading: 100%",
            "_model_name": "FloatProgressModel",
            "bar_style": "success",
            "max": 1441107653,
            "_view_module": "@jupyter-widgets/controls",
            "_model_module_version": "1.5.0",
            "value": 1441107653,
            "_view_count": null,
            "_view_module_version": "1.5.0",
            "orientation": "horizontal",
            "min": 0,
            "description_tooltip": null,
            "_model_module": "@jupyter-widgets/controls",
            "layout": "IPY_MODEL_4988693df98e4d4884d049b9dd49d5fd"
          }
        },
        "61b9c5c25c814d53ae924cf5302a2ee1": {
          "model_module": "@jupyter-widgets/controls",
          "model_name": "HTMLModel",
          "state": {
            "_view_name": "HTMLView",
            "style": "IPY_MODEL_8457a0c3a3974c80807e639d18556ce1",
            "_dom_classes": [],
            "description": "",
            "_model_name": "HTMLModel",
            "placeholder": "​",
            "_view_module": "@jupyter-widgets/controls",
            "_model_module_version": "1.5.0",
            "value": " 1.44G/1.44G [00:44&lt;00:00, 32.2MB/s]",
            "_view_count": null,
            "_view_module_version": "1.5.0",
            "description_tooltip": null,
            "_model_module": "@jupyter-widgets/controls",
            "layout": "IPY_MODEL_2cb5ae827db045a1a4403aefad86c544"
          }
        },
        "ba1be72cdfbf4b3aa4d6d823213892a4": {
          "model_module": "@jupyter-widgets/controls",
          "model_name": "ProgressStyleModel",
          "state": {
            "_view_name": "StyleView",
            "_model_name": "ProgressStyleModel",
            "description_width": "initial",
            "_view_module": "@jupyter-widgets/base",
            "_model_module_version": "1.5.0",
            "_view_count": null,
            "_view_module_version": "1.2.0",
            "bar_color": null,
            "_model_module": "@jupyter-widgets/controls"
          }
        },
        "4988693df98e4d4884d049b9dd49d5fd": {
          "model_module": "@jupyter-widgets/base",
          "model_name": "LayoutModel",
          "state": {
            "_view_name": "LayoutView",
            "grid_template_rows": null,
            "right": null,
            "justify_content": null,
            "_view_module": "@jupyter-widgets/base",
            "overflow": null,
            "_model_module_version": "1.2.0",
            "_view_count": null,
            "flex_flow": null,
            "width": null,
            "min_width": null,
            "border": null,
            "align_items": null,
            "bottom": null,
            "_model_module": "@jupyter-widgets/base",
            "top": null,
            "grid_column": null,
            "overflow_y": null,
            "overflow_x": null,
            "grid_auto_flow": null,
            "grid_area": null,
            "grid_template_columns": null,
            "flex": null,
            "_model_name": "LayoutModel",
            "justify_items": null,
            "grid_row": null,
            "max_height": null,
            "align_content": null,
            "visibility": null,
            "align_self": null,
            "height": null,
            "min_height": null,
            "padding": null,
            "grid_auto_rows": null,
            "grid_gap": null,
            "max_width": null,
            "order": null,
            "_view_module_version": "1.2.0",
            "grid_template_areas": null,
            "object_position": null,
            "object_fit": null,
            "grid_auto_columns": null,
            "margin": null,
            "display": null,
            "left": null
          }
        },
        "8457a0c3a3974c80807e639d18556ce1": {
          "model_module": "@jupyter-widgets/controls",
          "model_name": "DescriptionStyleModel",
          "state": {
            "_view_name": "StyleView",
            "_model_name": "DescriptionStyleModel",
            "description_width": "",
            "_view_module": "@jupyter-widgets/base",
            "_model_module_version": "1.5.0",
            "_view_count": null,
            "_view_module_version": "1.2.0",
            "_model_module": "@jupyter-widgets/controls"
          }
        },
        "2cb5ae827db045a1a4403aefad86c544": {
          "model_module": "@jupyter-widgets/base",
          "model_name": "LayoutModel",
          "state": {
            "_view_name": "LayoutView",
            "grid_template_rows": null,
            "right": null,
            "justify_content": null,
            "_view_module": "@jupyter-widgets/base",
            "overflow": null,
            "_model_module_version": "1.2.0",
            "_view_count": null,
            "flex_flow": null,
            "width": null,
            "min_width": null,
            "border": null,
            "align_items": null,
            "bottom": null,
            "_model_module": "@jupyter-widgets/base",
            "top": null,
            "grid_column": null,
            "overflow_y": null,
            "overflow_x": null,
            "grid_auto_flow": null,
            "grid_area": null,
            "grid_template_columns": null,
            "flex": null,
            "_model_name": "LayoutModel",
            "justify_items": null,
            "grid_row": null,
            "max_height": null,
            "align_content": null,
            "visibility": null,
            "align_self": null,
            "height": null,
            "min_height": null,
            "padding": null,
            "grid_auto_rows": null,
            "grid_gap": null,
            "max_width": null,
            "order": null,
            "_view_module_version": "1.2.0",
            "grid_template_areas": null,
            "object_position": null,
            "object_fit": null,
            "grid_auto_columns": null,
            "margin": null,
            "display": null,
            "left": null
          }
        }
      }
    }
  },
  "cells": [
    {
      "cell_type": "markdown",
      "metadata": {
        "id": "h2DvYi9nlR8K"
      },
      "source": [
        "# **Stock market news feed semantic analysis** *(Baseline Transformers)*"
      ]
    },
    {
      "cell_type": "markdown",
      "metadata": {
        "id": "2X44-bETwIEX"
      },
      "source": [
        "* https://colab.research.google.com/github/bentrevett/pytorch-sentiment-analysis/blob/master/6%20-%20Transformers%20for%20Sentiment%20Analysis.ipynb#scrollTo=IUvWqEq1oV7k\n",
        "* https://arxiv.org/abs/1706.03762\n",
        "* https://arxiv.org/abs/1810.04805\n",
        "* https://github.com/google-research/bigbird\n",
        "* https://arxiv.org/abs/2007.14062\n",
        "* https://colab.research.google.com/drive/1DVOm1VHjW0eKCayFq1N2GpY6GR9M4tJP?usp=sharing#scrollTo=FXHkpUVuft4o"
      ]
    },
    {
      "cell_type": "markdown",
      "metadata": {
        "id": "gcEws0Fnlk2Q"
      },
      "source": [
        "## **A projekt előkészítése**"
      ]
    },
    {
      "cell_type": "code",
      "metadata": {
        "colab": {
          "base_uri": "https://localhost:8080/"
        },
        "id": "DV6Q5qolmwuK",
        "outputId": "f426ca2c-3b47-44d8-894e-c777b6cad49f"
      },
      "source": [
        "# attach drive\n",
        "from google.colab import drive\n",
        "drive.mount('/content/drive')"
      ],
      "execution_count": 1,
      "outputs": [
        {
          "output_type": "stream",
          "text": [
            "Mounted at /content/drive\n"
          ],
          "name": "stdout"
        }
      ]
    },
    {
      "cell_type": "markdown",
      "metadata": {
        "id": "VE1iYb7HqpWj"
      },
      "source": [
        "https://www.kaggle.com/aaron7sun/stocknews"
      ]
    },
    {
      "cell_type": "code",
      "metadata": {
        "id": "DMrafiHCqqlX"
      },
      "source": [
        "# Copy the dataset to the local environment\n",
        "!cp \"/content/drive/MyDrive/Combined_News_DJIA.csv\" \"Combined_News_DJIA.csv\""
      ],
      "execution_count": 2,
      "outputs": []
    },
    {
      "cell_type": "code",
      "metadata": {
        "id": "gBEvM_cvqzAt"
      },
      "source": [
        "# set imports\n",
        "import random\n",
        "import numpy as np\n",
        "import pandas as pd\n",
        "import pandas_datareader as web\n",
        "from sklearn.utils import shuffle\n",
        "import matplotlib.pyplot as plt\n",
        "import torch"
      ],
      "execution_count": 3,
      "outputs": []
    },
    {
      "cell_type": "code",
      "metadata": {
        "id": "cfzWnWTorBK6"
      },
      "source": [
        "# Number of merged news into one string\n",
        "ROWS = 25\n",
        "\n",
        "# Shuffle cycle number for the dataframe\n",
        "SHUFFLE_CYCLE = 500\n",
        "\n",
        "# Numpy random seed\n",
        "NP_SEED = 1234\n",
        "\n",
        "# Torch seed\n",
        "TORCH_SEED = 1234\n",
        "\n",
        "# Train percentage (train + valid)\n",
        "TRAIN_SPLIT = 0.8\n",
        "\n",
        "# Only validation split\n",
        "VALIDATION_SPLIT = 0.2"
      ],
      "execution_count": 4,
      "outputs": []
    },
    {
      "cell_type": "code",
      "metadata": {
        "id": "GoDwYNWNq2ya"
      },
      "source": [
        "# set seeds for reproduce\n",
        "random.seed(NP_SEED)\n",
        "torch.manual_seed(TORCH_SEED)\n",
        "np.random.seed(NP_SEED)\n",
        "torch.backends.cudnn.deterministic = True\n",
        "\n",
        "if torch.cuda.is_available():\n",
        "  torch.cuda.manual_seed_all(TORCH_SEED)"
      ],
      "execution_count": 5,
      "outputs": []
    },
    {
      "cell_type": "markdown",
      "metadata": {
        "id": "Qw7WNXFTreMM"
      },
      "source": [
        "A Transformers telepítése és importálása."
      ]
    },
    {
      "cell_type": "code",
      "metadata": {
        "colab": {
          "base_uri": "https://localhost:8080/"
        },
        "id": "154-jSH9rhtW",
        "outputId": "e88d4a13-da5f-422e-fe89-6ab2df40387f"
      },
      "source": [
        "!pip install git+https://github.com/vasudevgupta7/transformers.git@add_big_bird # TODO: replace with new pip version eventually"
      ],
      "execution_count": 6,
      "outputs": [
        {
          "output_type": "stream",
          "text": [
            "Collecting git+https://github.com/vasudevgupta7/transformers.git@add_big_bird\n",
            "  Cloning https://github.com/vasudevgupta7/transformers.git (to revision add_big_bird) to /tmp/pip-req-build-g03uxotw\n",
            "  Running command git clone -q https://github.com/vasudevgupta7/transformers.git /tmp/pip-req-build-g03uxotw\n",
            "  Running command git checkout -b add_big_bird --track origin/add_big_bird\n",
            "  Switched to a new branch 'add_big_bird'\n",
            "  Branch 'add_big_bird' set up to track remote branch 'add_big_bird' from 'origin'.\n",
            "  Installing build dependencies ... \u001b[?25l\u001b[?25hdone\n",
            "  Getting requirements to build wheel ... \u001b[?25l\u001b[?25hdone\n",
            "    Preparing wheel metadata ... \u001b[?25l\u001b[?25hdone\n",
            "Requirement already satisfied: filelock in /usr/local/lib/python3.7/dist-packages (from transformers==4.5.0.dev0) (3.0.12)\n",
            "Requirement already satisfied: numpy>=1.17 in /usr/local/lib/python3.7/dist-packages (from transformers==4.5.0.dev0) (1.19.5)\n",
            "Collecting sacremoses\n",
            "\u001b[?25l  Downloading https://files.pythonhosted.org/packages/7d/34/09d19aff26edcc8eb2a01bed8e98f13a1537005d31e95233fd48216eed10/sacremoses-0.0.43.tar.gz (883kB)\n",
            "\u001b[K     |████████████████████████████████| 890kB 11.7MB/s \n",
            "\u001b[?25hRequirement already satisfied: requests in /usr/local/lib/python3.7/dist-packages (from transformers==4.5.0.dev0) (2.23.0)\n",
            "Collecting tokenizers<0.11,>=0.10.1\n",
            "\u001b[?25l  Downloading https://files.pythonhosted.org/packages/71/23/2ddc317b2121117bf34dd00f5b0de194158f2a44ee2bf5e47c7166878a97/tokenizers-0.10.1-cp37-cp37m-manylinux2010_x86_64.whl (3.2MB)\n",
            "\u001b[K     |████████████████████████████████| 3.2MB 38.3MB/s \n",
            "\u001b[?25hRequirement already satisfied: packaging in /usr/local/lib/python3.7/dist-packages (from transformers==4.5.0.dev0) (20.9)\n",
            "Requirement already satisfied: tqdm>=4.27 in /usr/local/lib/python3.7/dist-packages (from transformers==4.5.0.dev0) (4.41.1)\n",
            "Requirement already satisfied: importlib-metadata; python_version < \"3.8\" in /usr/local/lib/python3.7/dist-packages (from transformers==4.5.0.dev0) (3.8.1)\n",
            "Requirement already satisfied: regex!=2019.12.17 in /usr/local/lib/python3.7/dist-packages (from transformers==4.5.0.dev0) (2019.12.20)\n",
            "Requirement already satisfied: six in /usr/local/lib/python3.7/dist-packages (from sacremoses->transformers==4.5.0.dev0) (1.15.0)\n",
            "Requirement already satisfied: click in /usr/local/lib/python3.7/dist-packages (from sacremoses->transformers==4.5.0.dev0) (7.1.2)\n",
            "Requirement already satisfied: joblib in /usr/local/lib/python3.7/dist-packages (from sacremoses->transformers==4.5.0.dev0) (1.0.1)\n",
            "Requirement already satisfied: certifi>=2017.4.17 in /usr/local/lib/python3.7/dist-packages (from requests->transformers==4.5.0.dev0) (2020.12.5)\n",
            "Requirement already satisfied: idna<3,>=2.5 in /usr/local/lib/python3.7/dist-packages (from requests->transformers==4.5.0.dev0) (2.10)\n",
            "Requirement already satisfied: urllib3!=1.25.0,!=1.25.1,<1.26,>=1.21.1 in /usr/local/lib/python3.7/dist-packages (from requests->transformers==4.5.0.dev0) (1.24.3)\n",
            "Requirement already satisfied: chardet<4,>=3.0.2 in /usr/local/lib/python3.7/dist-packages (from requests->transformers==4.5.0.dev0) (3.0.4)\n",
            "Requirement already satisfied: pyparsing>=2.0.2 in /usr/local/lib/python3.7/dist-packages (from packaging->transformers==4.5.0.dev0) (2.4.7)\n",
            "Requirement already satisfied: typing-extensions>=3.6.4; python_version < \"3.8\" in /usr/local/lib/python3.7/dist-packages (from importlib-metadata; python_version < \"3.8\"->transformers==4.5.0.dev0) (3.7.4.3)\n",
            "Requirement already satisfied: zipp>=0.5 in /usr/local/lib/python3.7/dist-packages (from importlib-metadata; python_version < \"3.8\"->transformers==4.5.0.dev0) (3.4.1)\n",
            "Building wheels for collected packages: transformers\n",
            "  Building wheel for transformers (PEP 517) ... \u001b[?25l\u001b[?25hdone\n",
            "  Created wheel for transformers: filename=transformers-4.5.0.dev0-cp37-none-any.whl size=2018594 sha256=103529d728ed350a65202c30e7ec28cf5df4e9a209d69f82d1e2587313108ae3\n",
            "  Stored in directory: /tmp/pip-ephem-wheel-cache-xvjdvw7f/wheels/43/e2/77/3201d9ec554567c33afa81d18640753e8c880f8cb7dfc49c2f\n",
            "Successfully built transformers\n",
            "Building wheels for collected packages: sacremoses\n",
            "  Building wheel for sacremoses (setup.py) ... \u001b[?25l\u001b[?25hdone\n",
            "  Created wheel for sacremoses: filename=sacremoses-0.0.43-cp37-none-any.whl size=893262 sha256=3f0b39e2ffa40e880c7c8451088e6c76e185050bd1b40f743c30581d14761514\n",
            "  Stored in directory: /root/.cache/pip/wheels/29/3c/fd/7ce5c3f0666dab31a50123635e6fb5e19ceb42ce38d4e58f45\n",
            "Successfully built sacremoses\n",
            "Installing collected packages: sacremoses, tokenizers, transformers\n",
            "Successfully installed sacremoses-0.0.43 tokenizers-0.10.1 transformers-4.5.0.dev0\n"
          ],
          "name": "stdout"
        }
      ]
    },
    {
      "cell_type": "markdown",
      "metadata": {
        "id": "dPgJAl5Z3yhQ"
      },
      "source": [
        "Torchtext frissítése és importálása."
      ]
    },
    {
      "cell_type": "code",
      "metadata": {
        "colab": {
          "base_uri": "https://localhost:8080/"
        },
        "id": "JBsvIiBc30k1",
        "outputId": "fa6c16ee-bde2-448b-fd29-3e73b7414fe7"
      },
      "source": [
        "pip install torchtext==0.4.0"
      ],
      "execution_count": 7,
      "outputs": [
        {
          "output_type": "stream",
          "text": [
            "Collecting torchtext==0.4.0\n",
            "\u001b[?25l  Downloading https://files.pythonhosted.org/packages/43/94/929d6bd236a4fb5c435982a7eb9730b78dcd8659acf328fd2ef9de85f483/torchtext-0.4.0-py3-none-any.whl (53kB)\n",
            "\r\u001b[K     |██████▏                         | 10kB 14.9MB/s eta 0:00:01\r\u001b[K     |████████████▍                   | 20kB 20.2MB/s eta 0:00:01\r\u001b[K     |██████████████████▌             | 30kB 18.9MB/s eta 0:00:01\r\u001b[K     |████████████████████████▊       | 40kB 15.7MB/s eta 0:00:01\r\u001b[K     |██████████████████████████████▉ | 51kB 12.2MB/s eta 0:00:01\r\u001b[K     |████████████████████████████████| 61kB 5.2MB/s \n",
            "\u001b[?25hRequirement already satisfied: tqdm in /usr/local/lib/python3.7/dist-packages (from torchtext==0.4.0) (4.41.1)\n",
            "Requirement already satisfied: numpy in /usr/local/lib/python3.7/dist-packages (from torchtext==0.4.0) (1.19.5)\n",
            "Requirement already satisfied: requests in /usr/local/lib/python3.7/dist-packages (from torchtext==0.4.0) (2.23.0)\n",
            "Requirement already satisfied: torch in /usr/local/lib/python3.7/dist-packages (from torchtext==0.4.0) (1.8.1+cu101)\n",
            "Requirement already satisfied: six in /usr/local/lib/python3.7/dist-packages (from torchtext==0.4.0) (1.15.0)\n",
            "Requirement already satisfied: idna<3,>=2.5 in /usr/local/lib/python3.7/dist-packages (from requests->torchtext==0.4.0) (2.10)\n",
            "Requirement already satisfied: chardet<4,>=3.0.2 in /usr/local/lib/python3.7/dist-packages (from requests->torchtext==0.4.0) (3.0.4)\n",
            "Requirement already satisfied: urllib3!=1.25.0,!=1.25.1,<1.26,>=1.21.1 in /usr/local/lib/python3.7/dist-packages (from requests->torchtext==0.4.0) (1.24.3)\n",
            "Requirement already satisfied: certifi>=2017.4.17 in /usr/local/lib/python3.7/dist-packages (from requests->torchtext==0.4.0) (2020.12.5)\n",
            "Requirement already satisfied: typing-extensions in /usr/local/lib/python3.7/dist-packages (from torch->torchtext==0.4.0) (3.7.4.3)\n",
            "Installing collected packages: torchtext\n",
            "  Found existing installation: torchtext 0.9.1\n",
            "    Uninstalling torchtext-0.9.1:\n",
            "      Successfully uninstalled torchtext-0.9.1\n",
            "Successfully installed torchtext-0.4.0\n"
          ],
          "name": "stdout"
        }
      ]
    },
    {
      "cell_type": "code",
      "metadata": {
        "id": "48lwXlmW346d"
      },
      "source": [
        "from torchtext import data"
      ],
      "execution_count": 8,
      "outputs": []
    },
    {
      "cell_type": "markdown",
      "metadata": {
        "id": "c7oxCaAQrph-"
      },
      "source": [
        "## **Az adathalmaz előkészítése**"
      ]
    },
    {
      "cell_type": "code",
      "metadata": {
        "colab": {
          "base_uri": "https://localhost:8080/",
          "height": 714
        },
        "id": "wPOtZf4dsrJG",
        "outputId": "1d35c308-ad35-42b0-860a-ff86517b1216"
      },
      "source": [
        "# Load the dataset \n",
        "df_combined = pd.read_csv('Combined_News_DJIA.csv', index_col = \"Date\")\n",
        "\n",
        "# Show the dataframe\n",
        "df_combined.head()"
      ],
      "execution_count": 9,
      "outputs": [
        {
          "output_type": "execute_result",
          "data": {
            "text/html": [
              "<div>\n",
              "<style scoped>\n",
              "    .dataframe tbody tr th:only-of-type {\n",
              "        vertical-align: middle;\n",
              "    }\n",
              "\n",
              "    .dataframe tbody tr th {\n",
              "        vertical-align: top;\n",
              "    }\n",
              "\n",
              "    .dataframe thead th {\n",
              "        text-align: right;\n",
              "    }\n",
              "</style>\n",
              "<table border=\"1\" class=\"dataframe\">\n",
              "  <thead>\n",
              "    <tr style=\"text-align: right;\">\n",
              "      <th></th>\n",
              "      <th>Label</th>\n",
              "      <th>Top1</th>\n",
              "      <th>Top2</th>\n",
              "      <th>Top3</th>\n",
              "      <th>Top4</th>\n",
              "      <th>Top5</th>\n",
              "      <th>Top6</th>\n",
              "      <th>Top7</th>\n",
              "      <th>Top8</th>\n",
              "      <th>Top9</th>\n",
              "      <th>Top10</th>\n",
              "      <th>Top11</th>\n",
              "      <th>Top12</th>\n",
              "      <th>Top13</th>\n",
              "      <th>Top14</th>\n",
              "      <th>Top15</th>\n",
              "      <th>Top16</th>\n",
              "      <th>Top17</th>\n",
              "      <th>Top18</th>\n",
              "      <th>Top19</th>\n",
              "      <th>Top20</th>\n",
              "      <th>Top21</th>\n",
              "      <th>Top22</th>\n",
              "      <th>Top23</th>\n",
              "      <th>Top24</th>\n",
              "      <th>Top25</th>\n",
              "    </tr>\n",
              "    <tr>\n",
              "      <th>Date</th>\n",
              "      <th></th>\n",
              "      <th></th>\n",
              "      <th></th>\n",
              "      <th></th>\n",
              "      <th></th>\n",
              "      <th></th>\n",
              "      <th></th>\n",
              "      <th></th>\n",
              "      <th></th>\n",
              "      <th></th>\n",
              "      <th></th>\n",
              "      <th></th>\n",
              "      <th></th>\n",
              "      <th></th>\n",
              "      <th></th>\n",
              "      <th></th>\n",
              "      <th></th>\n",
              "      <th></th>\n",
              "      <th></th>\n",
              "      <th></th>\n",
              "      <th></th>\n",
              "      <th></th>\n",
              "      <th></th>\n",
              "      <th></th>\n",
              "      <th></th>\n",
              "      <th></th>\n",
              "    </tr>\n",
              "  </thead>\n",
              "  <tbody>\n",
              "    <tr>\n",
              "      <th>2008-08-08</th>\n",
              "      <td>0</td>\n",
              "      <td>b\"Georgia 'downs two Russian warplanes' as cou...</td>\n",
              "      <td>b'BREAKING: Musharraf to be impeached.'</td>\n",
              "      <td>b'Russia Today: Columns of troops roll into So...</td>\n",
              "      <td>b'Russian tanks are moving towards the capital...</td>\n",
              "      <td>b\"Afghan children raped with 'impunity,' U.N. ...</td>\n",
              "      <td>b'150 Russian tanks have entered South Ossetia...</td>\n",
              "      <td>b\"Breaking: Georgia invades South Ossetia, Rus...</td>\n",
              "      <td>b\"The 'enemy combatent' trials are nothing but...</td>\n",
              "      <td>b'Georgian troops retreat from S. Osettain cap...</td>\n",
              "      <td>b'Did the U.S. Prep Georgia for War with Russia?'</td>\n",
              "      <td>b'Rice Gives Green Light for Israel to Attack ...</td>\n",
              "      <td>b'Announcing:Class Action Lawsuit on Behalf of...</td>\n",
              "      <td>b\"So---Russia and Georgia are at war and the N...</td>\n",
              "      <td>b\"China tells Bush to stay out of other countr...</td>\n",
              "      <td>b'Did World War III start today?'</td>\n",
              "      <td>b'Georgia Invades South Ossetia - if Russia ge...</td>\n",
              "      <td>b'Al-Qaeda Faces Islamist Backlash'</td>\n",
              "      <td>b'Condoleezza Rice: \"The US would not act to p...</td>\n",
              "      <td>b'This is a busy day:  The European Union has ...</td>\n",
              "      <td>b\"Georgia will withdraw 1,000 soldiers from Ir...</td>\n",
              "      <td>b'Why the Pentagon Thinks Attacking Iran is a ...</td>\n",
              "      <td>b'Caucasus in crisis: Georgia invades South Os...</td>\n",
              "      <td>b'Indian shoe manufactory  - And again in a se...</td>\n",
              "      <td>b'Visitors Suffering from Mental Illnesses Ban...</td>\n",
              "      <td>b\"No Help for Mexico's Kidnapping Surge\"</td>\n",
              "    </tr>\n",
              "    <tr>\n",
              "      <th>2008-08-11</th>\n",
              "      <td>1</td>\n",
              "      <td>b'Why wont America and Nato help us? If they w...</td>\n",
              "      <td>b'Bush puts foot down on Georgian conflict'</td>\n",
              "      <td>b\"Jewish Georgian minister: Thanks to Israeli ...</td>\n",
              "      <td>b'Georgian army flees in disarray as Russians ...</td>\n",
              "      <td>b\"Olympic opening ceremony fireworks 'faked'\"</td>\n",
              "      <td>b'What were the Mossad with fraudulent New Zea...</td>\n",
              "      <td>b'Russia angered by Israeli military sale to G...</td>\n",
              "      <td>b'An American citizen living in S.Ossetia blam...</td>\n",
              "      <td>b'Welcome To World War IV! Now In High Definit...</td>\n",
              "      <td>b\"Georgia's move, a mistake of monumental prop...</td>\n",
              "      <td>b'Russia presses deeper into Georgia; U.S. say...</td>\n",
              "      <td>b'Abhinav Bindra wins first ever Individual Ol...</td>\n",
              "      <td>b' U.S. ship heads for Arctic to define territ...</td>\n",
              "      <td>b'Drivers in a Jerusalem taxi station threaten...</td>\n",
              "      <td>b'The French Team is Stunned by Phelps and the...</td>\n",
              "      <td>b'Israel and the US behind the Georgian aggres...</td>\n",
              "      <td>b'\"Do not believe TV, neither Russian nor Geor...</td>\n",
              "      <td>b'Riots are still going on in Montreal (Canada...</td>\n",
              "      <td>b'China to overtake US as largest manufacturer'</td>\n",
              "      <td>b'War in South Ossetia [PICS]'</td>\n",
              "      <td>b'Israeli Physicians Group Condemns State Tort...</td>\n",
              "      <td>b' Russia has just beaten the United States ov...</td>\n",
              "      <td>b'Perhaps *the* question about the Georgia - R...</td>\n",
              "      <td>b'Russia is so much better at war'</td>\n",
              "      <td>b\"So this is what it's come to: trading sex fo...</td>\n",
              "    </tr>\n",
              "    <tr>\n",
              "      <th>2008-08-12</th>\n",
              "      <td>0</td>\n",
              "      <td>b'Remember that adorable 9-year-old who sang a...</td>\n",
              "      <td>b\"Russia 'ends Georgia operation'\"</td>\n",
              "      <td>b'\"If we had no sexual harassment we would hav...</td>\n",
              "      <td>b\"Al-Qa'eda is losing support in Iraq because ...</td>\n",
              "      <td>b'Ceasefire in Georgia: Putin Outmaneuvers the...</td>\n",
              "      <td>b'Why Microsoft and Intel tried to kill the XO...</td>\n",
              "      <td>b'Stratfor: The Russo-Georgian War and the Bal...</td>\n",
              "      <td>b\"I'm Trying to Get a Sense of This Whole Geor...</td>\n",
              "      <td>b\"The US military was surprised by the timing ...</td>\n",
              "      <td>b'U.S. Beats War Drum as Iran Dumps the Dollar'</td>\n",
              "      <td>b'Gorbachev: \"Georgian military attacked the S...</td>\n",
              "      <td>b'CNN use footage of Tskhinvali ruins to cover...</td>\n",
              "      <td>b'Beginning a war as the Olympics were opening...</td>\n",
              "      <td>b'55 pyramids as large as the Luxor stacked in...</td>\n",
              "      <td>b'The 11 Top Party Cities in the World'</td>\n",
              "      <td>b'U.S. troops still in Georgia (did you know t...</td>\n",
              "      <td>b'Why Russias response to Georgia was right'</td>\n",
              "      <td>b'Gorbachev accuses U.S. of making a \"serious ...</td>\n",
              "      <td>b'Russia, Georgia, and NATO: Cold War Two'</td>\n",
              "      <td>b'Remember that adorable 62-year-old who led y...</td>\n",
              "      <td>b'War in Georgia: The Israeli connection'</td>\n",
              "      <td>b'All signs point to the US encouraging Georgi...</td>\n",
              "      <td>b'Christopher King argues that the US and NATO...</td>\n",
              "      <td>b'America: The New Mexico?'</td>\n",
              "      <td>b\"BBC NEWS | Asia-Pacific | Extinction 'by man...</td>\n",
              "    </tr>\n",
              "    <tr>\n",
              "      <th>2008-08-13</th>\n",
              "      <td>0</td>\n",
              "      <td>b' U.S. refuses Israel weapons to attack Iran:...</td>\n",
              "      <td>b\"When the president ordered to attack Tskhinv...</td>\n",
              "      <td>b' Israel clears troops who killed Reuters cam...</td>\n",
              "      <td>b'Britain\\'s policy of being tough on drugs is...</td>\n",
              "      <td>b'Body of 14 year old found in trunk; Latest (...</td>\n",
              "      <td>b'China has moved 10 *million* quake survivors...</td>\n",
              "      <td>b\"Bush announces Operation Get All Up In Russi...</td>\n",
              "      <td>b'Russian forces sink Georgian ships '</td>\n",
              "      <td>b\"The commander of a Navy air reconnaissance s...</td>\n",
              "      <td>b\"92% of CNN readers: Russia's actions in Geor...</td>\n",
              "      <td>b'USA to send fleet into Black Sea to help Geo...</td>\n",
              "      <td>b\"US warns against Israeli plan to strike agai...</td>\n",
              "      <td>b\"In an intriguing cyberalliance, two Estonian...</td>\n",
              "      <td>b'The CNN Effect: Georgia Schools Russia in In...</td>\n",
              "      <td>b'Why Russias response to Georgia was right'</td>\n",
              "      <td>b'Elephants extinct by 2020?'</td>\n",
              "      <td>b'US humanitarian missions soon in Georgia - i...</td>\n",
              "      <td>b\"Georgia's DDOS came from US sources\"</td>\n",
              "      <td>b'Russian convoy heads into Georgia, violating...</td>\n",
              "      <td>b'Israeli defence minister: US against strike ...</td>\n",
              "      <td>b'Gorbachev: We Had No Choice'</td>\n",
              "      <td>b'Witness: Russian forces head towards Tbilisi...</td>\n",
              "      <td>b' Quarter of Russians blame U.S. for conflict...</td>\n",
              "      <td>b'Georgian president  says US military will ta...</td>\n",
              "      <td>b'2006: Nobel laureate Aleksander Solzhenitsyn...</td>\n",
              "    </tr>\n",
              "    <tr>\n",
              "      <th>2008-08-14</th>\n",
              "      <td>1</td>\n",
              "      <td>b'All the experts admit that we should legalis...</td>\n",
              "      <td>b'War in South Osetia - 89 pictures made by a ...</td>\n",
              "      <td>b'Swedish wrestler Ara Abrahamian throws away ...</td>\n",
              "      <td>b'Russia exaggerated the death toll in South O...</td>\n",
              "      <td>b'Missile That Killed 9 Inside Pakistan May Ha...</td>\n",
              "      <td>b\"Rushdie Condemns Random House's Refusal to P...</td>\n",
              "      <td>b'Poland and US agree to missle defense deal. ...</td>\n",
              "      <td>b'Will the Russians conquer Tblisi? Bet on it,...</td>\n",
              "      <td>b'Russia exaggerating South Ossetian death tol...</td>\n",
              "      <td>b' Musharraf expected to resign rather than fa...</td>\n",
              "      <td>b'Moscow Made Plans Months Ago to Invade Georgia'</td>\n",
              "      <td>b'Why Russias response to Georgia was right'</td>\n",
              "      <td>b'Nigeria has handed over the potentially oil-...</td>\n",
              "      <td>b'The US and Poland have agreed a preliminary ...</td>\n",
              "      <td>b'Russia apparently is sabotaging infrastructu...</td>\n",
              "      <td>b'Bank analyst forecast Georgian crisis 2 days...</td>\n",
              "      <td>b\"Georgia confict could set back Russia's US r...</td>\n",
              "      <td>b'War in the Caucasus is as much the product o...</td>\n",
              "      <td>b'\"Non-media\" photos of South Ossetia/Georgia ...</td>\n",
              "      <td>b'Georgian TV reporter shot by Russian sniper ...</td>\n",
              "      <td>b'Saudi Arabia: Mother moves to block child ma...</td>\n",
              "      <td>b'Taliban wages war on humanitarian aid workers'</td>\n",
              "      <td>b'Russia: World  \"can forget about\" Georgia\\'s...</td>\n",
              "      <td>b'Darfur rebels accuse Sudan of mounting major...</td>\n",
              "      <td>b'Philippines : Peace Advocate say Muslims nee...</td>\n",
              "    </tr>\n",
              "  </tbody>\n",
              "</table>\n",
              "</div>"
            ],
            "text/plain": [
              "            Label  ...                                              Top25\n",
              "Date               ...                                                   \n",
              "2008-08-08      0  ...           b\"No Help for Mexico's Kidnapping Surge\"\n",
              "2008-08-11      1  ...  b\"So this is what it's come to: trading sex fo...\n",
              "2008-08-12      0  ...  b\"BBC NEWS | Asia-Pacific | Extinction 'by man...\n",
              "2008-08-13      0  ...  b'2006: Nobel laureate Aleksander Solzhenitsyn...\n",
              "2008-08-14      1  ...  b'Philippines : Peace Advocate say Muslims nee...\n",
              "\n",
              "[5 rows x 26 columns]"
            ]
          },
          "metadata": {
            "tags": []
          },
          "execution_count": 9
        }
      ]
    },
    {
      "cell_type": "code",
      "metadata": {
        "id": "wotqIbyyxsrz"
      },
      "source": [
        "# Find the cells with NaN and after the rows for them\n",
        "is_NaN = df_combined.isnull()\n",
        "row_has_NaN = is_NaN.any(axis = 1)\n",
        "rows_with_NaN = df_combined[row_has_NaN]\n",
        "\n",
        "# Replace them\n",
        "df_combined = df_combined.replace(np.nan, \" \")\n",
        "\n",
        "# Check the process\n",
        "is_NaN = df_combined.isnull()\n",
        "row_has_NaN = is_NaN.any(axis = 1)\n",
        "rows_with_NaN = df_combined[row_has_NaN]\n",
        "\n",
        "assert len(rows_with_NaN) is 0"
      ],
      "execution_count": 10,
      "outputs": []
    },
    {
      "cell_type": "code",
      "metadata": {
        "colab": {
          "base_uri": "https://localhost:8080/"
        },
        "id": "E0laCgraz7cw",
        "outputId": "8ad387a8-528b-46d6-e73c-dafec73c8c50"
      },
      "source": [
        "# correct the wrong labels in the dataset\n",
        "\n",
        "# Load the stock data\n",
        "df_stock = web.DataReader(\"DJIA\", data_source=\"yahoo\", start=\"2008-08-08\", \n",
        "                          end=\"2016-07-01\")\n",
        "\n",
        "temp_day = []\n",
        "\n",
        "for day in range(len(df_stock)):\n",
        "    temp_day.append(df_stock.index[day].date())\n",
        "\n",
        "df_stock.index = temp_day\n",
        "\n",
        "difference = []\n",
        "\n",
        "if len(df_combined) == len(df_stock):\n",
        "    print(\"The lengths are the same!\")\n",
        "\n",
        "for day in range(max(len(df_combined), len(df_stock))):\n",
        "    if str(df_combined.index[day]) != str(df_stock.index[day]):\n",
        "        print(\"There is difference at: \" + str(day) + \" index\")\n",
        "        print(\"News: \" + str(df_combined.index[day]) + \"\\tStock: \" + str(df_stock.index[day]))\n",
        "        difference.append(day)\n",
        "\n",
        "if len(difference) is 0:\n",
        "    print(\"The dates matched!\")\n",
        "\n",
        "    difference = []\n",
        "\n",
        "for day in range(len(df_stock)):\n",
        "    # label should be 1 -> rise\n",
        "    if int(df_stock[\"Adj Close\"][day]) >= int(df_stock[\"Adj Close\"][day - 1]):\n",
        "        if df_combined[\"Label\"][day] != 1:\n",
        "            difference.append(str(df_stock.index[day]))\n",
        "            print(\"Problem at day \" + str(df_stock.index[day]))\n",
        "            print(\"Today: \" + str(df_stock[\"Adj Close\"][day]) +\"\\t\\tYesterday: \" + str(df_stock[\"Adj Close\"][day - 1]) + \"\\t\\tLabel: \" + str(df_combined[\"Label\"][day]) + \"\\n\")\n",
        "\n",
        "    # label should be 0 -> fall\n",
        "    if int(df_stock[\"Adj Close\"][day]) < int(df_stock[\"Adj Close\"][day - 1]):\n",
        "        if df_combined[\"Label\"][day] != 0:\n",
        "            difference.append(str(df_stock.index[day]))\n",
        "            print(\"Problem at day \" + str(df_stock.index[day]))\n",
        "            print(\"Today: \" + str(df_stock[\"Adj Close\"][day]) +\"\\t\\tYesterday: \" + str(df_stock[\"Adj Close\"][day - 1]) + \"\\t\\tLabel: \" + str(df_combined[\"Label\"][day]) + \"\\n\")\n",
        "\n",
        "print(\"All differences: \" + str(len(difference))) \n",
        "\n",
        "# correct the wrong labels\n",
        "for row in difference:\n",
        "    if df_combined.loc[row, \"Label\"] == 0:\n",
        "        df_combined.loc[row, \"Label\"] = 1\n",
        "    else:\n",
        "        df_combined.loc[row, \"Label\"] = 0\n",
        "\n",
        "# check them\n",
        "for row in difference:\n",
        "    print(str(row) + \"\\t\\t\" + str(df_combined.loc[row, \"Label\"]))"
      ],
      "execution_count": 11,
      "outputs": [
        {
          "output_type": "stream",
          "text": [
            "The lengths are the same!\n",
            "The dates matched!\n",
            "Problem at day 2010-10-14\n",
            "Today: 11096.919921875\t\tYesterday: 11096.080078125\t\tLabel: 0\n",
            "\n",
            "Problem at day 2012-11-12\n",
            "Today: 12815.080078125\t\tYesterday: 12815.3896484375\t\tLabel: 0\n",
            "\n",
            "Problem at day 2012-11-15\n",
            "Today: 12570.9501953125\t\tYesterday: 12570.9501953125\t\tLabel: 0\n",
            "\n",
            "Problem at day 2013-04-12\n",
            "Today: 14865.0595703125\t\tYesterday: 14865.1396484375\t\tLabel: 0\n",
            "\n",
            "Problem at day 2014-04-24\n",
            "Today: 16501.650390625\t\tYesterday: 16501.650390625\t\tLabel: 0\n",
            "\n",
            "Problem at day 2015-08-12\n",
            "Today: 17402.509765625\t\tYesterday: 17402.83984375\t\tLabel: 0\n",
            "\n",
            "Problem at day 2015-11-27\n",
            "Today: 17813.390625\t\tYesterday: 17813.390625\t\tLabel: 0\n",
            "\n",
            "All differences: 7\n",
            "2010-10-14\t\t1\n",
            "2012-11-12\t\t1\n",
            "2012-11-15\t\t1\n",
            "2013-04-12\t\t1\n",
            "2014-04-24\t\t1\n",
            "2015-08-12\t\t1\n",
            "2015-11-27\t\t1\n"
          ],
          "name": "stdout"
        }
      ]
    },
    {
      "cell_type": "code",
      "metadata": {
        "id": "5AQW07gHM89a"
      },
      "source": [
        "# the last 10 day save out for testing and comparing the models\n",
        "df_for_test = df_combined.tail(10)\n",
        "df_combined.drop(df_combined.tail(10).index,inplace=True) # drop last n rows"
      ],
      "execution_count": 12,
      "outputs": []
    },
    {
      "cell_type": "code",
      "metadata": {
        "colab": {
          "base_uri": "https://localhost:8080/",
          "height": 1000
        },
        "id": "zL-59NsmM-Ua",
        "outputId": "cb491a34-3d4a-4e2d-f8bb-46a3181346d2"
      },
      "source": [
        "df_for_test"
      ],
      "execution_count": 13,
      "outputs": [
        {
          "output_type": "execute_result",
          "data": {
            "text/html": [
              "<div>\n",
              "<style scoped>\n",
              "    .dataframe tbody tr th:only-of-type {\n",
              "        vertical-align: middle;\n",
              "    }\n",
              "\n",
              "    .dataframe tbody tr th {\n",
              "        vertical-align: top;\n",
              "    }\n",
              "\n",
              "    .dataframe thead th {\n",
              "        text-align: right;\n",
              "    }\n",
              "</style>\n",
              "<table border=\"1\" class=\"dataframe\">\n",
              "  <thead>\n",
              "    <tr style=\"text-align: right;\">\n",
              "      <th></th>\n",
              "      <th>Label</th>\n",
              "      <th>Top1</th>\n",
              "      <th>Top2</th>\n",
              "      <th>Top3</th>\n",
              "      <th>Top4</th>\n",
              "      <th>Top5</th>\n",
              "      <th>Top6</th>\n",
              "      <th>Top7</th>\n",
              "      <th>Top8</th>\n",
              "      <th>Top9</th>\n",
              "      <th>Top10</th>\n",
              "      <th>Top11</th>\n",
              "      <th>Top12</th>\n",
              "      <th>Top13</th>\n",
              "      <th>Top14</th>\n",
              "      <th>Top15</th>\n",
              "      <th>Top16</th>\n",
              "      <th>Top17</th>\n",
              "      <th>Top18</th>\n",
              "      <th>Top19</th>\n",
              "      <th>Top20</th>\n",
              "      <th>Top21</th>\n",
              "      <th>Top22</th>\n",
              "      <th>Top23</th>\n",
              "      <th>Top24</th>\n",
              "      <th>Top25</th>\n",
              "    </tr>\n",
              "    <tr>\n",
              "      <th>Date</th>\n",
              "      <th></th>\n",
              "      <th></th>\n",
              "      <th></th>\n",
              "      <th></th>\n",
              "      <th></th>\n",
              "      <th></th>\n",
              "      <th></th>\n",
              "      <th></th>\n",
              "      <th></th>\n",
              "      <th></th>\n",
              "      <th></th>\n",
              "      <th></th>\n",
              "      <th></th>\n",
              "      <th></th>\n",
              "      <th></th>\n",
              "      <th></th>\n",
              "      <th></th>\n",
              "      <th></th>\n",
              "      <th></th>\n",
              "      <th></th>\n",
              "      <th></th>\n",
              "      <th></th>\n",
              "      <th></th>\n",
              "      <th></th>\n",
              "      <th></th>\n",
              "      <th></th>\n",
              "    </tr>\n",
              "  </thead>\n",
              "  <tbody>\n",
              "    <tr>\n",
              "      <th>2016-06-20</th>\n",
              "      <td>1</td>\n",
              "      <td>A staggering 87 percent of Venezuelans say the...</td>\n",
              "      <td>Two corporate whistleblowers may enter into pl...</td>\n",
              "      <td>Poland, together with Russia, Iran, and severa...</td>\n",
              "      <td>Three environmental activists were killed per ...</td>\n",
              "      <td>Ontario funeral business dissolves the dead, p...</td>\n",
              "      <td>New Declassified Documents Reveal How CIA Abus...</td>\n",
              "      <td>Tens of thousands of people gathered in swelte...</td>\n",
              "      <td>Japan's dementia crisis hits record levels as ...</td>\n",
              "      <td>Icelands Hekla volcano, a very popular tourist...</td>\n",
              "      <td>Corbyn pledges to kill TTIP if elected</td>\n",
              "      <td>Venezuelans Ransack Stores as Hunger Grips the...</td>\n",
              "      <td>Rome elects first female mayor</td>\n",
              "      <td>Saudi Arabia and Kuwait angry about Hillary Cl...</td>\n",
              "      <td>Professor Dismissed for Insulting Turkey's Pre...</td>\n",
              "      <td>Russian soldier dies in Syria after preventing...</td>\n",
              "      <td>Three dead, 45 injured as labor union clashes ...</td>\n",
              "      <td>Indonesia vows to stand firm after skirmishes ...</td>\n",
              "      <td>A study of ocean plankton has shown that an in...</td>\n",
              "      <td>Australia taxes foreign home buyers as afforda...</td>\n",
              "      <td>Paris isn't happy about Amazon's one-hour deli...</td>\n",
              "      <td>Australian man pleads guilty to making sexual ...</td>\n",
              "      <td>Trudeau condemns killing of 14 Canadian Embass...</td>\n",
              "      <td>Vladimir Putin is considering selling part of ...</td>\n",
              "      <td>An elephant has survived being shot in the hea...</td>\n",
              "      <td>Wikileaks founder Julian Assange marks 5 years...</td>\n",
              "    </tr>\n",
              "    <tr>\n",
              "      <th>2016-06-21</th>\n",
              "      <td>1</td>\n",
              "      <td>An Australian athlete who has competed in six ...</td>\n",
              "      <td>Russian state television accidentally broadcas...</td>\n",
              "      <td>In 2015, 50 environmentalists were killed in B...</td>\n",
              "      <td>China's plan to cut meat consumption by 50% ch...</td>\n",
              "      <td>Coral bleaching event now biggest in history  ...</td>\n",
              "      <td>Super-rich quaff champagne in Venezuela countr...</td>\n",
              "      <td>Hong Kong bookseller refuses to be silenced af...</td>\n",
              "      <td>Chinese prosecutors have successfully sued a c...</td>\n",
              "      <td>A London-based advocacy group says it has docu...</td>\n",
              "      <td>Erdogan loses appeal against German media boss</td>\n",
              "      <td>Chinese supercomputer is the world's fastest  ...</td>\n",
              "      <td>7-Eleven operator handed record penalty of mor...</td>\n",
              "      <td>A Honduran military unit trained by US was ord...</td>\n",
              "      <td>African Union plans to introduce single passpo...</td>\n",
              "      <td>More refugees became citizens of Canada than a...</td>\n",
              "      <td>Turkey charges Reporters Without Borders press...</td>\n",
              "      <td>Brussels: Bomb alert at shopping centre sparks...</td>\n",
              "      <td>Australian Paralympian Liesl Tesch robbed at g...</td>\n",
              "      <td>China issues orders to demolish Buddhist 'town...</td>\n",
              "      <td>Gazans squeezed by triple taxes as Hamas repla...</td>\n",
              "      <td>US and Russian fighters in dramatic showdown o...</td>\n",
              "      <td>Rising Tide of 'Politically Acceptable' Killin...</td>\n",
              "      <td>Mexico teachers protest: Six people are dead a...</td>\n",
              "      <td>Canada is set to launch a paid whistleblower p...</td>\n",
              "      <td>Russian football fan leader Alexander Shprygin...</td>\n",
              "    </tr>\n",
              "    <tr>\n",
              "      <th>2016-06-22</th>\n",
              "      <td>0</td>\n",
              "      <td>German government agrees to ban fracking indef...</td>\n",
              "      <td>Teenage recruits were raped by staff and force...</td>\n",
              "      <td>Pakistan is selling nuclear materials to N Kor...</td>\n",
              "      <td>Amazon jaguar shot dead at Olympic torch ceremony</td>\n",
              "      <td>Mexican flags raised around Donald Trump's gol...</td>\n",
              "      <td>EU smashes 2020 emissions target six years ear...</td>\n",
              "      <td>Police kill eight striking Mexican teachers as...</td>\n",
              "      <td>Pro-choice activists have delivered abortion p...</td>\n",
              "      <td>A French football fan shoved an 18cm-long flar...</td>\n",
              "      <td>Indian space agency ISRO launches 20 satellite...</td>\n",
              "      <td>Japanese power company TEPCO admits it lied ab...</td>\n",
              "      <td>Murdoch's News Corp buys 72 regional newspaper...</td>\n",
              "      <td>\"Europe's growing army of robot workers could ...</td>\n",
              "      <td>Intel Fights Record $1.2 Billion Antitrust Fin...</td>\n",
              "      <td>Russian security service conducts raids on Chu...</td>\n",
              "      <td>Turkish students and graduates from 370 school...</td>\n",
              "      <td>Japan Election Campaign Kicks off, Voting Age ...</td>\n",
              "      <td>Moscow has signed an agreement with Los Angele...</td>\n",
              "      <td>TEPCO admits meltdown cover-up - The president...</td>\n",
              "      <td>Indian State Grants Jews Minority Status - Ind...</td>\n",
              "      <td>Canadian Rescue Plane successfully reaches Sou...</td>\n",
              "      <td>The Swedish parliament on Tuesday voted in fav...</td>\n",
              "      <td>French police teargas migrants trying to board...</td>\n",
              "      <td>Qawwali musician Amjad Sabri was shot dead in ...</td>\n",
              "      <td>N. Korea launches what appears to be Musudan m...</td>\n",
              "    </tr>\n",
              "    <tr>\n",
              "      <th>2016-06-23</th>\n",
              "      <td>1</td>\n",
              "      <td>Today The United Kingdom decides whether to re...</td>\n",
              "      <td>E-cigarettes should not be banned in public, m...</td>\n",
              "      <td>Report: China is still harvesting organs from ...</td>\n",
              "      <td>Man opens fire at cinema complex in Germany, s...</td>\n",
              "      <td>Erdoan: Europe, you dont want us because were ...</td>\n",
              "      <td>Asian millionaires now control more wealth tha...</td>\n",
              "      <td>A Japanese porn industry association has apolo...</td>\n",
              "      <td>University students are being warned when clas...</td>\n",
              "      <td>Afghan interpreters 'betrayed' by UK and US</td>\n",
              "      <td>Contagious cancer cells are spreading between ...</td>\n",
              "      <td>51 Killed in China by Powerful Tornado</td>\n",
              "      <td>Teacher Killings Ignite Calls for Revolution i...</td>\n",
              "      <td>Solar plane lands in Spain after three-day Atl...</td>\n",
              "      <td>Brexit supporters urged to take own pens to po...</td>\n",
              "      <td>Cities forge world's largest alliance to curb ...</td>\n",
              "      <td>Colombia, FARC announce full ceasefire, 'last ...</td>\n",
              "      <td>Gunmen kill Sufi devotional singer Amjad Sabri...</td>\n",
              "      <td>India launches 20 satellites in single mission</td>\n",
              "      <td>F-16s to be manufactured soon in an assembly l...</td>\n",
              "      <td>Australia's gun laws stopped mass shootings an...</td>\n",
              "      <td>French cement company in Syria buys oil from I...</td>\n",
              "      <td>Pope to visit Armenia after irking Turkey with...</td>\n",
              "      <td>Merkel says NATO must be strengthened</td>\n",
              "      <td>China cracks down on online comments, click-ba...</td>\n",
              "      <td>The prime minister of India is set to get a br...</td>\n",
              "    </tr>\n",
              "    <tr>\n",
              "      <th>2016-06-24</th>\n",
              "      <td>0</td>\n",
              "      <td>David Cameron to Resign as PM After EU Referendum</td>\n",
              "      <td>BBC forecasts UK votes to Leave the European U...</td>\n",
              "      <td>Nicola Sturgeon says a second independence ref...</td>\n",
              "      <td>It's official. Britain votes to leave the Euro...</td>\n",
              "      <td>World's Largest Tibetan Buddhist Institute Ord...</td>\n",
              "      <td>Not a single place in Scotland voted to leave ...</td>\n",
              "      <td>Rich Getting Richer at the Expense of the Poor...</td>\n",
              "      <td>Spanish minister calls for Gibraltar to be ret...</td>\n",
              "      <td>British Pound drops nearly 5% in minutes follo...</td>\n",
              "      <td>J.K. Rowling leads the charge for Scottish ind...</td>\n",
              "      <td>Buenos Aires zoo to close after 140 years: 'Ca...</td>\n",
              "      <td>Northern Ireland's Deputy First Minister calls...</td>\n",
              "      <td>Polls close | Brexit polling day as it happened</td>\n",
              "      <td>Brexit: Petition for second EU referendum so p...</td>\n",
              "      <td>North Korea printing massive amounts of fake C...</td>\n",
              "      <td>Sinn Fein calls for a referendum on Irish reun...</td>\n",
              "      <td>$70 billion wiped off the Australian sharemark...</td>\n",
              "      <td>Nigel Farage disowns Vote Leave '350m for the ...</td>\n",
              "      <td>Top EU leader: we want Britain out as soon as ...</td>\n",
              "      <td>Nigel Farage: 350 million pledge to fund the N...</td>\n",
              "      <td>Thousands of London banking job cuts to start ...</td>\n",
              "      <td>Google says there was a large spike in searche...</td>\n",
              "      <td>EU referendum; Gibraltar backs Remain with 94%...</td>\n",
              "      <td>After Brexit, U.K. Residents Google 'What Is T...</td>\n",
              "      <td>A Turkish man has been found guilty of insulti...</td>\n",
              "    </tr>\n",
              "    <tr>\n",
              "      <th>2016-06-27</th>\n",
              "      <td>0</td>\n",
              "      <td>Barclays and RBS shares suspended from trading...</td>\n",
              "      <td>Pope says Church should ask forgiveness from g...</td>\n",
              "      <td>Poland 'shocked' by xenophobic abuse of Poles ...</td>\n",
              "      <td>There will be no second referendum, cabinet ag...</td>\n",
              "      <td>Scotland welcome to join EU, Merkel ally says</td>\n",
              "      <td>Sterling dips below Friday's 31-year low amid ...</td>\n",
              "      <td>No negative news about South African President...</td>\n",
              "      <td>Surge in Hate Crimes in the U.K. Following U.K...</td>\n",
              "      <td>Weapons shipped into Jordan by the CIA and Sau...</td>\n",
              "      <td>Angela Merkel said the U.K. must file exit pap...</td>\n",
              "      <td>In a birth offering hope to a threatened speci...</td>\n",
              "      <td>Sky News Journalist Left Speechless As Leave M...</td>\n",
              "      <td>Giant panda in Macau gives birth to twins</td>\n",
              "      <td>Get out now: EU leader tells Britain it must i...</td>\n",
              "      <td>Sea turtle 'beaten and left for dead' on beach...</td>\n",
              "      <td>German lawyers to probe Erdogan over alleged w...</td>\n",
              "      <td>Boris Johnson says the UK will continue to \"in...</td>\n",
              "      <td>Richard Branson is calling on the UK governmen...</td>\n",
              "      <td>Turkey 'sorry for downing Russian jet'</td>\n",
              "      <td>Edward Snowden lawyer vows new push for pardon...</td>\n",
              "      <td>Brexit opinion poll reveals majority don't wan...</td>\n",
              "      <td>Conservative MP Leave Campaigner: \"The leave c...</td>\n",
              "      <td>Economists predict UK recession, further weake...</td>\n",
              "      <td>New EU 'superstate plan by France, Germany: Cr...</td>\n",
              "      <td>Pakistani clerics declare transgender marriage...</td>\n",
              "    </tr>\n",
              "    <tr>\n",
              "      <th>2016-06-28</th>\n",
              "      <td>1</td>\n",
              "      <td>2,500 Scientists To Australia: If You Want To ...</td>\n",
              "      <td>The personal details of 112,000 French police ...</td>\n",
              "      <td>S&amp;amp;P cuts United Kingdom sovereign credit r...</td>\n",
              "      <td>Huge helium deposit found in Africa</td>\n",
              "      <td>CEO of the South African state broadcaster qui...</td>\n",
              "      <td>Brexit cost investors $2 trillion, the worst o...</td>\n",
              "      <td>Hong Kong democracy activists call for return ...</td>\n",
              "      <td>Brexit: Iceland president says UK can join 'tr...</td>\n",
              "      <td>UK's Osborne: 'Absolutely' going to have to cu...</td>\n",
              "      <td>'Do not let Scotland down now' : Scottish MEP ...</td>\n",
              "      <td>British pound could hit history-making dollar ...</td>\n",
              "      <td>Merkel vows to strengthen EU, tells UK no 'che...</td>\n",
              "      <td>\"Ryanair will not deploy new aircraft on route...</td>\n",
              "      <td>People, ever more greedy and stupid, destroy t...</td>\n",
              "      <td>Siemens freezes new UK wind power investment f...</td>\n",
              "      <td>US, Canada and Mexico pledge 50% of power from...</td>\n",
              "      <td>There is increasing evidence that Australia is...</td>\n",
              "      <td>Richard Branson, the founder of Virgin Group, ...</td>\n",
              "      <td>37,000-yr-old skull from Borneo reveals surpri...</td>\n",
              "      <td>Palestinians stone Western Wall worshipers; po...</td>\n",
              "      <td>Jean-Claude Juncker asks Farage: Why are you h...</td>\n",
              "      <td>\"Romanians for Remainians\" offering a new home...</td>\n",
              "      <td>Brexit: Gibraltar in talks with Scotland to st...</td>\n",
              "      <td>8 Suicide Bombers Strike Lebanon</td>\n",
              "      <td>Mexico's security forces routinely use 'sexual...</td>\n",
              "    </tr>\n",
              "    <tr>\n",
              "      <th>2016-06-29</th>\n",
              "      <td>1</td>\n",
              "      <td>Explosion At Airport In Istanbul</td>\n",
              "      <td>Yemeni former president: Terrorism is the offs...</td>\n",
              "      <td>UK must accept freedom of movement to access E...</td>\n",
              "      <td>Devastated: scientists too late to captive bre...</td>\n",
              "      <td>British Labor Party leader Jeremy Corbyn loses...</td>\n",
              "      <td>A Muslim Shop in the UK Was Just Firebombed Wh...</td>\n",
              "      <td>Mexican Authorities Sexually Torture Women in ...</td>\n",
              "      <td>UK shares and pound continue to recover</td>\n",
              "      <td>Iceland historian Johannesson wins presidentia...</td>\n",
              "      <td>99-Million-Yr-Old Bird Wings Found Encased in ...</td>\n",
              "      <td>A chatbot programmed by a British teenager has...</td>\n",
              "      <td>The Philippine president-elect said Monday he ...</td>\n",
              "      <td>Former Belgian Prime Minister ridicules Nigel ...</td>\n",
              "      <td>Brexiteer Nigel Farage To EU: 'You're Not Laug...</td>\n",
              "      <td>Islamic State bombings in southern Yemen kill ...</td>\n",
              "      <td>Escape Tunnel, Dug by Hand, Is Found at Holoca...</td>\n",
              "      <td>The land under Beijing is sinking by as much a...</td>\n",
              "      <td>Car bomb and Anti-Islamic attack on Mosque in ...</td>\n",
              "      <td>Emaciated lions in Taiz Zoo are trapped in blo...</td>\n",
              "      <td>Rupert Murdoch describes Brexit as 'wonderful'...</td>\n",
              "      <td>More than 40 killed in Yemen suicide attacks</td>\n",
              "      <td>Google Found Disastrous Symantec and Norton Vu...</td>\n",
              "      <td>Extremist violence on the rise in Germany: Dom...</td>\n",
              "      <td>BBC News: Labour MPs pass Corbyn no-confidence...</td>\n",
              "      <td>Tiny New Zealand town with 'too many jobs' lau...</td>\n",
              "    </tr>\n",
              "    <tr>\n",
              "      <th>2016-06-30</th>\n",
              "      <td>1</td>\n",
              "      <td>Jamaica proposes marijuana dispensers for tour...</td>\n",
              "      <td>Stephen Hawking says pollution and 'stupidity'...</td>\n",
              "      <td>Boris Johnson says he will not run for Tory pa...</td>\n",
              "      <td>Six gay men in Ivory Coast were abused and for...</td>\n",
              "      <td>Switzerland denies citizenship to Muslim immig...</td>\n",
              "      <td>Palestinian terrorist stabs israeli teen girl ...</td>\n",
              "      <td>Puerto Rico will default on $1 billion of debt...</td>\n",
              "      <td>Republic of Ireland fans to be awarded medal f...</td>\n",
              "      <td>Afghan suicide bomber 'kills up to 40' - BBC News</td>\n",
              "      <td>US airstrikes kill at least 250 ISIS fighters ...</td>\n",
              "      <td>Turkish Cop Who Took Down Istanbul Gunman Hail...</td>\n",
              "      <td>Cannabis compounds could treat Alzheimer's by ...</td>\n",
              "      <td>Japan's top court has approved blanket surveil...</td>\n",
              "      <td>CIA Gave Romania Millions to Host Secret Prisons</td>\n",
              "      <td>Groups urge U.N. to suspend Saudi Arabia from ...</td>\n",
              "      <td>Googles free wifi at Indian railway stations i...</td>\n",
              "      <td>Mounting evidence suggests 'hobbits' were wipe...</td>\n",
              "      <td>The men who carried out Tuesday's terror attac...</td>\n",
              "      <td>Calls to suspend Saudi Arabia from UN Human Ri...</td>\n",
              "      <td>More Than 100 Nobel Laureates Call Out Greenpe...</td>\n",
              "      <td>British pedophile sentenced to 85 years in US ...</td>\n",
              "      <td>US permitted 1,200 offshore fracks in Gulf of ...</td>\n",
              "      <td>We will be swimming in ridicule - French beach...</td>\n",
              "      <td>UEFA says no minutes of silence for Istanbul v...</td>\n",
              "      <td>Law Enforcement Sources: Gun Used in Paris Ter...</td>\n",
              "    </tr>\n",
              "    <tr>\n",
              "      <th>2016-07-01</th>\n",
              "      <td>1</td>\n",
              "      <td>A 117-year-old woman in Mexico City finally re...</td>\n",
              "      <td>IMF chief backs Athens as permanent Olympic host</td>\n",
              "      <td>The president of France says if Brexit won, so...</td>\n",
              "      <td>British Man Who Must Give Police 24 Hours' Not...</td>\n",
              "      <td>100+ Nobel laureates urge Greenpeace to stop o...</td>\n",
              "      <td>Brazil: Huge spike in number of police killing...</td>\n",
              "      <td>Austria's highest court annuls presidential el...</td>\n",
              "      <td>Facebook wins privacy case, can track any Belg...</td>\n",
              "      <td>Switzerland denies Muslim girls citizenship af...</td>\n",
              "      <td>China kills millions of innocent meditators fo...</td>\n",
              "      <td>France Cracks Down on Factory Farms - A viral ...</td>\n",
              "      <td>Abbas PLO Faction Calls Killer of 13-Year-Old ...</td>\n",
              "      <td>Taiwanese warship accidentally fires missile t...</td>\n",
              "      <td>Iran celebrates American Human Rights Week, mo...</td>\n",
              "      <td>U.N. panel moves to curb bias against L.G.B.T....</td>\n",
              "      <td>The United States has placed Myanmar, Uzbekist...</td>\n",
              "      <td>S&amp;amp;P revises European Union credit rating t...</td>\n",
              "      <td>India gets $1 billion loan from World Bank for...</td>\n",
              "      <td>U.S. sailors detained by Iran spoke too much u...</td>\n",
              "      <td>Mass fish kill in Vietnam solved as Taiwan ste...</td>\n",
              "      <td>Philippines president Rodrigo Duterte urges pe...</td>\n",
              "      <td>Spain arrests three Pakistanis accused of prom...</td>\n",
              "      <td>Venezuela, where anger over food shortages is ...</td>\n",
              "      <td>A Hindu temple worker has been killed by three...</td>\n",
              "      <td>Ozone layer hole seems to be healing - US &amp;amp...</td>\n",
              "    </tr>\n",
              "  </tbody>\n",
              "</table>\n",
              "</div>"
            ],
            "text/plain": [
              "            Label  ...                                              Top25\n",
              "Date               ...                                                   \n",
              "2016-06-20      1  ...  Wikileaks founder Julian Assange marks 5 years...\n",
              "2016-06-21      1  ...  Russian football fan leader Alexander Shprygin...\n",
              "2016-06-22      0  ...  N. Korea launches what appears to be Musudan m...\n",
              "2016-06-23      1  ...  The prime minister of India is set to get a br...\n",
              "2016-06-24      0  ...  A Turkish man has been found guilty of insulti...\n",
              "2016-06-27      0  ...  Pakistani clerics declare transgender marriage...\n",
              "2016-06-28      1  ...  Mexico's security forces routinely use 'sexual...\n",
              "2016-06-29      1  ...  Tiny New Zealand town with 'too many jobs' lau...\n",
              "2016-06-30      1  ...  Law Enforcement Sources: Gun Used in Paris Ter...\n",
              "2016-07-01      1  ...  Ozone layer hole seems to be healing - US &amp...\n",
              "\n",
              "[10 rows x 26 columns]"
            ]
          },
          "metadata": {
            "tags": []
          },
          "execution_count": 13
        }
      ]
    },
    {
      "cell_type": "code",
      "metadata": {
        "colab": {
          "base_uri": "https://localhost:8080/",
          "height": 1000
        },
        "id": "WY3z2FbFM_4o",
        "outputId": "e4ba917f-47d9-4c57-955d-e42f63860005"
      },
      "source": [
        "df_combined"
      ],
      "execution_count": 14,
      "outputs": [
        {
          "output_type": "execute_result",
          "data": {
            "text/html": [
              "<div>\n",
              "<style scoped>\n",
              "    .dataframe tbody tr th:only-of-type {\n",
              "        vertical-align: middle;\n",
              "    }\n",
              "\n",
              "    .dataframe tbody tr th {\n",
              "        vertical-align: top;\n",
              "    }\n",
              "\n",
              "    .dataframe thead th {\n",
              "        text-align: right;\n",
              "    }\n",
              "</style>\n",
              "<table border=\"1\" class=\"dataframe\">\n",
              "  <thead>\n",
              "    <tr style=\"text-align: right;\">\n",
              "      <th></th>\n",
              "      <th>Label</th>\n",
              "      <th>Top1</th>\n",
              "      <th>Top2</th>\n",
              "      <th>Top3</th>\n",
              "      <th>Top4</th>\n",
              "      <th>Top5</th>\n",
              "      <th>Top6</th>\n",
              "      <th>Top7</th>\n",
              "      <th>Top8</th>\n",
              "      <th>Top9</th>\n",
              "      <th>Top10</th>\n",
              "      <th>Top11</th>\n",
              "      <th>Top12</th>\n",
              "      <th>Top13</th>\n",
              "      <th>Top14</th>\n",
              "      <th>Top15</th>\n",
              "      <th>Top16</th>\n",
              "      <th>Top17</th>\n",
              "      <th>Top18</th>\n",
              "      <th>Top19</th>\n",
              "      <th>Top20</th>\n",
              "      <th>Top21</th>\n",
              "      <th>Top22</th>\n",
              "      <th>Top23</th>\n",
              "      <th>Top24</th>\n",
              "      <th>Top25</th>\n",
              "    </tr>\n",
              "    <tr>\n",
              "      <th>Date</th>\n",
              "      <th></th>\n",
              "      <th></th>\n",
              "      <th></th>\n",
              "      <th></th>\n",
              "      <th></th>\n",
              "      <th></th>\n",
              "      <th></th>\n",
              "      <th></th>\n",
              "      <th></th>\n",
              "      <th></th>\n",
              "      <th></th>\n",
              "      <th></th>\n",
              "      <th></th>\n",
              "      <th></th>\n",
              "      <th></th>\n",
              "      <th></th>\n",
              "      <th></th>\n",
              "      <th></th>\n",
              "      <th></th>\n",
              "      <th></th>\n",
              "      <th></th>\n",
              "      <th></th>\n",
              "      <th></th>\n",
              "      <th></th>\n",
              "      <th></th>\n",
              "      <th></th>\n",
              "    </tr>\n",
              "  </thead>\n",
              "  <tbody>\n",
              "    <tr>\n",
              "      <th>2008-08-08</th>\n",
              "      <td>0</td>\n",
              "      <td>b\"Georgia 'downs two Russian warplanes' as cou...</td>\n",
              "      <td>b'BREAKING: Musharraf to be impeached.'</td>\n",
              "      <td>b'Russia Today: Columns of troops roll into So...</td>\n",
              "      <td>b'Russian tanks are moving towards the capital...</td>\n",
              "      <td>b\"Afghan children raped with 'impunity,' U.N. ...</td>\n",
              "      <td>b'150 Russian tanks have entered South Ossetia...</td>\n",
              "      <td>b\"Breaking: Georgia invades South Ossetia, Rus...</td>\n",
              "      <td>b\"The 'enemy combatent' trials are nothing but...</td>\n",
              "      <td>b'Georgian troops retreat from S. Osettain cap...</td>\n",
              "      <td>b'Did the U.S. Prep Georgia for War with Russia?'</td>\n",
              "      <td>b'Rice Gives Green Light for Israel to Attack ...</td>\n",
              "      <td>b'Announcing:Class Action Lawsuit on Behalf of...</td>\n",
              "      <td>b\"So---Russia and Georgia are at war and the N...</td>\n",
              "      <td>b\"China tells Bush to stay out of other countr...</td>\n",
              "      <td>b'Did World War III start today?'</td>\n",
              "      <td>b'Georgia Invades South Ossetia - if Russia ge...</td>\n",
              "      <td>b'Al-Qaeda Faces Islamist Backlash'</td>\n",
              "      <td>b'Condoleezza Rice: \"The US would not act to p...</td>\n",
              "      <td>b'This is a busy day:  The European Union has ...</td>\n",
              "      <td>b\"Georgia will withdraw 1,000 soldiers from Ir...</td>\n",
              "      <td>b'Why the Pentagon Thinks Attacking Iran is a ...</td>\n",
              "      <td>b'Caucasus in crisis: Georgia invades South Os...</td>\n",
              "      <td>b'Indian shoe manufactory  - And again in a se...</td>\n",
              "      <td>b'Visitors Suffering from Mental Illnesses Ban...</td>\n",
              "      <td>b\"No Help for Mexico's Kidnapping Surge\"</td>\n",
              "    </tr>\n",
              "    <tr>\n",
              "      <th>2008-08-11</th>\n",
              "      <td>1</td>\n",
              "      <td>b'Why wont America and Nato help us? If they w...</td>\n",
              "      <td>b'Bush puts foot down on Georgian conflict'</td>\n",
              "      <td>b\"Jewish Georgian minister: Thanks to Israeli ...</td>\n",
              "      <td>b'Georgian army flees in disarray as Russians ...</td>\n",
              "      <td>b\"Olympic opening ceremony fireworks 'faked'\"</td>\n",
              "      <td>b'What were the Mossad with fraudulent New Zea...</td>\n",
              "      <td>b'Russia angered by Israeli military sale to G...</td>\n",
              "      <td>b'An American citizen living in S.Ossetia blam...</td>\n",
              "      <td>b'Welcome To World War IV! Now In High Definit...</td>\n",
              "      <td>b\"Georgia's move, a mistake of monumental prop...</td>\n",
              "      <td>b'Russia presses deeper into Georgia; U.S. say...</td>\n",
              "      <td>b'Abhinav Bindra wins first ever Individual Ol...</td>\n",
              "      <td>b' U.S. ship heads for Arctic to define territ...</td>\n",
              "      <td>b'Drivers in a Jerusalem taxi station threaten...</td>\n",
              "      <td>b'The French Team is Stunned by Phelps and the...</td>\n",
              "      <td>b'Israel and the US behind the Georgian aggres...</td>\n",
              "      <td>b'\"Do not believe TV, neither Russian nor Geor...</td>\n",
              "      <td>b'Riots are still going on in Montreal (Canada...</td>\n",
              "      <td>b'China to overtake US as largest manufacturer'</td>\n",
              "      <td>b'War in South Ossetia [PICS]'</td>\n",
              "      <td>b'Israeli Physicians Group Condemns State Tort...</td>\n",
              "      <td>b' Russia has just beaten the United States ov...</td>\n",
              "      <td>b'Perhaps *the* question about the Georgia - R...</td>\n",
              "      <td>b'Russia is so much better at war'</td>\n",
              "      <td>b\"So this is what it's come to: trading sex fo...</td>\n",
              "    </tr>\n",
              "    <tr>\n",
              "      <th>2008-08-12</th>\n",
              "      <td>0</td>\n",
              "      <td>b'Remember that adorable 9-year-old who sang a...</td>\n",
              "      <td>b\"Russia 'ends Georgia operation'\"</td>\n",
              "      <td>b'\"If we had no sexual harassment we would hav...</td>\n",
              "      <td>b\"Al-Qa'eda is losing support in Iraq because ...</td>\n",
              "      <td>b'Ceasefire in Georgia: Putin Outmaneuvers the...</td>\n",
              "      <td>b'Why Microsoft and Intel tried to kill the XO...</td>\n",
              "      <td>b'Stratfor: The Russo-Georgian War and the Bal...</td>\n",
              "      <td>b\"I'm Trying to Get a Sense of This Whole Geor...</td>\n",
              "      <td>b\"The US military was surprised by the timing ...</td>\n",
              "      <td>b'U.S. Beats War Drum as Iran Dumps the Dollar'</td>\n",
              "      <td>b'Gorbachev: \"Georgian military attacked the S...</td>\n",
              "      <td>b'CNN use footage of Tskhinvali ruins to cover...</td>\n",
              "      <td>b'Beginning a war as the Olympics were opening...</td>\n",
              "      <td>b'55 pyramids as large as the Luxor stacked in...</td>\n",
              "      <td>b'The 11 Top Party Cities in the World'</td>\n",
              "      <td>b'U.S. troops still in Georgia (did you know t...</td>\n",
              "      <td>b'Why Russias response to Georgia was right'</td>\n",
              "      <td>b'Gorbachev accuses U.S. of making a \"serious ...</td>\n",
              "      <td>b'Russia, Georgia, and NATO: Cold War Two'</td>\n",
              "      <td>b'Remember that adorable 62-year-old who led y...</td>\n",
              "      <td>b'War in Georgia: The Israeli connection'</td>\n",
              "      <td>b'All signs point to the US encouraging Georgi...</td>\n",
              "      <td>b'Christopher King argues that the US and NATO...</td>\n",
              "      <td>b'America: The New Mexico?'</td>\n",
              "      <td>b\"BBC NEWS | Asia-Pacific | Extinction 'by man...</td>\n",
              "    </tr>\n",
              "    <tr>\n",
              "      <th>2008-08-13</th>\n",
              "      <td>0</td>\n",
              "      <td>b' U.S. refuses Israel weapons to attack Iran:...</td>\n",
              "      <td>b\"When the president ordered to attack Tskhinv...</td>\n",
              "      <td>b' Israel clears troops who killed Reuters cam...</td>\n",
              "      <td>b'Britain\\'s policy of being tough on drugs is...</td>\n",
              "      <td>b'Body of 14 year old found in trunk; Latest (...</td>\n",
              "      <td>b'China has moved 10 *million* quake survivors...</td>\n",
              "      <td>b\"Bush announces Operation Get All Up In Russi...</td>\n",
              "      <td>b'Russian forces sink Georgian ships '</td>\n",
              "      <td>b\"The commander of a Navy air reconnaissance s...</td>\n",
              "      <td>b\"92% of CNN readers: Russia's actions in Geor...</td>\n",
              "      <td>b'USA to send fleet into Black Sea to help Geo...</td>\n",
              "      <td>b\"US warns against Israeli plan to strike agai...</td>\n",
              "      <td>b\"In an intriguing cyberalliance, two Estonian...</td>\n",
              "      <td>b'The CNN Effect: Georgia Schools Russia in In...</td>\n",
              "      <td>b'Why Russias response to Georgia was right'</td>\n",
              "      <td>b'Elephants extinct by 2020?'</td>\n",
              "      <td>b'US humanitarian missions soon in Georgia - i...</td>\n",
              "      <td>b\"Georgia's DDOS came from US sources\"</td>\n",
              "      <td>b'Russian convoy heads into Georgia, violating...</td>\n",
              "      <td>b'Israeli defence minister: US against strike ...</td>\n",
              "      <td>b'Gorbachev: We Had No Choice'</td>\n",
              "      <td>b'Witness: Russian forces head towards Tbilisi...</td>\n",
              "      <td>b' Quarter of Russians blame U.S. for conflict...</td>\n",
              "      <td>b'Georgian president  says US military will ta...</td>\n",
              "      <td>b'2006: Nobel laureate Aleksander Solzhenitsyn...</td>\n",
              "    </tr>\n",
              "    <tr>\n",
              "      <th>2008-08-14</th>\n",
              "      <td>1</td>\n",
              "      <td>b'All the experts admit that we should legalis...</td>\n",
              "      <td>b'War in South Osetia - 89 pictures made by a ...</td>\n",
              "      <td>b'Swedish wrestler Ara Abrahamian throws away ...</td>\n",
              "      <td>b'Russia exaggerated the death toll in South O...</td>\n",
              "      <td>b'Missile That Killed 9 Inside Pakistan May Ha...</td>\n",
              "      <td>b\"Rushdie Condemns Random House's Refusal to P...</td>\n",
              "      <td>b'Poland and US agree to missle defense deal. ...</td>\n",
              "      <td>b'Will the Russians conquer Tblisi? Bet on it,...</td>\n",
              "      <td>b'Russia exaggerating South Ossetian death tol...</td>\n",
              "      <td>b' Musharraf expected to resign rather than fa...</td>\n",
              "      <td>b'Moscow Made Plans Months Ago to Invade Georgia'</td>\n",
              "      <td>b'Why Russias response to Georgia was right'</td>\n",
              "      <td>b'Nigeria has handed over the potentially oil-...</td>\n",
              "      <td>b'The US and Poland have agreed a preliminary ...</td>\n",
              "      <td>b'Russia apparently is sabotaging infrastructu...</td>\n",
              "      <td>b'Bank analyst forecast Georgian crisis 2 days...</td>\n",
              "      <td>b\"Georgia confict could set back Russia's US r...</td>\n",
              "      <td>b'War in the Caucasus is as much the product o...</td>\n",
              "      <td>b'\"Non-media\" photos of South Ossetia/Georgia ...</td>\n",
              "      <td>b'Georgian TV reporter shot by Russian sniper ...</td>\n",
              "      <td>b'Saudi Arabia: Mother moves to block child ma...</td>\n",
              "      <td>b'Taliban wages war on humanitarian aid workers'</td>\n",
              "      <td>b'Russia: World  \"can forget about\" Georgia\\'s...</td>\n",
              "      <td>b'Darfur rebels accuse Sudan of mounting major...</td>\n",
              "      <td>b'Philippines : Peace Advocate say Muslims nee...</td>\n",
              "    </tr>\n",
              "    <tr>\n",
              "      <th>...</th>\n",
              "      <td>...</td>\n",
              "      <td>...</td>\n",
              "      <td>...</td>\n",
              "      <td>...</td>\n",
              "      <td>...</td>\n",
              "      <td>...</td>\n",
              "      <td>...</td>\n",
              "      <td>...</td>\n",
              "      <td>...</td>\n",
              "      <td>...</td>\n",
              "      <td>...</td>\n",
              "      <td>...</td>\n",
              "      <td>...</td>\n",
              "      <td>...</td>\n",
              "      <td>...</td>\n",
              "      <td>...</td>\n",
              "      <td>...</td>\n",
              "      <td>...</td>\n",
              "      <td>...</td>\n",
              "      <td>...</td>\n",
              "      <td>...</td>\n",
              "      <td>...</td>\n",
              "      <td>...</td>\n",
              "      <td>...</td>\n",
              "      <td>...</td>\n",
              "      <td>...</td>\n",
              "    </tr>\n",
              "    <tr>\n",
              "      <th>2016-06-13</th>\n",
              "      <td>0</td>\n",
              "      <td>A Dutch woman who alleged she was raped after ...</td>\n",
              "      <td>Islamic State claims responsibility for Orland...</td>\n",
              "      <td>Muslim students in Denmark banned from praying...</td>\n",
              "      <td>Turkish website reports 50 perverts killed in ...</td>\n",
              "      <td>The New Democrat Party of Canada is introducin...</td>\n",
              "      <td>5 Delhi Hospitals Fined $125 million For Refus...</td>\n",
              "      <td>German MP calls for a travel ban on Erdogan - ...</td>\n",
              "      <td>Exclusive: Edward Snowden leaks reveal secret ...</td>\n",
              "      <td>Microsoft to buy Linkedin for $26.2 Billion</td>\n",
              "      <td>Irish Prime Minister \"I'll meet Donald Trump a...</td>\n",
              "      <td>Islamic decree terms honor killing un-Islamic act</td>\n",
              "      <td>Reports of powerful explosion in Beirut</td>\n",
              "      <td>India Is Building a $60 Million Monsoon-Predic...</td>\n",
              "      <td>Ukraine Holds Its First Major Gay Pride March ...</td>\n",
              "      <td>Cleric who preached death for homosexual acts ...</td>\n",
              "      <td>Greece will soon recognize Palestinian state, ...</td>\n",
              "      <td>Bangladesh arrests over 100 Islamists in crack...</td>\n",
              "      <td>Russian hooligans were savage and organised, s...</td>\n",
              "      <td>The Australian government will establish a spe...</td>\n",
              "      <td>Goldman Sachs hired prostitutes to win Libyan ...</td>\n",
              "      <td>Ukraine holds its first large-scale LGBT pride...</td>\n",
              "      <td>May Broke A New Record For Arctic Sea Ice Loss</td>\n",
              "      <td>Oscar Pistorius to be sentenced for murder of ...</td>\n",
              "      <td>At least 12 released Guantanamo detainees impl...</td>\n",
              "      <td>Thousands flee Falluja using first safe exit r...</td>\n",
              "    </tr>\n",
              "    <tr>\n",
              "      <th>2016-06-14</th>\n",
              "      <td>0</td>\n",
              "      <td>Gay Chinese man sues mental hospital for tryin...</td>\n",
              "      <td>Goldman Sachs hired prostitutes to win Libyan ...</td>\n",
              "      <td>'Man holed up in Paris suburban home with host...</td>\n",
              "      <td>A group of Pakistani clerics has issued a fatw...</td>\n",
              "      <td>Animal Welfare Institute Report: Norway is now...</td>\n",
              "      <td>ISIS leader al-Baghdadi killed in air strike: ...</td>\n",
              "      <td>Leaked secret audio recordings of Brazils most...</td>\n",
              "      <td>US with 5 percent of the world's population ha...</td>\n",
              "      <td>London's mayor has banned 'unrealistic body im...</td>\n",
              "      <td>University of Toronto under lockdown after rep...</td>\n",
              "      <td>French police have started the process of depo...</td>\n",
              "      <td>The Pirate Party charges back to the top of po...</td>\n",
              "      <td>The atmosphere has hit a grim milestone  and s...</td>\n",
              "      <td>Barrier Reef rodent is first mammal declared e...</td>\n",
              "      <td>Unprecedented 11 million supporters sign petit...</td>\n",
              "      <td>Bollywood is celebrating a rare court decision...</td>\n",
              "      <td>ISIS militants massacres 40 civilians in Ghand...</td>\n",
              "      <td>Muslim villagers donate money to build church ...</td>\n",
              "      <td>Australia reviews visa of Islamic scholar over...</td>\n",
              "      <td>Mongolia is changing all its addresses to thre...</td>\n",
              "      <td>Non-praying people 'animals', Turkish academic...</td>\n",
              "      <td>ISIS claims responsibility for killing of Fren...</td>\n",
              "      <td>Laser technology reveals huge medieval cities ...</td>\n",
              "      <td>Canadian Hostage Robert Hall Beheaded by Abu S...</td>\n",
              "      <td>First Muslim Gay 'Imam' Says Quran Doesn't Cal...</td>\n",
              "    </tr>\n",
              "    <tr>\n",
              "      <th>2016-06-15</th>\n",
              "      <td>0</td>\n",
              "      <td>ISIS Twitter accounts have been hijacked with ...</td>\n",
              "      <td>Dalai Lama grows quite skeptical about the eff...</td>\n",
              "      <td>Nearly 400 international scientists called on ...</td>\n",
              "      <td>A gay couple has been detained by Moscow polic...</td>\n",
              "      <td>Scotland beats climate emissions reductions ta...</td>\n",
              "      <td>Scientists have discovered the first complex o...</td>\n",
              "      <td>Israel cuts water supplies to West Bank during...</td>\n",
              "      <td>Avocado shortage fuels crime wave in New Zealand</td>\n",
              "      <td>Catholic teenager hung on cross at work left '...</td>\n",
              "      <td>Justin Trudeau considers European troop commit...</td>\n",
              "      <td>Obama risks angering 1.3 billion Chinese peopl...</td>\n",
              "      <td>The UN [has] ruled that Ireland's abortion ban...</td>\n",
              "      <td>Young Australians are more educated than previ...</td>\n",
              "      <td>Malnutrition is sweeping the world, fuelled by...</td>\n",
              "      <td>China warns U.S. against meetings with Dalai L...</td>\n",
              "      <td>Mexico's first independent governor: \"No one l...</td>\n",
              "      <td>Brazil's giant dams risk destroying heart of t...</td>\n",
              "      <td>Justin Trudeau Refuses to Stop Giving Canadian...</td>\n",
              "      <td>Raqqa: Elderly Christian forced to convert to ...</td>\n",
              "      <td>Islamophobia on the rise in Germany - study. I...</td>\n",
              "      <td>A morsel of never-before-seen alien rock has b...</td>\n",
              "      <td>Chinese children at five are 8-cm taller than ...</td>\n",
              "      <td>May Was Planet's Hottest Month on Record, NASA</td>\n",
              "      <td>Former No. 2 at Argentinas Public Works Minist...</td>\n",
              "      <td>Five Die in Attack on Gay Club, Shootout in Ea...</td>\n",
              "    </tr>\n",
              "    <tr>\n",
              "      <th>2016-06-16</th>\n",
              "      <td>1</td>\n",
              "      <td>Decriminalisation Call As 'War On Drugs' Fails...</td>\n",
              "      <td>Germany to end unofficial tolerance of polygam...</td>\n",
              "      <td>Killing of non-Muslims and minority groups for...</td>\n",
              "      <td>Once Islamic State is defeated, Iraq should be...</td>\n",
              "      <td>LEGO donates 600 million DKK (90.7 million USD...</td>\n",
              "      <td>Physicists have detected ripples in the fabric...</td>\n",
              "      <td>Obama meets Dalai Lama in spite of China protest</td>\n",
              "      <td>A chilling call: Police to contact 151 Canadia...</td>\n",
              "      <td>BBC News: EgyptAir wreckage found in Mediterra...</td>\n",
              "      <td>Norway Kills More Whales than Japan and Icelan...</td>\n",
              "      <td>India aims for a record by launching 22 satell...</td>\n",
              "      <td>The World Has Gotten More Peaceful, Except the...</td>\n",
              "      <td>Catholic orders take their lead from the pope ...</td>\n",
              "      <td>Undercover police officer 'recorded Muslim ext...</td>\n",
              "      <td>'El Chapo' prison guard killed; Mexico deploys...</td>\n",
              "      <td>Employee of Panama Papers Law Firm, Mossack Fo...</td>\n",
              "      <td>$40 billion aid to Israel is 'largest ever' to...</td>\n",
              "      <td>Lam Wing-kee, bookseller who went missing for ...</td>\n",
              "      <td>Poliovirus detected in water sample in India, ...</td>\n",
              "      <td>One in four deaths of young men aged from 15 t...</td>\n",
              "      <td>Prince William Becomes First Royal to Pose for...</td>\n",
              "      <td>LIGO Has Detected Gravitational Waves for the ...</td>\n",
              "      <td>Walmart Canada says it would stop accepting vi...</td>\n",
              "      <td>$28 bln invested in cluster weapon producers i...</td>\n",
              "      <td>A Kenyan High Court has dismissed a case chall...</td>\n",
              "    </tr>\n",
              "    <tr>\n",
              "      <th>2016-06-17</th>\n",
              "      <td>0</td>\n",
              "      <td>MP Jo Cox dead after shooting attack</td>\n",
              "      <td>Saudi Arabia upset after Hillary Clinton links...</td>\n",
              "      <td>India may be building an underwater wall of mi...</td>\n",
              "      <td>Ex-Auschwitz guard Reinhold Hanning, 94, sente...</td>\n",
              "      <td>The annual Gay Pride Parade in Istanbul is und...</td>\n",
              "      <td>Russian athletes to remain banned from interna...</td>\n",
              "      <td>Israel seeks life plus 60 years for gay pride ...</td>\n",
              "      <td>Brazil's tourism minister resigns weeks before...</td>\n",
              "      <td>A rare, risky mission is underway to rescue si...</td>\n",
              "      <td>China behaving like 'gangster' state with book...</td>\n",
              "      <td>Putin: Today USA is the only superpower.</td>\n",
              "      <td>Report shows young people today in Australia a...</td>\n",
              "      <td>Alleged killer of British MP was a longtime su...</td>\n",
              "      <td>Taliban use 'honey trap' boys to kill Afghan p...</td>\n",
              "      <td>COGAT: Israel water supply to Palestinians inc...</td>\n",
              "      <td>Deaths, arrests as looting erupts in Venezuela</td>\n",
              "      <td>Elderly Japanese, among the world's richest re...</td>\n",
              "      <td>Russian hooligans attack Spanish tourists outs...</td>\n",
              "      <td>Boko Haram shoot dead 18 women at funeral in n...</td>\n",
              "      <td>ISIS Committed Genocide Against Yazidis in Syr...</td>\n",
              "      <td>Greece wants to send thousands of migrants bac...</td>\n",
              "      <td>Missing Hong Kong bookseller: I was kidnapped ...</td>\n",
              "      <td>Kim Jong-un destroys model village in North Ko...</td>\n",
              "      <td>Turkey Bans Gay Pride Parade in Istanbul, Citi...</td>\n",
              "      <td>One dead, others injured in mass stabbing at C...</td>\n",
              "    </tr>\n",
              "  </tbody>\n",
              "</table>\n",
              "<p>1979 rows × 26 columns</p>\n",
              "</div>"
            ],
            "text/plain": [
              "            Label  ...                                              Top25\n",
              "Date               ...                                                   \n",
              "2008-08-08      0  ...           b\"No Help for Mexico's Kidnapping Surge\"\n",
              "2008-08-11      1  ...  b\"So this is what it's come to: trading sex fo...\n",
              "2008-08-12      0  ...  b\"BBC NEWS | Asia-Pacific | Extinction 'by man...\n",
              "2008-08-13      0  ...  b'2006: Nobel laureate Aleksander Solzhenitsyn...\n",
              "2008-08-14      1  ...  b'Philippines : Peace Advocate say Muslims nee...\n",
              "...           ...  ...                                                ...\n",
              "2016-06-13      0  ...  Thousands flee Falluja using first safe exit r...\n",
              "2016-06-14      0  ...  First Muslim Gay 'Imam' Says Quran Doesn't Cal...\n",
              "2016-06-15      0  ...  Five Die in Attack on Gay Club, Shootout in Ea...\n",
              "2016-06-16      1  ...  A Kenyan High Court has dismissed a case chall...\n",
              "2016-06-17      0  ...  One dead, others injured in mass stabbing at C...\n",
              "\n",
              "[1979 rows x 26 columns]"
            ]
          },
          "metadata": {
            "tags": []
          },
          "execution_count": 14
        }
      ]
    },
    {
      "cell_type": "code",
      "metadata": {
        "colab": {
          "base_uri": "https://localhost:8080/",
          "height": 235
        },
        "id": "ECRy_XVEyEkg",
        "outputId": "f7d6a880-3aeb-448d-e113-b1b872959cbc"
      },
      "source": [
        "# combine the news and remove the 'b' char at the beginning\n",
        "# no other preprocess, the tokenizer will take care of it\n",
        "\n",
        "# Get column names\n",
        "combined_column_names = []\n",
        "for column in df_combined.columns:\n",
        "  combined_column_names.append(column)\n",
        "\n",
        "# 2D array creation for the news based on macros\n",
        "COLUMNS = len(df_combined)\n",
        "news_sum = [[0 for i in range(COLUMNS)] for j in range(int((len(combined_column_names) - 1) / ROWS))]  \n",
        "\n",
        "# Merge the news\n",
        "for row in range(len(df_combined)):\n",
        "  for column in range(int((len(combined_column_names) - 1) / ROWS)):\n",
        "    temp = \"\"\n",
        "    news = \"\"\n",
        "    for word in range(ROWS):\n",
        "      news = df_combined[combined_column_names[(column * ROWS) + (word + 1)]][row]\n",
        "      # Remove the b character at the begining of the string\n",
        "      if news[0] is \"b\":\n",
        "        news = \" \" + news[1:]\n",
        "      temp = temp + news\n",
        "    news_sum[column][row] = temp\n",
        "\n",
        "# Drop the old columns\n",
        "for column in range(len(combined_column_names) - 1):\n",
        "  df_combined.drop(combined_column_names[column + 1], axis = 1, inplace = True)\n",
        "\n",
        "# Create the new columns with the merged news\n",
        "for column in range(int((len(combined_column_names) - 1) / ROWS)):\n",
        "  colum_name = \"News_\" + str(column + 1)\n",
        "  df_combined[colum_name] = news_sum[column]\n",
        "\n",
        "# Show the DataFrame\n",
        "df_combined.head()"
      ],
      "execution_count": 15,
      "outputs": [
        {
          "output_type": "execute_result",
          "data": {
            "text/html": [
              "<div>\n",
              "<style scoped>\n",
              "    .dataframe tbody tr th:only-of-type {\n",
              "        vertical-align: middle;\n",
              "    }\n",
              "\n",
              "    .dataframe tbody tr th {\n",
              "        vertical-align: top;\n",
              "    }\n",
              "\n",
              "    .dataframe thead th {\n",
              "        text-align: right;\n",
              "    }\n",
              "</style>\n",
              "<table border=\"1\" class=\"dataframe\">\n",
              "  <thead>\n",
              "    <tr style=\"text-align: right;\">\n",
              "      <th></th>\n",
              "      <th>Label</th>\n",
              "      <th>News_1</th>\n",
              "    </tr>\n",
              "    <tr>\n",
              "      <th>Date</th>\n",
              "      <th></th>\n",
              "      <th></th>\n",
              "    </tr>\n",
              "  </thead>\n",
              "  <tbody>\n",
              "    <tr>\n",
              "      <th>2008-08-08</th>\n",
              "      <td>0</td>\n",
              "      <td>\"Georgia 'downs two Russian warplanes' as cou...</td>\n",
              "    </tr>\n",
              "    <tr>\n",
              "      <th>2008-08-11</th>\n",
              "      <td>1</td>\n",
              "      <td>'Why wont America and Nato help us? If they w...</td>\n",
              "    </tr>\n",
              "    <tr>\n",
              "      <th>2008-08-12</th>\n",
              "      <td>0</td>\n",
              "      <td>'Remember that adorable 9-year-old who sang a...</td>\n",
              "    </tr>\n",
              "    <tr>\n",
              "      <th>2008-08-13</th>\n",
              "      <td>0</td>\n",
              "      <td>' U.S. refuses Israel weapons to attack Iran:...</td>\n",
              "    </tr>\n",
              "    <tr>\n",
              "      <th>2008-08-14</th>\n",
              "      <td>1</td>\n",
              "      <td>'All the experts admit that we should legalis...</td>\n",
              "    </tr>\n",
              "  </tbody>\n",
              "</table>\n",
              "</div>"
            ],
            "text/plain": [
              "            Label                                             News_1\n",
              "Date                                                                \n",
              "2008-08-08      0   \"Georgia 'downs two Russian warplanes' as cou...\n",
              "2008-08-11      1   'Why wont America and Nato help us? If they w...\n",
              "2008-08-12      0   'Remember that adorable 9-year-old who sang a...\n",
              "2008-08-13      0   ' U.S. refuses Israel weapons to attack Iran:...\n",
              "2008-08-14      1   'All the experts admit that we should legalis..."
            ]
          },
          "metadata": {
            "tags": []
          },
          "execution_count": 15
        }
      ]
    },
    {
      "cell_type": "code",
      "metadata": {
        "colab": {
          "base_uri": "https://localhost:8080/",
          "height": 204
        },
        "id": "ZX8yMe4_0gfC",
        "outputId": "7d5fffd8-83a6-4d8c-d80a-51831dc1cbea"
      },
      "source": [
        "# create new dataset without the dates\n",
        "news_sum = []\n",
        "label_sum = []\n",
        "\n",
        "# Get the column names\n",
        "combined_column_names = []\n",
        "for column in df_combined.columns:\n",
        "  combined_column_names.append(column)\n",
        "\n",
        "# Connect the merged news with the labels\n",
        "for column in range(len(df_combined)):\n",
        "  for row in range(len(combined_column_names) - 1):\n",
        "    news_sum.append(df_combined[combined_column_names[row + 1]][column])\n",
        "    label_sum.append(df_combined[combined_column_names[0]][column])\n",
        "\n",
        "# Create the new DataFrame\n",
        "df_sum_news_labels = pd.DataFrame(data = label_sum, index = None, columns = [\"Label\"])\n",
        "df_sum_news_labels[\"News\"] = news_sum\n",
        "\n",
        "# Show it\n",
        "df_sum_news_labels.head()"
      ],
      "execution_count": 16,
      "outputs": [
        {
          "output_type": "execute_result",
          "data": {
            "text/html": [
              "<div>\n",
              "<style scoped>\n",
              "    .dataframe tbody tr th:only-of-type {\n",
              "        vertical-align: middle;\n",
              "    }\n",
              "\n",
              "    .dataframe tbody tr th {\n",
              "        vertical-align: top;\n",
              "    }\n",
              "\n",
              "    .dataframe thead th {\n",
              "        text-align: right;\n",
              "    }\n",
              "</style>\n",
              "<table border=\"1\" class=\"dataframe\">\n",
              "  <thead>\n",
              "    <tr style=\"text-align: right;\">\n",
              "      <th></th>\n",
              "      <th>Label</th>\n",
              "      <th>News</th>\n",
              "    </tr>\n",
              "  </thead>\n",
              "  <tbody>\n",
              "    <tr>\n",
              "      <th>0</th>\n",
              "      <td>0</td>\n",
              "      <td>\"Georgia 'downs two Russian warplanes' as cou...</td>\n",
              "    </tr>\n",
              "    <tr>\n",
              "      <th>1</th>\n",
              "      <td>1</td>\n",
              "      <td>'Why wont America and Nato help us? If they w...</td>\n",
              "    </tr>\n",
              "    <tr>\n",
              "      <th>2</th>\n",
              "      <td>0</td>\n",
              "      <td>'Remember that adorable 9-year-old who sang a...</td>\n",
              "    </tr>\n",
              "    <tr>\n",
              "      <th>3</th>\n",
              "      <td>0</td>\n",
              "      <td>' U.S. refuses Israel weapons to attack Iran:...</td>\n",
              "    </tr>\n",
              "    <tr>\n",
              "      <th>4</th>\n",
              "      <td>1</td>\n",
              "      <td>'All the experts admit that we should legalis...</td>\n",
              "    </tr>\n",
              "  </tbody>\n",
              "</table>\n",
              "</div>"
            ],
            "text/plain": [
              "   Label                                               News\n",
              "0      0   \"Georgia 'downs two Russian warplanes' as cou...\n",
              "1      1   'Why wont America and Nato help us? If they w...\n",
              "2      0   'Remember that adorable 9-year-old who sang a...\n",
              "3      0   ' U.S. refuses Israel weapons to attack Iran:...\n",
              "4      1   'All the experts admit that we should legalis..."
            ]
          },
          "metadata": {
            "tags": []
          },
          "execution_count": 16
        }
      ]
    },
    {
      "cell_type": "code",
      "metadata": {
        "colab": {
          "base_uri": "https://localhost:8080/"
        },
        "id": "187XLRNF03nv",
        "outputId": "5c16ef81-320c-427a-99f2-60e1a833454a"
      },
      "source": [
        "# check and delete the null length cells\n",
        "news_sum = df_sum_news_labels[\"News\"]\n",
        "null_indexes = []\n",
        "index = 0\n",
        "\n",
        "for line in news_sum:\n",
        "  if line is \"\":\n",
        "    null_indexes.append(index)\n",
        "  index = index + 1\n",
        "\n",
        "print(null_indexes)\n",
        "\n",
        "for row in null_indexes:\n",
        "  df_sum_news_labels = df_sum_news_labels.drop(row)\n",
        "\n",
        "news_sum = df_sum_news_labels[\"News\"]\n",
        "null_indexes = []\n",
        "index = 0\n",
        "\n",
        "for line in news_sum:\n",
        "  if line is \"\":\n",
        "    null_indexes.append(index)\n",
        "  index = index + 1\n",
        "  \n",
        "assert len(null_indexes) is 0"
      ],
      "execution_count": 17,
      "outputs": [
        {
          "output_type": "stream",
          "text": [
            "[]\n"
          ],
          "name": "stdout"
        }
      ]
    },
    {
      "cell_type": "code",
      "metadata": {
        "id": "cYpGXMN6173B"
      },
      "source": [
        "# shuffle the dataset\n",
        "# Do the shuffle\n",
        "for i in range(SHUFFLE_CYCLE):\n",
        "  df_sum_news_labels = shuffle(df_sum_news_labels, random_state = NP_SEED)\n",
        "\n",
        "# Reset the index\n",
        "df_sum_news_labels.reset_index(inplace=True, drop=True)"
      ],
      "execution_count": 18,
      "outputs": []
    },
    {
      "cell_type": "code",
      "metadata": {
        "colab": {
          "base_uri": "https://localhost:8080/"
        },
        "id": "XVadHIQm6dvH",
        "outputId": "4afae0cf-ff9d-4459-8233-c7fe3ebc8872"
      },
      "source": [
        "# check max length for bert tokenizer\n",
        "# Get the column names\n",
        "combined_column_names = []\n",
        "for column in df_sum_news_labels.columns:\n",
        "  combined_column_names.append(column)\n",
        "\n",
        "max_length = 0\n",
        "# Connect the merged news with the labels\n",
        "for column in range(len(df_sum_news_labels)):\n",
        "  for row in range(len(combined_column_names) - 1):\n",
        "    if len(df_sum_news_labels[combined_column_names[row + 1]][column]) > max_length:\n",
        "        max_length = len(df_sum_news_labels[combined_column_names[row + 1]][column])\n",
        "\n",
        "max_length"
      ],
      "execution_count": 19,
      "outputs": [
        {
          "output_type": "execute_result",
          "data": {
            "text/plain": [
              "4400"
            ]
          },
          "metadata": {
            "tags": []
          },
          "execution_count": 19
        }
      ]
    },
    {
      "cell_type": "code",
      "metadata": {
        "id": "oUjhHDbW1Vf1"
      },
      "source": [
        "# split the dataset for train and validation and test \n",
        "INPUT_SIZE = len(df_sum_news_labels)\n",
        "# 75% train -> 60% train, 15% valid, 25% test\n",
        "TRAIN_SIZE = int(TRAIN_SPLIT * INPUT_SIZE) \n",
        "VALID_SIZE = int(VALIDATION_SPLIT * TRAIN_SIZE)\n",
        "\n",
        "# Create the train data set\n",
        "train_dataset = df_sum_news_labels[:TRAIN_SIZE - VALID_SIZE] \n",
        "\n",
        "# Create the validation data set\n",
        "valid_dataset = df_sum_news_labels[TRAIN_SIZE - VALID_SIZE:TRAIN_SIZE] \n",
        "\n",
        "# Create the test data set\n",
        "test_dataset = df_sum_news_labels[TRAIN_SIZE:]\n",
        "\n",
        "# Save them without the indexes\n",
        "train_dataset.to_csv('drive/MyDrive/train.tsv', sep = '\\t', index=False)\n",
        "valid_dataset.to_csv('drive/MyDrive/valid.tsv', sep = '\\t', index=False)\n",
        "test_dataset.to_csv('drive/MyDrive/test.tsv', sep = '\\t', index=False)"
      ],
      "execution_count": 20,
      "outputs": []
    },
    {
      "cell_type": "code",
      "metadata": {
        "colab": {
          "base_uri": "https://localhost:8080/"
        },
        "id": "ltMaYxlDe1x1",
        "outputId": "226a9a23-6f7a-4013-cf83-4bb05f285c48"
      },
      "source": [
        "# check label percentage\n",
        "# TRAIN\n",
        "# Groupby by label\n",
        "labels = train_dataset.groupby(\"Label\")\n",
        "\n",
        "# Summary statistic of all countries\n",
        "labels.describe().head()\n",
        "# Get the counts for labels\n",
        "label_0_count = len(labels.get_group(0))\n",
        "label_1_count = len(labels.get_group(1))\n",
        "\n",
        "# Get the summary\n",
        "label_sum = label_0_count + label_1_count\n",
        "\n",
        "# The percentages\n",
        "percentage_0 = label_0_count / label_sum\n",
        "percentage_1 = label_1_count / label_sum\n",
        "\n",
        "# Show\n",
        "print(\"TRAIN\\n\")\n",
        "print(f\"0 Labels percentage: {percentage_0*100:.2f}%\\n\")\n",
        "print(f\"1 Labels percentage: {percentage_1*100:.2f}%\")\n",
        "\n",
        "# VALID\n",
        "# Groupby by label\n",
        "labels = valid_dataset.groupby(\"Label\")\n",
        "\n",
        "# Summary statistic of all countries\n",
        "labels.describe().head()\n",
        "# Get the counts for labels\n",
        "label_0_count = len(labels.get_group(0))\n",
        "label_1_count = len(labels.get_group(1))\n",
        "\n",
        "# Get the summary\n",
        "label_sum = label_0_count + label_1_count\n",
        "\n",
        "# The percentages\n",
        "percentage_0 = label_0_count / label_sum\n",
        "percentage_1 = label_1_count / label_sum\n",
        "\n",
        "# Show\n",
        "print(\"\\n\\nVALID\\n\")\n",
        "print(f\"0 Labels percentage: {percentage_0*100:.2f}%\\n\")\n",
        "print(f\"1 Labels percentage: {percentage_1*100:.2f}%\")\n",
        "\n",
        "# TEST\n",
        "# Groupby by label\n",
        "labels = test_dataset.groupby(\"Label\")\n",
        "\n",
        "# Summary statistic of all countries\n",
        "labels.describe().head()\n",
        "# Get the counts for labels\n",
        "label_0_count = len(labels.get_group(0))\n",
        "label_1_count = len(labels.get_group(1))\n",
        "\n",
        "# Get the summary\n",
        "label_sum = label_0_count + label_1_count\n",
        "\n",
        "# The percentages\n",
        "percentage_0 = label_0_count / label_sum\n",
        "percentage_1 = label_1_count / label_sum\n",
        "\n",
        "# Show\n",
        "print(\"\\n\\nTEST\\n\")\n",
        "print(f\"0 Labels percentage: {percentage_0*100:.2f}%\\n\")\n",
        "print(f\"1 Labels percentage: {percentage_1*100:.2f}%\")"
      ],
      "execution_count": 21,
      "outputs": [
        {
          "output_type": "stream",
          "text": [
            "TRAIN\n",
            "\n",
            "0 Labels percentage: 46.49%\n",
            "\n",
            "1 Labels percentage: 53.51%\n",
            "\n",
            "\n",
            "VALID\n",
            "\n",
            "0 Labels percentage: 44.94%\n",
            "\n",
            "1 Labels percentage: 55.06%\n",
            "\n",
            "\n",
            "TEST\n",
            "\n",
            "0 Labels percentage: 46.21%\n",
            "\n",
            "1 Labels percentage: 53.79%\n"
          ],
          "name": "stdout"
        }
      ]
    },
    {
      "cell_type": "code",
      "metadata": {
        "colab": {
          "base_uri": "https://localhost:8080/",
          "height": 103
        },
        "id": "RJP-ds168ohJ",
        "outputId": "6ef942aa-3027-4d6e-906b-99b58bc61736"
      },
      "source": [
        "train_dataset[\"News\"][0]"
      ],
      "execution_count": 22,
      "outputs": [
        {
          "output_type": "execute_result",
          "data": {
            "application/vnd.google.colaboratory.intrinsic+json": {
              "type": "string"
            },
            "text/plain": [
              "'Al Jazeera news director resigns after WikiLeaks disclosure reveals that the network edited its coverage of the Iraq war because of pressure by the US governmentMexican President Caldern Hints at Drug Legalization Again - [If] the consumption of drugs cannot be limited, then decision-makers must seek more solutionsincluding market alternativesin order to reduce the astronomical earnings of criminal organizations.Italy puts 7 scientists on trial for manslaughter for failing to predict earthquake that killed 300.35 bodies found on a road in peak hour traffic in Mexico...Palestinian foreign minister says he was \"amazed\" by US efforts to persuade other countries not to support the membership effortThe world\\'s first unauthorized autobiography: A draft of Julian Assange\\'s book will be published after he backed out but didn\\'t return the money.Iran Has Released Jailed AmericansWebsite of Iraqi Ministry of Higher Education gets hacked (NSFW)Saudi Arabia executes man convicted of \"sorcery\"Turkey has come up with a radical solution for tackling crowd violence at soccer matches - ban the men and let only women and children in.Could the Pirate party\\'s German success be repeated in Britain?Scottish nuclear fuel leak \\'will never be completely cleaned up\\' - \\nThe Scottish Environment Protection Agency has abandoned trying to remove all contamination from the north coast seabedUK Government considering removing living allowance from terminally ill people. Oh, and sending them worrying letters about it BEFORE it goes into law. Because if you\\'re terminally ill, you need the extra stress.  Explosion in AmsterdamTurkey bombs Kurdish rebels in IraqTyphoon heads towards Fukushima. Storm leaves four dead in central Japan as 130mph winds threaten to cause damage at nuclear plant.Al Jazeera head quits after CIA links rowAl Jazeera\\'s Wadah Khanfar on why he quit. In an interview with Al Jazeera, Khanfar discusses his decision to resign and dispelled suspicions that it was linked to political pressures: There have always been pressures, but our editorial policy has never been swayed.Palestinian refugees will not become citizens of a new Palestinian state, according to Palestines ambassador to LebanonChina\\'s Railways Ministry - worlds 4th-largest employer - refuses to compensate high-speed crash victimsMexico: 35 bodies dumped on busy roadway by gunmen as motorists watched in horrorThirteen killed or missing as typhoon hits Japan\\'Hell on earth\\': Detailed satellite photos show death camps North Korea still deny even existBBC News - India: Half a dollar a day \\'adequate\\', says panelNew Zealand teen banned from the internet after making bomb threats against the government in a Youtube video.'"
            ]
          },
          "metadata": {
            "tags": []
          },
          "execution_count": 22
        }
      ]
    },
    {
      "cell_type": "markdown",
      "metadata": {
        "id": "mqcydDkP2YgF"
      },
      "source": [
        "## **Szótárak létrehozása a szöveg kódolásához**"
      ]
    },
    {
      "cell_type": "code",
      "metadata": {
        "colab": {
          "base_uri": "https://localhost:8080/"
        },
        "id": "wu_MitBR-Jw8",
        "outputId": "92669e65-99d9-4697-b674-c86f87653ab6"
      },
      "source": [
        "# tokenizer for big bird\n",
        "!pip install sentencepiece"
      ],
      "execution_count": 23,
      "outputs": [
        {
          "output_type": "stream",
          "text": [
            "Collecting sentencepiece\n",
            "\u001b[?25l  Downloading https://files.pythonhosted.org/packages/f5/99/e0808cb947ba10f575839c43e8fafc9cc44e4a7a2c8f79c60db48220a577/sentencepiece-0.1.95-cp37-cp37m-manylinux2014_x86_64.whl (1.2MB)\n",
            "\r\u001b[K     |▎                               | 10kB 13.2MB/s eta 0:00:01\r\u001b[K     |▌                               | 20kB 18.1MB/s eta 0:00:01\r\u001b[K     |▉                               | 30kB 15.6MB/s eta 0:00:01\r\u001b[K     |█                               | 40kB 14.6MB/s eta 0:00:01\r\u001b[K     |█▍                              | 51kB 11.7MB/s eta 0:00:01\r\u001b[K     |█▋                              | 61kB 11.1MB/s eta 0:00:01\r\u001b[K     |██                              | 71kB 11.9MB/s eta 0:00:01\r\u001b[K     |██▏                             | 81kB 12.0MB/s eta 0:00:01\r\u001b[K     |██▌                             | 92kB 12.2MB/s eta 0:00:01\r\u001b[K     |██▊                             | 102kB 11.1MB/s eta 0:00:01\r\u001b[K     |███                             | 112kB 11.1MB/s eta 0:00:01\r\u001b[K     |███▎                            | 122kB 11.1MB/s eta 0:00:01\r\u001b[K     |███▌                            | 133kB 11.1MB/s eta 0:00:01\r\u001b[K     |███▉                            | 143kB 11.1MB/s eta 0:00:01\r\u001b[K     |████                            | 153kB 11.1MB/s eta 0:00:01\r\u001b[K     |████▍                           | 163kB 11.1MB/s eta 0:00:01\r\u001b[K     |████▋                           | 174kB 11.1MB/s eta 0:00:01\r\u001b[K     |█████                           | 184kB 11.1MB/s eta 0:00:01\r\u001b[K     |█████▏                          | 194kB 11.1MB/s eta 0:00:01\r\u001b[K     |█████▌                          | 204kB 11.1MB/s eta 0:00:01\r\u001b[K     |█████▊                          | 215kB 11.1MB/s eta 0:00:01\r\u001b[K     |██████                          | 225kB 11.1MB/s eta 0:00:01\r\u001b[K     |██████▎                         | 235kB 11.1MB/s eta 0:00:01\r\u001b[K     |██████▌                         | 245kB 11.1MB/s eta 0:00:01\r\u001b[K     |██████▉                         | 256kB 11.1MB/s eta 0:00:01\r\u001b[K     |███████                         | 266kB 11.1MB/s eta 0:00:01\r\u001b[K     |███████▍                        | 276kB 11.1MB/s eta 0:00:01\r\u001b[K     |███████▋                        | 286kB 11.1MB/s eta 0:00:01\r\u001b[K     |████████                        | 296kB 11.1MB/s eta 0:00:01\r\u001b[K     |████████▏                       | 307kB 11.1MB/s eta 0:00:01\r\u001b[K     |████████▍                       | 317kB 11.1MB/s eta 0:00:01\r\u001b[K     |████████▊                       | 327kB 11.1MB/s eta 0:00:01\r\u001b[K     |█████████                       | 337kB 11.1MB/s eta 0:00:01\r\u001b[K     |█████████▎                      | 348kB 11.1MB/s eta 0:00:01\r\u001b[K     |█████████▌                      | 358kB 11.1MB/s eta 0:00:01\r\u001b[K     |█████████▉                      | 368kB 11.1MB/s eta 0:00:01\r\u001b[K     |██████████                      | 378kB 11.1MB/s eta 0:00:01\r\u001b[K     |██████████▍                     | 389kB 11.1MB/s eta 0:00:01\r\u001b[K     |██████████▋                     | 399kB 11.1MB/s eta 0:00:01\r\u001b[K     |███████████                     | 409kB 11.1MB/s eta 0:00:01\r\u001b[K     |███████████▏                    | 419kB 11.1MB/s eta 0:00:01\r\u001b[K     |███████████▍                    | 430kB 11.1MB/s eta 0:00:01\r\u001b[K     |███████████▊                    | 440kB 11.1MB/s eta 0:00:01\r\u001b[K     |████████████                    | 450kB 11.1MB/s eta 0:00:01\r\u001b[K     |████████████▎                   | 460kB 11.1MB/s eta 0:00:01\r\u001b[K     |████████████▌                   | 471kB 11.1MB/s eta 0:00:01\r\u001b[K     |████████████▉                   | 481kB 11.1MB/s eta 0:00:01\r\u001b[K     |█████████████                   | 491kB 11.1MB/s eta 0:00:01\r\u001b[K     |█████████████▍                  | 501kB 11.1MB/s eta 0:00:01\r\u001b[K     |█████████████▋                  | 512kB 11.1MB/s eta 0:00:01\r\u001b[K     |█████████████▉                  | 522kB 11.1MB/s eta 0:00:01\r\u001b[K     |██████████████▏                 | 532kB 11.1MB/s eta 0:00:01\r\u001b[K     |██████████████▍                 | 542kB 11.1MB/s eta 0:00:01\r\u001b[K     |██████████████▊                 | 552kB 11.1MB/s eta 0:00:01\r\u001b[K     |███████████████                 | 563kB 11.1MB/s eta 0:00:01\r\u001b[K     |███████████████▎                | 573kB 11.1MB/s eta 0:00:01\r\u001b[K     |███████████████▌                | 583kB 11.1MB/s eta 0:00:01\r\u001b[K     |███████████████▉                | 593kB 11.1MB/s eta 0:00:01\r\u001b[K     |████████████████                | 604kB 11.1MB/s eta 0:00:01\r\u001b[K     |████████████████▍               | 614kB 11.1MB/s eta 0:00:01\r\u001b[K     |████████████████▋               | 624kB 11.1MB/s eta 0:00:01\r\u001b[K     |████████████████▉               | 634kB 11.1MB/s eta 0:00:01\r\u001b[K     |█████████████████▏              | 645kB 11.1MB/s eta 0:00:01\r\u001b[K     |█████████████████▍              | 655kB 11.1MB/s eta 0:00:01\r\u001b[K     |█████████████████▊              | 665kB 11.1MB/s eta 0:00:01\r\u001b[K     |██████████████████              | 675kB 11.1MB/s eta 0:00:01\r\u001b[K     |██████████████████▎             | 686kB 11.1MB/s eta 0:00:01\r\u001b[K     |██████████████████▌             | 696kB 11.1MB/s eta 0:00:01\r\u001b[K     |██████████████████▉             | 706kB 11.1MB/s eta 0:00:01\r\u001b[K     |███████████████████             | 716kB 11.1MB/s eta 0:00:01\r\u001b[K     |███████████████████▎            | 727kB 11.1MB/s eta 0:00:01\r\u001b[K     |███████████████████▋            | 737kB 11.1MB/s eta 0:00:01\r\u001b[K     |███████████████████▉            | 747kB 11.1MB/s eta 0:00:01\r\u001b[K     |████████████████████▏           | 757kB 11.1MB/s eta 0:00:01\r\u001b[K     |████████████████████▍           | 768kB 11.1MB/s eta 0:00:01\r\u001b[K     |████████████████████▊           | 778kB 11.1MB/s eta 0:00:01\r\u001b[K     |█████████████████████           | 788kB 11.1MB/s eta 0:00:01\r\u001b[K     |█████████████████████▎          | 798kB 11.1MB/s eta 0:00:01\r\u001b[K     |█████████████████████▌          | 808kB 11.1MB/s eta 0:00:01\r\u001b[K     |█████████████████████▉          | 819kB 11.1MB/s eta 0:00:01\r\u001b[K     |██████████████████████          | 829kB 11.1MB/s eta 0:00:01\r\u001b[K     |██████████████████████▎         | 839kB 11.1MB/s eta 0:00:01\r\u001b[K     |██████████████████████▋         | 849kB 11.1MB/s eta 0:00:01\r\u001b[K     |██████████████████████▉         | 860kB 11.1MB/s eta 0:00:01\r\u001b[K     |███████████████████████▏        | 870kB 11.1MB/s eta 0:00:01\r\u001b[K     |███████████████████████▍        | 880kB 11.1MB/s eta 0:00:01\r\u001b[K     |███████████████████████▊        | 890kB 11.1MB/s eta 0:00:01\r\u001b[K     |████████████████████████        | 901kB 11.1MB/s eta 0:00:01\r\u001b[K     |████████████████████████▎       | 911kB 11.1MB/s eta 0:00:01\r\u001b[K     |████████████████████████▌       | 921kB 11.1MB/s eta 0:00:01\r\u001b[K     |████████████████████████▊       | 931kB 11.1MB/s eta 0:00:01\r\u001b[K     |█████████████████████████       | 942kB 11.1MB/s eta 0:00:01\r\u001b[K     |█████████████████████████▎      | 952kB 11.1MB/s eta 0:00:01\r\u001b[K     |█████████████████████████▋      | 962kB 11.1MB/s eta 0:00:01\r\u001b[K     |█████████████████████████▉      | 972kB 11.1MB/s eta 0:00:01\r\u001b[K     |██████████████████████████▏     | 983kB 11.1MB/s eta 0:00:01\r\u001b[K     |██████████████████████████▍     | 993kB 11.1MB/s eta 0:00:01\r\u001b[K     |██████████████████████████▊     | 1.0MB 11.1MB/s eta 0:00:01\r\u001b[K     |███████████████████████████     | 1.0MB 11.1MB/s eta 0:00:01\r\u001b[K     |███████████████████████████▎    | 1.0MB 11.1MB/s eta 0:00:01\r\u001b[K     |███████████████████████████▌    | 1.0MB 11.1MB/s eta 0:00:01\r\u001b[K     |███████████████████████████▊    | 1.0MB 11.1MB/s eta 0:00:01\r\u001b[K     |████████████████████████████    | 1.1MB 11.1MB/s eta 0:00:01\r\u001b[K     |████████████████████████████▎   | 1.1MB 11.1MB/s eta 0:00:01\r\u001b[K     |████████████████████████████▋   | 1.1MB 11.1MB/s eta 0:00:01\r\u001b[K     |████████████████████████████▉   | 1.1MB 11.1MB/s eta 0:00:01\r\u001b[K     |█████████████████████████████▏  | 1.1MB 11.1MB/s eta 0:00:01\r\u001b[K     |█████████████████████████████▍  | 1.1MB 11.1MB/s eta 0:00:01\r\u001b[K     |█████████████████████████████▊  | 1.1MB 11.1MB/s eta 0:00:01\r\u001b[K     |██████████████████████████████  | 1.1MB 11.1MB/s eta 0:00:01\r\u001b[K     |██████████████████████████████▏ | 1.1MB 11.1MB/s eta 0:00:01\r\u001b[K     |██████████████████████████████▌ | 1.1MB 11.1MB/s eta 0:00:01\r\u001b[K     |██████████████████████████████▊ | 1.2MB 11.1MB/s eta 0:00:01\r\u001b[K     |███████████████████████████████ | 1.2MB 11.1MB/s eta 0:00:01\r\u001b[K     |███████████████████████████████▎| 1.2MB 11.1MB/s eta 0:00:01\r\u001b[K     |███████████████████████████████▋| 1.2MB 11.1MB/s eta 0:00:01\r\u001b[K     |███████████████████████████████▉| 1.2MB 11.1MB/s eta 0:00:01\r\u001b[K     |████████████████████████████████| 1.2MB 11.1MB/s \n",
            "\u001b[?25hInstalling collected packages: sentencepiece\n",
            "Successfully installed sentencepiece-0.1.95\n"
          ],
          "name": "stdout"
        }
      ]
    },
    {
      "cell_type": "code",
      "metadata": {
        "id": "yw-VnIf7-QDN",
        "colab": {
          "base_uri": "https://localhost:8080/",
          "height": 164,
          "referenced_widgets": [
            "05cf230b20204e38b005af4a36fc06ed",
            "026e18d877314405b07f53cda2aa7138",
            "9df0bc1b8daf479c98e16777bd0efb8e",
            "154bc56ef78c433290d44081390c269b",
            "6837934e5571465fa1e072bd9e1c50c8",
            "1d3dba38cbdc4c1093507008e997675a",
            "de71cad9f494485c81e6e4e5a83cc874",
            "855dbf39b40e45b495b0306e1d2ca6c3",
            "5ff80faa4e2d47fdbace4159195c4253",
            "38a60431dc134730bd46d1772008ae77",
            "4fbb5962db9d41d9bd0ac80bc3b68fe9",
            "cedbcdbc9b2b427ab5c8fc5181b17169",
            "7f3529aaed354b9e95f6da2a95a5edcc",
            "ab754204b8434336bc99a32728266d7c",
            "5470768e7c464682a4ce78374e5bdcfe",
            "59daeb9529e94f3c89b7a6759302e947",
            "38026174a05f49039a3fa02176567a83",
            "c1d1a234565648e69d073cee4fe2c13b",
            "2715814411914a819a89c6898b081c09",
            "f0929011860a41d68477611bd44b049c",
            "34045a3bdc094fc9a6067ce33f530511",
            "f774445a458746d0b8da0cb7e2e01ae9",
            "ad8254b8f8a5465d9f8270623fd59518",
            "78646fce6e9446d7a49e43dada69a541"
          ]
        },
        "outputId": "9f41ac75-3dab-447c-e099-1c289fdc6779"
      },
      "source": [
        "# import the tokenizer and the only big bird adoptation avaliable at this time\n",
        "from transformers import BigBirdTokenizer\n",
        "\n",
        "tokenizer = BigBirdTokenizer.from_pretrained(\"google/bigbird-base-trivia-itc\")"
      ],
      "execution_count": 24,
      "outputs": [
        {
          "output_type": "display_data",
          "data": {
            "application/vnd.jupyter.widget-view+json": {
              "model_id": "05cf230b20204e38b005af4a36fc06ed",
              "version_minor": 0,
              "version_major": 2
            },
            "text/plain": [
              "HBox(children=(FloatProgress(value=0.0, description='Downloading', max=845731.0, style=ProgressStyle(descripti…"
            ]
          },
          "metadata": {
            "tags": []
          }
        },
        {
          "output_type": "stream",
          "text": [
            "\n"
          ],
          "name": "stdout"
        },
        {
          "output_type": "display_data",
          "data": {
            "application/vnd.jupyter.widget-view+json": {
              "model_id": "5ff80faa4e2d47fdbace4159195c4253",
              "version_minor": 0,
              "version_major": 2
            },
            "text/plain": [
              "HBox(children=(FloatProgress(value=0.0, description='Downloading', max=775.0, style=ProgressStyle(description_…"
            ]
          },
          "metadata": {
            "tags": []
          }
        },
        {
          "output_type": "stream",
          "text": [
            "\n"
          ],
          "name": "stdout"
        },
        {
          "output_type": "display_data",
          "data": {
            "application/vnd.jupyter.widget-view+json": {
              "model_id": "38026174a05f49039a3fa02176567a83",
              "version_minor": 0,
              "version_major": 2
            },
            "text/plain": [
              "HBox(children=(FloatProgress(value=0.0, description='Downloading', max=943.0, style=ProgressStyle(description_…"
            ]
          },
          "metadata": {
            "tags": []
          }
        },
        {
          "output_type": "stream",
          "text": [
            "\n"
          ],
          "name": "stdout"
        }
      ]
    },
    {
      "cell_type": "code",
      "metadata": {
        "id": "ZjTpVh_A2e1q"
      },
      "source": [
        "# preprocess function with tokenizer\n",
        "def tokenize_and_cut(sentence):\n",
        "    tokens = tokenizer.tokenize(sentence) \n",
        "    return tokens"
      ],
      "execution_count": 25,
      "outputs": []
    },
    {
      "cell_type": "code",
      "metadata": {
        "id": "lM36Q80e4L4P"
      },
      "source": [
        "# special tokens\n",
        "init_token_idx = tokenizer.cls_token_id\n",
        "eos_token_idx = tokenizer.sep_token_id\n",
        "pad_token_idx = tokenizer.pad_token_id\n",
        "unk_token_idx = tokenizer.unk_token_id"
      ],
      "execution_count": 26,
      "outputs": []
    },
    {
      "cell_type": "code",
      "metadata": {
        "id": "FPB3sPLC2uxZ"
      },
      "source": [
        "# fields define\n",
        "TEXT = data.Field(batch_first = True,\n",
        "                  use_vocab = False,\n",
        "                  tokenize = tokenize_and_cut,\n",
        "                  preprocessing = tokenizer.convert_tokens_to_ids,\n",
        "                  init_token = init_token_idx,\n",
        "                  eos_token = eos_token_idx,\n",
        "                  pad_token = pad_token_idx,\n",
        "                  unk_token = unk_token_idx)\n",
        "\n",
        "LABEL = data.LabelField(dtype = torch.float)"
      ],
      "execution_count": 27,
      "outputs": []
    },
    {
      "cell_type": "code",
      "metadata": {
        "id": "RB9u7uAW5EqN"
      },
      "source": [
        "fields = [('labels', LABEL), ('news', TEXT)]"
      ],
      "execution_count": 28,
      "outputs": []
    },
    {
      "cell_type": "code",
      "metadata": {
        "id": "Vc-F1gFt47dg"
      },
      "source": [
        "# load datasets\n",
        "train_data, valid_data, test_data = data.TabularDataset.splits(\n",
        "                                        path = \"drive/MyDrive\",\n",
        "                                        train = \"train.tsv\",\n",
        "                                        validation = \"valid.tsv\",\n",
        "                                        test = \"test.tsv\",\n",
        "                                        format = \"tsv\",\n",
        "                                        fields = fields,\n",
        "                                        skip_header = True\n",
        ")"
      ],
      "execution_count": 29,
      "outputs": []
    },
    {
      "cell_type": "code",
      "metadata": {
        "colab": {
          "base_uri": "https://localhost:8080/"
        },
        "id": "Q8WvP2-Y7p6H",
        "outputId": "584798bf-253d-4e94-a0a1-e784bf265e9e"
      },
      "source": [
        "print(f\"Number of training examples: {len(train_data)}\")\n",
        "print(f\"Number of validation examples: {len(valid_data)}\")\n",
        "print(f\"Number of testing examples: {len(test_data)}\")"
      ],
      "execution_count": 30,
      "outputs": [
        {
          "output_type": "stream",
          "text": [
            "Number of training examples: 1267\n",
            "Number of validation examples: 316\n",
            "Number of testing examples: 396\n"
          ],
          "name": "stdout"
        }
      ]
    },
    {
      "cell_type": "markdown",
      "metadata": {
        "id": "-yIW2Sv08L2f"
      },
      "source": [
        "Az első elem ellenőrzése."
      ]
    },
    {
      "cell_type": "code",
      "metadata": {
        "colab": {
          "base_uri": "https://localhost:8080/"
        },
        "id": "XtJadJX48NpS",
        "outputId": "23bfa56b-7c3d-406b-ffd1-1c34a7327393"
      },
      "source": [
        "print(vars(train_data[0]))"
      ],
      "execution_count": 31,
      "outputs": [
        {
          "output_type": "stream",
          "text": [
            "{'labels': '0', 'news': [1079, 32510, 1806, 3538, 682, 429, 6008, 807, 19867, 13120, 10170, 427, 363, 3228, 13113, 764, 5298, 387, 363, 4009, 1276, 881, 387, 3934, 517, 363, 1395, 1331, 24771, 7591, 2093, 29283, 1243, 468, 29604, 480, 11196, 16128, 1735, 6622, 633, 786, 1633, 161, 363, 7428, 387, 5111, 2415, 408, 3715, 112, 889, 2652, 113, 6721, 1377, 5481, 618, 8237, 8302, 2011, 5660, 31470, 1603, 385, 4747, 363, 37310, 12143, 387, 4402, 5846, 114, 45102, 7685, 868, 5620, 420, 4574, 430, 35184, 430, 9995, 385, 4432, 16396, 427, 3024, 5968, 114, 2428, 6021, 1144, 420, 358, 3076, 388, 9204, 1812, 5080, 388, 5929, 1087, 36070, 3316, 5443, 1240, 440, 474, 467, 422, 13966, 102, 517, 1395, 4141, 385, 21100, 685, 2779, 508, 385, 1205, 363, 10032, 3727, 565, 1096, 439, 818, 23060, 41896, 126, 418, 4639, 387, 18423, 21983, 439, 1593, 582, 408, 3300, 807, 440, 9864, 604, 576, 1523, 571, 1542, 363, 1738, 114, 23899, 7976, 28829, 550, 6356, 3500, 33521, 387, 10521, 9576, 387, 16139, 7969, 3112, 20058, 458, 8136, 24261, 109, 37040, 9772, 43086, 683, 9219, 387, 467, 183, 374, 12858, 102, 31733, 569, 1383, 611, 452, 358, 7803, 4711, 430, 26449, 4416, 3786, 480, 11884, 7567, 633, 4059, 363, 1551, 391, 1410, 792, 1567, 391, 1852, 388, 114, 23823, 363, 17519, 2252, 439, 2780, 2044, 408, 5201, 388, 5592, 131, 19141, 781, 4624, 5353, 13145, 806, 10695, 1340, 408, 3291, 20851, 611, 107, 633, 321, 100, 565, 12006, 9445, 10086, 7833, 569, 10059, 2212, 385, 4882, 578, 22834, 523, 363, 5194, 7152, 5518, 3178, 15140, 5171, 6503, 10930, 2978, 25031, 523, 3482, 3390, 2902, 762, 114, 4067, 112, 391, 7317, 707, 19017, 7576, 647, 441, 38432, 441, 3026, 757, 1200, 114, 4463, 712, 446, 922, 3482, 3390, 2902, 112, 446, 862, 363, 3232, 5604, 114, 45843, 388, 24478, 31733, 12235, 14946, 12770, 388, 4009, 25593, 847, 2150, 6766, 3472, 34271, 114, 8966, 5768, 1541, 2737, 388, 4419, 2970, 456, 11424, 23436, 13621, 16281, 385, 2829, 2566, 480, 4624, 4719, 114, 2449, 32510, 1283, 10763, 15480, 807, 7789, 6218, 5853, 2449, 32510, 439, 49087, 1094, 11457, 16471, 420, 1622, 440, 11339, 114, 655, 382, 2821, 452, 1079, 32510, 112, 11457, 16471, 19552, 566, 2652, 385, 11032, 391, 696, 15904, 30609, 427, 441, 474, 6793, 385, 2065, 18996, 126, 1419, 524, 1565, 688, 18996, 112, 576, 775, 13785, 2551, 569, 1340, 688, 47733, 114, 36070, 8116, 582, 508, 1817, 4391, 387, 358, 750, 8602, 1282, 112, 1965, 385, 5581, 1228, 14892, 385, 16950, 14682, 439, 13051, 1423, 9576, 633, 11722, 705, 501, 113, 28310, 9850, 633, 17668, 385, 21493, 1130, 113, 12388, 7115, 5071, 33107, 126, 3540, 6021, 24206, 420, 8280, 35953, 517, 35242, 456, 32789, 7443, 388, 10062, 918, 22631, 3024, 494, 4915, 456, 37529, 2150, 7228, 2970, 107, 28355, 420, 4635, 10455, 321, 32181, 11311, 5306, 1006, 2019, 11766, 2359, 5070, 1092, 10230, 873, 2253, 33934, 3101, 633, 3895, 126, 13240, 358, 8973, 358, 1211, 806, 425, 27464, 5086, 3357, 1240, 6204, 3892, 9037, 6137, 9402, 523, 363, 5331, 807, 1743, 5295, 7533, 1129, 363, 1331, 388, 358, 27532, 2109, 114]}\n"
          ],
          "name": "stdout"
        }
      ]
    },
    {
      "cell_type": "code",
      "metadata": {
        "colab": {
          "base_uri": "https://localhost:8080/"
        },
        "id": "MQmyaQdd8QLf",
        "outputId": "204a36ac-eb13-4d41-f436-510af9276180"
      },
      "source": [
        "tokens = tokenizer.convert_ids_to_tokens(vars(train_data[0])['news'])\n",
        "\n",
        "print(tokens)"
      ],
      "execution_count": 32,
      "outputs": [
        {
          "output_type": "stream",
          "text": [
            "['▁Al', '▁Jazeera', '▁news', '▁director', '▁res', 'ig', 'ns', '▁after', '▁WikiLeaks', '▁disclosure', '▁reveals', '▁that', '▁the', '▁network', '▁edited', '▁its', '▁coverage', '▁of', '▁the', '▁Iraq', '▁war', '▁because', '▁of', '▁pressure', '▁by', '▁the', '▁US', '▁government', 'Mex', 'ican', '▁President', '▁Cald', 'ern', '▁H', 'ints', '▁at', '▁Drug', '▁Legal', 'ization', '▁Again', '▁-', '▁[', 'If', ']', '▁the', '▁consumption', '▁of', '▁drugs', '▁cannot', '▁be', '▁limited', ',', '▁then', '▁decision', '-', 'makers', '▁must', '▁seek', '▁more', '▁solutions', 'including', '▁market', '▁alternative', 'sin', '▁order', '▁to', '▁reduce', '▁the', '▁astronomical', '▁earnings', '▁of', '▁criminal', '▁organizations', '.', 'Italy', '▁puts', '▁7', '▁scientists', '▁on', '▁trial', '▁for', '▁manslaughter', '▁for', '▁failing', '▁to', '▁predict', '▁earthquake', '▁that', '▁killed', '▁300', '.', '35', '▁bodies', '▁found', '▁on', '▁a', '▁road', '▁in', '▁peak', '▁hour', '▁traffic', '▁in', '▁Mexico', '...', 'Palestinian', '▁foreign', '▁minister', '▁says', '▁he', '▁was', '▁\"', 'am', 'azed', '\"', '▁by', '▁US', '▁efforts', '▁to', '▁persuade', '▁other', '▁countries', '▁not', '▁to', '▁support', '▁the', '▁membership', '▁effort', 'The', '▁world', \"'s\", '▁first', '▁unauthorized', '▁autobiography', ':', '▁A', '▁draft', '▁of', '▁Julian', '▁Assange', \"'s\", '▁book', '▁will', '▁be', '▁published', '▁after', '▁he', '▁backed', '▁out', '▁but', '▁didn', \"'t\", '▁return', '▁the', '▁money', '.', 'Iran', '▁Has', '▁Released', '▁J', 'ailed', '▁Americans', 'Website', '▁of', '▁Iraqi', '▁Ministry', '▁of', '▁Higher', '▁Education', '▁gets', '▁hacked', '▁(', 'NS', 'FW', ')', 'Saudi', '▁Arabia', '▁executes', '▁man', '▁convicted', '▁of', '▁\"', 's', 'or', 'cery', '\"', 'Turkey', '▁has', '▁come', '▁up', '▁with', '▁a', '▁radical', '▁solution', '▁for', '▁tackling', '▁crowd', '▁violence', '▁at', '▁soccer', '▁matches', '▁-', '▁ban', '▁the', '▁men', '▁and', '▁let', '▁only', '▁women', '▁and', '▁children', '▁in', '.', 'Could', '▁the', '▁Pirate', '▁party', \"'s\", '▁German', '▁success', '▁be', '▁repeated', '▁in', '▁Britain', '?', 'Scott', 'ish', '▁nuclear', '▁fuel', '▁leak', \"▁'\", 'will', '▁never', '▁be', '▁completely', '▁cleaned', '▁up', \"'\", '▁-', '▁', '<unk>', 'The', '▁Scottish', '▁Environment', '▁Protection', '▁Agency', '▁has', '▁abandoned', '▁trying', '▁to', '▁remove', '▁all', '▁contamination', '▁from', '▁the', '▁north', '▁coast', '▁sea', 'bed', 'UK', '▁Government', '▁considering', '▁removing', '▁living', '▁allowance', '▁from', '▁term', 'inally', '▁ill', '▁people', '.', '▁Oh', ',', '▁and', '▁sending', '▁them', '▁worrying', '▁letters', '▁about', '▁it', '▁BEFORE', '▁it', '▁goes', '▁into', '▁law', '.', '▁Because', '▁if', '▁you', \"'re\", '▁term', 'inally', '▁ill', ',', '▁you', '▁need', '▁the', '▁extra', '▁stress', '.', '▁Explosion', '▁in', '▁Amsterdam', 'Turkey', '▁bombs', '▁Kurdish', '▁rebels', '▁in', '▁Iraq', 'Ty', 'ph', 'oon', '▁heads', '▁towards', '▁Fukushima', '.', '▁Storm', '▁leaves', '▁four', '▁dead', '▁in', '▁central', '▁Japan', '▁as', '▁130', 'mph', '▁winds', '▁threaten', '▁to', '▁cause', '▁damage', '▁at', '▁nuclear', '▁plant', '.', 'Al', '▁Jazeera', '▁head', '▁q', 'uits', '▁after', '▁CIA', '▁links', '▁row', 'Al', '▁Jazeera', \"'s\", '▁Wad', 'ah', '▁Khan', 'far', '▁on', '▁why', '▁he', '▁quit', '.', '▁In', '▁an', '▁interview', '▁with', '▁Al', '▁Jazeera', ',', '▁Khan', 'far', '▁discusses', '▁his', '▁decision', '▁to', '▁resign', '▁and', '▁dis', 'pelled', '▁suspicions', '▁that', '▁it', '▁was', '▁linked', '▁to', '▁political', '▁pressures', ':', '▁There', '▁have', '▁always', '▁been', '▁pressures', ',', '▁but', '▁our', '▁editorial', '▁policy', '▁has', '▁never', '▁been', '▁swayed', '.', 'Palestinian', '▁refugees', '▁will', '▁not', '▁become', '▁citizens', '▁of', '▁a', '▁new', '▁Palestinian', '▁state', ',', '▁according', '▁to', '▁Palest', 'ines', '▁ambassador', '▁to', '▁Lebanon', 'China', \"'s\", '▁Rail', 'ways', '▁Ministry', '▁-', '▁worlds', '▁4', 'th', '-', 'largest', '▁employer', '▁-', '▁refuses', '▁to', '▁compensate', '▁high', '-', 'speed', '▁crash', '▁victims', 'Mexico', ':', '▁35', '▁bodies', '▁dumped', '▁on', '▁busy', '▁roadway', '▁by', '▁gunmen', '▁as', '▁motorists', '▁watched', '▁in', '▁horror', 'Th', 'irteen', '▁killed', '▁or', '▁missing', '▁as', '▁typh', 'oon', '▁hits', '▁Japan', \"'\", 'Hell', '▁on', '▁earth', \"':\", '▁', 'Detailed', '▁satellite', '▁photos', '▁show', '▁death', '▁camps', '▁North', '▁Korea', '▁still', '▁deny', '▁even', '▁exist', 'BBC', '▁News', '▁-', '▁India', ':', '▁Half', '▁a', '▁dollar', '▁a', '▁day', \"▁'\", 'ad', 'eq', 'uate', \"',\", '▁says', '▁panel', 'New', '▁Zealand', '▁teen', '▁banned', '▁from', '▁the', '▁internet', '▁after', '▁making', '▁bomb', '▁threats', '▁against', '▁the', '▁government', '▁in', '▁a', '▁Youtube', '▁video', '.']\n"
          ],
          "name": "stdout"
        }
      ]
    },
    {
      "cell_type": "code",
      "metadata": {
        "colab": {
          "base_uri": "https://localhost:8080/"
        },
        "id": "XHE1SqNYEosV",
        "outputId": "e4c6e633-2121-472b-8984-375c8bd55524"
      },
      "source": [
        "# build vocab\n",
        "LABEL.build_vocab(train_data)\n",
        "print(LABEL.vocab.stoi)"
      ],
      "execution_count": 33,
      "outputs": [
        {
          "output_type": "stream",
          "text": [
            "defaultdict(None, {'1': 0, '0': 1})\n"
          ],
          "name": "stdout"
        }
      ]
    },
    {
      "cell_type": "code",
      "metadata": {
        "id": "V3HOTzpoEtKz"
      },
      "source": [
        "# define batch and iterator\n",
        "BATCH_SIZE = 32\n",
        "\n",
        "device = torch.device('cuda' if torch.cuda.is_available() else 'cpu')\n",
        "\n",
        "train_iterator, valid_iterator, test_iterator = data.BucketIterator.splits(\n",
        "    (train_data, valid_data, test_data), \n",
        "    sort_key = lambda x: x.news, #sort by n attribute (quote)\n",
        "    batch_size = BATCH_SIZE, \n",
        "    sort_within_batch = True,\n",
        "    device = device)"
      ],
      "execution_count": 34,
      "outputs": []
    },
    {
      "cell_type": "markdown",
      "metadata": {
        "id": "qqJLL3ZOEzTl"
      },
      "source": [
        "## **Modell létrehozása**"
      ]
    },
    {
      "cell_type": "code",
      "metadata": {
        "id": "EPFpGXiHE3gL",
        "colab": {
          "base_uri": "https://localhost:8080/",
          "height": 659,
          "referenced_widgets": [
            "8f8d86d2bfba49799f0b8644eb7d2cf1",
            "c48a349792f14674bd5ecccec432cece",
            "7408beb29ac64ecdb5b850e75469a060",
            "21f2109172a7439dabb578a6a54bed62",
            "c68a8d4f099046148d6fe2ceff6ead16",
            "b5f3bdfc00e94f928662df8538b3c418",
            "9497dec7a1484871baca44da61c8f687",
            "2ab74456a4b448b8be506dcff4a027cf",
            "0b77b3e9094846e58bac1fc46f2408dc",
            "197e8105e4be48668f4c81d6134434f1",
            "58deac3a0d314879af91c11e7c21a0a4",
            "61b9c5c25c814d53ae924cf5302a2ee1",
            "ba1be72cdfbf4b3aa4d6d823213892a4",
            "4988693df98e4d4884d049b9dd49d5fd",
            "8457a0c3a3974c80807e639d18556ce1",
            "2cb5ae827db045a1a4403aefad86c544"
          ]
        },
        "outputId": "cc157661-fa69-4fae-9e2f-c18607baec52"
      },
      "source": [
        "from transformers import BigBirdModel, BigBirdConfig\n",
        "\n",
        "# Initializing a BigBird google/bigbird-roberta-base style configuration\n",
        "configuration = BigBirdConfig()\n",
        "\n",
        "# Initializing a model from the google/bigbird-roberta-base style configuration\n",
        "bigbird = BigBirdModel(configuration).from_pretrained(\"google/bigbird-roberta-large\").to(device)\n",
        "\n",
        "bigbird.config"
      ],
      "execution_count": 35,
      "outputs": [
        {
          "output_type": "display_data",
          "data": {
            "application/vnd.jupyter.widget-view+json": {
              "model_id": "8f8d86d2bfba49799f0b8644eb7d2cf1",
              "version_minor": 0,
              "version_major": 2
            },
            "text/plain": [
              "HBox(children=(FloatProgress(value=0.0, description='Downloading', max=759.0, style=ProgressStyle(description_…"
            ]
          },
          "metadata": {
            "tags": []
          }
        },
        {
          "output_type": "stream",
          "text": [
            "\n"
          ],
          "name": "stdout"
        },
        {
          "output_type": "display_data",
          "data": {
            "application/vnd.jupyter.widget-view+json": {
              "model_id": "0b77b3e9094846e58bac1fc46f2408dc",
              "version_minor": 0,
              "version_major": 2
            },
            "text/plain": [
              "HBox(children=(FloatProgress(value=0.0, description='Downloading', max=1441107653.0, style=ProgressStyle(descr…"
            ]
          },
          "metadata": {
            "tags": []
          }
        },
        {
          "output_type": "stream",
          "text": [
            "\n"
          ],
          "name": "stdout"
        },
        {
          "output_type": "execute_result",
          "data": {
            "text/plain": [
              "BigBirdConfig {\n",
              "  \"_name_or_path\": \"google/bigbird-roberta-large\",\n",
              "  \"architectures\": [\n",
              "    \"BigBirdForMaskedLM\"\n",
              "  ],\n",
              "  \"attention_probs_dropout_prob\": 0.1,\n",
              "  \"attention_type\": \"block_sparse\",\n",
              "  \"block_size\": 64,\n",
              "  \"bos_token_id\": 1,\n",
              "  \"eos_token_id\": 2,\n",
              "  \"gradient_checkpointing\": false,\n",
              "  \"hidden_act\": \"gelu_fast\",\n",
              "  \"hidden_dropout_prob\": 0.1,\n",
              "  \"hidden_size\": 1024,\n",
              "  \"initializer_range\": 0.02,\n",
              "  \"intermediate_size\": 4096,\n",
              "  \"layer_norm_eps\": 1e-12,\n",
              "  \"max_position_embeddings\": 4096,\n",
              "  \"model_type\": \"big_bird\",\n",
              "  \"num_attention_heads\": 16,\n",
              "  \"num_hidden_layers\": 24,\n",
              "  \"num_random_blocks\": 3,\n",
              "  \"pad_token_id\": 0,\n",
              "  \"position_embedding_type\": \"absolute\",\n",
              "  \"rescale_embeddings\": false,\n",
              "  \"sep_token_id\": 66,\n",
              "  \"transformers_version\": \"4.5.0.dev0\",\n",
              "  \"type_vocab_size\": 2,\n",
              "  \"use_bias\": true,\n",
              "  \"use_cache\": true,\n",
              "  \"vocab_size\": 50358\n",
              "}"
            ]
          },
          "metadata": {
            "tags": []
          },
          "execution_count": 35
        }
      ]
    },
    {
      "cell_type": "code",
      "metadata": {
        "id": "Iw56YAtuFE9v"
      },
      "source": [
        "# define model\n",
        "import torch.nn as nn\n",
        "\n",
        "class BIGBIRDGRUSentiment(nn.Module):\n",
        "    def __init__(self,\n",
        "                 bigbird,\n",
        "                 hidden_dim,\n",
        "                 output_dim,\n",
        "                 n_layers,\n",
        "                 bidirectional,\n",
        "                 dropout):\n",
        "        \n",
        "        super().__init__()\n",
        "        \n",
        "        self.bigbird = bigbird # big bird layer\n",
        "        \n",
        "        embedding_dim = bigbird.config.to_dict()['hidden_size']\n",
        "        \n",
        "        self.rnn = nn.GRU(embedding_dim,\n",
        "                          hidden_dim,\n",
        "                          num_layers = n_layers,\n",
        "                          bidirectional = bidirectional,\n",
        "                          batch_first = True,\n",
        "                          dropout = 0 if n_layers < 2 else dropout) # gru layer\n",
        "        \n",
        "        self.out = nn.Linear(hidden_dim * 2 if bidirectional else hidden_dim, output_dim) # linear out\n",
        "        \n",
        "        self.dropout = nn.Dropout(dropout)\n",
        "        \n",
        "    def forward(self, text):\n",
        "        \n",
        "        #text = [batch size, sent len]\n",
        "                \n",
        "        with torch.no_grad():\n",
        "            embedded = self.bigbird(text)[0] # do not teach the bigbird layer parameters\n",
        "                \n",
        "        #embedded = [batch size, sent len, emb dim]\n",
        "        \n",
        "        _, hidden = self.rnn(embedded)\n",
        "        \n",
        "        #hidden = [n layers * n directions, batch size, emb dim]\n",
        "        \n",
        "        if self.rnn.bidirectional:\n",
        "            hidden = self.dropout(torch.cat((hidden[-2,:,:], hidden[-1,:,:]), dim = 1))\n",
        "        else:\n",
        "            hidden = self.dropout(hidden[-1,:,:])\n",
        "                \n",
        "        #hidden = [batch size, hid dim]\n",
        "        \n",
        "        output = self.out(hidden)\n",
        "        \n",
        "        #output = [batch size, out dim]\n",
        "        \n",
        "        return output"
      ],
      "execution_count": 36,
      "outputs": []
    },
    {
      "cell_type": "code",
      "metadata": {
        "id": "WyWd1hiaFZEb"
      },
      "source": [
        "# create the model with parameters\n",
        "HIDDEN_DIM = 128\n",
        "OUTPUT_DIM = 1\n",
        "N_LAYERS = 4\n",
        "BIDIRECTIONAL = True\n",
        "DROPOUT = 0.2\n",
        "\n",
        "model = BIGBIRDGRUSentiment(bigbird,\n",
        "                         HIDDEN_DIM,\n",
        "                         OUTPUT_DIM,\n",
        "                         N_LAYERS,\n",
        "                         BIDIRECTIONAL,\n",
        "                         DROPOUT)"
      ],
      "execution_count": 37,
      "outputs": []
    },
    {
      "cell_type": "code",
      "metadata": {
        "colab": {
          "base_uri": "https://localhost:8080/"
        },
        "id": "GtdwhrAeFekS",
        "outputId": "7048bbc9-1496-4bc7-9006-47e71cef79f7"
      },
      "source": [
        "# check all and teachable parameters\n",
        "def count_parameters(model):\n",
        "    return sum(p.numel() for p in model.parameters() if p.requires_grad)\n",
        "\n",
        "print(f'The model has {count_parameters(model):,} parameters')\n",
        "\n",
        "#for name, param in model.named_parameters():                \n",
        "    #if name.startswith('bigbird'):\n",
        "        #param.requires_grad = False\n",
        "\n",
        "def count_parameters(model):\n",
        "    return sum(p.numel() for p in model.parameters() if p.requires_grad)\n",
        "\n",
        "print(f'The model has {count_parameters(model):,} trainable parameters')"
      ],
      "execution_count": 38,
      "outputs": [
        {
          "output_type": "stream",
          "text": [
            "The model has 360,899,841 parameters\n",
            "The model has 360,899,841 trainable parameters\n"
          ],
          "name": "stdout"
        }
      ]
    },
    {
      "cell_type": "markdown",
      "metadata": {
        "id": "GOuAj85VFswd"
      },
      "source": [
        "## **A modell tanítása**"
      ]
    },
    {
      "cell_type": "code",
      "metadata": {
        "id": "WeQCs8lkFsVK"
      },
      "source": [
        "# optimizier and cost function\n",
        "import torch.optim as optim\n",
        "\n",
        "criterion = nn.BCEWithLogitsLoss()\n",
        "\n",
        "optimizer = torch.optim.Adam(model.parameters(), lr=0.0001)\n",
        "\n",
        "# place them to gpu\n",
        "model = model.to(device)\n",
        "criterion = criterion.to(device)"
      ],
      "execution_count": 39,
      "outputs": []
    },
    {
      "cell_type": "code",
      "metadata": {
        "id": "KVzLVhWKF5gk"
      },
      "source": [
        "def binary_accuracy(preds, y):\n",
        "    \"\"\"\n",
        "    Returns accuracy per batch, i.e. if you get 8/10 right, this returns 0.8, NOT 8\n",
        "    \"\"\"\n",
        "\n",
        "    #round predictions to the closest integer\n",
        "    rounded_preds = torch.round(torch.sigmoid(preds))\n",
        "    correct = (rounded_preds == y).float() #convert into float for division \n",
        "    acc = correct.sum() / len(correct)\n",
        "    return acc"
      ],
      "execution_count": 40,
      "outputs": []
    },
    {
      "cell_type": "code",
      "metadata": {
        "id": "5i9Twg21F7sH"
      },
      "source": [
        "def train(model, iterator, optimizer, criterion):\n",
        "    \n",
        "    epoch_loss = 0\n",
        "    epoch_acc = 0\n",
        "    index = 0\n",
        "    log_interval = 5\n",
        "    \n",
        "    model.train()\n",
        "    \n",
        "    for batch in iterator:\n",
        "        if index == 0:\n",
        "            all = str(len(iterator))\n",
        "            print(f'Epoch: {epoch+1:02} started | {all} batches will be done')\n",
        "\n",
        "        if index % log_interval == 0 and index > 0:\n",
        "            all = str(len(iterator))\n",
        "            temp_end_time = time.time()\n",
        "            epoch_mins, epoch_secs = epoch_time(start_time, temp_end_time)\n",
        "            print(f'Epoch: {epoch+1:02} | {index} / {all} batches done | Epoch Time: {epoch_mins}m {epoch_secs}s')\n",
        "            \n",
        "        optimizer.zero_grad()\n",
        "        \n",
        "        predictions = model(batch.news).squeeze(1)\n",
        "        \n",
        "        loss = criterion(predictions, batch.labels)\n",
        "        \n",
        "        acc = binary_accuracy(predictions, batch.labels)\n",
        "        \n",
        "        loss.backward()\n",
        "        \n",
        "        optimizer.step()\n",
        "        \n",
        "        epoch_loss += loss.item()\n",
        "        epoch_acc += acc.item()\n",
        "\n",
        "        index += 1\n",
        "        \n",
        "    return epoch_loss / len(iterator), epoch_acc / len(iterator)"
      ],
      "execution_count": 41,
      "outputs": []
    },
    {
      "cell_type": "code",
      "metadata": {
        "id": "guze1HVWF9UP"
      },
      "source": [
        "def evaluate(model, iterator, criterion):\n",
        "    \n",
        "    epoch_loss = 0\n",
        "    epoch_acc = 0\n",
        "    \n",
        "    model.eval()\n",
        "    \n",
        "    with torch.no_grad():\n",
        "    \n",
        "        for batch in iterator:\n",
        "\n",
        "            predictions = model(batch.news).squeeze(1)\n",
        "            \n",
        "            loss = criterion(predictions, batch.labels)\n",
        "            \n",
        "            acc = binary_accuracy(predictions, batch.labels)\n",
        "\n",
        "            epoch_loss += loss.item()\n",
        "            epoch_acc += acc.item()\n",
        "        \n",
        "    return epoch_loss / len(iterator), epoch_acc / len(iterator)"
      ],
      "execution_count": 42,
      "outputs": []
    },
    {
      "cell_type": "code",
      "metadata": {
        "id": "0Ra0zIu0F-jC"
      },
      "source": [
        "import time\n",
        "\n",
        "def epoch_time(start_time, end_time):\n",
        "    elapsed_time = end_time - start_time\n",
        "    elapsed_mins = int(elapsed_time / 60)\n",
        "    elapsed_secs = int(elapsed_time - (elapsed_mins * 60))\n",
        "    return elapsed_mins, elapsed_secs"
      ],
      "execution_count": 43,
      "outputs": []
    },
    {
      "cell_type": "code",
      "metadata": {
        "colab": {
          "base_uri": "https://localhost:8080/",
          "height": 454
        },
        "id": "ipnFGhOIGArt",
        "outputId": "5ab4203f-2c9a-4528-ad8c-3de9394e94fe"
      },
      "source": [
        "# train the model\n",
        "# save the results for plotting\n",
        "N_EPOCHS = 50\n",
        "\n",
        "train_loss_array = []\n",
        "train_acc_array = []\n",
        "valid_loss_array = []\n",
        "valid_acc_array = []\n",
        "\n",
        "best_valid_loss = float('inf')\n",
        "\n",
        "for epoch in range(N_EPOCHS):\n",
        "    \n",
        "    start_time = time.time()\n",
        "    \n",
        "    train_loss, train_acc = train(model, train_iterator, optimizer, criterion)\n",
        "    valid_loss, valid_acc = evaluate(model, valid_iterator, criterion)\n",
        "\n",
        "    train_loss_array.append(train_loss)\n",
        "    train_acc_array.append(train_acc)\n",
        "    valid_loss_array.append(valid_loss)\n",
        "    valid_acc_array.append(valid_acc)\n",
        "        \n",
        "    end_time = time.time()\n",
        "        \n",
        "    epoch_mins, epoch_secs = epoch_time(start_time, end_time)\n",
        "        \n",
        "    if valid_loss < best_valid_loss:\n",
        "        best_valid_loss = valid_loss\n",
        "        torch.save(model.state_dict(), 'drive/MyDrive/bigbird_best_model.pt')\n",
        "    \n",
        "    print(f'Epoch: {epoch+1:02} | Epoch Time: {epoch_mins}m {epoch_secs}s')\n",
        "    print(f'\\tTrain Loss: {train_loss:.3f} | Train Acc: {train_acc*100:.2f}%')\n",
        "    print(f'\\t Val. Loss: {valid_loss:.3f} |  Val. Acc: {valid_acc*100:.2f}%\\n')"
      ],
      "execution_count": null,
      "outputs": [
        {
          "output_type": "error",
          "ename": "KeyboardInterrupt",
          "evalue": "ignored",
          "traceback": [
            "\u001b[0;31m---------------------------------------------------------------------------\u001b[0m",
            "\u001b[0;31mKeyboardInterrupt\u001b[0m                         Traceback (most recent call last)",
            "\u001b[0;32m<ipython-input-74-6626a2bef665>\u001b[0m in \u001b[0;36m<module>\u001b[0;34m()\u001b[0m\n\u001b[1;32m     14\u001b[0m     \u001b[0mstart_time\u001b[0m \u001b[0;34m=\u001b[0m \u001b[0mtime\u001b[0m\u001b[0;34m.\u001b[0m\u001b[0mtime\u001b[0m\u001b[0;34m(\u001b[0m\u001b[0;34m)\u001b[0m\u001b[0;34m\u001b[0m\u001b[0;34m\u001b[0m\u001b[0m\n\u001b[1;32m     15\u001b[0m \u001b[0;34m\u001b[0m\u001b[0m\n\u001b[0;32m---> 16\u001b[0;31m     \u001b[0mtrain_loss\u001b[0m\u001b[0;34m,\u001b[0m \u001b[0mtrain_acc\u001b[0m \u001b[0;34m=\u001b[0m \u001b[0mtrain\u001b[0m\u001b[0;34m(\u001b[0m\u001b[0mmodel\u001b[0m\u001b[0;34m,\u001b[0m \u001b[0mtrain_iterator\u001b[0m\u001b[0;34m,\u001b[0m \u001b[0moptimizer\u001b[0m\u001b[0;34m,\u001b[0m \u001b[0mcriterion\u001b[0m\u001b[0;34m)\u001b[0m\u001b[0;34m\u001b[0m\u001b[0;34m\u001b[0m\u001b[0m\n\u001b[0m\u001b[1;32m     17\u001b[0m     \u001b[0mvalid_loss\u001b[0m\u001b[0;34m,\u001b[0m \u001b[0mvalid_acc\u001b[0m \u001b[0;34m=\u001b[0m \u001b[0mevaluate\u001b[0m\u001b[0;34m(\u001b[0m\u001b[0mmodel\u001b[0m\u001b[0;34m,\u001b[0m \u001b[0mvalid_iterator\u001b[0m\u001b[0;34m,\u001b[0m \u001b[0mcriterion\u001b[0m\u001b[0;34m)\u001b[0m\u001b[0;34m\u001b[0m\u001b[0;34m\u001b[0m\u001b[0m\n\u001b[1;32m     18\u001b[0m \u001b[0;34m\u001b[0m\u001b[0m\n",
            "\u001b[0;32m<ipython-input-71-07ff051498fa>\u001b[0m in \u001b[0;36mtrain\u001b[0;34m(model, iterator, optimizer, criterion)\u001b[0m\n\u001b[1;32m     21\u001b[0m         \u001b[0moptimizer\u001b[0m\u001b[0;34m.\u001b[0m\u001b[0mzero_grad\u001b[0m\u001b[0;34m(\u001b[0m\u001b[0;34m)\u001b[0m\u001b[0;34m\u001b[0m\u001b[0;34m\u001b[0m\u001b[0m\n\u001b[1;32m     22\u001b[0m \u001b[0;34m\u001b[0m\u001b[0m\n\u001b[0;32m---> 23\u001b[0;31m         \u001b[0mpredictions\u001b[0m \u001b[0;34m=\u001b[0m \u001b[0mmodel\u001b[0m\u001b[0;34m(\u001b[0m\u001b[0mbatch\u001b[0m\u001b[0;34m.\u001b[0m\u001b[0mnews\u001b[0m\u001b[0;34m)\u001b[0m\u001b[0;34m.\u001b[0m\u001b[0msqueeze\u001b[0m\u001b[0;34m(\u001b[0m\u001b[0;36m1\u001b[0m\u001b[0;34m)\u001b[0m\u001b[0;34m\u001b[0m\u001b[0;34m\u001b[0m\u001b[0m\n\u001b[0m\u001b[1;32m     24\u001b[0m \u001b[0;34m\u001b[0m\u001b[0m\n\u001b[1;32m     25\u001b[0m         \u001b[0mloss\u001b[0m \u001b[0;34m=\u001b[0m \u001b[0mcriterion\u001b[0m\u001b[0;34m(\u001b[0m\u001b[0mpredictions\u001b[0m\u001b[0;34m,\u001b[0m \u001b[0mbatch\u001b[0m\u001b[0;34m.\u001b[0m\u001b[0mlabels\u001b[0m\u001b[0;34m)\u001b[0m\u001b[0;34m\u001b[0m\u001b[0;34m\u001b[0m\u001b[0m\n",
            "\u001b[0;32m/usr/local/lib/python3.7/dist-packages/torch/nn/modules/module.py\u001b[0m in \u001b[0;36m_call_impl\u001b[0;34m(self, *input, **kwargs)\u001b[0m\n\u001b[1;32m    887\u001b[0m             \u001b[0mresult\u001b[0m \u001b[0;34m=\u001b[0m \u001b[0mself\u001b[0m\u001b[0;34m.\u001b[0m\u001b[0m_slow_forward\u001b[0m\u001b[0;34m(\u001b[0m\u001b[0;34m*\u001b[0m\u001b[0minput\u001b[0m\u001b[0;34m,\u001b[0m \u001b[0;34m**\u001b[0m\u001b[0mkwargs\u001b[0m\u001b[0;34m)\u001b[0m\u001b[0;34m\u001b[0m\u001b[0;34m\u001b[0m\u001b[0m\n\u001b[1;32m    888\u001b[0m         \u001b[0;32melse\u001b[0m\u001b[0;34m:\u001b[0m\u001b[0;34m\u001b[0m\u001b[0;34m\u001b[0m\u001b[0m\n\u001b[0;32m--> 889\u001b[0;31m             \u001b[0mresult\u001b[0m \u001b[0;34m=\u001b[0m \u001b[0mself\u001b[0m\u001b[0;34m.\u001b[0m\u001b[0mforward\u001b[0m\u001b[0;34m(\u001b[0m\u001b[0;34m*\u001b[0m\u001b[0minput\u001b[0m\u001b[0;34m,\u001b[0m \u001b[0;34m**\u001b[0m\u001b[0mkwargs\u001b[0m\u001b[0;34m)\u001b[0m\u001b[0;34m\u001b[0m\u001b[0;34m\u001b[0m\u001b[0m\n\u001b[0m\u001b[1;32m    890\u001b[0m         for hook in itertools.chain(\n\u001b[1;32m    891\u001b[0m                 \u001b[0m_global_forward_hooks\u001b[0m\u001b[0;34m.\u001b[0m\u001b[0mvalues\u001b[0m\u001b[0;34m(\u001b[0m\u001b[0;34m)\u001b[0m\u001b[0;34m,\u001b[0m\u001b[0;34m\u001b[0m\u001b[0;34m\u001b[0m\u001b[0m\n",
            "\u001b[0;32m<ipython-input-66-30b445c8474c>\u001b[0m in \u001b[0;36mforward\u001b[0;34m(self, text)\u001b[0m\n\u001b[1;32m     37\u001b[0m         \u001b[0;31m#embedded = [batch size, sent len, emb dim]\u001b[0m\u001b[0;34m\u001b[0m\u001b[0;34m\u001b[0m\u001b[0;34m\u001b[0m\u001b[0m\n\u001b[1;32m     38\u001b[0m \u001b[0;34m\u001b[0m\u001b[0m\n\u001b[0;32m---> 39\u001b[0;31m         \u001b[0m_\u001b[0m\u001b[0;34m,\u001b[0m \u001b[0mhidden\u001b[0m \u001b[0;34m=\u001b[0m \u001b[0mself\u001b[0m\u001b[0;34m.\u001b[0m\u001b[0mrnn\u001b[0m\u001b[0;34m(\u001b[0m\u001b[0membedded\u001b[0m\u001b[0;34m)\u001b[0m\u001b[0;34m\u001b[0m\u001b[0;34m\u001b[0m\u001b[0m\n\u001b[0m\u001b[1;32m     40\u001b[0m \u001b[0;34m\u001b[0m\u001b[0m\n\u001b[1;32m     41\u001b[0m         \u001b[0;31m#hidden = [n layers * n directions, batch size, emb dim]\u001b[0m\u001b[0;34m\u001b[0m\u001b[0;34m\u001b[0m\u001b[0;34m\u001b[0m\u001b[0m\n",
            "\u001b[0;32m/usr/local/lib/python3.7/dist-packages/torch/nn/modules/module.py\u001b[0m in \u001b[0;36m_call_impl\u001b[0;34m(self, *input, **kwargs)\u001b[0m\n\u001b[1;32m    887\u001b[0m             \u001b[0mresult\u001b[0m \u001b[0;34m=\u001b[0m \u001b[0mself\u001b[0m\u001b[0;34m.\u001b[0m\u001b[0m_slow_forward\u001b[0m\u001b[0;34m(\u001b[0m\u001b[0;34m*\u001b[0m\u001b[0minput\u001b[0m\u001b[0;34m,\u001b[0m \u001b[0;34m**\u001b[0m\u001b[0mkwargs\u001b[0m\u001b[0;34m)\u001b[0m\u001b[0;34m\u001b[0m\u001b[0;34m\u001b[0m\u001b[0m\n\u001b[1;32m    888\u001b[0m         \u001b[0;32melse\u001b[0m\u001b[0;34m:\u001b[0m\u001b[0;34m\u001b[0m\u001b[0;34m\u001b[0m\u001b[0m\n\u001b[0;32m--> 889\u001b[0;31m             \u001b[0mresult\u001b[0m \u001b[0;34m=\u001b[0m \u001b[0mself\u001b[0m\u001b[0;34m.\u001b[0m\u001b[0mforward\u001b[0m\u001b[0;34m(\u001b[0m\u001b[0;34m*\u001b[0m\u001b[0minput\u001b[0m\u001b[0;34m,\u001b[0m \u001b[0;34m**\u001b[0m\u001b[0mkwargs\u001b[0m\u001b[0;34m)\u001b[0m\u001b[0;34m\u001b[0m\u001b[0;34m\u001b[0m\u001b[0m\n\u001b[0m\u001b[1;32m    890\u001b[0m         for hook in itertools.chain(\n\u001b[1;32m    891\u001b[0m                 \u001b[0m_global_forward_hooks\u001b[0m\u001b[0;34m.\u001b[0m\u001b[0mvalues\u001b[0m\u001b[0;34m(\u001b[0m\u001b[0;34m)\u001b[0m\u001b[0;34m,\u001b[0m\u001b[0;34m\u001b[0m\u001b[0;34m\u001b[0m\u001b[0m\n",
            "\u001b[0;32m/usr/local/lib/python3.7/dist-packages/torch/nn/modules/rnn.py\u001b[0m in \u001b[0;36mforward\u001b[0;34m(self, input, hx)\u001b[0m\n\u001b[1;32m    820\u001b[0m         \u001b[0;32mif\u001b[0m \u001b[0mbatch_sizes\u001b[0m \u001b[0;32mis\u001b[0m \u001b[0;32mNone\u001b[0m\u001b[0;34m:\u001b[0m\u001b[0;34m\u001b[0m\u001b[0;34m\u001b[0m\u001b[0m\n\u001b[1;32m    821\u001b[0m             result = _VF.gru(input, hx, self._flat_weights, self.bias, self.num_layers,\n\u001b[0;32m--> 822\u001b[0;31m                              self.dropout, self.training, self.bidirectional, self.batch_first)\n\u001b[0m\u001b[1;32m    823\u001b[0m         \u001b[0;32melse\u001b[0m\u001b[0;34m:\u001b[0m\u001b[0;34m\u001b[0m\u001b[0;34m\u001b[0m\u001b[0m\n\u001b[1;32m    824\u001b[0m             result = _VF.gru(input, batch_sizes, hx, self._flat_weights, self.bias,\n",
            "\u001b[0;31mKeyboardInterrupt\u001b[0m: "
          ]
        }
      ]
    },
    {
      "cell_type": "code",
      "metadata": {
        "id": "cNHiFfSaGZZq",
        "colab": {
          "base_uri": "https://localhost:8080/",
          "height": 366
        },
        "outputId": "9760bbd3-4714-4627-d491-eb567d5e9724"
      },
      "source": [
        "# Visualize the training\n",
        "plt.figure(figsize=(16,8))\n",
        "plt.title('Train and validation loss')\n",
        "plt.plot(train_loss_array, color = \"green\", label = \"Train loss\")\n",
        "plt.plot(valid_loss_array, color = \"blue\", label = \"Valid loss\")\n",
        "plt.xlabel('Epoch',fontsize=18)\n",
        "plt.ylabel('Loss',fontsize=18)\n",
        "plt.legend(fontsize=18)\n",
        "plt.show()"
      ],
      "execution_count": null,
      "outputs": [
        {
          "output_type": "display_data",
          "data": {
            "image/png": "[encoded data removed]",
            "text/plain": [
              "<Figure size 1152x576 with 1 Axes>"
            ]
          },
          "metadata": {
            "tags": [],
            "needs_background": "light"
          }
        }
      ]
    },
    {
      "cell_type": "code",
      "metadata": {
        "id": "BzCuSDl_GamX",
        "colab": {
          "base_uri": "https://localhost:8080/",
          "height": 361
        },
        "outputId": "d859f380-9de1-4fb6-9dd7-a227afb56cf1"
      },
      "source": [
        "# Visualize the training\n",
        "plt.figure(figsize=(16,8))\n",
        "plt.title('Train and validation accuraccy')\n",
        "plt.plot(train_acc_array, color = \"green\", label = \"Train accuracy\")\n",
        "plt.plot(valid_acc_array, color = \"blue\", label = \"Valid accuracy\")\n",
        "plt.xlabel('Epoch',fontsize=18)\n",
        "plt.ylabel('Accuracy (%)',fontsize=18)\n",
        "plt.legend(fontsize=18)\n",
        "plt.show()"
      ],
      "execution_count": null,
      "outputs": [
        {
          "output_type": "display_data",
          "data": {
            "image/png": "[encoded data removed]",
            "text/plain": [
              "<Figure size 1152x576 with 1 Axes>"
            ]
          },
          "metadata": {
            "tags": [],
            "needs_background": "light"
          }
        }
      ]
    },
    {
      "cell_type": "markdown",
      "metadata": {
        "id": "ps-4oNBWGc0y"
      },
      "source": [
        "## **A modell tesztelése**"
      ]
    },
    {
      "cell_type": "code",
      "metadata": {
        "id": "jNDIoqEBGf_3",
        "colab": {
          "base_uri": "https://localhost:8080/"
        },
        "outputId": "a2876b27-6d01-4794-fa24-162ff360852d"
      },
      "source": [
        "model.load_state_dict(torch.load('drive/MyDrive/bigbird_best_model.pt', map_location=torch.device('cpu')))\n",
        "\n",
        "test_loss, test_acc = evaluate(model, test_iterator, criterion)\n",
        "\n",
        "print(f'Test Loss: {test_loss:.3f} | Test Acc: {test_acc*100:.2f}%')"
      ],
      "execution_count": null,
      "outputs": [
        {
          "output_type": "stream",
          "text": [
            "Test Loss: 0.690 | Test Acc: 53.21%\n"
          ],
          "name": "stdout"
        }
      ]
    },
    {
      "cell_type": "markdown",
      "metadata": {
        "id": "sjBCHikT8SUw"
      },
      "source": [
        "A többi modellel való összehasonlításhoz szükséges táblázat megalkotása."
      ]
    },
    {
      "cell_type": "code",
      "metadata": {
        "colab": {
          "base_uri": "https://localhost:8080/",
          "height": 425
        },
        "id": "IM86S-zJ8P8a",
        "outputId": "eae323d3-468c-443c-ef67-42f8af063fd9"
      },
      "source": [
        "# compare with other models\n",
        "# combine the news and remove the 'b' char at the beginning\n",
        "# no other preprocess, the tokenizer will take care of it\n",
        "\n",
        "# Get column names\n",
        "combined_column_names = []\n",
        "for column in df_for_test.columns:\n",
        "  combined_column_names.append(column)\n",
        "\n",
        "# 2D array creation for the news based on macros\n",
        "COLUMNS = len(df_for_test)\n",
        "news_sum = [[0 for i in range(COLUMNS)] for j in range(int((len(combined_column_names) - 1) / ROWS))]  \n",
        "\n",
        "# Merge the news\n",
        "for row in range(len(df_for_test)):\n",
        "  for column in range(int((len(combined_column_names) - 1) / ROWS)):\n",
        "    temp = \"\"\n",
        "    news = \"\"\n",
        "    for word in range(ROWS):\n",
        "      news = df_for_test[combined_column_names[(column * ROWS) + (word + 1)]][row]\n",
        "      # Remove the b character at the begining of the string\n",
        "      if news[0] is \"b\":\n",
        "        news = \" \" + news[1:]\n",
        "      temp = temp + news\n",
        "    news_sum[column][row] = temp\n",
        "\n",
        "# Drop the old columns\n",
        "for column in range(len(combined_column_names) - 1):\n",
        "  df_for_test.drop(combined_column_names[column + 1], axis = 1, inplace = True)\n",
        "\n",
        "# Create the new columns with the merged news\n",
        "for column in range(int((len(combined_column_names) - 1) / ROWS)):\n",
        "  colum_name = \"News_\" + str(column + 1)\n",
        "  df_for_test[colum_name] = news_sum[column]\n",
        "\n",
        "# Show the DataFrame\n",
        "df_for_test.head()"
      ],
      "execution_count": 44,
      "outputs": [
        {
          "output_type": "stream",
          "text": [
            "/usr/local/lib/python3.7/dist-packages/pandas/core/frame.py:4174: SettingWithCopyWarning: \n",
            "A value is trying to be set on a copy of a slice from a DataFrame\n",
            "\n",
            "See the caveats in the documentation: https://pandas.pydata.org/pandas-docs/stable/user_guide/indexing.html#returning-a-view-versus-a-copy\n",
            "  errors=errors,\n",
            "/usr/local/lib/python3.7/dist-packages/ipykernel_launcher.py:34: SettingWithCopyWarning: \n",
            "A value is trying to be set on a copy of a slice from a DataFrame.\n",
            "Try using .loc[row_indexer,col_indexer] = value instead\n",
            "\n",
            "See the caveats in the documentation: https://pandas.pydata.org/pandas-docs/stable/user_guide/indexing.html#returning-a-view-versus-a-copy\n"
          ],
          "name": "stderr"
        },
        {
          "output_type": "execute_result",
          "data": {
            "text/html": [
              "<div>\n",
              "<style scoped>\n",
              "    .dataframe tbody tr th:only-of-type {\n",
              "        vertical-align: middle;\n",
              "    }\n",
              "\n",
              "    .dataframe tbody tr th {\n",
              "        vertical-align: top;\n",
              "    }\n",
              "\n",
              "    .dataframe thead th {\n",
              "        text-align: right;\n",
              "    }\n",
              "</style>\n",
              "<table border=\"1\" class=\"dataframe\">\n",
              "  <thead>\n",
              "    <tr style=\"text-align: right;\">\n",
              "      <th></th>\n",
              "      <th>Label</th>\n",
              "      <th>News_1</th>\n",
              "    </tr>\n",
              "    <tr>\n",
              "      <th>Date</th>\n",
              "      <th></th>\n",
              "      <th></th>\n",
              "    </tr>\n",
              "  </thead>\n",
              "  <tbody>\n",
              "    <tr>\n",
              "      <th>2016-06-20</th>\n",
              "      <td>1</td>\n",
              "      <td>A staggering 87 percent of Venezuelans say the...</td>\n",
              "    </tr>\n",
              "    <tr>\n",
              "      <th>2016-06-21</th>\n",
              "      <td>1</td>\n",
              "      <td>An Australian athlete who has competed in six ...</td>\n",
              "    </tr>\n",
              "    <tr>\n",
              "      <th>2016-06-22</th>\n",
              "      <td>0</td>\n",
              "      <td>German government agrees to ban fracking indef...</td>\n",
              "    </tr>\n",
              "    <tr>\n",
              "      <th>2016-06-23</th>\n",
              "      <td>1</td>\n",
              "      <td>Today The United Kingdom decides whether to re...</td>\n",
              "    </tr>\n",
              "    <tr>\n",
              "      <th>2016-06-24</th>\n",
              "      <td>0</td>\n",
              "      <td>David Cameron to Resign as PM After EU Referen...</td>\n",
              "    </tr>\n",
              "  </tbody>\n",
              "</table>\n",
              "</div>"
            ],
            "text/plain": [
              "            Label                                             News_1\n",
              "Date                                                                \n",
              "2016-06-20      1  A staggering 87 percent of Venezuelans say the...\n",
              "2016-06-21      1  An Australian athlete who has competed in six ...\n",
              "2016-06-22      0  German government agrees to ban fracking indef...\n",
              "2016-06-23      1  Today The United Kingdom decides whether to re...\n",
              "2016-06-24      0  David Cameron to Resign as PM After EU Referen..."
            ]
          },
          "metadata": {
            "tags": []
          },
          "execution_count": 44
        }
      ]
    },
    {
      "cell_type": "code",
      "metadata": {
        "colab": {
          "base_uri": "https://localhost:8080/",
          "height": 204
        },
        "id": "ySWkxqV98v11",
        "outputId": "456b101d-3855-441f-d759-83ae6a326760"
      },
      "source": [
        "# create new dataset without the dates\n",
        "news_sum = []\n",
        "label_sum = []\n",
        "\n",
        "# Get the column names\n",
        "combined_column_names = []\n",
        "for column in df_for_test.columns:\n",
        "  combined_column_names.append(column)\n",
        "\n",
        "# Connect the merged news with the labels\n",
        "for column in range(len(df_for_test)):\n",
        "  for row in range(len(combined_column_names) - 1):\n",
        "    news_sum.append(df_for_test[combined_column_names[row + 1]][column])\n",
        "    label_sum.append(df_for_test[combined_column_names[0]][column])\n",
        "\n",
        "# Create the new DataFrame\n",
        "df_sum_news_labels = pd.DataFrame(data = label_sum, index = None, columns = [\"Label\"])\n",
        "df_sum_news_labels[\"News\"] = news_sum\n",
        "\n",
        "# Show it\n",
        "df_sum_news_labels.head()"
      ],
      "execution_count": 45,
      "outputs": [
        {
          "output_type": "execute_result",
          "data": {
            "text/html": [
              "<div>\n",
              "<style scoped>\n",
              "    .dataframe tbody tr th:only-of-type {\n",
              "        vertical-align: middle;\n",
              "    }\n",
              "\n",
              "    .dataframe tbody tr th {\n",
              "        vertical-align: top;\n",
              "    }\n",
              "\n",
              "    .dataframe thead th {\n",
              "        text-align: right;\n",
              "    }\n",
              "</style>\n",
              "<table border=\"1\" class=\"dataframe\">\n",
              "  <thead>\n",
              "    <tr style=\"text-align: right;\">\n",
              "      <th></th>\n",
              "      <th>Label</th>\n",
              "      <th>News</th>\n",
              "    </tr>\n",
              "  </thead>\n",
              "  <tbody>\n",
              "    <tr>\n",
              "      <th>0</th>\n",
              "      <td>1</td>\n",
              "      <td>A staggering 87 percent of Venezuelans say the...</td>\n",
              "    </tr>\n",
              "    <tr>\n",
              "      <th>1</th>\n",
              "      <td>1</td>\n",
              "      <td>An Australian athlete who has competed in six ...</td>\n",
              "    </tr>\n",
              "    <tr>\n",
              "      <th>2</th>\n",
              "      <td>0</td>\n",
              "      <td>German government agrees to ban fracking indef...</td>\n",
              "    </tr>\n",
              "    <tr>\n",
              "      <th>3</th>\n",
              "      <td>1</td>\n",
              "      <td>Today The United Kingdom decides whether to re...</td>\n",
              "    </tr>\n",
              "    <tr>\n",
              "      <th>4</th>\n",
              "      <td>0</td>\n",
              "      <td>David Cameron to Resign as PM After EU Referen...</td>\n",
              "    </tr>\n",
              "  </tbody>\n",
              "</table>\n",
              "</div>"
            ],
            "text/plain": [
              "   Label                                               News\n",
              "0      1  A staggering 87 percent of Venezuelans say the...\n",
              "1      1  An Australian athlete who has competed in six ...\n",
              "2      0  German government agrees to ban fracking indef...\n",
              "3      1  Today The United Kingdom decides whether to re...\n",
              "4      0  David Cameron to Resign as PM After EU Referen..."
            ]
          },
          "metadata": {
            "tags": []
          },
          "execution_count": 45
        }
      ]
    },
    {
      "cell_type": "code",
      "metadata": {
        "colab": {
          "base_uri": "https://localhost:8080/"
        },
        "id": "CQK_jYv686-W",
        "outputId": "75b16a23-1b5e-450a-9348-603823250b44"
      },
      "source": [
        "# check and delete the null length cells\n",
        "news_sum = df_sum_news_labels[\"News\"]\n",
        "null_indexes = []\n",
        "index = 0\n",
        "\n",
        "for line in news_sum:\n",
        "  if line is \"\":\n",
        "    null_indexes.append(index)\n",
        "  index = index + 1\n",
        "\n",
        "print(null_indexes)\n",
        "\n",
        "for row in null_indexes:\n",
        "  df_sum_news_labels = df_sum_news_labels.drop(row)\n",
        "\n",
        "news_sum = df_sum_news_labels[\"News\"]\n",
        "null_indexes = []\n",
        "index = 0\n",
        "\n",
        "for line in news_sum:\n",
        "  if line is \"\":\n",
        "    null_indexes.append(index)\n",
        "  index = index + 1\n",
        "  \n",
        "assert len(null_indexes) is 0"
      ],
      "execution_count": 47,
      "outputs": [
        {
          "output_type": "stream",
          "text": [
            "[]\n"
          ],
          "name": "stdout"
        }
      ]
    },
    {
      "cell_type": "code",
      "metadata": {
        "colab": {
          "base_uri": "https://localhost:8080/",
          "height": 359
        },
        "id": "HHYpzBmh-hmV",
        "outputId": "cc09af7b-0319-4ab2-8594-ea50d085fee6"
      },
      "source": [
        "df_sum_news_labels"
      ],
      "execution_count": 48,
      "outputs": [
        {
          "output_type": "execute_result",
          "data": {
            "text/html": [
              "<div>\n",
              "<style scoped>\n",
              "    .dataframe tbody tr th:only-of-type {\n",
              "        vertical-align: middle;\n",
              "    }\n",
              "\n",
              "    .dataframe tbody tr th {\n",
              "        vertical-align: top;\n",
              "    }\n",
              "\n",
              "    .dataframe thead th {\n",
              "        text-align: right;\n",
              "    }\n",
              "</style>\n",
              "<table border=\"1\" class=\"dataframe\">\n",
              "  <thead>\n",
              "    <tr style=\"text-align: right;\">\n",
              "      <th></th>\n",
              "      <th>Label</th>\n",
              "      <th>News</th>\n",
              "    </tr>\n",
              "  </thead>\n",
              "  <tbody>\n",
              "    <tr>\n",
              "      <th>0</th>\n",
              "      <td>1</td>\n",
              "      <td>A staggering 87 percent of Venezuelans say the...</td>\n",
              "    </tr>\n",
              "    <tr>\n",
              "      <th>1</th>\n",
              "      <td>1</td>\n",
              "      <td>An Australian athlete who has competed in six ...</td>\n",
              "    </tr>\n",
              "    <tr>\n",
              "      <th>2</th>\n",
              "      <td>0</td>\n",
              "      <td>German government agrees to ban fracking indef...</td>\n",
              "    </tr>\n",
              "    <tr>\n",
              "      <th>3</th>\n",
              "      <td>1</td>\n",
              "      <td>Today The United Kingdom decides whether to re...</td>\n",
              "    </tr>\n",
              "    <tr>\n",
              "      <th>4</th>\n",
              "      <td>0</td>\n",
              "      <td>David Cameron to Resign as PM After EU Referen...</td>\n",
              "    </tr>\n",
              "    <tr>\n",
              "      <th>5</th>\n",
              "      <td>0</td>\n",
              "      <td>Barclays and RBS shares suspended from trading...</td>\n",
              "    </tr>\n",
              "    <tr>\n",
              "      <th>6</th>\n",
              "      <td>1</td>\n",
              "      <td>2,500 Scientists To Australia: If You Want To ...</td>\n",
              "    </tr>\n",
              "    <tr>\n",
              "      <th>7</th>\n",
              "      <td>1</td>\n",
              "      <td>Explosion At Airport In IstanbulYemeni former ...</td>\n",
              "    </tr>\n",
              "    <tr>\n",
              "      <th>8</th>\n",
              "      <td>1</td>\n",
              "      <td>Jamaica proposes marijuana dispensers for tour...</td>\n",
              "    </tr>\n",
              "    <tr>\n",
              "      <th>9</th>\n",
              "      <td>1</td>\n",
              "      <td>A 117-year-old woman in Mexico City finally re...</td>\n",
              "    </tr>\n",
              "  </tbody>\n",
              "</table>\n",
              "</div>"
            ],
            "text/plain": [
              "   Label                                               News\n",
              "0      1  A staggering 87 percent of Venezuelans say the...\n",
              "1      1  An Australian athlete who has competed in six ...\n",
              "2      0  German government agrees to ban fracking indef...\n",
              "3      1  Today The United Kingdom decides whether to re...\n",
              "4      0  David Cameron to Resign as PM After EU Referen...\n",
              "5      0  Barclays and RBS shares suspended from trading...\n",
              "6      1  2,500 Scientists To Australia: If You Want To ...\n",
              "7      1  Explosion At Airport In IstanbulYemeni former ...\n",
              "8      1  Jamaica proposes marijuana dispensers for tour...\n",
              "9      1  A 117-year-old woman in Mexico City finally re..."
            ]
          },
          "metadata": {
            "tags": []
          },
          "execution_count": 48
        }
      ]
    },
    {
      "cell_type": "code",
      "metadata": {
        "id": "zcvN6YFlofcx"
      },
      "source": [
        "def predict_sentiment(model, tokenizer, sentence):\n",
        "    model.eval()\n",
        "    tokens = tokenizer.tokenize(sentence)\n",
        "    indexed = [init_token_idx] + tokenizer.convert_tokens_to_ids(tokens) + [eos_token_idx]\n",
        "    tensor = torch.LongTensor(indexed).to(device)\n",
        "    tensor = tensor.unsqueeze(0)\n",
        "    prediction = torch.sigmoid(model(tensor))\n",
        "    return prediction.item()"
      ],
      "execution_count": 51,
      "outputs": []
    },
    {
      "cell_type": "code",
      "metadata": {
        "colab": {
          "base_uri": "https://localhost:8080/"
        },
        "id": "2ynDBMLSonIO",
        "outputId": "cc4a1e38-d158-4384-bf5e-a3f726dfd3b4"
      },
      "source": [
        "predict_raw = []\n",
        "predict_label = []\n",
        "\n",
        "for row in range(len(df_sum_news_labels)):\n",
        "    sent_temp = predict_sentiment(model, tokenizer, df_sum_news_labels[\"News\"][row])\n",
        "    predict_raw.append(sent_temp)\n",
        "    predict_label.append(round(sent_temp))\n",
        "\n",
        "print(predict_raw)\n",
        "print(\"\\n\\n\")\n",
        "print(predict_label)"
      ],
      "execution_count": 55,
      "outputs": [
        {
          "output_type": "stream",
          "text": [
            "[0.5225858688354492, 0.4874422550201416, 0.5181202292442322, 0.5063696503639221, 0.5000760555267334, 0.4974668323993683, 0.5192742347717285, 0.517716646194458, 0.5011427998542786, 0.4989876449108124]\n",
            "\n",
            "\n",
            "\n",
            "[1, 0, 1, 1, 1, 0, 1, 1, 1, 0]\n"
          ],
          "name": "stdout"
        }
      ]
    },
    {
      "cell_type": "code",
      "metadata": {
        "colab": {
          "base_uri": "https://localhost:8080/",
          "height": 390
        },
        "id": "4urb6Buvp31c",
        "outputId": "f9f4fdf3-3a8b-41c9-8f41-0e2c289d2b59"
      },
      "source": [
        "# create the table\n",
        "df_result = df_for_test.drop(\"News_1\", axis=1)\n",
        "\n",
        "df_result[\"Raw\"] = predict_raw\n",
        "df_result[\"Sentiment\"] = predict_label\n",
        "\n",
        "match = []\n",
        "for row in range(len(df_result)):\n",
        "    if df_result[\"Label\"][row] == df_result[\"Sentiment\"][row]:\n",
        "        match.append(1)\n",
        "    else:\n",
        "        match.append(0)\n",
        "\n",
        "df_result[\"Match\"] = match\n",
        "\n",
        "df_result"
      ],
      "execution_count": 59,
      "outputs": [
        {
          "output_type": "execute_result",
          "data": {
            "text/html": [
              "<div>\n",
              "<style scoped>\n",
              "    .dataframe tbody tr th:only-of-type {\n",
              "        vertical-align: middle;\n",
              "    }\n",
              "\n",
              "    .dataframe tbody tr th {\n",
              "        vertical-align: top;\n",
              "    }\n",
              "\n",
              "    .dataframe thead th {\n",
              "        text-align: right;\n",
              "    }\n",
              "</style>\n",
              "<table border=\"1\" class=\"dataframe\">\n",
              "  <thead>\n",
              "    <tr style=\"text-align: right;\">\n",
              "      <th></th>\n",
              "      <th>Label</th>\n",
              "      <th>Raw</th>\n",
              "      <th>Sentiment</th>\n",
              "      <th>Match</th>\n",
              "    </tr>\n",
              "    <tr>\n",
              "      <th>Date</th>\n",
              "      <th></th>\n",
              "      <th></th>\n",
              "      <th></th>\n",
              "      <th></th>\n",
              "    </tr>\n",
              "  </thead>\n",
              "  <tbody>\n",
              "    <tr>\n",
              "      <th>2016-06-20</th>\n",
              "      <td>1</td>\n",
              "      <td>0.522586</td>\n",
              "      <td>1</td>\n",
              "      <td>1</td>\n",
              "    </tr>\n",
              "    <tr>\n",
              "      <th>2016-06-21</th>\n",
              "      <td>1</td>\n",
              "      <td>0.487442</td>\n",
              "      <td>0</td>\n",
              "      <td>0</td>\n",
              "    </tr>\n",
              "    <tr>\n",
              "      <th>2016-06-22</th>\n",
              "      <td>0</td>\n",
              "      <td>0.518120</td>\n",
              "      <td>1</td>\n",
              "      <td>0</td>\n",
              "    </tr>\n",
              "    <tr>\n",
              "      <th>2016-06-23</th>\n",
              "      <td>1</td>\n",
              "      <td>0.506370</td>\n",
              "      <td>1</td>\n",
              "      <td>1</td>\n",
              "    </tr>\n",
              "    <tr>\n",
              "      <th>2016-06-24</th>\n",
              "      <td>0</td>\n",
              "      <td>0.500076</td>\n",
              "      <td>1</td>\n",
              "      <td>0</td>\n",
              "    </tr>\n",
              "    <tr>\n",
              "      <th>2016-06-27</th>\n",
              "      <td>0</td>\n",
              "      <td>0.497467</td>\n",
              "      <td>0</td>\n",
              "      <td>1</td>\n",
              "    </tr>\n",
              "    <tr>\n",
              "      <th>2016-06-28</th>\n",
              "      <td>1</td>\n",
              "      <td>0.519274</td>\n",
              "      <td>1</td>\n",
              "      <td>1</td>\n",
              "    </tr>\n",
              "    <tr>\n",
              "      <th>2016-06-29</th>\n",
              "      <td>1</td>\n",
              "      <td>0.517717</td>\n",
              "      <td>1</td>\n",
              "      <td>1</td>\n",
              "    </tr>\n",
              "    <tr>\n",
              "      <th>2016-06-30</th>\n",
              "      <td>1</td>\n",
              "      <td>0.501143</td>\n",
              "      <td>1</td>\n",
              "      <td>1</td>\n",
              "    </tr>\n",
              "    <tr>\n",
              "      <th>2016-07-01</th>\n",
              "      <td>1</td>\n",
              "      <td>0.498988</td>\n",
              "      <td>0</td>\n",
              "      <td>0</td>\n",
              "    </tr>\n",
              "  </tbody>\n",
              "</table>\n",
              "</div>"
            ],
            "text/plain": [
              "            Label       Raw  Sentiment  Match\n",
              "Date                                         \n",
              "2016-06-20      1  0.522586          1      1\n",
              "2016-06-21      1  0.487442          0      0\n",
              "2016-06-22      0  0.518120          1      0\n",
              "2016-06-23      1  0.506370          1      1\n",
              "2016-06-24      0  0.500076          1      0\n",
              "2016-06-27      0  0.497467          0      1\n",
              "2016-06-28      1  0.519274          1      1\n",
              "2016-06-29      1  0.517717          1      1\n",
              "2016-06-30      1  0.501143          1      1\n",
              "2016-07-01      1  0.498988          0      0"
            ]
          },
          "metadata": {
            "tags": []
          },
          "execution_count": 59
        }
      ]
    }
  ]
}