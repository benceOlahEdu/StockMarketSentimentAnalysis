{
  "nbformat": 4,
  "nbformat_minor": 0,
  "metadata": {
    "colab": {
      "name": "kaggle_n-gram_logistic_regression_reproduce.ipynb",
      "provenance": [],
      "collapsed_sections": [
        "FfereeuZTajm",
        "xK1jRsb8Y9mR",
        "VEEWNDfrZSo6"
      ],
      "toc_visible": true
    },
    "kernelspec": {
      "name": "python3",
      "display_name": "Python 3"
    }
  },
  "cells": [
    {
      "cell_type": "markdown",
      "metadata": {
        "id": "Ixl2F_jdMDxD"
      },
      "source": [
        "# **Kaggle reproduce**"
      ]
    },
    {
      "cell_type": "markdown",
      "metadata": {
        "id": "ds3hfSVyTVaY"
      },
      "source": [
        "## Ismertető, előkészítés, előfeldolgozás"
      ]
    },
    {
      "cell_type": "markdown",
      "metadata": {
        "id": "kaf3LDS8Nuth"
      },
      "source": [
        "Használt modell és algoritmus:\r\n",
        "\r\n",
        "\r\n",
        "*   Logistic Regression\r\n",
        "*   n-gram with n = 1, 2, 3\r\n",
        "*   Text preprocces\r\n",
        "*   News merge into one for one day\r\n",
        "\r\n"
      ]
    },
    {
      "cell_type": "markdown",
      "metadata": {
        "id": "xo-SmaJzMKoy"
      },
      "source": [
        "Forrás: https://www.kaggle.com/pengzihao917/86-accuracy-with-n-gram"
      ]
    },
    {
      "cell_type": "markdown",
      "metadata": {
        "id": "jRyDaujVNdyb"
      },
      "source": [
        "Található benne saját munka:\r\n",
        "\r\n",
        "\r\n",
        "*   A magyarázatok\r\n",
        "*   Ellenőrző mechanizmusok és algoritmusok\r\n",
        "*   A LogisticRegression kiegészítése a deprecated forrás miatt\r\n",
        "*   Kiegészítés 4-gram és 5-gra modellekkel és eredményeikkel\r\n",
        "\r\n"
      ]
    },
    {
      "cell_type": "markdown",
      "metadata": {
        "id": "90cUBjP4Qui8"
      },
      "source": [
        "Alapvetően hibás eredményeket fedeztem fel a téves adathalmaz felosztás miatt, de azokat orvosoltam és a jó megoldás eredményei láthatóak a továbbiakban az ő algoritmusai alapján."
      ]
    },
    {
      "cell_type": "markdown",
      "metadata": {
        "id": "bQUJwMjYYN4-"
      },
      "source": [
        "Eredmények:\r\n",
        "\r\n",
        "\r\n",
        "*   1-gram modell --- 0.43915343915343913\r\n",
        "*   2-gram modell --- 0.47619047619047616\r\n",
        "*   3-gram modell --- 0.5555555555555556 (range: 2, 3)\r\n",
        "*   4-gram modell --- 0.5396825396825397\r\n",
        "*   5-gram modell ---0.5264550264550265\r\n",
        "\r\n",
        "\r\n",
        "\r\n"
      ]
    },
    {
      "cell_type": "markdown",
      "metadata": {
        "id": "Zv4DYg9oc9Te"
      },
      "source": [
        "A range-k minden lehetséges kombinációját próbálgattam az adott n-gram modell esetében és a maximálisat írtam fel. (Értelemszerűen változik a random seed miatt is, de azt fixáltam, így ez a notebook reprodukálható teljes mértékben."
      ]
    },
    {
      "cell_type": "markdown",
      "metadata": {
        "id": "CmlEXdlsMPbF"
      },
      "source": [
        "A Drive-omról betöltöm a használt adathalmazt."
      ]
    },
    {
      "cell_type": "code",
      "metadata": {
        "colab": {
          "base_uri": "https://localhost:8080/"
        },
        "id": "GaD18vdykdPv",
        "outputId": "053d45ea-abee-47d2-8ef4-393340c678f6"
      },
      "source": [
        "# Mount drive\r\n",
        "from google.colab import drive\r\n",
        "drive.mount('/content/drive')\r\n",
        "\r\n",
        "# Copy the dataset to the local environment\r\n",
        "!cp \"/content/drive/MyDrive/Combined_News_DJIA.csv\" \"Combined_News_DJIA.csv\"\r\n",
        "\r\n",
        "# Check the copy is succesfull -> good if no assertation error\r\n",
        "read = !ls\r\n",
        "assert read[0].find(\"Combined_News_DJIA.csv\") != -1"
      ],
      "execution_count": 1,
      "outputs": [
        {
          "output_type": "stream",
          "text": [
            "Mounted at /content/drive\n"
          ],
          "name": "stdout"
        }
      ]
    },
    {
      "cell_type": "markdown",
      "metadata": {
        "id": "TouP1-Q9M1vR"
      },
      "source": [
        "A szükséges könyvtárak betöltése a projekthez."
      ]
    },
    {
      "cell_type": "code",
      "metadata": {
        "id": "5lVBgDaJM_cN"
      },
      "source": [
        "from sklearn.feature_extraction.text import CountVectorizer\r\n",
        "from sklearn.linear_model import LogisticRegression\r\n",
        "import numpy as np # linear algebra\r\n",
        "import pandas as pd # data processing, CSV file I/O (e.g. pd.read_csv)"
      ],
      "execution_count": 2,
      "outputs": []
    },
    {
      "cell_type": "markdown",
      "metadata": {
        "id": "f1VvPiwOV3zv"
      },
      "source": [
        "A reprodukálhatóság miatt definiálok egy seed-et a véletlen szám generátorhoz, amit a továbbiakban használni fogok."
      ]
    },
    {
      "cell_type": "code",
      "metadata": {
        "id": "ataax9AMWBIK"
      },
      "source": [
        "# Random seed\r\n",
        "RANDOM_SEED = 1234\r\n",
        "\r\n",
        "# Max iteration for training\r\n",
        "MAX_ITER = 100000"
      ],
      "execution_count": 3,
      "outputs": []
    },
    {
      "cell_type": "markdown",
      "metadata": {
        "id": "C7-Hgp-6NDFc"
      },
      "source": [
        "Az adathalmaz beolvasása."
      ]
    },
    {
      "cell_type": "code",
      "metadata": {
        "colab": {
          "base_uri": "https://localhost:8080/",
          "height": 231
        },
        "id": "lQpPSRdtNFhb",
        "outputId": "94ffa01a-c174-4d09-a1b0-a4e35fd677cb"
      },
      "source": [
        "data = pd.read_csv('Combined_News_DJIA.csv')\r\n",
        "data.head(1)"
      ],
      "execution_count": 4,
      "outputs": [
        {
          "output_type": "execute_result",
          "data": {
            "text/html": [
              "<div>\n",
              "<style scoped>\n",
              "    .dataframe tbody tr th:only-of-type {\n",
              "        vertical-align: middle;\n",
              "    }\n",
              "\n",
              "    .dataframe tbody tr th {\n",
              "        vertical-align: top;\n",
              "    }\n",
              "\n",
              "    .dataframe thead th {\n",
              "        text-align: right;\n",
              "    }\n",
              "</style>\n",
              "<table border=\"1\" class=\"dataframe\">\n",
              "  <thead>\n",
              "    <tr style=\"text-align: right;\">\n",
              "      <th></th>\n",
              "      <th>Date</th>\n",
              "      <th>Label</th>\n",
              "      <th>Top1</th>\n",
              "      <th>Top2</th>\n",
              "      <th>Top3</th>\n",
              "      <th>Top4</th>\n",
              "      <th>Top5</th>\n",
              "      <th>Top6</th>\n",
              "      <th>Top7</th>\n",
              "      <th>Top8</th>\n",
              "      <th>Top9</th>\n",
              "      <th>Top10</th>\n",
              "      <th>Top11</th>\n",
              "      <th>Top12</th>\n",
              "      <th>Top13</th>\n",
              "      <th>Top14</th>\n",
              "      <th>Top15</th>\n",
              "      <th>Top16</th>\n",
              "      <th>Top17</th>\n",
              "      <th>Top18</th>\n",
              "      <th>Top19</th>\n",
              "      <th>Top20</th>\n",
              "      <th>Top21</th>\n",
              "      <th>Top22</th>\n",
              "      <th>Top23</th>\n",
              "      <th>Top24</th>\n",
              "      <th>Top25</th>\n",
              "    </tr>\n",
              "  </thead>\n",
              "  <tbody>\n",
              "    <tr>\n",
              "      <th>0</th>\n",
              "      <td>2008-08-08</td>\n",
              "      <td>0</td>\n",
              "      <td>b\"Georgia 'downs two Russian warplanes' as cou...</td>\n",
              "      <td>b'BREAKING: Musharraf to be impeached.'</td>\n",
              "      <td>b'Russia Today: Columns of troops roll into So...</td>\n",
              "      <td>b'Russian tanks are moving towards the capital...</td>\n",
              "      <td>b\"Afghan children raped with 'impunity,' U.N. ...</td>\n",
              "      <td>b'150 Russian tanks have entered South Ossetia...</td>\n",
              "      <td>b\"Breaking: Georgia invades South Ossetia, Rus...</td>\n",
              "      <td>b\"The 'enemy combatent' trials are nothing but...</td>\n",
              "      <td>b'Georgian troops retreat from S. Osettain cap...</td>\n",
              "      <td>b'Did the U.S. Prep Georgia for War with Russia?'</td>\n",
              "      <td>b'Rice Gives Green Light for Israel to Attack ...</td>\n",
              "      <td>b'Announcing:Class Action Lawsuit on Behalf of...</td>\n",
              "      <td>b\"So---Russia and Georgia are at war and the N...</td>\n",
              "      <td>b\"China tells Bush to stay out of other countr...</td>\n",
              "      <td>b'Did World War III start today?'</td>\n",
              "      <td>b'Georgia Invades South Ossetia - if Russia ge...</td>\n",
              "      <td>b'Al-Qaeda Faces Islamist Backlash'</td>\n",
              "      <td>b'Condoleezza Rice: \"The US would not act to p...</td>\n",
              "      <td>b'This is a busy day:  The European Union has ...</td>\n",
              "      <td>b\"Georgia will withdraw 1,000 soldiers from Ir...</td>\n",
              "      <td>b'Why the Pentagon Thinks Attacking Iran is a ...</td>\n",
              "      <td>b'Caucasus in crisis: Georgia invades South Os...</td>\n",
              "      <td>b'Indian shoe manufactory  - And again in a se...</td>\n",
              "      <td>b'Visitors Suffering from Mental Illnesses Ban...</td>\n",
              "      <td>b\"No Help for Mexico's Kidnapping Surge\"</td>\n",
              "    </tr>\n",
              "  </tbody>\n",
              "</table>\n",
              "</div>"
            ],
            "text/plain": [
              "         Date  ...                                     Top25\n",
              "0  2008-08-08  ...  b\"No Help for Mexico's Kidnapping Surge\"\n",
              "\n",
              "[1 rows x 27 columns]"
            ]
          },
          "metadata": {
            "tags": []
          },
          "execution_count": 4
        }
      ]
    },
    {
      "cell_type": "markdown",
      "metadata": {
        "id": "BwFnhNpBNTJm"
      },
      "source": [
        "Az adathalmaz szétbontása tanító és validáló/tesztelő adathalmazokra, majd a szétbontás ellenőrzése mérettel és első elem kiíratásával."
      ]
    },
    {
      "cell_type": "code",
      "metadata": {
        "colab": {
          "base_uri": "https://localhost:8080/"
        },
        "id": "GBwwNilmNbX_",
        "outputId": "224dfb8b-2f39-4bbd-c29e-1533ec7302d5"
      },
      "source": [
        "# Split the dataset\r\n",
        "train = data[data['Date'] < '2015-01-01']\r\n",
        "test = data[data['Date'] > '2014-12-31']\r\n",
        "\r\n",
        "# Print out the length\r\n",
        "print(\"Train data set length: \" + str(len(train)))\r\n",
        "print(\"Test data set length: \" + str(len(test)))\r\n",
        "print(\"Split summa: \" + str(len(train) + len(test)))\r\n",
        "print(\"Dataset summa before split: \" + str(len(data)))\r\n",
        "\r\n",
        "# check\r\n",
        "split_sum = len(train) + len(test)\r\n",
        "sum = len(data)\r\n",
        "assert split_sum == sum"
      ],
      "execution_count": 5,
      "outputs": [
        {
          "output_type": "stream",
          "text": [
            "Train data set length: 1611\n",
            "Test data set length: 378\n",
            "Split summa: 1989\n",
            "Dataset summa before split: 1989\n"
          ],
          "name": "stdout"
        }
      ]
    },
    {
      "cell_type": "code",
      "metadata": {
        "colab": {
          "base_uri": "https://localhost:8080/",
          "height": 231
        },
        "id": "fp6juNc2PMYp",
        "outputId": "af87a4f9-ce6e-462c-bffa-91f7dd9fd35e"
      },
      "source": [
        "train.head(1)"
      ],
      "execution_count": 6,
      "outputs": [
        {
          "output_type": "execute_result",
          "data": {
            "text/html": [
              "<div>\n",
              "<style scoped>\n",
              "    .dataframe tbody tr th:only-of-type {\n",
              "        vertical-align: middle;\n",
              "    }\n",
              "\n",
              "    .dataframe tbody tr th {\n",
              "        vertical-align: top;\n",
              "    }\n",
              "\n",
              "    .dataframe thead th {\n",
              "        text-align: right;\n",
              "    }\n",
              "</style>\n",
              "<table border=\"1\" class=\"dataframe\">\n",
              "  <thead>\n",
              "    <tr style=\"text-align: right;\">\n",
              "      <th></th>\n",
              "      <th>Date</th>\n",
              "      <th>Label</th>\n",
              "      <th>Top1</th>\n",
              "      <th>Top2</th>\n",
              "      <th>Top3</th>\n",
              "      <th>Top4</th>\n",
              "      <th>Top5</th>\n",
              "      <th>Top6</th>\n",
              "      <th>Top7</th>\n",
              "      <th>Top8</th>\n",
              "      <th>Top9</th>\n",
              "      <th>Top10</th>\n",
              "      <th>Top11</th>\n",
              "      <th>Top12</th>\n",
              "      <th>Top13</th>\n",
              "      <th>Top14</th>\n",
              "      <th>Top15</th>\n",
              "      <th>Top16</th>\n",
              "      <th>Top17</th>\n",
              "      <th>Top18</th>\n",
              "      <th>Top19</th>\n",
              "      <th>Top20</th>\n",
              "      <th>Top21</th>\n",
              "      <th>Top22</th>\n",
              "      <th>Top23</th>\n",
              "      <th>Top24</th>\n",
              "      <th>Top25</th>\n",
              "    </tr>\n",
              "  </thead>\n",
              "  <tbody>\n",
              "    <tr>\n",
              "      <th>0</th>\n",
              "      <td>2008-08-08</td>\n",
              "      <td>0</td>\n",
              "      <td>b\"Georgia 'downs two Russian warplanes' as cou...</td>\n",
              "      <td>b'BREAKING: Musharraf to be impeached.'</td>\n",
              "      <td>b'Russia Today: Columns of troops roll into So...</td>\n",
              "      <td>b'Russian tanks are moving towards the capital...</td>\n",
              "      <td>b\"Afghan children raped with 'impunity,' U.N. ...</td>\n",
              "      <td>b'150 Russian tanks have entered South Ossetia...</td>\n",
              "      <td>b\"Breaking: Georgia invades South Ossetia, Rus...</td>\n",
              "      <td>b\"The 'enemy combatent' trials are nothing but...</td>\n",
              "      <td>b'Georgian troops retreat from S. Osettain cap...</td>\n",
              "      <td>b'Did the U.S. Prep Georgia for War with Russia?'</td>\n",
              "      <td>b'Rice Gives Green Light for Israel to Attack ...</td>\n",
              "      <td>b'Announcing:Class Action Lawsuit on Behalf of...</td>\n",
              "      <td>b\"So---Russia and Georgia are at war and the N...</td>\n",
              "      <td>b\"China tells Bush to stay out of other countr...</td>\n",
              "      <td>b'Did World War III start today?'</td>\n",
              "      <td>b'Georgia Invades South Ossetia - if Russia ge...</td>\n",
              "      <td>b'Al-Qaeda Faces Islamist Backlash'</td>\n",
              "      <td>b'Condoleezza Rice: \"The US would not act to p...</td>\n",
              "      <td>b'This is a busy day:  The European Union has ...</td>\n",
              "      <td>b\"Georgia will withdraw 1,000 soldiers from Ir...</td>\n",
              "      <td>b'Why the Pentagon Thinks Attacking Iran is a ...</td>\n",
              "      <td>b'Caucasus in crisis: Georgia invades South Os...</td>\n",
              "      <td>b'Indian shoe manufactory  - And again in a se...</td>\n",
              "      <td>b'Visitors Suffering from Mental Illnesses Ban...</td>\n",
              "      <td>b\"No Help for Mexico's Kidnapping Surge\"</td>\n",
              "    </tr>\n",
              "  </tbody>\n",
              "</table>\n",
              "</div>"
            ],
            "text/plain": [
              "         Date  ...                                     Top25\n",
              "0  2008-08-08  ...  b\"No Help for Mexico's Kidnapping Surge\"\n",
              "\n",
              "[1 rows x 27 columns]"
            ]
          },
          "metadata": {
            "tags": []
          },
          "execution_count": 6
        }
      ]
    },
    {
      "cell_type": "code",
      "metadata": {
        "colab": {
          "base_uri": "https://localhost:8080/",
          "height": 248
        },
        "id": "zypcrHOCPPe6",
        "outputId": "f1cfb301-45d7-4bc2-f9d9-4eaf84975525"
      },
      "source": [
        "test.head(1)"
      ],
      "execution_count": 7,
      "outputs": [
        {
          "output_type": "execute_result",
          "data": {
            "text/html": [
              "<div>\n",
              "<style scoped>\n",
              "    .dataframe tbody tr th:only-of-type {\n",
              "        vertical-align: middle;\n",
              "    }\n",
              "\n",
              "    .dataframe tbody tr th {\n",
              "        vertical-align: top;\n",
              "    }\n",
              "\n",
              "    .dataframe thead th {\n",
              "        text-align: right;\n",
              "    }\n",
              "</style>\n",
              "<table border=\"1\" class=\"dataframe\">\n",
              "  <thead>\n",
              "    <tr style=\"text-align: right;\">\n",
              "      <th></th>\n",
              "      <th>Date</th>\n",
              "      <th>Label</th>\n",
              "      <th>Top1</th>\n",
              "      <th>Top2</th>\n",
              "      <th>Top3</th>\n",
              "      <th>Top4</th>\n",
              "      <th>Top5</th>\n",
              "      <th>Top6</th>\n",
              "      <th>Top7</th>\n",
              "      <th>Top8</th>\n",
              "      <th>Top9</th>\n",
              "      <th>Top10</th>\n",
              "      <th>Top11</th>\n",
              "      <th>Top12</th>\n",
              "      <th>Top13</th>\n",
              "      <th>Top14</th>\n",
              "      <th>Top15</th>\n",
              "      <th>Top16</th>\n",
              "      <th>Top17</th>\n",
              "      <th>Top18</th>\n",
              "      <th>Top19</th>\n",
              "      <th>Top20</th>\n",
              "      <th>Top21</th>\n",
              "      <th>Top22</th>\n",
              "      <th>Top23</th>\n",
              "      <th>Top24</th>\n",
              "      <th>Top25</th>\n",
              "    </tr>\n",
              "  </thead>\n",
              "  <tbody>\n",
              "    <tr>\n",
              "      <th>1611</th>\n",
              "      <td>2015-01-02</td>\n",
              "      <td>1</td>\n",
              "      <td>Most cases of cancer are the result of sheer b...</td>\n",
              "      <td>Iran dismissed United States efforts to fight ...</td>\n",
              "      <td>Poll: One in 8 Germans would join anti-Muslim ...</td>\n",
              "      <td>UK royal family's Prince Andrew named in US la...</td>\n",
              "      <td>Some 40 asylum-seekers refused to leave the bu...</td>\n",
              "      <td>Pakistani boat blows self up after India navy ...</td>\n",
              "      <td>Sweden hit by third mosque arson attack in a week</td>\n",
              "      <td>940 cars set alight during French New Year</td>\n",
              "      <td>Salaries for top CEOs rose twice as fast as av...</td>\n",
              "      <td>Norway violated equal-pay law, judge says: Jud...</td>\n",
              "      <td>Imam wants radical recruiters of Muslim youth ...</td>\n",
              "      <td>Saudi Arabia beheaded 83 people in 2014, the m...</td>\n",
              "      <td>'A living hell' for slaves on remote South Kor...</td>\n",
              "      <td>Worlds 400 richest get richer, adding $92bn in...</td>\n",
              "      <td>Rental Car Stereos Infringe Copyright, Music R...</td>\n",
              "      <td>Ukrainian minister threatens TV channel with c...</td>\n",
              "      <td>Palestinian President Mahmoud Abbas has entere...</td>\n",
              "      <td>Israeli security center publishes names of 50 ...</td>\n",
              "      <td>The year 2014 was the deadliest year yet in Sy...</td>\n",
              "      <td>A Secret underground complex built by the Nazi...</td>\n",
              "      <td>Restrictions on Web Freedom a Major Global Iss...</td>\n",
              "      <td>Austrian journalist Erich Mchel delivered a pr...</td>\n",
              "      <td>Thousands of Ukraine nationalists march in Kiev</td>\n",
              "      <td>Chinas New Years Resolution: No More Harvestin...</td>\n",
              "      <td>Authorities Pull Plug on Russia's Last Politic...</td>\n",
              "    </tr>\n",
              "  </tbody>\n",
              "</table>\n",
              "</div>"
            ],
            "text/plain": [
              "            Date  ...                                              Top25\n",
              "1611  2015-01-02  ...  Authorities Pull Plug on Russia's Last Politic...\n",
              "\n",
              "[1 rows x 27 columns]"
            ]
          },
          "metadata": {
            "tags": []
          },
          "execution_count": 7
        }
      ]
    },
    {
      "cell_type": "markdown",
      "metadata": {
        "id": "nb4fD0EUSrnS"
      },
      "source": [
        "A szöveg előfeldolgozása következik, amelyek során az írásjeleket távolítom el, illetve minden szót kisbetűs szóvá konvertálok."
      ]
    },
    {
      "cell_type": "code",
      "metadata": {
        "colab": {
          "base_uri": "https://localhost:8080/",
          "height": 231
        },
        "id": "xULYR1-CS2uT",
        "outputId": "1d0d8915-a4b0-4ed0-a44b-088e566bad4c"
      },
      "source": [
        "# Removing punctuations\r\n",
        "slicedData= train.iloc[:,2:27]\r\n",
        "slicedData.replace(to_replace=\"[^a-zA-Z]\", value=\" \", regex=True, inplace=True)\r\n",
        "\r\n",
        "# Renaming column names for ease of access\r\n",
        "list1= [i for i in range(25)]\r\n",
        "new_Index=[str(i) for i in list1]\r\n",
        "slicedData.columns= new_Index\r\n",
        "slicedData.head(5)\r\n",
        "\r\n",
        "# Converting headlines to lower case\r\n",
        "for index in new_Index:\r\n",
        "    slicedData[index]=slicedData[index].str.lower()\r\n",
        "slicedData.head(1)"
      ],
      "execution_count": 8,
      "outputs": [
        {
          "output_type": "execute_result",
          "data": {
            "text/html": [
              "<div>\n",
              "<style scoped>\n",
              "    .dataframe tbody tr th:only-of-type {\n",
              "        vertical-align: middle;\n",
              "    }\n",
              "\n",
              "    .dataframe tbody tr th {\n",
              "        vertical-align: top;\n",
              "    }\n",
              "\n",
              "    .dataframe thead th {\n",
              "        text-align: right;\n",
              "    }\n",
              "</style>\n",
              "<table border=\"1\" class=\"dataframe\">\n",
              "  <thead>\n",
              "    <tr style=\"text-align: right;\">\n",
              "      <th></th>\n",
              "      <th>0</th>\n",
              "      <th>1</th>\n",
              "      <th>2</th>\n",
              "      <th>3</th>\n",
              "      <th>4</th>\n",
              "      <th>5</th>\n",
              "      <th>6</th>\n",
              "      <th>7</th>\n",
              "      <th>8</th>\n",
              "      <th>9</th>\n",
              "      <th>10</th>\n",
              "      <th>11</th>\n",
              "      <th>12</th>\n",
              "      <th>13</th>\n",
              "      <th>14</th>\n",
              "      <th>15</th>\n",
              "      <th>16</th>\n",
              "      <th>17</th>\n",
              "      <th>18</th>\n",
              "      <th>19</th>\n",
              "      <th>20</th>\n",
              "      <th>21</th>\n",
              "      <th>22</th>\n",
              "      <th>23</th>\n",
              "      <th>24</th>\n",
              "    </tr>\n",
              "  </thead>\n",
              "  <tbody>\n",
              "    <tr>\n",
              "      <th>0</th>\n",
              "      <td>b georgia  downs two russian warplanes  as cou...</td>\n",
              "      <td>b breaking  musharraf to be impeached</td>\n",
              "      <td>b russia today  columns of troops roll into so...</td>\n",
              "      <td>b russian tanks are moving towards the capital...</td>\n",
              "      <td>b afghan children raped with  impunity   u n  ...</td>\n",
              "      <td>b     russian tanks have entered south ossetia...</td>\n",
              "      <td>b breaking  georgia invades south ossetia  rus...</td>\n",
              "      <td>b the  enemy combatent  trials are nothing but...</td>\n",
              "      <td>b georgian troops retreat from s  osettain cap...</td>\n",
              "      <td>b did the u s  prep georgia for war with russia</td>\n",
              "      <td>b rice gives green light for israel to attack ...</td>\n",
              "      <td>b announcing class action lawsuit on behalf of...</td>\n",
              "      <td>b so   russia and georgia are at war and the n...</td>\n",
              "      <td>b china tells bush to stay out of other countr...</td>\n",
              "      <td>b did world war iii start today</td>\n",
              "      <td>b georgia invades south ossetia   if russia ge...</td>\n",
              "      <td>b al qaeda faces islamist backlash</td>\n",
              "      <td>b condoleezza rice   the us would not act to p...</td>\n",
              "      <td>b this is a busy day   the european union has ...</td>\n",
              "      <td>b georgia will withdraw       soldiers from ir...</td>\n",
              "      <td>b why the pentagon thinks attacking iran is a ...</td>\n",
              "      <td>b caucasus in crisis  georgia invades south os...</td>\n",
              "      <td>b indian shoe manufactory    and again in a se...</td>\n",
              "      <td>b visitors suffering from mental illnesses ban...</td>\n",
              "      <td>b no help for mexico s kidnapping surge</td>\n",
              "    </tr>\n",
              "  </tbody>\n",
              "</table>\n",
              "</div>"
            ],
            "text/plain": [
              "                                                   0  ...                                        24\n",
              "0  b georgia  downs two russian warplanes  as cou...  ...  b no help for mexico s kidnapping surge \n",
              "\n",
              "[1 rows x 25 columns]"
            ]
          },
          "metadata": {
            "tags": []
          },
          "execution_count": 8
        }
      ]
    },
    {
      "cell_type": "markdown",
      "metadata": {
        "id": "k56N0uiDS-4u"
      },
      "source": [
        "Az adott naphoz tartozó híreket fűzöm össze egy sztringbe, hogy a következőkben ez alkothassa a modellem bemenetét."
      ]
    },
    {
      "cell_type": "code",
      "metadata": {
        "colab": {
          "base_uri": "https://localhost:8080/",
          "height": 238
        },
        "id": "DbUSlqfTTGpS",
        "outputId": "c77691f3-ef3f-4f06-8f3f-049682187ad8"
      },
      "source": [
        "# Merge the headlines\r\n",
        "headlines = []\r\n",
        "for row in range(0,len(slicedData.index)):\r\n",
        "    headlines.append(' '.join(str(x) for x in slicedData.iloc[row,0:25]))\r\n",
        "\r\n",
        "# Show it\r\n",
        "headlines[0]"
      ],
      "execution_count": 9,
      "outputs": [
        {
          "output_type": "execute_result",
          "data": {
            "application/vnd.google.colaboratory.intrinsic+json": {
              "type": "string"
            },
            "text/plain": [
              "'b georgia  downs two russian warplanes  as countries move to brink of war  b breaking  musharraf to be impeached   b russia today  columns of troops roll into south ossetia  footage from fighting  youtube   b russian tanks are moving towards the capital of south ossetia  which has reportedly been completely destroyed by georgian artillery fire  b afghan children raped with  impunity   u n  official says   this is sick  a three year old was raped and they do nothing  b     russian tanks have entered south ossetia whilst georgia shoots down two russian jets   b breaking  georgia invades south ossetia  russia warned it would intervene on so s side  b the  enemy combatent  trials are nothing but a sham  salim haman has been sentenced to       years  but will be kept longer anyway just because they feel like it   b georgian troops retreat from s  osettain capital  presumably leaving several hundred people killed   video   b did the u s  prep georgia for war with russia   b rice gives green light for israel to attack iran  says u s  has no veto over israeli military ops  b announcing class action lawsuit on behalf of american public against the fbi  b so   russia and georgia are at war and the nyt s top story is opening ceremonies of the olympics   what a fucking disgrace and yet further proof of the decline of journalism   b china tells bush to stay out of other countries  affairs  b did world war iii start today   b georgia invades south ossetia   if russia gets involved  will nato absorb georgia and unleash a full scale war   b al qaeda faces islamist backlash  b condoleezza rice   the us would not act to prevent an israeli strike on iran   israeli defense minister ehud barak   israel is prepared for uncompromising victory in the case of military hostilities    b this is a busy day   the european union has approved new sanctions against iran in protest at its nuclear programme   b georgia will withdraw       soldiers from iraq to help fight off russian forces in georgia s breakaway region of south ossetia  b why the pentagon thinks attacking iran is a bad idea   us news  amp  world report  b caucasus in crisis  georgia invades south ossetia  b indian shoe manufactory    and again in a series of  you do not like your work    b visitors suffering from mental illnesses banned from olympics  b no help for mexico s kidnapping surge '"
            ]
          },
          "metadata": {
            "tags": []
          },
          "execution_count": 9
        }
      ]
    },
    {
      "cell_type": "markdown",
      "metadata": {
        "id": "FfereeuZTajm"
      },
      "source": [
        "## 1-gram model"
      ]
    },
    {
      "cell_type": "markdown",
      "metadata": {
        "id": "iRsMJzvITe7b"
      },
      "source": [
        "Először az 1-gram modellem megalkotása következik, majd az összefűzött híreket ennek segítségével vektorizálom. Végül kiírom a vektorizált adathalmaz dimenzióját."
      ]
    },
    {
      "cell_type": "code",
      "metadata": {
        "colab": {
          "base_uri": "https://localhost:8080/"
        },
        "id": "JlzuzmNwTvYC",
        "outputId": "8af7f3fe-80dd-4d67-d50c-e65a8db9935f"
      },
      "source": [
        "basicvectorizer = CountVectorizer(ngram_range=(1,1))\r\n",
        "basictrain = basicvectorizer.fit_transform(headlines)\r\n",
        "print(basictrain.shape)"
      ],
      "execution_count": 10,
      "outputs": [
        {
          "output_type": "stream",
          "text": [
            "(1611, 30442)\n"
          ],
          "name": "stdout"
        }
      ]
    },
    {
      "cell_type": "markdown",
      "metadata": {
        "id": "edKHyo_FTy6O"
      },
      "source": [
        "Ezek után a klasszifikáló modellem definiálom, ami jelen esetben egy Logistic Regression modell. A betanítása következik utána."
      ]
    },
    {
      "cell_type": "code",
      "metadata": {
        "id": "H1xplXAsT8pB"
      },
      "source": [
        "# model 1: logistic regression\r\n",
        "# 1-gram\r\n",
        "basicmodel = LogisticRegression(random_state=RANDOM_SEED, max_iter=MAX_ITER)\r\n",
        "basicmodel = basicmodel.fit(basictrain, train[\"Label\"])"
      ],
      "execution_count": 11,
      "outputs": []
    },
    {
      "cell_type": "markdown",
      "metadata": {
        "id": "jYiAWYFCW17t"
      },
      "source": [
        "A következőkben a teszt adathalmaz azonos napi híreinek az összefűzése történik egy sztringbe, majd azokat egy tömbbe helyezem. Ezek után ezt is a korábbi módszerrel vektorizálom, majd végrehajtom az előrejelzést és kiíratom annak az eredményt a tömb elemeinek megfelelően."
      ]
    },
    {
      "cell_type": "code",
      "metadata": {
        "colab": {
          "base_uri": "https://localhost:8080/"
        },
        "id": "goZXul_fXQ_L",
        "outputId": "5cd0df60-6ca3-4a06-bc31-16a43b165ea2"
      },
      "source": [
        "# Create test array\r\n",
        "testheadlines = []\r\n",
        "for row in range(0,len(test.index)):\r\n",
        "    testheadlines.append(' '.join(str(x) for x in test.iloc[row,2:27]))\r\n",
        "\r\n",
        "# Vectorize the test dataset    \r\n",
        "basictest = basicvectorizer.transform(testheadlines)\r\n",
        "\r\n",
        "# Make predictions\r\n",
        "predictions = basicmodel.predict(basictest)\r\n",
        "\r\n",
        "# Print it out\r\n",
        "predictions"
      ],
      "execution_count": 12,
      "outputs": [
        {
          "output_type": "execute_result",
          "data": {
            "text/plain": [
              "array([0, 1, 0, 0, 1, 1, 1, 1, 1, 1, 0, 0, 1, 1, 0, 1, 1, 1, 0, 1, 0, 1,\n",
              "       0, 1, 1, 1, 1, 1, 0, 0, 1, 1, 0, 1, 0, 0, 1, 1, 1, 1, 1, 1, 1, 1,\n",
              "       1, 1, 1, 0, 1, 1, 0, 0, 1, 1, 0, 0, 0, 1, 0, 0, 0, 0, 0, 0, 0, 0,\n",
              "       0, 1, 0, 1, 0, 1, 1, 0, 1, 1, 0, 1, 0, 1, 1, 1, 1, 0, 1, 1, 1, 1,\n",
              "       0, 0, 0, 1, 1, 0, 1, 1, 0, 1, 1, 1, 0, 0, 0, 0, 1, 0, 1, 1, 1, 0,\n",
              "       1, 1, 0, 0, 0, 1, 1, 1, 0, 1, 0, 1, 1, 0, 0, 1, 1, 0, 1, 0, 1, 1,\n",
              "       0, 1, 0, 1, 0, 1, 0, 1, 1, 0, 1, 0, 1, 1, 1, 0, 0, 0, 0, 1, 0, 1,\n",
              "       0, 1, 1, 0, 1, 1, 1, 0, 1, 0, 1, 0, 0, 0, 1, 0, 0, 1, 1, 0, 0, 1,\n",
              "       0, 0, 0, 1, 1, 1, 0, 1, 1, 1, 1, 1, 1, 0, 1, 0, 0, 0, 1, 1, 1, 1,\n",
              "       1, 0, 1, 0, 1, 1, 0, 1, 0, 0, 1, 1, 1, 1, 1, 1, 1, 1, 0, 1, 0, 0,\n",
              "       1, 1, 1, 1, 1, 0, 0, 0, 1, 1, 0, 1, 1, 1, 1, 1, 0, 1, 1, 1, 0, 0,\n",
              "       1, 1, 1, 0, 1, 1, 1, 0, 0, 0, 0, 0, 1, 0, 1, 1, 1, 1, 1, 0, 0, 0,\n",
              "       0, 1, 0, 0, 1, 1, 1, 1, 0, 1, 1, 0, 1, 0, 1, 1, 0, 0, 1, 1, 0, 1,\n",
              "       1, 0, 0, 0, 0, 1, 0, 0, 1, 1, 1, 1, 1, 0, 0, 1, 0, 1, 1, 1, 1, 1,\n",
              "       1, 0, 1, 0, 0, 1, 0, 1, 1, 0, 0, 1, 1, 0, 1, 1, 1, 1, 1, 0, 1, 1,\n",
              "       0, 1, 0, 1, 0, 1, 1, 1, 0, 1, 1, 1, 0, 1, 0, 1, 1, 1, 1, 0, 1, 0,\n",
              "       1, 0, 0, 1, 0, 1, 1, 0, 1, 1, 1, 1, 1, 1, 0, 1, 1, 0, 1, 1, 1, 1,\n",
              "       0, 1, 0, 1])"
            ]
          },
          "metadata": {
            "tags": []
          },
          "execution_count": 12
        }
      ]
    },
    {
      "cell_type": "markdown",
      "metadata": {
        "id": "UPJyQ_L7Xyge"
      },
      "source": [
        "A következőkben az előrejelzés pontosságát vizsgálom."
      ]
    },
    {
      "cell_type": "code",
      "metadata": {
        "colab": {
          "base_uri": "https://localhost:8080/",
          "height": 136
        },
        "id": "xL9X1DYbXf4d",
        "outputId": "6f2528ec-ee68-45c5-ff02-d9ae2a3ae261"
      },
      "source": [
        "pd.crosstab(test[\"Label\"], predictions, rownames=[\"Actual\"], colnames=[\"Predicted\"])"
      ],
      "execution_count": 13,
      "outputs": [
        {
          "output_type": "execute_result",
          "data": {
            "text/html": [
              "<div>\n",
              "<style scoped>\n",
              "    .dataframe tbody tr th:only-of-type {\n",
              "        vertical-align: middle;\n",
              "    }\n",
              "\n",
              "    .dataframe tbody tr th {\n",
              "        vertical-align: top;\n",
              "    }\n",
              "\n",
              "    .dataframe thead th {\n",
              "        text-align: right;\n",
              "    }\n",
              "</style>\n",
              "<table border=\"1\" class=\"dataframe\">\n",
              "  <thead>\n",
              "    <tr style=\"text-align: right;\">\n",
              "      <th>Predicted</th>\n",
              "      <th>0</th>\n",
              "      <th>1</th>\n",
              "    </tr>\n",
              "    <tr>\n",
              "      <th>Actual</th>\n",
              "      <th></th>\n",
              "      <th></th>\n",
              "    </tr>\n",
              "  </thead>\n",
              "  <tbody>\n",
              "    <tr>\n",
              "      <th>0</th>\n",
              "      <td>63</td>\n",
              "      <td>123</td>\n",
              "    </tr>\n",
              "    <tr>\n",
              "      <th>1</th>\n",
              "      <td>89</td>\n",
              "      <td>103</td>\n",
              "    </tr>\n",
              "  </tbody>\n",
              "</table>\n",
              "</div>"
            ],
            "text/plain": [
              "Predicted   0    1\n",
              "Actual            \n",
              "0          63  123\n",
              "1          89  103"
            ]
          },
          "metadata": {
            "tags": []
          },
          "execution_count": 13
        }
      ]
    },
    {
      "cell_type": "code",
      "metadata": {
        "colab": {
          "base_uri": "https://localhost:8080/"
        },
        "id": "7giG1ewvXleW",
        "outputId": "8685e1a7-aada-4f18-8d77-043794c814b4"
      },
      "source": [
        "from sklearn.metrics import classification_report\r\n",
        "from sklearn.metrics import f1_score\r\n",
        "from sklearn.metrics import accuracy_score \r\n",
        "from sklearn.metrics import confusion_matrix\r\n",
        "\r\n",
        "print (classification_report(test[\"Label\"], predictions))\r\n",
        "print (accuracy_score(test[\"Label\"], predictions))"
      ],
      "execution_count": 14,
      "outputs": [
        {
          "output_type": "stream",
          "text": [
            "              precision    recall  f1-score   support\n",
            "\n",
            "           0       0.41      0.34      0.37       186\n",
            "           1       0.46      0.54      0.49       192\n",
            "\n",
            "    accuracy                           0.44       378\n",
            "   macro avg       0.44      0.44      0.43       378\n",
            "weighted avg       0.44      0.44      0.43       378\n",
            "\n",
            "0.43915343915343913\n"
          ],
          "name": "stdout"
        }
      ]
    },
    {
      "cell_type": "markdown",
      "metadata": {
        "id": "-FPNwXldX4Yz"
      },
      "source": [
        "## 2-gram modell"
      ]
    },
    {
      "cell_type": "markdown",
      "metadata": {
        "id": "CKV78GGkX__Y"
      },
      "source": [
        "A következőkben a korábbiakat végzem el, csak 2-gram modell esetében. Nem fűzök majd hozzá további magyarázatokat."
      ]
    },
    {
      "cell_type": "code",
      "metadata": {
        "colab": {
          "base_uri": "https://localhost:8080/"
        },
        "id": "IWalk-wRYUqU",
        "outputId": "0534975b-8d5a-4ed4-fb5f-146244c40338"
      },
      "source": [
        "# 2-gram\r\n",
        "basicvectorizer2 = CountVectorizer(ngram_range=(1,2))\r\n",
        "basictrain2 = basicvectorizer2.fit_transform(headlines)\r\n",
        "print(basictrain2.shape)\r\n",
        "\r\n",
        "basicmodel2 = LogisticRegression(random_state=RANDOM_SEED, max_iter=MAX_ITER)\r\n",
        "basicmodel2 = basicmodel2.fit(basictrain2, train[\"Label\"])\r\n",
        "\r\n",
        "basictest2 = basicvectorizer2.transform(testheadlines)\r\n",
        "predictions2 = basicmodel2.predict(basictest2)\r\n",
        "\r\n",
        "pd.crosstab(test[\"Label\"], predictions2, rownames=[\"Actual\"], colnames=[\"Predicted\"])\r\n",
        "\r\n",
        "print (classification_report(test[\"Label\"], predictions2))\r\n",
        "print (accuracy_score(test[\"Label\"], predictions2))"
      ],
      "execution_count": 15,
      "outputs": [
        {
          "output_type": "stream",
          "text": [
            "(1611, 388181)\n",
            "              precision    recall  f1-score   support\n",
            "\n",
            "           0       0.46      0.33      0.38       186\n",
            "           1       0.49      0.62      0.55       192\n",
            "\n",
            "    accuracy                           0.48       378\n",
            "   macro avg       0.47      0.47      0.46       378\n",
            "weighted avg       0.47      0.48      0.46       378\n",
            "\n",
            "0.47619047619047616\n"
          ],
          "name": "stdout"
        }
      ]
    },
    {
      "cell_type": "markdown",
      "metadata": {
        "id": "xK1jRsb8Y9mR"
      },
      "source": [
        "## 3-gram modell"
      ]
    },
    {
      "cell_type": "markdown",
      "metadata": {
        "id": "q97PNJ7AZAt_"
      },
      "source": [
        "A következőkben a korábbiakat végzem el, csak 3-gram modell esetében. Nem fűzök majd hozzá további magyarázatokat."
      ]
    },
    {
      "cell_type": "code",
      "metadata": {
        "colab": {
          "base_uri": "https://localhost:8080/"
        },
        "id": "hJVmsImyZCKi",
        "outputId": "abd480a9-bb63-4baf-cf41-2978f71caee5"
      },
      "source": [
        "# 3-gram\r\n",
        "basicvectorizer3 = CountVectorizer(ngram_range=(2,3))\r\n",
        "basictrain3 = basicvectorizer3.fit_transform(headlines)\r\n",
        "print(basictrain3.shape)\r\n",
        "\r\n",
        "basicmodel3 = LogisticRegression(random_state=RANDOM_SEED, max_iter=MAX_ITER)\r\n",
        "basicmodel3 = basicmodel3.fit(basictrain3, train[\"Label\"])\r\n",
        "\r\n",
        "basictest3 = basicvectorizer3.transform(testheadlines)\r\n",
        "predictions3 = basicmodel3.predict(basictest3)\r\n",
        "\r\n",
        "pd.crosstab(test[\"Label\"], predictions3, rownames=[\"Actual\"], colnames=[\"Predicted\"])\r\n",
        "\r\n",
        "print (classification_report(test[\"Label\"], predictions3))\r\n",
        "print (accuracy_score(test[\"Label\"], predictions3))"
      ],
      "execution_count": 16,
      "outputs": [
        {
          "output_type": "stream",
          "text": [
            "(1611, 957711)\n",
            "              precision    recall  f1-score   support\n",
            "\n",
            "           0       0.63      0.24      0.34       186\n",
            "           1       0.54      0.86      0.66       192\n",
            "\n",
            "    accuracy                           0.56       378\n",
            "   macro avg       0.58      0.55      0.50       378\n",
            "weighted avg       0.58      0.56      0.51       378\n",
            "\n",
            "0.5555555555555556\n"
          ],
          "name": "stdout"
        }
      ]
    },
    {
      "cell_type": "markdown",
      "metadata": {
        "id": "VEEWNDfrZSo6"
      },
      "source": [
        "## 4-gram modell"
      ]
    },
    {
      "cell_type": "markdown",
      "metadata": {
        "id": "kaPbn1sbZWGe"
      },
      "source": [
        "A következőkben a korábbiakat végzem el, csak 4-gram modell esetében. Nem fűzök majd hozzá további magyarázatokat."
      ]
    },
    {
      "cell_type": "code",
      "metadata": {
        "colab": {
          "base_uri": "https://localhost:8080/"
        },
        "id": "VR5DAYPrZYNU",
        "outputId": "cd5d0279-4aef-4e4e-dc2e-d480bbc27c3f"
      },
      "source": [
        "# 4-gram\r\n",
        "basicvectorizer4 = CountVectorizer(ngram_range=(2,4))\r\n",
        "basictrain4 = basicvectorizer4.fit_transform(headlines)\r\n",
        "print(basictrain4.shape)\r\n",
        "\r\n",
        "basicmodel4 = LogisticRegression(random_state=RANDOM_SEED, max_iter=MAX_ITER)\r\n",
        "basicmodel4 = basicmodel4.fit(basictrain4, train[\"Label\"])\r\n",
        "\r\n",
        "basictest4 = basicvectorizer4.transform(testheadlines)\r\n",
        "predictions4 = basicmodel4.predict(basictest4)\r\n",
        "\r\n",
        "pd.crosstab(test[\"Label\"], predictions4, rownames=[\"Actual\"], colnames=[\"Predicted\"])\r\n",
        "\r\n",
        "print (classification_report(test[\"Label\"], predictions4))\r\n",
        "print (accuracy_score(test[\"Label\"], predictions4))"
      ],
      "execution_count": 17,
      "outputs": [
        {
          "output_type": "stream",
          "text": [
            "(1611, 1619668)\n",
            "              precision    recall  f1-score   support\n",
            "\n",
            "           0       0.65      0.14      0.23       186\n",
            "           1       0.53      0.93      0.67       192\n",
            "\n",
            "    accuracy                           0.54       378\n",
            "   macro avg       0.59      0.53      0.45       378\n",
            "weighted avg       0.59      0.54      0.45       378\n",
            "\n",
            "0.5396825396825397\n"
          ],
          "name": "stdout"
        }
      ]
    },
    {
      "cell_type": "markdown",
      "metadata": {
        "id": "xiwdlRy3a1vS"
      },
      "source": [
        "## 5-gram modell"
      ]
    },
    {
      "cell_type": "markdown",
      "metadata": {
        "id": "KLaW-wela47K"
      },
      "source": [
        "A következőkben a korábbiakat végzem el, csak 5-gram modell esetében. Nem fűzök majd hozzá további magyarázatokat."
      ]
    },
    {
      "cell_type": "code",
      "metadata": {
        "colab": {
          "base_uri": "https://localhost:8080/"
        },
        "id": "n50VB6Qga8K_",
        "outputId": "659c0390-a8d7-47fb-f7bf-0907346543ee"
      },
      "source": [
        "# 5-gram\r\n",
        "basicvectorizer5 = CountVectorizer(ngram_range=(2,5))\r\n",
        "basictrain5 = basicvectorizer5.fit_transform(headlines)\r\n",
        "print(basictrain5.shape)\r\n",
        "\r\n",
        "basicmodel5 = LogisticRegression(random_state=RANDOM_SEED, max_iter=MAX_ITER)\r\n",
        "basicmodel5 = basicmodel5.fit(basictrain5, train[\"Label\"])\r\n",
        "\r\n",
        "basictest5 = basicvectorizer5.transform(testheadlines)\r\n",
        "predictions5 = basicmodel5.predict(basictest5)\r\n",
        "\r\n",
        "pd.crosstab(test[\"Label\"], predictions5, rownames=[\"Actual\"], colnames=[\"Predicted\"])\r\n",
        "\r\n",
        "print (classification_report(test[\"Label\"], predictions5))\r\n",
        "print (accuracy_score(test[\"Label\"], predictions5))"
      ],
      "execution_count": 18,
      "outputs": [
        {
          "output_type": "stream",
          "text": [
            "(1611, 2292979)\n",
            "              precision    recall  f1-score   support\n",
            "\n",
            "           0       0.64      0.09      0.15       186\n",
            "           1       0.52      0.95      0.67       192\n",
            "\n",
            "    accuracy                           0.53       378\n",
            "   macro avg       0.58      0.52      0.41       378\n",
            "weighted avg       0.58      0.53      0.42       378\n",
            "\n",
            "0.5264550264550265\n"
          ],
          "name": "stdout"
        }
      ]
    }
  ]
}